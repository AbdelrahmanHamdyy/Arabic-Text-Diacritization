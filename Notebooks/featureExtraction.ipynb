{
 "cells": [
  {
   "cell_type": "markdown",
   "metadata": {},
   "source": [
    "## Feature extraction"
   ]
  },
  {
   "cell_type": "code",
   "execution_count": 57,
   "metadata": {},
   "outputs": [
    {
     "name": "stdout",
     "output_type": "stream",
     "text": [
      "15\n",
      "Char [['m', 's', '>', 'l', 'p'], ['w', 'm', 'n'], ['H', 'n', 'v'], ['w', 'h', 'w'], ['q', 'A', 'd', 'r'], ['E', 'l', 'Y'], ['A', 'l', '<', 'T', 'E', 'A', 'm'], ['>', 'w'], ['A', 'l', 'k', 's', 'w', 'p'], ['>', 'w'], ['A', 'l', 'E', 't', 'q'], ['v', 'm'], ['A', 'f', 't', 'q', 'r'], ['f', 'E', 'j', 'z'], ['E', 'n'], ['k', 'l'], ['*', 'l', 'k'], ['l', 'm'], ['y', 'j', 'z', 'h'], ['A', 'l', 'S', 'w', 'm'], ['>', 'S', 'l', 'A']]\n",
      "Diac [['a', 'o', 'a', 'a', 'N'], ['a', 'a', 'o'], ['a', 'i', 'a'], ['a', 'u', 'a'], ['a', ' ', 'i', 'N'], ['a', 'a', ' '], [' ', ' ', 'i', 'o', 'a', ' ', 'i'], ['a', 'o'], [' ', 'o', 'i', 'o', 'a', 'i'], ['a', 'o'], [' ', 'o', 'i', 'o', 'i'], ['u', '~a'], [' ', 'o', 'a', 'a', 'a'], ['a', 'a', 'a', 'a'], ['a', 'o'], ['u', '~i'], ['a', 'i', 'a'], ['a', 'o'], ['u', 'o', 'i', 'i'], [' ', ' ', '~a', 'o', 'u'], ['a', 'o', 'F', ' ']]\n"
     ]
    }
   ],
   "source": [
    "# Imports\n",
    "from gensim.models import FastText\n",
    "\n",
    "%run preprocessing.ipynb"
   ]
  },
  {
   "cell_type": "markdown",
   "metadata": {},
   "source": [
    "### Read the corpus"
   ]
  },
  {
   "cell_type": "code",
   "execution_count": 58,
   "metadata": {},
   "outputs": [],
   "source": [
    "def readFile(path):\n",
    "\tsentences = []\n",
    "\twith open(path, 'r', encoding='utf-8') as file:\n",
    "\t\tfor line in file:\n",
    "\t\t\tsentences.append(line.strip())\n",
    "\n",
    "\treturn sentences\n",
    "\n",
    "PATH = \"../dataset/train.txt\"\n",
    "corpus = readFile(PATH)"
   ]
  },
  {
   "cell_type": "markdown",
   "metadata": {},
   "source": [
    "### FastText"
   ]
  },
  {
   "cell_type": "code",
   "execution_count": 59,
   "metadata": {},
   "outputs": [
    {
     "data": {
      "text/plain": [
       "(98820800, 105103400)"
      ]
     },
     "execution_count": 59,
     "metadata": {},
     "output_type": "execute_result"
    }
   ],
   "source": [
    "data = []\n",
    "for sentence in corpus:\n",
    "    sentence = run_buckwalter(sentence.strip())\n",
    "    char_list, _ = extract_labels(sentence)\n",
    "\n",
    "    char_list = [\"\".join(sen) for sen in char_list]\n",
    "    data.append(char_list)\n",
    "\n",
    "# Defining values for parameters\n",
    "embedding_size = 100\n",
    "window_size = 20\n",
    "min_word = 5\n",
    "down_sampling = 1e-2\n",
    "\n",
    "fast_Text_model = FastText(\n",
    "                            vector_size=embedding_size,\n",
    "                            window=window_size,\n",
    "                            min_count=min_word,\n",
    "                            sample=down_sampling,\n",
    "                            workers=4,\n",
    "                            epochs=50,\n",
    "                            seed=42,\n",
    "                            sg=1)\n",
    "fast_Text_model.build_vocab(data, progress_per=10000)\n",
    "fast_Text_model.train(data, total_examples=fast_Text_model.corpus_count, epochs=50, report_delay=1)"
   ]
  },
  {
   "cell_type": "code",
   "execution_count": 74,
   "metadata": {},
   "outputs": [
    {
     "name": "stdout",
     "output_type": "stream",
     "text": [
      "[-0.17587607  0.02877168  0.04709973  0.34052846 -0.10787471  0.03396543\n",
      " -0.11186929  0.03204577  0.02601715 -0.04619154 -0.64464664  0.23255761\n",
      " -0.20373139 -0.03959081  0.08147166  0.05366697  0.05857076 -0.03167843\n",
      " -0.06125082  0.17182784 -0.14936416  0.07375959 -0.27469558 -0.34764272\n",
      "  0.29371625 -0.10324     0.08420175 -0.05359089  0.08896402 -0.04694974\n",
      "  0.3940764   0.08949303 -0.5643163  -0.2209296   0.33949855  0.14446706\n",
      "  0.13378167 -0.15082327  0.15100697 -0.05039954  0.28573117  0.02301891\n",
      "  0.01095174 -0.22188954 -0.2218215  -0.28840852 -0.01482417 -0.0590201\n",
      "  0.36846104 -0.03828136 -0.39380917  0.06536474  0.321336    0.25974402\n",
      "  0.27468032 -0.1842511  -0.28447118  0.0251733  -0.09457348  0.19323996\n",
      "  0.25880393 -0.04231093 -0.12811872  0.352846    0.5898262  -0.15524375\n",
      "  0.19650614 -0.0900159  -0.19504753 -0.3754987   0.2750499  -0.06968006\n",
      "  0.26242155  0.08634424  0.2556117  -0.35728014 -0.35281286  0.2248184\n",
      "  0.05599839  0.34907785  0.10232218  0.3731012  -0.0196681   0.08751408\n",
      " -0.47251543 -0.09510664  0.21083805  0.01269392 -0.16203818  0.20815198\n",
      " -0.27576256 -0.17772591 -0.4927883  -0.08658163  0.2343576   0.17162839\n",
      " -0.6776148   0.1278162  -0.01225302 -0.46091643]\n",
      "0.56691873\n"
     ]
    }
   ],
   "source": [
    "fast_Text_model.save(\"./models/ft_model\")\n",
    "print(fast_Text_model.wv[buckwalter.transliterate(\"ياكل\")])\n",
    "print(fast_Text_model.wv.similarity(buckwalter.transliterate(\"احمد\"), buckwalter.transliterate(\"محمد\")))"
   ]
  },
  {
   "cell_type": "markdown",
   "metadata": {},
   "source": [
    "### Main"
   ]
  },
  {
   "cell_type": "code",
   "execution_count": 78,
   "metadata": {},
   "outputs": [
    {
     "name": "stdout",
     "output_type": "stream",
     "text": [
      "0.56691873\n"
     ]
    }
   ],
   "source": [
    "# word_embeddings_fasttext()\n",
    "loaded_model = FastText.load(\"./models/ft_model\")\n",
    "print(loaded_model.wv.similarity(buckwalter.transliterate(\"احمد\"), buckwalter.transliterate(\"محمد\")))"
   ]
  }
 ],
 "metadata": {
  "kernelspec": {
   "display_name": "Python 3",
   "language": "python",
   "name": "python3"
  },
  "language_info": {
   "codemirror_mode": {
    "name": "ipython",
    "version": 3
   },
   "file_extension": ".py",
   "mimetype": "text/x-python",
   "name": "python",
   "nbconvert_exporter": "python",
   "pygments_lexer": "ipython3",
   "version": "3.11.5"
  }
 },
 "nbformat": 4,
 "nbformat_minor": 2
}

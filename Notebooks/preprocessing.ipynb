{
 "cells": [
  {
   "cell_type": "markdown",
   "metadata": {},
   "source": [
    "## Preprocessing"
   ]
  },
  {
   "cell_type": "markdown",
   "metadata": {},
   "source": [
    "#### Using Buckwalter translitration\n",
    "- o سكون\n",
    "- a فتحة\n",
    "- i كسرة\n",
    "- ~ شدة\n",
    "- u ضمة\n",
    "- N تنوين بالضم\n",
    "- F تنوين بالفتح\n",
    "- K تنوين بالكسر"
   ]
  },
  {
   "cell_type": "code",
   "execution_count": 56,
   "metadata": {},
   "outputs": [],
   "source": [
    "# Imports\n",
    "import re\n",
    "from lang_trans.arabic import buckwalter\n",
    "from pyarabic.araby import tokenize, is_arabicrange"
   ]
  },
  {
   "cell_type": "markdown",
   "metadata": {},
   "source": [
    "### Constants"
   ]
  },
  {
   "cell_type": "code",
   "execution_count": 57,
   "metadata": {},
   "outputs": [
    {
     "name": "stdout",
     "output_type": "stream",
     "text": [
      "15\n"
     ]
    }
   ],
   "source": [
    "DIACRITICS = ['o', 'a', 'i', '~', 'u', 'N', 'F', 'K', ' ']\n",
    "print(len(DIACRITICS) + len([\"~a\", \"~i\", \"~u\", \"~N\", \"~F\", \"~K\"]))"
   ]
  },
  {
   "cell_type": "markdown",
   "metadata": {},
   "source": [
    "### Word Level Preprocessing"
   ]
  },
  {
   "cell_type": "code",
   "execution_count": 58,
   "metadata": {},
   "outputs": [],
   "source": [
    "def remove_undesired_characters(sentence):\n",
    "    # Except: . ? ! ,\n",
    "    pattern = re.compile('[\\[\\]\\\\/@#\\$&%\\^\\+<=>«»–(){}\\*\\|\\`:;\\'\"\\~_!\\.\\?؟\\,،؛-]')\n",
    "    return re.sub(pattern, '', \" \".join(tokenize(sentence, conditions=is_arabicrange)))\n",
    "\n",
    "def remove_html_tags(sentence):\n",
    "    pattern = re.compile('<.*?>')\n",
    "    return re.sub(pattern, '', sentence)\n",
    "\n",
    "def remove_numbers(sentence):\n",
    "    pattern = re.compile('[٠-٩0-9]')\n",
    "    return re.sub(pattern, '', sentence)\n",
    "\n",
    "def remove_english_letters(sentence):\n",
    "    pattern = re.compile('[a-zA-Z]')\n",
    "    return re.sub(pattern, '', sentence)\n",
    "\n",
    "def data_cleaning(sentence):\n",
    "    sentence = remove_english_letters(sentence)\n",
    "    sentence = remove_numbers(sentence)\n",
    "    sentence = remove_html_tags(sentence)\n",
    "    sentence = remove_undesired_characters(sentence)\n",
    "    \n",
    "    # Remove extra spaces\n",
    "    sentence = re.sub(r'\\s+', ' ', sentence)\n",
    "    sentence = ' '.join(sentence.split())\n",
    "    return sentence\n",
    "\n",
    "def tokenization(sentence):\n",
    "    # tokenizer = Tokenizer(num_words=None,\n",
    "    # filters='#$%&()*+-<=>@[\\\\]^_`{|}~\\t\\n',\n",
    "    # lower = False, split = ' ')\n",
    "    return sentence.split()\n",
    "\n",
    "def word_level_preprocess(sentence):\n",
    "    cleanedSentence = data_cleaning(sentence)\n",
    "    finalSentence = tokenization(cleanedSentence)\n",
    "    return finalSentence"
   ]
  },
  {
   "cell_type": "markdown",
   "metadata": {},
   "source": [
    "### Buckwalter"
   ]
  },
  {
   "cell_type": "code",
   "execution_count": 59,
   "metadata": {},
   "outputs": [],
   "source": [
    "def run_buckwalter(sentence):\n",
    "    sentence = word_level_preprocess(sentence)\n",
    "    output = []\n",
    "    for word in sentence:\n",
    "        output.append(buckwalter.transliterate(word))\n",
    "    return output\n",
    "\n",
    "def to_arabic(sentence):\n",
    "    output = []\n",
    "    for word in sentence:\n",
    "        output.append(buckwalter.untransliterate(word))\n",
    "    return output"
   ]
  },
  {
   "cell_type": "markdown",
   "metadata": {},
   "source": [
    "### Remove Diacritics"
   ]
  },
  {
   "cell_type": "code",
   "execution_count": 60,
   "metadata": {},
   "outputs": [],
   "source": [
    "# Function used to divide each word to the following tuple\n",
    "# (each char of the word, its corresponding diacritic)\n",
    "def extract_labels(sentences):\n",
    "    output_char = []\n",
    "    output_diacritics = []\n",
    "\n",
    "    for word in sentences:\n",
    "        diacritics = []\n",
    "        word_char = []\n",
    "        skip = False\n",
    "\n",
    "\n",
    "        for i in range(len(word)):\n",
    "            if not skip:\n",
    "                if word[i] not in DIACRITICS:\n",
    "                    word_char.append(word[i])\n",
    "                    if i == len(word) - 1 or (i + 1 < len(word) and word[i + 1] not in DIACRITICS):\n",
    "                        diacritics.append(\" \")\n",
    "                else:\n",
    "                    if word[i] == \"~\":\n",
    "                        if i + 1 < len(word) and word[i + 1] in DIACRITICS:\n",
    "                            diacritics.append(f\"~{word[i + 1]}\")\n",
    "                            skip = True\n",
    "                    else:\n",
    "                        diacritics.append(word[i])\n",
    "            else: skip = False\n",
    "        \n",
    "        output_char.append(word_char)\n",
    "        output_diacritics.append(diacritics)\n",
    "\n",
    "    return output_char, output_diacritics"
   ]
  },
  {
   "cell_type": "markdown",
   "metadata": {},
   "source": [
    "### Main"
   ]
  },
  {
   "cell_type": "code",
   "execution_count": 61,
   "metadata": {},
   "outputs": [
    {
     "name": "stdout",
     "output_type": "stream",
     "text": [
      "Char [['m', 's', '>', 'l', 'p'], ['w', 'm', 'n'], ['H', 'n', 'v'], ['w', 'h', 'w'], ['q', 'A', 'd', 'r'], ['E', 'l', 'Y'], ['A', 'l', '<', 'T', 'E', 'A', 'm'], ['>', 'w'], ['A', 'l', 'k', 's', 'w', 'p'], ['>', 'w'], ['A', 'l', 'E', 't', 'q'], ['v', 'm'], ['A', 'f', 't', 'q', 'r'], ['f', 'E', 'j', 'z'], ['E', 'n'], ['k', 'l'], ['*', 'l', 'k'], ['l', 'm'], ['y', 'j', 'z', 'h'], ['A', 'l', 'S', 'w', 'm'], ['>', 'S', 'l', 'A']]\n",
      "Diac [['a', 'o', 'a', 'a', 'N'], ['a', 'a', 'o'], ['a', 'i', 'a'], ['a', 'u', 'a'], ['a', ' ', 'i', 'N'], ['a', 'a', ' '], [' ', ' ', 'i', 'o', 'a', ' ', 'i'], ['a', 'o'], [' ', 'o', 'i', 'o', 'a', 'i'], ['a', 'o'], [' ', 'o', 'i', 'o', 'i'], ['u', '~a'], [' ', 'o', 'a', 'a', 'a'], ['a', 'a', 'a', 'a'], ['a', 'o'], ['u', '~i'], ['a', 'i', 'a'], ['a', 'o'], ['u', 'o', 'i', 'i'], [' ', ' ', '~a', 'o', 'u'], ['a', 'o', 'F', ' ']]\n"
     ]
    }
   ],
   "source": [
    "\n",
    "# sentence = \"( قَوْلُهُ لِعَدَمِ مَا تَتَعَلَّقُ إلَخْ ) أَيْ الْوَصِيَّةُ ( قَوْلُهُ مَا مَرَّ ) أَيْ قُبَيْلَ قَوْلِ الْمَتْنِ لَغَتْ وَلَوْ اقْتَصَرَ عَلَى أَوْصَيْت لَهُ بِشَاةٍ أَوْ أَعْطُوهُ شَاةً وَلَا غَنَمَ لَهُ عِنْدَ الْمَوْتِ هَلْ تَبْطُلُ الْوَصِيَّةُ أَوْ يُشْتَرَى لَهُ شَاةٌ وَيُؤْخَذُ مِنْ قَوْلِهِ الْآتِي كَمَا لَوْ لَمْ يَقُلْ مِنْ مَالِي وَلَا مِنْ غَنَمِي أَنَّهَا لَا تَبْطُلُ ، وَعِبَارَةُ الْكَنْزِ وَلَوْ لَمْ يَقُلْ مِنْ مَالِي وَلَا مِنْ غَنَمِي لَمْ يَتَعَيَّنْ غَنَمُهُ إنْ كَانَتْ انْتَهَتْ ا ه سم ( قَوْلُهُ فَيُعْطَى وَاحِدَةً مِنْهَا إلَخْ ) كَمَا لَوْ كَانَتْ مَوْجُودَةً عِنْدَ الْوَصِيَّةِ وَالْمَوْتِ ، وَلَا يَجُوزُ أَنْ يُعْطَى وَاحِدَةً مِنْ غَيْرِ غَنَمِهِ فِي الصُّورَتَيْنِ وَإِنْ تَرَاضَيَا ؛ لِأَنَّهُ صُلْحٌ عَلَى مَجْهُولٍ مُغْنِي وَنِهَايَةٌ قَالَ ع ش قَوْلُهُ وَاحِدَةً مِنْهَا أَيْ كَامِلَةً ، وَلَا يَجُوزُ أَنْ يُعْطَى نِصْفَيْنِ مِنْ شَاتَيْنِ ؛ لِأَنَّهُ لَا يُسَمَّى شَاةً وَقَوْلُهُ وَلَا يَجُوزُ أَنْ يُعْطَى وَاحِدَةً مِنْ غَيْرِ غَنَمِهِ وَيَنْبَغِي أَنْ يُقَالَ مِثْلُ ذَلِكَ فِي الْأَرِقَّاءِ ا ه .\"\n",
    "# sentence = \"( وَلَا يَجُوزُ أَنْ يَصُومَ عَنْ بَعْضِ الْجَزَاءِ ، وَيُطْعِمَ عَنْ بَعْضٍ ) ، نَصَّ عَلَيْهِ ، لِأَنَّهَا كَفَّارَةٌ وَاحِدَةٌ ، فَلَمْ يَجُزْ فِيهَا كَسَائِرِ الْكَفَّارَاتِ .( 6 / 189 )\"\n",
    "sentence = \"1180 – مَسْأَلَةٌ - وَمَنْ حَنِثَ وَهُوَ قَادِرٌ عَلَى الإِطْعَامِ، أَوْ الْكِسْوَةِ، أَوْ الْعِتْقِ، ثُمَّ افْتَقَرَ فَعَجَزَ، عَنْ كُلِّ ذَلِكَ: لَمْ يُجْزِهِ الصَّوْمُ أَصْلًا\"\n",
    "after_buckwalter = run_buckwalter(sentence)\n",
    "\n",
    "char_list, diacritics_list = extract_labels(after_buckwalter)\n",
    "print(\"Char\", char_list)\n",
    "print(\"Diac\", diacritics_list)"
   ]
  }
 ],
 "metadata": {
  "kernelspec": {
   "display_name": "Python 3",
   "language": "python",
   "name": "python3"
  },
  "language_info": {
   "codemirror_mode": {
    "name": "ipython",
    "version": 3
   },
   "file_extension": ".py",
   "mimetype": "text/x-python",
   "name": "python",
   "nbconvert_exporter": "python",
   "pygments_lexer": "ipython3",
   "version": "3.11.5"
  }
 },
 "nbformat": 4,
 "nbformat_minor": 2
}

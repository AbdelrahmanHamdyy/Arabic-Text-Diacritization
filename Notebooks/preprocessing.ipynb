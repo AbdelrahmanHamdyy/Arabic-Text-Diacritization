{
 "cells": [
  {
   "cell_type": "markdown",
   "metadata": {},
   "source": [
    "## Preprocessing"
   ]
  },
  {
   "cell_type": "markdown",
   "metadata": {},
   "source": [
    "#### Using Buckwalter translitration\n",
    "- o سكون\n",
    "- a فتحة\n",
    "- i كسرة\n",
    "- ~ شدة\n",
    "- u ضمة\n",
    "- N تنوين بالضم\n",
    "- F تنوين بالفتح\n",
    "- K تنوين بالكسر"
   ]
  },
  {
   "cell_type": "code",
   "execution_count": 2,
   "metadata": {},
   "outputs": [],
   "source": [
    "# Imports\n",
    "import re\n",
    "from lang_trans.arabic import buckwalter"
   ]
  },
  {
   "cell_type": "markdown",
   "metadata": {},
   "source": [
    "### Constants"
   ]
  },
  {
   "cell_type": "code",
   "execution_count": 13,
   "metadata": {},
   "outputs": [],
   "source": [
    "DIACRITICS = ['o', 'a', 'i', '~', 'u', 'N', 'F', 'K', ' ']"
   ]
  },
  {
   "cell_type": "markdown",
   "metadata": {},
   "source": [
    "### Word Level Preprocessing"
   ]
  },
  {
   "cell_type": "code",
   "execution_count": 3,
   "metadata": {},
   "outputs": [],
   "source": [
    "def remove_undesired_characters(sentence):\n",
    "    # Except: . ? ! ,\n",
    "    pattern = re.compile('[\\[\\]\\\\/@#\\$&%\\^\\+<=>(){}\\*\\|\\`:;\\'\"\\~_!\\.\\?؟\\,،؛-]')\n",
    "    return re.sub(pattern, '', sentence)\n",
    "\n",
    "def remove_html_tags(sentence):\n",
    "    pattern = re.compile('<.*?>')\n",
    "    return re.sub(pattern, '', sentence)\n",
    "\n",
    "def remove_numbers(sentence):\n",
    "    pattern = re.compile('[٠-٩0-9]')\n",
    "    return re.sub(pattern, '', sentence)\n",
    "\n",
    "def remove_english_letters(sentence):\n",
    "    pattern = re.compile('[a-zA-Z]')\n",
    "    return re.sub(pattern, '', sentence)\n",
    "\n",
    "def data_cleaning(sentence):\n",
    "    sentence = remove_english_letters(sentence)\n",
    "    sentence = remove_numbers(sentence)\n",
    "    sentence = remove_html_tags(sentence)\n",
    "    sentence = remove_undesired_characters(sentence)\n",
    "    \n",
    "    # Remove extra spaces\n",
    "    sentence = re.sub(r'\\s+', ' ', sentence)\n",
    "    sentence = ' '.join(sentence.split())\n",
    "    return sentence\n",
    "\n",
    "def tokenization(sentence):\n",
    "    # tokenizer = Tokenizer(num_words=None,\n",
    "    # filters='#$%&()*+-<=>@[\\\\]^_`{|}~\\t\\n',\n",
    "    # lower = False, split = ' ')\n",
    "    return sentence.split()\n",
    "\n",
    "def word_level_preprocess(sentence):\n",
    "    cleanedSentence = data_cleaning(sentence)\n",
    "    finalSentence = tokenization(cleanedSentence)\n",
    "    return finalSentence"
   ]
  },
  {
   "cell_type": "markdown",
   "metadata": {},
   "source": [
    "### Buckwalter"
   ]
  },
  {
   "cell_type": "code",
   "execution_count": 7,
   "metadata": {},
   "outputs": [],
   "source": [
    "def run_buckwalter(sentence):\n",
    "    sentence = word_level_preprocess(sentence)\n",
    "    output = []\n",
    "    for word in sentence:\n",
    "        output.append(buckwalter.transliterate(word))\n",
    "    return output\n",
    "\n",
    "def to_arabic(sentence):\n",
    "    output = []\n",
    "    for word in sentence:\n",
    "        output.append(buckwalter.untransliterate(word))\n",
    "    return output"
   ]
  },
  {
   "cell_type": "markdown",
   "metadata": {},
   "source": [
    "### Remove Diacritics"
   ]
  },
  {
   "cell_type": "code",
   "execution_count": 47,
   "metadata": {},
   "outputs": [],
   "source": [
    "# Function used to divide each word to the following tuple\n",
    "# (each char of the word, its corresponding diacritic)\n",
    "def extract_labels(sentences):\n",
    "    output = []\n",
    "    for word in sentences:\n",
    "        diacritics = []\n",
    "        word_char = []\n",
    "        skip = False\n",
    "\n",
    "\n",
    "        for i in range(len(word)):\n",
    "            if not skip:\n",
    "                if word[i] not in DIACRITICS:\n",
    "                    word_char.append(word[i])\n",
    "                    if i + 1 < len(word) and word[i + 1] not in DIACRITICS:\n",
    "                        diacritics.append(\" \")\n",
    "                else:\n",
    "                    if word[i] == \"~\":\n",
    "                        if i + 1 < len(word) and word[i + 1] in DIACRITICS:\n",
    "                            diacritics.append(f\"~{word[i + 1]}\")\n",
    "                            skip = True\n",
    "                    else:\n",
    "                        diacritics.append(word[i])\n",
    "            else: skip = False\n",
    "        \n",
    "        output.append((word_char, diacritics))\n",
    "\n",
    "    return output"
   ]
  },
  {
   "cell_type": "markdown",
   "metadata": {},
   "source": [
    "### Main"
   ]
  },
  {
   "cell_type": "code",
   "execution_count": 46,
   "metadata": {},
   "outputs": [
    {
     "name": "stdout",
     "output_type": "stream",
     "text": [
      "[(['w', 'q', 'y', 'l'], ['a', 'i', ' ', 'a']), (['A', 'l', '<', 'm', 'l', 'A', \"'\"], [' ', 'o', 'i', 'o', 'a', ' ', 'u']), (['b', 'l', 'A'], ['i', 'a']), (['<', '$', 'h', 'A', 'd'], [' ', 'o', 'a', ' ', 'K']), (['l', 'A'], ['a']), (['y', 'k', 'w', 'n'], ['a', 'u', ' ', 'u']), (['H', 'j', 'p'], ['u', '~a', 'F']), (['w', 'A', 'l', '>', 'w', 'l'], ['a', ' ', 'o', 'a', '~a', 'u']), (['>', 'Z', 'h', 'r'], ['a', 'o', 'a', 'u']), (['w', 'g', 'y', 'r'], ['a', 'a', 'o', 'u']), (['m', 's', 't', 'b', 'y', 'n'], ['u', 'o', 'a', 'i', ' ', 'K']), (['k', 'A', 'l', 'k', 't', 'A', 'b', 'p'], ['a', ' ', 'o', 'i', 'a', ' ', 'a', 'i']), (['E', 'l', 'Y'], ['a', 'a']), (['A', 'l', 'h', 'w', 'A', \"'\"], [' ', 'o', 'a', 'a', ' ', 'i']), (['>', 'w'], ['a', 'o']), (['A', 'l', 'm', 'A', \"'\"], [' ', 'o', 'a', ' ', 'i']), (['w', 'h', 'w'], ['a', 'u', 'a']), (['b', 'm', 'n', 'z', 'l', 'p'], ['i', 'a', 'o', 'i', 'a', 'i']), (['k', 'l', 'A', 'm'], ['a', 'a', ' ', 'K']), (['g', 'y', 'r'], ['a', 'o', 'i']), (['m', 's', 'm', 'w', 'E'], ['a', 'o', 'u', ' ', 'K']), (['w', 'l', 'A'], ['a', 'a']), (['y', 'v', 'b', 't'], ['a', 'o', 'u', 'u']), (['b', 'h'], ['i', 'i']), (['$', 'y', \"'\"], ['a', 'o', 'N']), (['m', 'n'], ['i', 'o']), (['A', 'l', '>', 'H', 'k', 'A', 'm'], [' ', 'o', 'a', 'o', 'a', ' ', 'i']), (['w', '<', 'n'], ['a', 'i', 'o']), (['n', 'w', 'Y'], ['a', 'a']), (['A'], []), (['h'], []), (['w', 'm', 'v', 'l', 'h'], ['a', 'i', 'o', 'u', 'u']), (['f', 'y'], ['i']), (['A', 'l', 'h', 'd', 'A', 'y', 'p'], [' ', 'o', 'i', 'a', ' ', 'a', 'i']), (['w', 'f', 't', 'A', 'w', 'Y'], ['a', 'a', 'a', ' ', 'a']), (['q', 'A', 'D', 'y'], ['a', ' ', 'i']), (['x', 'A', 'n'], ['a', ' ', 'o']), (['w', 'H', 'A', 'S', 'l', 'h'], ['a', 'a', ' ', 'i', 'u', 'u']), (['>', 'n'], ['a', '~a']), (['A', 'l', '>', 'w', 'l'], [' ', 'o', 'a', '~a', 'a']), (['S', 'r', 'y', 'H'], ['a', 'i', ' ', 'N']), (['w', 'A', 'l', 'v', 'A', 'n', 'y'], ['a', ' ', ' ', '~a', ' ', 'i', 'a']), (['k', 'n', 'A', 'y', 'p'], ['i', 'a', ' ', 'a', 'N']), (['w', 'A', 'l', 'v', 'A', 'l', 'v'], ['a', ' ', ' ', '~a', ' ', 'i', 'a']), (['l', 'g', 'w'], ['a', 'o', 'N']), (['w', 's', '}', 'l'], ['a', 'u', 'i', 'a']), (['q', 'A', 'r', '}'], ['a', ' ', 'i', 'u']), (['A', 'l', 'h', 'd', 'A', 'y', 'p'], [' ', 'o', 'i', 'a', ' ', 'a', 'i']), (['E', 'n'], ['a', 'o']), (['$', 'x', 'S'], ['a', 'o', 'K']), (['A', 'd', 'E', 'Y'], [' ', '~a', 'a']), (['E', 'l', 'Y'], ['a', 'a']), (['$', 'x', 'S'], ['a', 'o', 'K']), (['b', 'H', 'q'], ['i', 'a', '~K']), (['w', '>', 'Z', 'h', 'r'], ['a', 'a', 'o', 'a', 'a']), (['x', 'T'], ['a', '~a']), (['y', 'd', 'h'], ['a', 'i', 'i']), (['b', '*', 'l', 'k'], ['i', 'a', 'i', 'a']), (['w', '>', 'n', 'k', 'r'], ['a', 'a', 'o', 'a', 'a']), (['A', 'l', 'm', 'd', 'E', 'Y'], [' ', 'o', 'u', '~a', 'a']), (['E', 'l', 'y', 'h'], ['a', 'a', 'o', 'i']), (['h', 'l'], ['a', 'o']), (['y', 'H', 'l', 'f', 'h'], ['u', 'a', '~i', 'u', 'u']), (['A', 'l', 'q', 'A', 'D', 'y'], [' ', 'o', 'a', ' ', 'i']), (['>', 'n', 'h', 'A'], ['a', '~a', 'a']), (['l', 'y', 's', 't'], ['a', 'o', 'a', 'o']), (['x', 'T', 'h'], ['a', '~a', 'u']), (['>', 'm'], ['a', 'o']), (['E', 'l', 'Y'], ['a', 'a']), (['E', 'd', 'm'], ['a', 'a', 'i']), (['A', 'l', 'A', 's', 't', 'H', 'q', 'A', 'q'], [' ', 'i', ' ', 'o', 'i', 'o', 'a', ' ', 'i']), (['>', 'w'], ['a', 'o']), (['y', 's', 't', 'k', 't', 'b', 'h'], ['a', 'o', 'a', 'o', 'i', 'u', 'u']), (['f', '>', 'j', 'A', 'b'], ['a', 'a', 'a', ' ', 'a']), (['<', '*', 'A'], [' ', 'a']), (['k', 't', 'b'], ['a', 'a', 'a']), (['E', 'l', 'Y'], ['a', 'a']), (['r', 's', 'm'], ['a', 'o', 'i']), (['A', 'l', 'S', 'k', 'w', 'k'], [' ', ' ', '~u', 'u', ' ', 'i']), (['w', 'j', 'H', 'd'], ['a', 'a', 'a', 'a']), (['>', 'n', 'h'], ['a', '~a', 'u']), (['x', 'T', 'h'], ['a', '~u', 'u']), (['y', 'H', 'l', 'f'], ['a', 'o', 'i', 'u']), (['E', 'l', 'Y'], ['a', 'a']), (['>', 'n', 'h'], ['a', '~a', 'u']), (['l', 'y', 's'], ['a', 'o', 'a']), (['b', 'x', 'T', 'h'], ['i', 'a', '~i', 'i']), (['l', '>', 'n', 'h'], ['i', 'a', '~a', 'u']), (['>', 'n', 'k', 'r'], ['a', 'o', 'a', 'a']), (['A', 'l', 'k', 't', 'A', 'b', 'p'], [' ', 'o', 'i', 'a', ' ', 'a', 'a']), (['>', 'w'], ['a', 'o']), (['y', 's', 't', 'k', 't', 'b', 'h'], ['a', 'o', 'a', 'o', 'i', 'u', 'u']), (['A', 'l', 'q', 'A', 'D', 'y'], [' ', 'o', 'a', ' ', 'i']), (['f', '<', '*', 'A'], ['a', 'i', 'a']), (['k', 't', 'b'], ['a', 'a', 'a']), (['w', 'q', 'A', 'l'], ['a', 'a', ' ', 'a']), (['>', 'h', 'l'], ['a', 'o', 'u']), (['A', 'l', 'x', 'b', 'r', 'p'], [' ', 'o', 'i', 'o', 'a', 'i']), (['h', 'm', 'A'], ['u', 'a']), (['w', 'A', 'H', 'd'], ['a', ' ', 'i', 'N']), (['>', 'l', 'z', 'm', 'h'], ['a', 'o', 'a', 'a', 'u']), (['A', 'l', 'H', 'q'], [' ', 'o', 'a', '~a']), (['w', '<', 'n'], ['a', 'i', 'o']), (['A', 'E', 't', 'r', 'f'], [' ', 'o', 'a', 'a', 'a']), (['>', 'n', 'h'], ['a', '~a', 'u']), (['x', 'T', 'h'], ['a', '~u', 'u']), (['w', '>', 'n', 'k', 'r'], ['a', 'a', 'o', 'a', 'a']), (['m', 'A'], ['a']), (['k', 't', 'b'], ['a', 'a', 'a']), (['f', 'y', 'h'], ['i', ' ', 'i']), (['H', 'l', 'f'], ['a', 'a', 'a']), (['A', 'l', 'm', 'q', 'r'], [' ', 'o', 'u', 'a', '~u']), (['l', 'h'], ['a', 'u']), (['>', 'n'], ['a', '~a']), (['A', 'l', 'm', 'q', 'r'], [' ', 'o', 'u', 'a', '~a']), (['b', 'h'], ['i', 'i']), (['q', 'b', 'D', 'h'], ['a', 'a', 'a', 'u']), (['w', 'q', 'D', 'Y'], ['a', 'a', 'a']), (['l', 'h'], ['a', 'u']), (['w', '<', 'n'], ['a', 'i', 'o']), (['l', 'm'], ['a', 'o']), (['y', 'H', 'l', 'f'], ['a', 'o', 'i', 'o']), (['l', 'A'], ['a']), (['y', 'q', 'D', 'y'], ['a', 'o', 'i']), (['l', 'h'], ['a', 'u']), (['w', '>', 'j', 'A', 'b'], ['a', 'a', 'a', ' ', 'a']), (['E', 'n'], ['a', 'o']), (['s', '&', 'A', 'l'], ['u', 'a', ' ', 'K']), (['|', 'x', 'r'], [' ', 'a', 'a']), (['<', '*', 'A'], [' ', 'a']), (['k', 't', 'b'], ['a', 'a', 'a']), (['E', 'l', 'Y'], ['a', 'a']), (['r', 's', 'm'], ['a', 'o', 'i']), (['A', 'l', 'S', 'k', 'w', 'k'], [' ', ' ', '~u', 'u', ' ', 'i']), (['y', 'l', 'z', 'm', 'h'], ['a', 'o', 'a', 'u', 'u']), (['A', 'l', 'm', 'A', 'l'], [' ', 'o', 'a', ' ', 'u']), (['w', 'h', 'w'], ['a', 'u', 'a']), (['>', 'n'], ['a', 'o']), (['y', 'k', 't', 'b'], ['a', 'o', 'u', 'a']), (['y', 'q', 'w', 'l'], ['a', 'u', ' ', 'u']), (['f', 'l', 'A', 'n'], ['u', 'a', ' ', 'u']), (['b', 'n'], ['o', 'u']), (['f', 'l', 'A', 'n'], ['u', 'a', ' ', 'K']), (['A', 'l', 'f', 'l', 'A', 'n', 'y'], [' ', 'o', 'u', 'a', ' ', 'i', '~u']), (['<', 'n'], [' ', '~a']), (['f', 'y'], ['i']), (['*', 'm', 't', 'h'], ['i', '~a', 'i', 'i']), (['l', 'f', 'l', 'A', 'n'], ['i', 'u', 'a', ' ', 'i']), (['b', 'n'], ['o', 'i']), (['f', 'l', 'A', 'n'], ['u', 'a', ' ', 'K']), (['A', 'l', 'f', 'l', 'A', 'n', 'y'], [' ', 'o', 'u', 'a', ' ', 'i', '~i']), (['k', '*', 'A'], ['a', 'a']), (['k', '*', 'A'], ['a', 'a']), (['f', 'h', 'w'], ['a', 'u', 'a']), (['<', 'q', 'r', 'A', 'r'], [' ', 'o', 'a', ' ', 'N'])]\n"
     ]
    }
   ],
   "source": [
    "\n",
    "# sentence = \"( قَوْلُهُ لِعَدَمِ مَا تَتَعَلَّقُ إلَخْ ) أَيْ الْوَصِيَّةُ ( قَوْلُهُ مَا مَرَّ ) أَيْ قُبَيْلَ قَوْلِ الْمَتْنِ لَغَتْ وَلَوْ اقْتَصَرَ عَلَى أَوْصَيْت لَهُ بِشَاةٍ أَوْ أَعْطُوهُ شَاةً وَلَا غَنَمَ لَهُ عِنْدَ الْمَوْتِ هَلْ تَبْطُلُ الْوَصِيَّةُ أَوْ يُشْتَرَى لَهُ شَاةٌ وَيُؤْخَذُ مِنْ قَوْلِهِ الْآتِي كَمَا لَوْ لَمْ يَقُلْ مِنْ مَالِي وَلَا مِنْ غَنَمِي أَنَّهَا لَا تَبْطُلُ ، وَعِبَارَةُ الْكَنْزِ وَلَوْ لَمْ يَقُلْ مِنْ مَالِي وَلَا مِنْ غَنَمِي لَمْ يَتَعَيَّنْ غَنَمُهُ إنْ كَانَتْ انْتَهَتْ ا ه سم ( قَوْلُهُ فَيُعْطَى وَاحِدَةً مِنْهَا إلَخْ ) كَمَا لَوْ كَانَتْ مَوْجُودَةً عِنْدَ الْوَصِيَّةِ وَالْمَوْتِ ، وَلَا يَجُوزُ أَنْ يُعْطَى وَاحِدَةً مِنْ غَيْرِ غَنَمِهِ فِي الصُّورَتَيْنِ وَإِنْ تَرَاضَيَا ؛ لِأَنَّهُ صُلْحٌ عَلَى مَجْهُولٍ مُغْنِي وَنِهَايَةٌ قَالَ ع ش قَوْلُهُ وَاحِدَةً مِنْهَا أَيْ كَامِلَةً ، وَلَا يَجُوزُ أَنْ يُعْطَى نِصْفَيْنِ مِنْ شَاتَيْنِ ؛ لِأَنَّهُ لَا يُسَمَّى شَاةً وَقَوْلُهُ وَلَا يَجُوزُ أَنْ يُعْطَى وَاحِدَةً مِنْ غَيْرِ غَنَمِهِ وَيَنْبَغِي أَنْ يُقَالَ مِثْلُ ذَلِكَ فِي الْأَرِقَّاءِ ا ه .\"\n",
    "sentence = \"وَقِيلَ الْإِمْلَاءُ بِلَا إشْهَادٍ لَا يَكُونُ حُجَّةً وَالْأَوَّلُ أَظْهَرُ وَغَيْرُ مُسْتَبِينٍ كَالْكِتَابَةِ عَلَى الْهَوَاءِ أَوْ الْمَاءِ وَهُوَ بِمَنْزِلَةِ كَلَامٍ غَيْرِ مَسْمُوعٍ وَلَا يَثْبُتُ بِهِ شَيْءٌ مِنْ الْأَحْكَامِ وَإِنْ نَوَى ا ه وَمِثْلُهُ فِي الْهِدَايَةِ وَفَتَاوَى قَاضِي خَانْ وَحَاصِلُهُ أَنَّ الْأَوَّلَ صَرِيحٌ وَالثَّانِيَ كِنَايَةٌ وَالثَّالِثَ لَغْوٌ وَسُئِلَ قَارِئُ الْهِدَايَةِ عَنْ شَخْصٍ ادَّعَى عَلَى شَخْصٍ بِحَقٍّ وَأَظْهَرَ خَطَّ يَدِهِ بِذَلِكَ وَأَنْكَرَ الْمُدَّعَى عَلَيْهِ هَلْ يُحَلِّفُهُ الْقَاضِي أَنَّهَا لَيْسَتْ خَطَّهُ أَمْ عَلَى عَدَمِ الِاسْتِحْقَاقِ أَوْ يَسْتَكْتِبُهُ فَأَجَابَ إذَا كَتَبَ عَلَى رَسْمِ الصُّكُوكِ وَجَحَدَ أَنَّهُ خَطُّهُ يَحْلِفُ عَلَى أَنَّهُ لَيْسَ بِخَطِّهِ ؛ لِأَنَّهُ أَنْكَرَ الْكِتَابَةَ أَوْ يَسْتَكْتِبُهُ الْقَاضِي فَإِذَا كَتَبَ وَقَالَ أَهْلُ الْخِبْرَةِ هُمَا وَاحِدٌ أَلْزَمَهُ الْحَقَّ وَإِنْ اعْتَرَفَ أَنَّهُ خَطُّهُ وَأَنْكَرَ مَا كَتَبَ فِيهِ حَلَفَ الْمُقَرُّ لَهُ أَنَّ الْمُقَرَّ بِهِ قَبَضَهُ وَقَضَى لَهُ وَإِنْ لَمْ يَحْلِفْ لَا يَقْضِي لَهُ وَأَجَابَ عَنْ سُؤَالٍ آخَرَ إذَا كَتَبَ عَلَى رَسْمِ الصُّكُوكِ يَلْزَمُهُ الْمَالُ وَهُوَ أَنْ يَكْتُبَ يَقُولُ فُلَانُ بْنُ فُلَانٍ الْفُلَانِيُّ إنَّ فِي ذِمَّتِهِ لِفُلَانِ بْنِ فُلَانٍ الْفُلَانِيِّ كَذَا كَذَا فَهُوَ إقْرَارٌ( 4 / 427 )\"\n",
    "after_buckwalter = run_buckwalter(sentence)\n",
    "\n",
    "# print(\"After Buckwalter:\", after_buckwalter)\n",
    "# print(\"After converting to arabic:\", to_arabic(after_buckwalter))\n",
    "\n",
    "print(extract_labels(after_buckwalter))"
   ]
  }
 ],
 "metadata": {
  "kernelspec": {
   "display_name": "Python 3",
   "language": "python",
   "name": "python3"
  },
  "language_info": {
   "codemirror_mode": {
    "name": "ipython",
    "version": 3
   },
   "file_extension": ".py",
   "mimetype": "text/x-python",
   "name": "python",
   "nbconvert_exporter": "python",
   "pygments_lexer": "ipython3",
   "version": "3.11.5"
  }
 },
 "nbformat": 4,
 "nbformat_minor": 2
}

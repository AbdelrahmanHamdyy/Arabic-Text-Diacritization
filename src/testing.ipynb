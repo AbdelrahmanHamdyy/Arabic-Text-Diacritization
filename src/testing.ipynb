{
 "cells": [
  {
   "cell_type": "markdown",
   "metadata": {},
   "source": [
    "### Imports"
   ]
  },
  {
   "cell_type": "code",
   "execution_count": 1,
   "metadata": {},
   "outputs": [
    {
     "name": "stderr",
     "output_type": "stream",
     "text": [
      "c:\\Python39\\lib\\site-packages\\tqdm\\auto.py:21: TqdmWarning: IProgress not found. Please update jupyter and ipywidgets. See https://ipywidgets.readthedocs.io/en/stable/user_install.html\n",
      "  from .autonotebook import tqdm as notebook_tqdm\n"
     ]
    }
   ],
   "source": [
    "import pickle\n",
    "import torch\n",
    "from torch.utils.data import DataLoader, TensorDataset, SequentialSampler\n",
    "import torch.nn as nn\n",
    "from torch.nn.utils.rnn import pad_sequence\n",
    "import csv\n",
    "import pandas as pd\n",
    "\n",
    "%run preprocessing.ipynb"
   ]
  },
  {
   "cell_type": "markdown",
   "metadata": {},
   "source": [
    "### Constants"
   ]
  },
  {
   "cell_type": "code",
   "execution_count": 2,
   "metadata": {},
   "outputs": [],
   "source": [
    "EMBEDDING_DIM = 300\n",
    "HIDDEN_SIZE = 512\n",
    "NUM_LAYERS = 2\n",
    "BATCH_SIZE = 220\n",
    "VOCAB_SIZE = len(basic_arabic_letters) + 1\n",
    "LABELS_SIZE = len(DIACRITICS)\n",
    "\n",
    "TEST_PATH = \"./dataset/test.txt\"\n",
    "\n",
    "with open(\"./utils/diacritic2id.pickle\", 'rb') as file:\n",
    "    diacritic2id = pickle.load(file)"
   ]
  },
  {
   "cell_type": "markdown",
   "metadata": {},
   "source": [
    "### Read the model"
   ]
  },
  {
   "cell_type": "code",
   "execution_count": 3,
   "metadata": {},
   "outputs": [],
   "source": [
    "class CNN(nn.Module):\n",
    "    def __init__(self, vocab_size=VOCAB_SIZE, num_classes=LABELS_SIZE, embedding_dim=EMBEDDING_DIM, hidden_size=HIDDEN_SIZE, num_layers=NUM_LAYERS):\n",
    "        super(CNN, self).__init__()\n",
    "        \n",
    "        # Embedding Layer\n",
    "        self.embedding = nn.Embedding(vocab_size, embedding_dim)\n",
    "        \n",
    "        # Convolutional Layer\n",
    "        self.conv1d = nn.Conv1d(embedding_dim, 256, kernel_size=3, padding=1)\n",
    "        \n",
    "        # LSTM Layer\n",
    "        self.lstm = nn.LSTM(256, hidden_size, num_layers=num_layers, batch_first=True, bidirectional=True)\n",
    "        \n",
    "        # Linear Layer\n",
    "        self.linear = nn.Linear(2 * hidden_size, num_classes)\n",
    "\n",
    "    def forward(self, sentences):\n",
    "        embeddings = self.embedding(sentences)\n",
    "        \n",
    "        # Convolutional Layer\n",
    "        conv_out = self.conv1d(embeddings.permute(0, 2, 1))\n",
    "        conv_out = nn.functional.relu(conv_out)\n",
    "        \n",
    "        # LSTM Layer\n",
    "        lstm_out, _ = self.lstm(conv_out.permute(0, 2, 1))\n",
    "        \n",
    "        # Linear Layer\n",
    "        output = self.linear(lstm_out)\n",
    "\n",
    "        return output"
   ]
  },
  {
   "cell_type": "code",
   "execution_count": 4,
   "metadata": {},
   "outputs": [
    {
     "ename": "RuntimeError",
     "evalue": "Error(s) in loading state_dict for CNN:\n\tMissing key(s) in state_dict: \"lstm.weight_ih_l1\", \"lstm.weight_hh_l1\", \"lstm.bias_ih_l1\", \"lstm.bias_hh_l1\", \"lstm.weight_ih_l1_reverse\", \"lstm.weight_hh_l1_reverse\", \"lstm.bias_ih_l1_reverse\", \"lstm.bias_hh_l1_reverse\". \n\tsize mismatch for embedding.weight: copying a param with shape torch.Size([37, 200]) from checkpoint, the shape in current model is torch.Size([37, 300]).\n\tsize mismatch for conv1d.weight: copying a param with shape torch.Size([64, 200, 3]) from checkpoint, the shape in current model is torch.Size([256, 300, 3]).\n\tsize mismatch for conv1d.bias: copying a param with shape torch.Size([64]) from checkpoint, the shape in current model is torch.Size([256]).\n\tsize mismatch for lstm.weight_ih_l0: copying a param with shape torch.Size([2048, 64]) from checkpoint, the shape in current model is torch.Size([2048, 256]).\n\tsize mismatch for lstm.weight_ih_l0_reverse: copying a param with shape torch.Size([2048, 64]) from checkpoint, the shape in current model is torch.Size([2048, 256]).",
     "output_type": "error",
     "traceback": [
      "\u001b[1;31m---------------------------------------------------------------------------\u001b[0m",
      "\u001b[1;31mRuntimeError\u001b[0m                              Traceback (most recent call last)",
      "Input \u001b[1;32mIn [4]\u001b[0m, in \u001b[0;36m<cell line: 6>\u001b[1;34m()\u001b[0m\n\u001b[0;32m      4\u001b[0m \u001b[38;5;66;03m# Load the saved model weights\u001b[39;00m\n\u001b[0;32m      5\u001b[0m model_path \u001b[38;5;241m=\u001b[39m \u001b[38;5;124m\"\u001b[39m\u001b[38;5;124m./models/cnn.pth\u001b[39m\u001b[38;5;124m\"\u001b[39m\n\u001b[1;32m----> 6\u001b[0m \u001b[43mmodel\u001b[49m\u001b[38;5;241;43m.\u001b[39;49m\u001b[43mload_state_dict\u001b[49m\u001b[43m(\u001b[49m\u001b[43mtorch\u001b[49m\u001b[38;5;241;43m.\u001b[39;49m\u001b[43mload\u001b[49m\u001b[43m(\u001b[49m\u001b[43mmodel_path\u001b[49m\u001b[43m,\u001b[49m\u001b[43m \u001b[49m\u001b[43mmap_location\u001b[49m\u001b[38;5;241;43m=\u001b[39;49m\u001b[43mtorch\u001b[49m\u001b[38;5;241;43m.\u001b[39;49m\u001b[43mdevice\u001b[49m\u001b[43m(\u001b[49m\u001b[38;5;124;43m'\u001b[39;49m\u001b[38;5;124;43mcpu\u001b[39;49m\u001b[38;5;124;43m'\u001b[39;49m\u001b[43m)\u001b[49m\u001b[43m)\u001b[49m\u001b[43m)\u001b[49m\n\u001b[0;32m      7\u001b[0m model\u001b[38;5;241m.\u001b[39meval()\n\u001b[0;32m      9\u001b[0m \u001b[38;5;28mprint\u001b[39m(model)\n",
      "File \u001b[1;32mc:\\Python39\\lib\\site-packages\\torch\\nn\\modules\\module.py:1671\u001b[0m, in \u001b[0;36mModule.load_state_dict\u001b[1;34m(self, state_dict, strict)\u001b[0m\n\u001b[0;32m   1666\u001b[0m         error_msgs\u001b[38;5;241m.\u001b[39minsert(\n\u001b[0;32m   1667\u001b[0m             \u001b[38;5;241m0\u001b[39m, \u001b[38;5;124m'\u001b[39m\u001b[38;5;124mMissing key(s) in state_dict: \u001b[39m\u001b[38;5;132;01m{}\u001b[39;00m\u001b[38;5;124m. \u001b[39m\u001b[38;5;124m'\u001b[39m\u001b[38;5;241m.\u001b[39mformat(\n\u001b[0;32m   1668\u001b[0m                 \u001b[38;5;124m'\u001b[39m\u001b[38;5;124m, \u001b[39m\u001b[38;5;124m'\u001b[39m\u001b[38;5;241m.\u001b[39mjoin(\u001b[38;5;124m'\u001b[39m\u001b[38;5;124m\"\u001b[39m\u001b[38;5;132;01m{}\u001b[39;00m\u001b[38;5;124m\"\u001b[39m\u001b[38;5;124m'\u001b[39m\u001b[38;5;241m.\u001b[39mformat(k) \u001b[38;5;28;01mfor\u001b[39;00m k \u001b[38;5;129;01min\u001b[39;00m missing_keys)))\n\u001b[0;32m   1670\u001b[0m \u001b[38;5;28;01mif\u001b[39;00m \u001b[38;5;28mlen\u001b[39m(error_msgs) \u001b[38;5;241m>\u001b[39m \u001b[38;5;241m0\u001b[39m:\n\u001b[1;32m-> 1671\u001b[0m     \u001b[38;5;28;01mraise\u001b[39;00m \u001b[38;5;167;01mRuntimeError\u001b[39;00m(\u001b[38;5;124m'\u001b[39m\u001b[38;5;124mError(s) in loading state_dict for \u001b[39m\u001b[38;5;132;01m{}\u001b[39;00m\u001b[38;5;124m:\u001b[39m\u001b[38;5;130;01m\\n\u001b[39;00m\u001b[38;5;130;01m\\t\u001b[39;00m\u001b[38;5;132;01m{}\u001b[39;00m\u001b[38;5;124m'\u001b[39m\u001b[38;5;241m.\u001b[39mformat(\n\u001b[0;32m   1672\u001b[0m                        \u001b[38;5;28mself\u001b[39m\u001b[38;5;241m.\u001b[39m\u001b[38;5;18m__class__\u001b[39m\u001b[38;5;241m.\u001b[39m\u001b[38;5;18m__name__\u001b[39m, \u001b[38;5;124m\"\u001b[39m\u001b[38;5;130;01m\\n\u001b[39;00m\u001b[38;5;130;01m\\t\u001b[39;00m\u001b[38;5;124m\"\u001b[39m\u001b[38;5;241m.\u001b[39mjoin(error_msgs)))\n\u001b[0;32m   1673\u001b[0m \u001b[38;5;28;01mreturn\u001b[39;00m _IncompatibleKeys(missing_keys, unexpected_keys)\n",
      "\u001b[1;31mRuntimeError\u001b[0m: Error(s) in loading state_dict for CNN:\n\tMissing key(s) in state_dict: \"lstm.weight_ih_l1\", \"lstm.weight_hh_l1\", \"lstm.bias_ih_l1\", \"lstm.bias_hh_l1\", \"lstm.weight_ih_l1_reverse\", \"lstm.weight_hh_l1_reverse\", \"lstm.bias_ih_l1_reverse\", \"lstm.bias_hh_l1_reverse\". \n\tsize mismatch for embedding.weight: copying a param with shape torch.Size([37, 200]) from checkpoint, the shape in current model is torch.Size([37, 300]).\n\tsize mismatch for conv1d.weight: copying a param with shape torch.Size([64, 200, 3]) from checkpoint, the shape in current model is torch.Size([256, 300, 3]).\n\tsize mismatch for conv1d.bias: copying a param with shape torch.Size([64]) from checkpoint, the shape in current model is torch.Size([256]).\n\tsize mismatch for lstm.weight_ih_l0: copying a param with shape torch.Size([2048, 64]) from checkpoint, the shape in current model is torch.Size([2048, 256]).\n\tsize mismatch for lstm.weight_ih_l0_reverse: copying a param with shape torch.Size([2048, 64]) from checkpoint, the shape in current model is torch.Size([2048, 256])."
     ]
    }
   ],
   "source": [
    "# Instantiate the model\n",
    "model = CNN()\n",
    "\n",
    "# Load the saved model weights\n",
    "model_path = \"./models/cnn.pth\"\n",
    "model.load_state_dict(torch.load(model_path, map_location=torch.device('cpu')))\n",
    "model.eval()\n",
    "\n",
    "print(model)"
   ]
  },
  {
   "cell_type": "markdown",
   "metadata": {},
   "source": [
    "### Prepare the testing dataset"
   ]
  },
  {
   "cell_type": "code",
   "execution_count": 86,
   "metadata": {},
   "outputs": [],
   "source": [
    "test_corpus = readFile(TEST_PATH)\n",
    "\n",
    "X_test = []\n",
    "total_len = 0\n",
    "\n",
    "for sentence in test_corpus:\n",
    "    char_list, _ = separate_words_and_diacritics(sentence.strip())\n",
    "\n",
    "    for i in range(len(char_list)):\n",
    "        X_test.append(char_list[i])\n",
    "        \n",
    "x_test_padded = [torch.tensor([char_to_index[char] for char in sentence]) for sentence in X_test]\n",
    "x_test_padded = pad_sequence(x_test_padded, batch_first=True)"
   ]
  },
  {
   "cell_type": "markdown",
   "metadata": {},
   "source": [
    "### Testing"
   ]
  },
  {
   "cell_type": "code",
   "execution_count": null,
   "metadata": {},
   "outputs": [],
   "source": [
    "final_predictions = []\n",
    "total_len = 0\n",
    "for i in range(len(X_test)):\n",
    "    sentence = X_test[i]\n",
    "    sentence = torch.tensor([char_to_index[char] for char in sentence])\n",
    "    total_len += len(sentence)\n",
    "\n",
    "    with torch.no_grad():\n",
    "        predictions = model(sentence.view(sentence.shape[0], 1))\n",
    "    \n",
    "    # Get the predictions\n",
    "    predictions = predictions.argmax(dim=2)\n",
    "    predictions = [index_to_diacritic[index.item()] for index in predictions]\n",
    "    predictions = [diacritic2id[\"\" if diacritic == \" \" else diacritic] for diacritic in predictions]\n",
    "\n",
    "    final_predictions += predictions"
   ]
  },
  {
   "cell_type": "code",
   "execution_count": 97,
   "metadata": {},
   "outputs": [],
   "source": [
    "data = []\n",
    "for i in range(len(final_predictions)):\n",
    "    data.append({\"ID\": i, \"label\": final_predictions[i]})\n",
    "\n",
    "with open(\"./test/output.csv\", \"w\", newline=\"\") as csvfile:\n",
    "    fieldnames = [\"ID\", \"label\"]\n",
    "    writer = csv.DictWriter(csvfile, fieldnames=fieldnames)\n",
    "\n",
    "    writer.writeheader()\n",
    "\n",
    "    for row in data:\n",
    "        writer.writerow(row)"
   ]
  },
  {
   "cell_type": "markdown",
   "metadata": {},
   "source": [
    "### Get the accuracy"
   ]
  },
  {
   "cell_type": "code",
   "execution_count": 98,
   "metadata": {},
   "outputs": [
    {
     "name": "stdout",
     "output_type": "stream",
     "text": [
      "Accuracy: 29.81%\n"
     ]
    }
   ],
   "source": [
    "# Load your output and gold output CSV files\n",
    "output_file = \"./test/output.csv\"\n",
    "gold_output_file = \"./test/test_set_gold.csv\"\n",
    "\n",
    "output_df = pd.read_csv(output_file)\n",
    "gold_output_df = pd.read_csv(gold_output_file)\n",
    "\n",
    "# Merge DataFrames on 'ID'\n",
    "merged_df = pd.merge(output_df, gold_output_df, on=\"ID\", suffixes=('_your', '_gold'))\n",
    "\n",
    "# Check if the labels match\n",
    "merged_df['correct'] = merged_df['label_your'] == merged_df['label_gold']\n",
    "\n",
    "# Calculate accuracy\n",
    "accuracy = merged_df['correct'].mean()\n",
    "\n",
    "print(f\"Accuracy: {accuracy * 100:.2f}%\")"
   ]
  }
 ],
 "metadata": {
  "kernelspec": {
   "display_name": "Python 3",
   "language": "python",
   "name": "python3"
  },
  "language_info": {
   "codemirror_mode": {
    "name": "ipython",
    "version": 3
   },
   "file_extension": ".py",
   "mimetype": "text/x-python",
   "name": "python",
   "nbconvert_exporter": "python",
   "pygments_lexer": "ipython3",
   "version": "3.9.2"
  }
 },
 "nbformat": 4,
 "nbformat_minor": 2
}

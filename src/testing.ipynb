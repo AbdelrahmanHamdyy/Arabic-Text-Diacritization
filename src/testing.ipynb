{
 "cells": [
  {
   "cell_type": "markdown",
   "metadata": {},
   "source": [
    "### Imports"
   ]
  },
  {
   "cell_type": "code",
   "execution_count": 157,
   "metadata": {},
   "outputs": [],
   "source": [
    "import pickle\n",
    "import torch\n",
    "import torch.nn as nn\n",
    "import csv\n",
    "import pandas as pd\n",
    "\n",
    "%run preprocessing.ipynb"
   ]
  },
  {
   "cell_type": "markdown",
   "metadata": {},
   "source": [
    "### Constants"
   ]
  },
  {
   "cell_type": "code",
   "execution_count": 158,
   "metadata": {},
   "outputs": [],
   "source": [
    "EMBEDDING_DIM = 300\n",
    "HIDDEN_SIZE = 512\n",
    "NUM_LAYERS = 3\n",
    "NUM_EPOCHS = 30\n",
    "LEARNING_RATE = 0.001\n",
    "BATCH_SIZE = 200\n",
    "\n",
    "VOCAB_SIZE = len(basic_arabic_letters) + 1\n",
    "LABELS_SIZE = len(DIACRITICS)\n",
    "\n",
    "RNN_PATH = \"./models/rnn.pth\"\n",
    "CNN_PATH = \"./models/cnn.pth\"\n",
    "\n",
    "TEST_PATH = \"../dataset/test.txt\"\n",
    "TEST2_PATH = \"../dataset/test2.txt\"\n",
    "TEST3_PATH = \"../dataset/test3.txt\"\n",
    "TEST4_PATH = \"../dataset/test4.txt\"\n",
    "VAL_PATH = \"../dataset/val.txt\"\n",
    "\n",
    "with open(\"./utils/diacritic2id.pickle\", 'rb') as file:\n",
    "    diacritic2id = pickle.load(file)"
   ]
  },
  {
   "cell_type": "markdown",
   "metadata": {},
   "source": [
    "### 3-Layer-LSTM"
   ]
  },
  {
   "cell_type": "code",
   "execution_count": 159,
   "metadata": {},
   "outputs": [],
   "source": [
    "class RNN(nn.Module):\n",
    "    def __init__(\n",
    "        self,\n",
    "        vocab_size=VOCAB_SIZE,\n",
    "        n_classes=LABELS_SIZE,\n",
    "        embedding_dim=EMBEDDING_DIM,\n",
    "        hidden_size=HIDDEN_SIZE,\n",
    "        num_layers=NUM_LAYERS,\n",
    "    ):\n",
    "        \"\"\"\n",
    "        The constructor of our RNN model\n",
    "        Inputs:\n",
    "        - vacab_size: the number of unique characters\n",
    "        - embedding_dim: the embedding dimension\n",
    "        - n_classes: the number of final classes (diacritics)\n",
    "        \"\"\"\n",
    "        super(RNN, self).__init__()\n",
    "\n",
    "        # (1) Create an embedding layer\n",
    "        self.embedding = nn.Embedding(vocab_size, embedding_dim)\n",
    "\n",
    "        # (2) Create an LSTM layer with hidden size = hidden_size and batch_first = True\n",
    "        self.lstm = nn.LSTM(\n",
    "            embedding_dim,\n",
    "            hidden_size,\n",
    "            num_layers=num_layers,\n",
    "            batch_first=True,\n",
    "            bidirectional=True,\n",
    "        )\n",
    "\n",
    "        # (3) Create a linear layer with number of neorons = n_classes\n",
    "        self.linear = nn.Linear(hidden_size * 2, n_classes)\n",
    "\n",
    "    def forward(self, sentences):\n",
    "        \"\"\"\n",
    "        This function does the forward pass of our model\n",
    "        Inputs:\n",
    "        - sentences: tensor of shape (batch_size, max_length)\n",
    "\n",
    "        Returns:\n",
    "        - final_output: tensor of shape (batch_size, max_length, n_classes)\n",
    "        \"\"\"\n",
    "\n",
    "        embeddings = self.embedding(sentences)\n",
    "        lstm_out, _ = self.lstm(embeddings)\n",
    "        output = self.linear(lstm_out)\n",
    "\n",
    "        return output"
   ]
  },
  {
   "cell_type": "markdown",
   "metadata": {},
   "source": [
    "### Conv Layer + 2-Layer LSTM"
   ]
  },
  {
   "cell_type": "code",
   "execution_count": 127,
   "metadata": {},
   "outputs": [],
   "source": [
    "class CNN(nn.Module):\n",
    "    def __init__(self, vocab_size=VOCAB_SIZE, num_classes=LABELS_SIZE, embedding_dim=EMBEDDING_DIM, hidden_size=HIDDEN_SIZE, num_layers=NUM_LAYERS):\n",
    "        super(CNN, self).__init__()\n",
    "        \n",
    "        # Embedding Layer\n",
    "        self.embedding = nn.Embedding(vocab_size, embedding_dim)\n",
    "        \n",
    "        # Convolutional Layer\n",
    "        self.conv1d_1 = nn.Conv1d(embedding_dim, 256, kernel_size=3, padding=1)\n",
    "        \n",
    "        # LSTM Layer\n",
    "        self.lstm = nn.LSTM(256, hidden_size, num_layers=num_layers, batch_first=True, bidirectional=True)\n",
    "        \n",
    "        # Linear Layer\n",
    "        self.linear = nn.Linear(2 * hidden_size, num_classes)\n",
    "\n",
    "    def forward(self, sentences):\n",
    "        embeddings = self.embedding(sentences)\n",
    "        \n",
    "        # Convolutional Layer\n",
    "        conv_out = self.conv1d_1(embeddings.permute(0, 2, 1))\n",
    "        conv_out = nn.functional.relu(conv_out)\n",
    "        \n",
    "        # LSTM Layer\n",
    "        lstm_out, _ = self.lstm(conv_out.permute(0, 2, 1))\n",
    "        \n",
    "        # Linear Layer\n",
    "        output = self.linear(lstm_out)\n",
    "\n",
    "        return output"
   ]
  },
  {
   "cell_type": "markdown",
   "metadata": {},
   "source": [
    "### Read CNN model"
   ]
  },
  {
   "cell_type": "code",
   "execution_count": 128,
   "metadata": {},
   "outputs": [
    {
     "name": "stdout",
     "output_type": "stream",
     "text": [
      "CNN(\n",
      "  (embedding): Embedding(37, 300)\n",
      "  (conv1d_1): Conv1d(300, 256, kernel_size=(3,), stride=(1,), padding=(1,))\n",
      "  (lstm): LSTM(256, 512, num_layers=2, batch_first=True, bidirectional=True)\n",
      "  (linear): Linear(in_features=1024, out_features=15, bias=True)\n",
      ")\n"
     ]
    }
   ],
   "source": [
    "# Instantiate the model\n",
    "model = CNN()\n",
    "\n",
    "# Load the saved model weights\n",
    "model.load_state_dict(torch.load(CNN_PATH, map_location=torch.device('cpu')))\n",
    "model.eval()\n",
    "\n",
    "print(model)"
   ]
  },
  {
   "cell_type": "markdown",
   "metadata": {},
   "source": [
    "### Read RNN model"
   ]
  },
  {
   "cell_type": "code",
   "execution_count": 160,
   "metadata": {},
   "outputs": [
    {
     "name": "stdout",
     "output_type": "stream",
     "text": [
      "RNN(\n",
      "  (embedding): Embedding(37, 300)\n",
      "  (lstm): LSTM(300, 512, num_layers=3, batch_first=True, bidirectional=True)\n",
      "  (linear): Linear(in_features=1024, out_features=15, bias=True)\n",
      ")\n"
     ]
    }
   ],
   "source": [
    "# Instantiate the model\n",
    "model = RNN()\n",
    "\n",
    "# Load the saved model weights\n",
    "model.load_state_dict(torch.load(RNN_PATH, map_location=torch.device('cpu')))\n",
    "model.eval()\n",
    "\n",
    "print(model)"
   ]
  },
  {
   "cell_type": "markdown",
   "metadata": {},
   "source": [
    "### Prepare the sample one-line test"
   ]
  },
  {
   "cell_type": "code",
   "execution_count": 119,
   "metadata": {},
   "outputs": [
    {
     "name": "stdout",
     "output_type": "stream",
     "text": [
      "[['ل', 'ي', 'س', 'ل', 'ل', 'و', 'ك', 'ي', 'ل', 'ب', 'ا', 'ل', 'ق', 'ب', 'ض', 'أ', 'ن', 'ي', 'ب', 'ر', 'أ', 'ا', 'ل', 'م', 'د', 'ي', 'ن', 'أ', 'و', 'ي', 'ه', 'ب', 'ا', 'ل', 'د', 'ي', 'ن', 'ل', 'ه', 'أ', 'و', 'ي', 'أ', 'خ', 'ذ', 'ر', 'ه', 'ن', 'ا', 'م', 'ن', 'ا', 'ل', 'م', 'د', 'ي', 'ن', 'ف', 'ي', 'م', 'ق', 'ا', 'ب', 'ل', 'ا', 'ل', 'د', 'ي', 'ن', 'أ', 'و', 'ي', 'ق', 'ب', 'ل', 'إ', 'ح', 'ا', 'ل', 'ت', 'ه', 'ع', 'ل', 'ى', 'ش', 'خ', 'ص', 'آ', 'خ', 'ر', 'ل', 'ك', 'ن', 'ل', 'ه', 'أ', 'ن', 'ي', 'أ', 'خ', 'ذ', 'ك', 'ف', 'ي', 'ل', 'ا', 'ل', 'ك', 'ن', 'ل', 'ي', 'س', 'ل', 'ه', 'أ', 'ن', 'ي', 'أ', 'خ', 'ذ', 'ك', 'ف', 'ي', 'ل', 'ا', 'ب', 'ش', 'ر', 'ط', 'ب', 'ر', 'ا', 'ء', 'ة', 'ا', 'ل', 'أ', 'ص', 'ي', 'ل', 'ا', 'ن', 'ظ', 'ر', 'ا', 'ل', 'م', 'ا', 'د', 'ة', 'ا', 'ل', 'أ', 'ن', 'ق', 'ر', 'و', 'ي', 'ا', 'ل', 'ط', 'ح', 'ط', 'ا', 'و', 'ي', 'و', 'ص', 'ر', 'ة', 'ا', 'ل', 'ف', 'ت', 'ا', 'و', 'ى', 'ا', 'ل', 'ب', 'ح', 'ر']]\n"
     ]
    }
   ],
   "source": [
    "test_corpus = readFile(TEST_PATH)\n",
    "\n",
    "X_test = []\n",
    "\n",
    "for sentence in test_corpus:\n",
    "    sentence = separate_words_to_char(sentence.strip())\n",
    "\n",
    "    X_test.append(sentence)"
   ]
  },
  {
   "cell_type": "markdown",
   "metadata": {},
   "source": [
    "### Prepare test.txt"
   ]
  },
  {
   "cell_type": "code",
   "execution_count": 161,
   "metadata": {},
   "outputs": [],
   "source": [
    "test_corpus = readFile(VAL_PATH)\n",
    "\n",
    "X_test = []\n",
    "total_len = 0\n",
    "\n",
    "for sentence in test_corpus:\n",
    "    char_list, _ = separate_words_and_diacritics(sentence.strip())\n",
    "\n",
    "    for i in range(len(char_list)):\n",
    "        X_test.append(char_list[i])"
   ]
  },
  {
   "cell_type": "markdown",
   "metadata": {},
   "source": [
    "### Get CNN predictions"
   ]
  },
  {
   "cell_type": "code",
   "execution_count": 130,
   "metadata": {},
   "outputs": [],
   "source": [
    "final_predictions = []\n",
    "total_len = 0\n",
    "for i in range(len(X_test)):\n",
    "    sentence = X_test[i]\n",
    "    sentence = torch.tensor([char_to_index[char] for char in sentence])\n",
    "    total_len += len(sentence)\n",
    "\n",
    "    with torch.no_grad():\n",
    "        predictions = model(sentence.view(1, sentence.shape[0]))\n",
    "    \n",
    "    # Get the predictions\n",
    "    for prediction in predictions:\n",
    "        # Get the predictions\n",
    "        prediction = prediction.argmax(dim=1)\n",
    "        prediction = [index_to_diacritic[index.item()] for index in prediction]\n",
    "        prediction = [diacritic2id[\"\" if diacritic == \" \" else diacritic] for diacritic in prediction]\n",
    "        \n",
    "        final_predictions += prediction"
   ]
  },
  {
   "cell_type": "markdown",
   "metadata": {},
   "source": [
    "### Get RNN predictions"
   ]
  },
  {
   "cell_type": "code",
   "execution_count": 162,
   "metadata": {},
   "outputs": [],
   "source": [
    "final_predictions = []\n",
    "total_len = 0\n",
    "for i in range(len(X_test)):\n",
    "    sentence = X_test[i]\n",
    "    sentence = torch.tensor([char_to_index[char] for char in sentence])\n",
    "    total_len += len(sentence)\n",
    "\n",
    "    with torch.no_grad():\n",
    "        predictions = model(sentence)\n",
    "    \n",
    "    # Get the predictions\n",
    "    predictions = predictions.argmax(dim=1)\n",
    "    predictions = [index_to_diacritic[index.item()] for index in predictions]\n",
    "    predictions = [diacritic2id[\"\" if diacritic == \" \" else diacritic] for diacritic in predictions]\n",
    "\n",
    "    final_predictions += predictions"
   ]
  },
  {
   "cell_type": "markdown",
   "metadata": {},
   "source": [
    "### Write Output File"
   ]
  },
  {
   "cell_type": "code",
   "execution_count": 163,
   "metadata": {},
   "outputs": [],
   "source": [
    "data = []\n",
    "for i in range(len(final_predictions)):\n",
    "    data.append({\"ID\": i, \"label\": final_predictions[i]})\n",
    "\n",
    "with open(\"./test/output.csv\", \"w\", newline=\"\") as csvfile:\n",
    "    fieldnames = [\"ID\", \"label\"]\n",
    "    writer = csv.DictWriter(csvfile, fieldnames=fieldnames)\n",
    "\n",
    "    writer.writeheader()\n",
    "\n",
    "    for row in data:\n",
    "        writer.writerow(row)"
   ]
  },
  {
   "cell_type": "markdown",
   "metadata": {},
   "source": [
    "### Calculate accuracy"
   ]
  },
  {
   "cell_type": "code",
   "execution_count": 164,
   "metadata": {},
   "outputs": [
    {
     "name": "stdout",
     "output_type": "stream",
     "text": [
      "Accuracy: 96.44%\n"
     ]
    }
   ],
   "source": [
    "# Load your output and gold output CSV files\n",
    "output_file = \"./test/output.csv\"\n",
    "gold_output_file = \"./test/test_set_gold.csv\"\n",
    "\n",
    "output_df = pd.read_csv(output_file)\n",
    "gold_output_df = pd.read_csv(gold_output_file)\n",
    "\n",
    "# Merge DataFrames on 'ID'\n",
    "merged_df = pd.merge(output_df, gold_output_df, on=\"ID\", suffixes=('_your', '_gold'))\n",
    "\n",
    "# Check if the labels match\n",
    "merged_df['correct'] = merged_df['label_your'] == merged_df['label_gold']\n",
    "\n",
    "# Calculate accuracy\n",
    "accuracy = merged_df['correct'].mean()\n",
    "\n",
    "print(f\"Accuracy: {accuracy * 100:.2f}%\")"
   ]
  }
 ],
 "metadata": {
  "kernelspec": {
   "display_name": "Python 3",
   "language": "python",
   "name": "python3"
  },
  "language_info": {
   "codemirror_mode": {
    "name": "ipython",
    "version": 3
   },
   "file_extension": ".py",
   "mimetype": "text/x-python",
   "name": "python",
   "nbconvert_exporter": "python",
   "pygments_lexer": "ipython3",
   "version": "3.11.5"
  }
 },
 "nbformat": 4,
 "nbformat_minor": 2
}

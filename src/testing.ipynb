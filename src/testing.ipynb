{
 "cells": [
  {
   "cell_type": "markdown",
   "metadata": {},
   "source": [
    "### Imports"
   ]
  },
  {
   "cell_type": "code",
   "execution_count": 115,
   "metadata": {},
   "outputs": [
    {
     "name": "stdout",
     "output_type": "stream",
     "text": [
      "474\n",
      "['ق', 'و', 'ل', 'ه', 'ل', 'ع', 'د', 'م', 'م', 'ا', 'ت', 'ت', 'ع', 'ل', 'ق', 'إ', 'ل', 'خ', 'أ', 'ي', 'ا', 'ل', 'و', 'ص', 'ي', 'ة', 'ق', 'و', 'ل', 'ه', 'م', 'ا', 'م', 'ر', 'أ', 'ي', 'ق', 'ب', 'ي', 'ل', 'ق', 'و', 'ل', 'ا', 'ل', 'م', 'ت', 'ن', 'ل', 'غ', 'ت', 'و', 'ل', 'و', 'ا', 'ق', 'ت', 'ص', 'ر', 'ع', 'ل', 'ى', 'أ', 'و', 'ص', 'ي', 'ت', 'ل', 'ه', 'ب', 'ش', 'ا', 'ة', 'أ', 'و', 'أ', 'ع', 'ط', 'و', 'ه', 'ش', 'ا', 'ة', 'و', 'ل', 'ا', 'غ', 'ن', 'م', 'ل', 'ه', 'ع', 'ن', 'د', 'ا', 'ل', 'م', 'و', 'ت', 'ه', 'ل', 'ت', 'ب', 'ط', 'ل', 'ا', 'ل', 'و', 'ص', 'ي', 'ة', 'أ', 'و', 'ي', 'ش', 'ت', 'ر', 'ى', 'ل', 'ه', 'ش', 'ا', 'ة', 'و', 'ي', 'ؤ', 'خ', 'ذ', 'م', 'ن', 'ق', 'و', 'ل', 'ه', 'ا', 'ل', 'آ', 'ت', 'ي', 'ك', 'م', 'ا', 'ل', 'و', 'ل', 'م', 'ي', 'ق', 'ل', 'م', 'ن', 'م', 'ا', 'ل', 'ي', 'و', 'ل', 'ا', 'م', 'ن', 'غ', 'ن', 'م', 'ي', 'أ', 'ن', 'ه', 'ا', 'ل', 'ا', 'ت', 'ب', 'ط', 'ل', 'و', 'ع', 'ب', 'ا', 'ر', 'ة', 'ا', 'ل', 'ك', 'ن', 'ز', 'و', 'ل', 'و', 'ل', 'م', 'ي', 'ق', 'ل', 'م', 'ن', 'م', 'ا', 'ل', 'ي', 'و', 'ل', 'ا', 'م', 'ن', 'غ', 'ن', 'م', 'ي', 'ل', 'م', 'ي', 'ت', 'ع', 'ي', 'ن', 'غ', 'ن', 'م', 'ه', 'إ', 'ن', 'ك', 'ا', 'ن', 'ت', 'ا', 'ن', 'ت', 'ه', 'ت', 'س', 'م', 'ق', 'و', 'ل', 'ه', 'ف', 'ي', 'ع', 'ط', 'ى', 'و', 'ا', 'ح', 'د', 'ة', 'م', 'ن', 'ه', 'ا', 'إ', 'ل', 'خ', 'ك', 'م', 'ا', 'ل', 'و', 'ك', 'ا', 'ن', 'ت', 'م', 'و', 'ج', 'و', 'د', 'ة', 'ع', 'ن', 'د', 'ا', 'ل', 'و', 'ص', 'ي', 'ة', 'و', 'ا', 'ل', 'م', 'و', 'ت', 'و', 'ل', 'ا', 'ي', 'ج', 'و', 'ز', 'أ', 'ن', 'ي', 'ع', 'ط', 'ى', 'و', 'ا', 'ح', 'د', 'ة', 'م', 'ن', 'غ', 'ي', 'ر', 'غ', 'ن', 'م', 'ه', 'ف', 'ي', 'ا', 'ل', 'ص', 'و', 'ر', 'ت', 'ي', 'ن', 'و', 'إ', 'ن', 'ت', 'ر', 'ا', 'ض', 'ي', 'ا', 'ل', 'أ', 'ن', 'ه', 'ص', 'ل', 'ح', 'ع', 'ل', 'ى', 'م', 'ج', 'ه', 'و', 'ل', 'م', 'غ', 'ن', 'ي', 'و', 'ن', 'ه', 'ا', 'ي', 'ة', 'ق', 'ا', 'ل', 'ق', 'و', 'ل', 'ه', 'و', 'ا', 'ح', 'د', 'ة', 'م', 'ن', 'ه', 'ا', 'أ', 'ي', 'ك', 'ا', 'م', 'ل', 'ة', 'و', 'ل', 'ا', 'ي', 'ج', 'و', 'ز', 'أ', 'ن', 'ي', 'ع', 'ط', 'ى', 'ن', 'ص', 'ف', 'ي', 'ن', 'م', 'ن', 'ش', 'ا', 'ت', 'ي', 'ن', 'ل', 'أ', 'ن', 'ه', 'ل', 'ا', 'ي', 'س', 'م', 'ى', 'ش', 'ا', 'ة', 'و', 'ق', 'و', 'ل', 'ه', 'و', 'ل', 'ا', 'ي', 'ج', 'و', 'ز', 'أ', 'ن', 'ي', 'ع', 'ط', 'ى', 'و', 'ا', 'ح', 'د', 'ة', 'م', 'ن', 'غ', 'ي', 'ر', 'غ', 'ن', 'م', 'ه', 'و', 'ي', 'ن', 'ب', 'غ', 'ي', 'أ', 'ن', 'ي', 'ق', 'ا', 'ل', 'م', 'ث', 'ل', 'ذ', 'ل', 'ك', 'ف', 'ي', 'ا', 'ل', 'أ', 'ر', 'ق', 'ا', 'ء']\n",
      "----------\n"
     ]
    }
   ],
   "source": [
    "import pickle\n",
    "import torch\n",
    "import torch.nn as nn\n",
    "import csv\n",
    "import pandas as pd\n",
    "\n",
    "%run preprocessing.ipynb"
   ]
  },
  {
   "cell_type": "markdown",
   "metadata": {},
   "source": [
    "### Constants"
   ]
  },
  {
   "cell_type": "code",
   "execution_count": 116,
   "metadata": {},
   "outputs": [],
   "source": [
    "EMBEDDING_DIM = 300\n",
    "HIDDEN_SIZE = 512\n",
    "NUM_LAYERS = 1\n",
    "NUM_EPOCHS = 10\n",
    "LEARNING_RATE = 0.001\n",
    "BATCH_SIZE = 256\n",
    "VOCAB_SIZE = len(basic_arabic_letters) + 1\n",
    "LABELS_SIZE = len(DIACRITICS)\n",
    "\n",
    "TEST_PATH = \"./test/test_no_diacritics.txt\"\n",
    "\n",
    "with open(\"./utils/diacritic2id.pickle\", 'rb') as file:\n",
    "    diacritic2id = pickle.load(file)"
   ]
  },
  {
   "cell_type": "markdown",
   "metadata": {},
   "source": [
    "### Read the model"
   ]
  },
  {
   "cell_type": "code",
   "execution_count": 117,
   "metadata": {},
   "outputs": [],
   "source": [
    "class RNN(nn.Module):\n",
    "    def __init__(\n",
    "        self,\n",
    "        vocab_size=VOCAB_SIZE,\n",
    "        n_classes=LABELS_SIZE,\n",
    "        embedding_dim=EMBEDDING_DIM,\n",
    "        hidden_size=HIDDEN_SIZE,\n",
    "        num_layers=NUM_LAYERS,\n",
    "    ):\n",
    "        \"\"\"\n",
    "        The constructor of our RNN model\n",
    "        Inputs:\n",
    "        - vacab_size: the number of unique characters\n",
    "        - embedding_dim: the embedding dimension\n",
    "        - n_classes: the number of final classes (diacritics)\n",
    "        \"\"\"\n",
    "        super(RNN, self).__init__()\n",
    "\n",
    "        # (1) Create an embedding layer\n",
    "        self.embedding = nn.Embedding(vocab_size, embedding_dim)\n",
    "\n",
    "        # (2) Create an LSTM layer with hidden size = hidden_size and batch_first = True\n",
    "        self.lstm = nn.LSTM(\n",
    "            embedding_dim,\n",
    "            hidden_size,\n",
    "            num_layers=num_layers,\n",
    "            batch_first=True,\n",
    "            bidirectional=True,\n",
    "        )\n",
    "\n",
    "        # (3) Create a linear layer with number of neorons = n_classes\n",
    "        self.linear = nn.Linear(hidden_size * 2, n_classes)\n",
    "\n",
    "    def forward(self, sentences):\n",
    "        \"\"\"\n",
    "        This function does the forward pass of our model\n",
    "        Inputs:\n",
    "        - sentences: tensor of shape (batch_size, max_length)\n",
    "\n",
    "        Returns:\n",
    "        - final_output: tensor of shape (batch_size, max_length, n_classes)\n",
    "        \"\"\"\n",
    "\n",
    "        embeddings = self.embedding(sentences)\n",
    "        lstm_out, _ = self.lstm(embeddings)\n",
    "        output = self.linear(lstm_out)\n",
    "\n",
    "        return output"
   ]
  },
  {
   "cell_type": "code",
   "execution_count": 118,
   "metadata": {},
   "outputs": [
    {
     "name": "stdout",
     "output_type": "stream",
     "text": [
      "RNN(\n",
      "  (embedding): Embedding(37, 300)\n",
      "  (lstm): LSTM(300, 512, batch_first=True, bidirectional=True)\n",
      "  (linear): Linear(in_features=1024, out_features=15, bias=True)\n",
      ")\n"
     ]
    }
   ],
   "source": [
    "# Instantiate the model\n",
    "model = RNN()\n",
    "\n",
    "# Load the saved model weights\n",
    "model_path = \"./models/rnn.pth\"\n",
    "model.load_state_dict(torch.load(model_path, map_location=torch.device('cpu')))\n",
    "model.eval()\n",
    "\n",
    "print(model)"
   ]
  },
  {
   "cell_type": "markdown",
   "metadata": {},
   "source": [
    "### Prepare the testing dataset"
   ]
  },
  {
   "cell_type": "code",
   "execution_count": 119,
   "metadata": {},
   "outputs": [
    {
     "name": "stdout",
     "output_type": "stream",
     "text": [
      "[['ل', 'ي', 'س', 'ل', 'ل', 'و', 'ك', 'ي', 'ل', 'ب', 'ا', 'ل', 'ق', 'ب', 'ض', 'أ', 'ن', 'ي', 'ب', 'ر', 'أ', 'ا', 'ل', 'م', 'د', 'ي', 'ن', 'أ', 'و', 'ي', 'ه', 'ب', 'ا', 'ل', 'د', 'ي', 'ن', 'ل', 'ه', 'أ', 'و', 'ي', 'أ', 'خ', 'ذ', 'ر', 'ه', 'ن', 'ا', 'م', 'ن', 'ا', 'ل', 'م', 'د', 'ي', 'ن', 'ف', 'ي', 'م', 'ق', 'ا', 'ب', 'ل', 'ا', 'ل', 'د', 'ي', 'ن', 'أ', 'و', 'ي', 'ق', 'ب', 'ل', 'إ', 'ح', 'ا', 'ل', 'ت', 'ه', 'ع', 'ل', 'ى', 'ش', 'خ', 'ص', 'آ', 'خ', 'ر', 'ل', 'ك', 'ن', 'ل', 'ه', 'أ', 'ن', 'ي', 'أ', 'خ', 'ذ', 'ك', 'ف', 'ي', 'ل', 'ا', 'ل', 'ك', 'ن', 'ل', 'ي', 'س', 'ل', 'ه', 'أ', 'ن', 'ي', 'أ', 'خ', 'ذ', 'ك', 'ف', 'ي', 'ل', 'ا', 'ب', 'ش', 'ر', 'ط', 'ب', 'ر', 'ا', 'ء', 'ة', 'ا', 'ل', 'أ', 'ص', 'ي', 'ل', 'ا', 'ن', 'ظ', 'ر', 'ا', 'ل', 'م', 'ا', 'د', 'ة', 'ا', 'ل', 'أ', 'ن', 'ق', 'ر', 'و', 'ي', 'ا', 'ل', 'ط', 'ح', 'ط', 'ا', 'و', 'ي', 'و', 'ص', 'ر', 'ة', 'ا', 'ل', 'ف', 'ت', 'ا', 'و', 'ى', 'ا', 'ل', 'ب', 'ح', 'ر']]\n"
     ]
    }
   ],
   "source": [
    "test_corpus = readFile(TEST_PATH)\n",
    "\n",
    "X_test = []\n",
    "\n",
    "for sentence in test_corpus:\n",
    "    sentence = separate_words_to_char(sentence.strip())\n",
    "\n",
    "    X_test.append(sentence)\n",
    "\n",
    "print(X_test)\n",
    "# X_test_padded = [torch.tensor([char_to_index[char] for char in sentence]) for sentence in X_test]\n",
    "# X_test_padded = pad_sequence(X_test_padded, batch_first=True)"
   ]
  },
  {
   "cell_type": "code",
   "execution_count": null,
   "metadata": {},
   "outputs": [],
   "source": [
    "test_corpus = readFile(\"../dataset/test.txt\")\n",
    "\n",
    "X_test = []\n",
    "total_len = 0\n",
    "\n",
    "for sentence in test_corpus:\n",
    "    char_list, _ = separate_words_and_diacritics(sentence.strip())\n",
    "\n",
    "    for i in range(len(char_list)):\n",
    "        X_test.append(char_list[i])"
   ]
  },
  {
   "cell_type": "markdown",
   "metadata": {},
   "source": [
    "### Testing"
   ]
  },
  {
   "cell_type": "code",
   "execution_count": 120,
   "metadata": {},
   "outputs": [],
   "source": [
    "final_predictions = []\n",
    "total_len = 0\n",
    "for i in range(len(X_test)):\n",
    "    sentence = X_test[i]\n",
    "    sentence = torch.tensor([char_to_index[char] for char in sentence])\n",
    "    total_len += len(sentence)\n",
    "\n",
    "    with torch.no_grad():\n",
    "        predictions = model(sentence)\n",
    "    \n",
    "    # Get the predictions\n",
    "    predictions = predictions.argmax(dim=1)\n",
    "    predictions = [index_to_diacritic[index.item()] for index in predictions]\n",
    "    predictions = [diacritic2id[\"\" if diacritic == \" \" else diacritic] for diacritic in predictions]\n",
    "\n",
    "    final_predictions += predictions"
   ]
  },
  {
   "cell_type": "code",
   "execution_count": 121,
   "metadata": {},
   "outputs": [],
   "source": [
    "data = []\n",
    "for i in range(len(final_predictions)):\n",
    "    data.append({\"ID\": i, \"label\": final_predictions[i]})\n",
    "\n",
    "with open(\"./test/output.csv\", \"w\", newline=\"\") as csvfile:\n",
    "    fieldnames = [\"ID\", \"label\"]\n",
    "    writer = csv.DictWriter(csvfile, fieldnames=fieldnames)\n",
    "\n",
    "    writer.writeheader()\n",
    "\n",
    "    for row in data:\n",
    "        writer.writerow(row)"
   ]
  },
  {
   "cell_type": "markdown",
   "metadata": {},
   "source": [
    "### Get the accuracy"
   ]
  },
  {
   "cell_type": "code",
   "execution_count": 122,
   "metadata": {},
   "outputs": [
    {
     "name": "stdout",
     "output_type": "stream",
     "text": [
      "Accuracy: 90.11%\n"
     ]
    }
   ],
   "source": [
    "# Load your output and gold output CSV files\n",
    "output_file = \"./test/output.csv\"\n",
    "gold_output_file = \"./test/test_set_gold.csv\"\n",
    "\n",
    "output_df = pd.read_csv(output_file)\n",
    "gold_output_df = pd.read_csv(gold_output_file)\n",
    "\n",
    "# Merge DataFrames on 'ID'\n",
    "merged_df = pd.merge(output_df, gold_output_df, on=\"ID\", suffixes=('_your', '_gold'))\n",
    "\n",
    "# Check if the labels match\n",
    "merged_df['correct'] = merged_df['label_your'] == merged_df['label_gold']\n",
    "\n",
    "# Calculate accuracy\n",
    "accuracy = merged_df['correct'].mean()\n",
    "\n",
    "print(f\"Accuracy: {accuracy * 100:.2f}%\")"
   ]
  }
 ],
 "metadata": {
  "kernelspec": {
   "display_name": "Python 3",
   "language": "python",
   "name": "python3"
  },
  "language_info": {
   "codemirror_mode": {
    "name": "ipython",
    "version": 3
   },
   "file_extension": ".py",
   "mimetype": "text/x-python",
   "name": "python",
   "nbconvert_exporter": "python",
   "pygments_lexer": "ipython3",
   "version": "3.11.5"
  }
 },
 "nbformat": 4,
 "nbformat_minor": 2
}

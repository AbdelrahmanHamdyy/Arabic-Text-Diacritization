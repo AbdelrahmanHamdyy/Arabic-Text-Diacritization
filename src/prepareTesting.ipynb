{
 "cells": [
  {
   "cell_type": "code",
   "execution_count": 1,
   "metadata": {},
   "outputs": [
    {
     "name": "stdout",
     "output_type": "stream",
     "text": [
      "417359\n",
      "417359\n"
     ]
    }
   ],
   "source": [
    "import pickle\n",
    "import torch\n",
    "import torch.nn as nn\n",
    "import csv\n",
    "import pandas as pd\n",
    "\n",
    "%run preprocessing.ipynb"
   ]
  },
  {
   "cell_type": "code",
   "execution_count": 2,
   "metadata": {},
   "outputs": [
    {
     "name": "stdout",
     "output_type": "stream",
     "text": [
      "{'ز', 'ب', 'ف', 'ر', 'خ', 'و', 'ث', 'ذ', 'ش', 'س', 'ح', 'ا', 'م', 'ه', 'ض', 'ط', 'ن', 'ت', 'د', 'ل', 'ة', 'ي', 'أ', 'آ', 'غ', 'ؤ', 'ع', 'ء', 'ظ', 'ص', 'ك', 'ى', 'إ', 'ج', 'ئ', 'ق'}\n",
      "36\n",
      "{'ّ', 'ٍ', 'ْ', 'ِ', 'ٌ', 'ُ', 'ً', 'َ'}\n",
      "8\n"
     ]
    }
   ],
   "source": [
    "TEST_PATH = \"../dataset/val.txt\"\n",
    "OUTPUT_PATH = \"./test/test_set_gold.csv\"\n",
    "\n",
    "with open(\"./utils/diacritic2id.pickle\", 'rb') as file:\n",
    "    diacritic2id = pickle.load(file)\n",
    "\n",
    "with open(\"./utils/arabic_letters.pickle\",'rb') as file:\n",
    "    arabic_letters_updated = pickle.load(file)\n",
    "    print(arabic_letters_updated)\n",
    "    print(len(arabic_letters_updated))\n",
    "\n",
    "with open(\"./utils/diacritics.pickle\",\"rb\") as file:\n",
    "    diacritics_updated = pickle.load(file)\n",
    "    print(diacritics_updated)\n",
    "    print(len(diacritics_updated))"
   ]
  },
  {
   "cell_type": "code",
   "execution_count": 3,
   "metadata": {},
   "outputs": [],
   "source": [
    "test_corpus = readFile(TEST_PATH)\n",
    "\n",
    "X_test = []\n",
    "Y_test = []\n",
    "total_len = 0\n",
    "\n",
    "for sentence in test_corpus:\n",
    "    char_list, diacritics_list = separate_words_and_diacritics(sentence.strip())\n",
    "\n",
    "    for i in range(len(char_list)):\n",
    "        X_test.append(char_list[i])\n",
    "        Y_test.append(diacritics_list[i])\n",
    "        total_len += len(char_list[i])"
   ]
  },
  {
   "cell_type": "code",
   "execution_count": 4,
   "metadata": {},
   "outputs": [],
   "source": [
    "data = []\n",
    "i = 0\n",
    "\n",
    "for sentence in Y_test:\n",
    "\tfor diacritic in sentence:\n",
    "\t\tdata.append({\"ID\": i, \"label\": diacritic2id[\"\" if diacritic == \" \" else diacritic]})\n",
    "\t\ti += 1\n",
    "\n",
    "with open(OUTPUT_PATH, \"w\", newline=\"\") as csvfile:\n",
    "    fieldnames = [\"ID\", \"label\"]\n",
    "    writer = csv.DictWriter(csvfile, fieldnames=fieldnames)\n",
    "\n",
    "    writer.writeheader()\n",
    "\n",
    "    for row in data:\n",
    "        writer.writerow(row)\n",
    "\n",
    "        "
   ]
  }
 ],
 "metadata": {
  "kernelspec": {
   "display_name": "Python 3",
   "language": "python",
   "name": "python3"
  },
  "language_info": {
   "codemirror_mode": {
    "name": "ipython",
    "version": 3
   },
   "file_extension": ".py",
   "mimetype": "text/x-python",
   "name": "python",
   "nbconvert_exporter": "python",
   "pygments_lexer": "ipython3",
   "version": "3.11.5"
  }
 },
 "nbformat": 4,
 "nbformat_minor": 2
}

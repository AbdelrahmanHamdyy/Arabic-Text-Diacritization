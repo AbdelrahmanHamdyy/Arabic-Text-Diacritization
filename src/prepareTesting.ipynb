{
 "cells": [
  {
   "cell_type": "code",
   "execution_count": 17,
   "metadata": {},
   "outputs": [
    {
     "name": "stdout",
     "output_type": "stream",
     "text": [
      "249\n",
      "الثمنأيفإذاادعىكلمنهماأنهلايعلمقدرماوقعبهالبيعفإنهيحلفعلىأنهلايعلمقدرهويفسخالبيعوتردالسلعةإنكانتقائمةفإنفاتتولوبحوالةسوقردقيمتهاإنكانتمقومةومثلهاإنكانتمثليةفعلمأنكلامنهماإنمايحلفعلىتحقيقدعواهفقط\n",
      "قولهويشترطفيهذاالغسلأنيكونمتصلابالإحرامفلواغتسلغدوةوأخرالإحراملاقبلهمعأنهقبله\n",
      "وأنيجدمعبعدمحلجهادمسافةقصرفأكثرمنبلدهمايحملهلقولهتعالىولاعلىالذينإذاماأتوكلتحملهمقلتلاأجدماأحملكمعليهالآية\n",
      "وقولهثمالشركةشركةعقدعندمحمدخلافاللحسنبنزيادفائدتهتظهرفيحقجوازبيعالكل\n",
      "بالعمرةوهومنجملةماقيلمانزلبعائشةرضياللهعنهاأمرتكرههإلاكانللمسلمينفيهفرج\n",
      "وروىمسلمبإسنادهعنهذيلبنشرحبيلقالجاءرجلإلىعبداللهفقالإنيأعتقتعبداليوجعلتهسائبةفماتوتركمالاولميدعوارثافقالعبداللهإنأهلالإسلاملايسيبونوإنأهلالجاهليةكانوايسيبونوأنتولينعمتهفإنتأثمتوتحرجتمنشيءفنحننقبلهونجعلهفيبيتالمالأوأعتقهفيزكاتهأوفينذرهأوفيكفارتهفلهولاؤهلماتقدمولأنهمعتقعننفسهبخلافمنأعتقهساعمنزكاةفولاؤهللمسلمينلأنهنائبهمإلاإذاأعتقمكاتببإذنسيدهرقيقافولاؤهلسيدالمكاتبدونالمعتقأوكاتبهأيكاتبالمكاتبرقيقابإذنسيدهفأدىالثانيماكوتبعليهقبلالأولفالولاءللسيدفيهمالأنالمكاتبكالآلةللعتقلأنهلايملكهبدونإذنسيدهولأنهباقعلىالرقفليسأهلاللولاءولايصحعتقهأيأنيعتق\n",
      "152\n",
      "قَوْلُهُ وَبَحَثَ الرَّافِعِيُّ صِحَّتَهَا وَإِنْ قَصَدَ تَمْلِيكَ الْمَسْجِدِ وَهُوَ الْمُعْتَمَدُ وَعُلِمَ مِنْ تَعْلِيلِهِ بِأَنَّ\n",
      "133\n",
      "************\n"
     ]
    }
   ],
   "source": [
    "import pickle\n",
    "import torch\n",
    "import torch.nn as nn\n",
    "import csv\n",
    "import pandas as pd\n",
    "\n",
    "%run preprocessing.ipynb"
   ]
  },
  {
   "cell_type": "code",
   "execution_count": 18,
   "metadata": {},
   "outputs": [
    {
     "name": "stdout",
     "output_type": "stream",
     "text": [
      "{'ض', 'ع', 'ت', 'ق', 'م', 'س', 'خ', 'ط', 'ن', 'ز', 'ص', 'غ', 'ؤ', 'آ', 'ا', 'ر', 'د', 'ف', 'ظ', 'ئ', 'أ', 'ث', 'ء', 'ح', 'ج', 'ه', 'ذ', 'إ', 'ى', 'ي', 'ش', 'ك', 'و', 'ة', 'ل', 'ب'}\n",
      "36\n",
      "{'ْ', 'ِ', 'ٌ', 'ّ', 'ُ', 'ً', 'ٍ', 'َ'}\n",
      "8\n"
     ]
    }
   ],
   "source": [
    "TEST_PATH = \"../dataset/val.txt\"\n",
    "OUTPUT_PATH = \"./test/test_set_gold.csv\"\n",
    "\n",
    "with open(\"./utils/diacritic2id.pickle\", 'rb') as file:\n",
    "    diacritic2id = pickle.load(file)\n",
    "\n",
    "with open(\"./utils/arabic_letters.pickle\",'rb') as file:\n",
    "    arabic_letters_updated = pickle.load(file)\n",
    "    print(arabic_letters_updated)\n",
    "    print(len(arabic_letters_updated))\n",
    "\n",
    "with open(\"./utils/diacritics.pickle\",\"rb\") as file:\n",
    "    diacritics_updated = pickle.load(file)\n",
    "    print(diacritics_updated)\n",
    "    print(len(diacritics_updated))"
   ]
  },
  {
   "cell_type": "code",
   "execution_count": 19,
   "metadata": {},
   "outputs": [],
   "source": [
    "test_corpus = readFile(TEST_PATH)\n",
    "\n",
    "X_test = []\n",
    "Y_test = []\n",
    "total_len = 0\n",
    "\n",
    "for sentence in test_corpus:\n",
    "    char_list, diacritics_list = separate_words_and_diacritics(sentence.strip())\n",
    "\n",
    "    for i in range(len(char_list)):\n",
    "        X_test.append(char_list[i])\n",
    "        Y_test.append(diacritics_list[i])\n",
    "        total_len += len(char_list[i])"
   ]
  },
  {
   "cell_type": "code",
   "execution_count": 16,
   "metadata": {},
   "outputs": [],
   "source": [
    "data = []\n",
    "i = 0\n",
    "\n",
    "for sentence in Y_test:\n",
    "\tfor diacritic in sentence:\n",
    "\t\tdata.append({\"ID\": i, \"label\": diacritic2id[\"\" if diacritic == \" \" else diacritic]})\n",
    "\t\ti += 1\n",
    "\n",
    "with open(OUTPUT_PATH, \"w\", newline=\"\") as csvfile:\n",
    "    fieldnames = [\"ID\", \"label\"]\n",
    "    writer = csv.DictWriter(csvfile, fieldnames=fieldnames)\n",
    "\n",
    "    writer.writeheader()\n",
    "\n",
    "    for row in data:\n",
    "        writer.writerow(row)\n",
    "\n",
    "        "
   ]
  },
  {
   "cell_type": "code",
   "execution_count": 9,
   "metadata": {},
   "outputs": [
    {
     "name": "stdout",
     "output_type": "stream",
     "text": [
      "36\n"
     ]
    },
    {
     "ename": "UnicodeDecodeError",
     "evalue": "'charmap' codec can't decode byte 0x8f in position 18: character maps to <undefined>",
     "output_type": "error",
     "traceback": [
      "\u001b[1;31m---------------------------------------------------------------------------\u001b[0m",
      "\u001b[1;31mUnicodeDecodeError\u001b[0m                        Traceback (most recent call last)",
      "Cell \u001b[1;32mIn [9], line 10\u001b[0m\n\u001b[0;32m      8\u001b[0m count \u001b[38;5;241m=\u001b[39m \u001b[38;5;241m0\u001b[39m\n\u001b[0;32m      9\u001b[0m \u001b[38;5;28;01mwith\u001b[39;00m \u001b[38;5;28mopen\u001b[39m(\u001b[38;5;124m\"\u001b[39m\u001b[38;5;124m../dataset/val.txt\u001b[39m\u001b[38;5;124m\"\u001b[39m, \u001b[38;5;124m\"\u001b[39m\u001b[38;5;124mr\u001b[39m\u001b[38;5;124m\"\u001b[39m) \u001b[38;5;28;01mas\u001b[39;00m file:\n\u001b[1;32m---> 10\u001b[0m     \u001b[38;5;28;01mfor\u001b[39;00m line \u001b[38;5;129;01min\u001b[39;00m file:\n\u001b[0;32m     11\u001b[0m         \u001b[38;5;28;01mfor\u001b[39;00m letter \u001b[38;5;129;01min\u001b[39;00m line:\n\u001b[0;32m     12\u001b[0m             \u001b[38;5;28;01mif\u001b[39;00m letter \u001b[38;5;129;01min\u001b[39;00m arabic_letters:\n",
      "File \u001b[1;32mC:\\Program Files\\WindowsApps\\PythonSoftwareFoundation.Python.3.9_3.9.3568.0_x64__qbz5n2kfra8p0\\lib\\encodings\\cp1252.py:23\u001b[0m, in \u001b[0;36mIncrementalDecoder.decode\u001b[1;34m(self, input, final)\u001b[0m\n\u001b[0;32m     22\u001b[0m \u001b[38;5;28;01mdef\u001b[39;00m \u001b[38;5;21mdecode\u001b[39m(\u001b[38;5;28mself\u001b[39m, \u001b[38;5;28minput\u001b[39m, final\u001b[38;5;241m=\u001b[39m\u001b[38;5;28;01mFalse\u001b[39;00m):\n\u001b[1;32m---> 23\u001b[0m     \u001b[38;5;28;01mreturn\u001b[39;00m \u001b[43mcodecs\u001b[49m\u001b[38;5;241;43m.\u001b[39;49m\u001b[43mcharmap_decode\u001b[49m\u001b[43m(\u001b[49m\u001b[38;5;28;43minput\u001b[39;49m\u001b[43m,\u001b[49m\u001b[38;5;28;43mself\u001b[39;49m\u001b[38;5;241;43m.\u001b[39;49m\u001b[43merrors\u001b[49m\u001b[43m,\u001b[49m\u001b[43mdecoding_table\u001b[49m\u001b[43m)\u001b[49m[\u001b[38;5;241m0\u001b[39m]\n",
      "\u001b[1;31mUnicodeDecodeError\u001b[0m: 'charmap' codec can't decode byte 0x8f in position 18: character maps to <undefined>"
     ]
    }
   ],
   "source": []
  },
  {
   "cell_type": "code",
   "execution_count": null,
   "metadata": {},
   "outputs": [],
   "source": []
  }
 ],
 "metadata": {
  "kernelspec": {
   "display_name": "Python 3",
   "language": "python",
   "name": "python3"
  },
  "language_info": {
   "codemirror_mode": {
    "name": "ipython",
    "version": 3
   },
   "file_extension": ".py",
   "mimetype": "text/x-python",
   "name": "python",
   "nbconvert_exporter": "python",
   "pygments_lexer": "ipython3",
   "version": "3.9.13"
  }
 },
 "nbformat": 4,
 "nbformat_minor": 2
}

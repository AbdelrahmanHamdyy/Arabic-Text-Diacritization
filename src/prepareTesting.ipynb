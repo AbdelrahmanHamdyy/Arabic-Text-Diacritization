{
 "cells": [
  {
   "cell_type": "code",
   "execution_count": 41,
   "metadata": {},
   "outputs": [
    {
     "name": "stdout",
     "output_type": "stream",
     "text": [
      "['ٍ', 'ْ', 'ِ', 'ّ', 'َ', 'ٌ', 'ُ', 'ً']\n",
      "['ئ', 'ط', 'ز', 'ن', 'ي', 'ذ', 'ض', 'ه', 'ت', 'ح', 'إ', 'خ', 'ا', 'م', 'س', 'ب', 'أ', 'ر', 'غ', 'آ', 'ق', 'ع', 'ى', 'ة', 'ء', 'ش', 'و', 'ك', 'ج', 'ث', 'ؤ', 'ظ', 'ف', 'د', 'ص', 'ل']\n"
     ]
    }
   ],
   "source": [
    "import pickle\n",
    "import csv\n",
    "\n",
    "%run preprocessing.ipynb"
   ]
  },
  {
   "cell_type": "code",
   "execution_count": 42,
   "metadata": {},
   "outputs": [],
   "source": [
    "TEST_PATH = \"../dataset/test.txt\"\n",
    "TEST2_PATH = \"../dataset/test2.txt\"\n",
    "TEST3_PATH = \"../dataset/test3.txt\"\n",
    "TEST4_PATH = \"../dataset/test4.txt\"\n",
    "VAL_PATH = \"../dataset/val.txt\"\n",
    "\n",
    "OUTPUT_PATH = \"./test/test_set_gold.csv\"\n",
    "\n",
    "with open(\"./utils/diacritic2id.pickle\", 'rb') as file:\n",
    "    diacritic2id = pickle.load(file)"
   ]
  },
  {
   "cell_type": "code",
   "execution_count": 43,
   "metadata": {},
   "outputs": [],
   "source": [
    "test_corpus = readFile(VAL_PATH)\n",
    "\n",
    "X_test = []\n",
    "Y_test = []\n",
    "total_len = 0\n",
    "\n",
    "for sentence in test_corpus:\n",
    "    char_list, diacritics_list = separate_words_and_diacritics(sentence.strip())\n",
    "\n",
    "    for i in range(len(char_list)):\n",
    "        X_test.append(char_list[i])\n",
    "        Y_test.append(diacritics_list[i])\n",
    "        total_len += len(char_list[i])"
   ]
  },
  {
   "cell_type": "code",
   "execution_count": 44,
   "metadata": {},
   "outputs": [],
   "source": [
    "data = []\n",
    "i = 0\n",
    "\n",
    "for sentence in Y_test:\n",
    "\tfor diacritic in sentence:\n",
    "\t\tdata.append({\"ID\": i, \"label\": diacritic2id[\"\" if diacritic == \" \" else diacritic]})\n",
    "\t\ti += 1\n",
    "\n",
    "with open(OUTPUT_PATH, \"w\", newline=\"\") as csvfile:\n",
    "    fieldnames = [\"ID\", \"label\"]\n",
    "    writer = csv.DictWriter(csvfile, fieldnames=fieldnames)\n",
    "\n",
    "    writer.writeheader()\n",
    "\n",
    "    for row in data:\n",
    "        writer.writerow(row)"
   ]
  }
 ],
 "metadata": {
  "kernelspec": {
   "display_name": "Python 3",
   "language": "python",
   "name": "python3"
  },
  "language_info": {
   "codemirror_mode": {
    "name": "ipython",
    "version": 3
   },
   "file_extension": ".py",
   "mimetype": "text/x-python",
   "name": "python",
   "nbconvert_exporter": "python",
   "pygments_lexer": "ipython3",
   "version": "3.11.5"
  }
 },
 "nbformat": 4,
 "nbformat_minor": 2
}

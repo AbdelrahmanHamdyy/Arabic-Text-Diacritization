{
 "cells": [
  {
   "cell_type": "code",
   "execution_count": 1,
   "metadata": {},
   "outputs": [
    {
     "name": "stdout",
     "output_type": "stream",
     "text": [
      "474\n",
      "['ق', 'و', 'ل', 'ه', 'ل', 'ع', 'د', 'م', 'م', 'ا', 'ت', 'ت', 'ع', 'ل', 'ق', 'إ', 'ل', 'خ', 'أ', 'ي', 'ا', 'ل', 'و', 'ص', 'ي', 'ة', 'ق', 'و', 'ل', 'ه', 'م', 'ا', 'م', 'ر', 'أ', 'ي', 'ق', 'ب', 'ي', 'ل', 'ق', 'و', 'ل', 'ا', 'ل', 'م', 'ت', 'ن', 'ل', 'غ', 'ت', 'و', 'ل', 'و', 'ا', 'ق', 'ت', 'ص', 'ر', 'ع', 'ل', 'ى', 'أ', 'و', 'ص', 'ي', 'ت', 'ل', 'ه', 'ب', 'ش', 'ا', 'ة', 'أ', 'و', 'أ', 'ع', 'ط', 'و', 'ه', 'ش', 'ا', 'ة', 'و', 'ل', 'ا', 'غ', 'ن', 'م', 'ل', 'ه', 'ع', 'ن', 'د', 'ا', 'ل', 'م', 'و', 'ت', 'ه', 'ل', 'ت', 'ب', 'ط', 'ل', 'ا', 'ل', 'و', 'ص', 'ي', 'ة', 'أ', 'و', 'ي', 'ش', 'ت', 'ر', 'ى', 'ل', 'ه', 'ش', 'ا', 'ة', 'و', 'ي', 'ؤ', 'خ', 'ذ', 'م', 'ن', 'ق', 'و', 'ل', 'ه', 'ا', 'ل', 'آ', 'ت', 'ي', 'ك', 'م', 'ا', 'ل', 'و', 'ل', 'م', 'ي', 'ق', 'ل', 'م', 'ن', 'م', 'ا', 'ل', 'ي', 'و', 'ل', 'ا', 'م', 'ن', 'غ', 'ن', 'م', 'ي', 'أ', 'ن', 'ه', 'ا', 'ل', 'ا', 'ت', 'ب', 'ط', 'ل', 'و', 'ع', 'ب', 'ا', 'ر', 'ة', 'ا', 'ل', 'ك', 'ن', 'ز', 'و', 'ل', 'و', 'ل', 'م', 'ي', 'ق', 'ل', 'م', 'ن', 'م', 'ا', 'ل', 'ي', 'و', 'ل', 'ا', 'م', 'ن', 'غ', 'ن', 'م', 'ي', 'ل', 'م', 'ي', 'ت', 'ع', 'ي', 'ن', 'غ', 'ن', 'م', 'ه', 'إ', 'ن', 'ك', 'ا', 'ن', 'ت', 'ا', 'ن', 'ت', 'ه', 'ت', 'س', 'م', 'ق', 'و', 'ل', 'ه', 'ف', 'ي', 'ع', 'ط', 'ى', 'و', 'ا', 'ح', 'د', 'ة', 'م', 'ن', 'ه', 'ا', 'إ', 'ل', 'خ', 'ك', 'م', 'ا', 'ل', 'و', 'ك', 'ا', 'ن', 'ت', 'م', 'و', 'ج', 'و', 'د', 'ة', 'ع', 'ن', 'د', 'ا', 'ل', 'و', 'ص', 'ي', 'ة', 'و', 'ا', 'ل', 'م', 'و', 'ت', 'و', 'ل', 'ا', 'ي', 'ج', 'و', 'ز', 'أ', 'ن', 'ي', 'ع', 'ط', 'ى', 'و', 'ا', 'ح', 'د', 'ة', 'م', 'ن', 'غ', 'ي', 'ر', 'غ', 'ن', 'م', 'ه', 'ف', 'ي', 'ا', 'ل', 'ص', 'و', 'ر', 'ت', 'ي', 'ن', 'و', 'إ', 'ن', 'ت', 'ر', 'ا', 'ض', 'ي', 'ا', 'ل', 'أ', 'ن', 'ه', 'ص', 'ل', 'ح', 'ع', 'ل', 'ى', 'م', 'ج', 'ه', 'و', 'ل', 'م', 'غ', 'ن', 'ي', 'و', 'ن', 'ه', 'ا', 'ي', 'ة', 'ق', 'ا', 'ل', 'ق', 'و', 'ل', 'ه', 'و', 'ا', 'ح', 'د', 'ة', 'م', 'ن', 'ه', 'ا', 'أ', 'ي', 'ك', 'ا', 'م', 'ل', 'ة', 'و', 'ل', 'ا', 'ي', 'ج', 'و', 'ز', 'أ', 'ن', 'ي', 'ع', 'ط', 'ى', 'ن', 'ص', 'ف', 'ي', 'ن', 'م', 'ن', 'ش', 'ا', 'ت', 'ي', 'ن', 'ل', 'أ', 'ن', 'ه', 'ل', 'ا', 'ي', 'س', 'م', 'ى', 'ش', 'ا', 'ة', 'و', 'ق', 'و', 'ل', 'ه', 'و', 'ل', 'ا', 'ي', 'ج', 'و', 'ز', 'أ', 'ن', 'ي', 'ع', 'ط', 'ى', 'و', 'ا', 'ح', 'د', 'ة', 'م', 'ن', 'غ', 'ي', 'ر', 'غ', 'ن', 'م', 'ه', 'و', 'ي', 'ن', 'ب', 'غ', 'ي', 'أ', 'ن', 'ي', 'ق', 'ا', 'ل', 'م', 'ث', 'ل', 'ذ', 'ل', 'ك', 'ف', 'ي', 'ا', 'ل', 'أ', 'ر', 'ق', 'ا', 'ء']\n",
      "----------\n"
     ]
    }
   ],
   "source": [
    "import pickle\n",
    "import torch\n",
    "import torch.nn as nn\n",
    "import csv\n",
    "import pandas as pd\n",
    "\n",
    "%run preprocessing.ipynb"
   ]
  },
  {
   "cell_type": "code",
   "execution_count": 2,
   "metadata": {},
   "outputs": [],
   "source": [
    "TEST_PATH = \"../dataset/test.txt\"\n",
    "OUTPUT_PATH = \"./test/test_set_gold.csv\"\n",
    "\n",
    "with open(\"./utils/diacritic2id.pickle\", 'rb') as file:\n",
    "    diacritic2id = pickle.load(file)"
   ]
  },
  {
   "cell_type": "code",
   "execution_count": 3,
   "metadata": {},
   "outputs": [],
   "source": [
    "test_corpus = readFile(TEST_PATH)\n",
    "\n",
    "X_test = []\n",
    "Y_test = []\n",
    "total_len = 0\n",
    "\n",
    "for sentence in test_corpus:\n",
    "    char_list, diacritics_list = separate_words_and_diacritics(sentence.strip())\n",
    "\n",
    "    for i in range(len(char_list)):\n",
    "        X_test.append(char_list[i])\n",
    "        Y_test.append(diacritics_list[i])\n",
    "        total_len += len(char_list[i])"
   ]
  },
  {
   "cell_type": "code",
   "execution_count": 4,
   "metadata": {},
   "outputs": [],
   "source": [
    "data = []\n",
    "i = 0\n",
    "\n",
    "for sentence in Y_test:\n",
    "\tfor diacritic in sentence:\n",
    "\t\tdata.append({\"ID\": i, \"label\": diacritic2id[\"\" if diacritic == \" \" else diacritic]})\n",
    "\t\ti += 1\n",
    "\n",
    "with open(OUTPUT_PATH, \"w\", newline=\"\") as csvfile:\n",
    "    fieldnames = [\"ID\", \"label\"]\n",
    "    writer = csv.DictWriter(csvfile, fieldnames=fieldnames)\n",
    "\n",
    "    writer.writeheader()\n",
    "\n",
    "    for row in data:\n",
    "        writer.writerow(row)"
   ]
  }
 ],
 "metadata": {
  "kernelspec": {
   "display_name": "Python 3",
   "language": "python",
   "name": "python3"
  },
  "language_info": {
   "codemirror_mode": {
    "name": "ipython",
    "version": 3
   },
   "file_extension": ".py",
   "mimetype": "text/x-python",
   "name": "python",
   "nbconvert_exporter": "python",
   "pygments_lexer": "ipython3",
   "version": "3.11.5"
  }
 },
 "nbformat": 4,
 "nbformat_minor": 2
}

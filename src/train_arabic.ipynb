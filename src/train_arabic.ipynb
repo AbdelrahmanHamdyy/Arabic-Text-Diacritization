{
 "cells": [
  {
   "cell_type": "markdown",
   "metadata": {},
   "source": [
    "### Imports"
   ]
  },
  {
   "cell_type": "code",
   "execution_count": 91,
   "metadata": {},
   "outputs": [
    {
     "name": "stdout",
     "output_type": "stream",
     "text": [
      "7\n",
      "379\n",
      "قَوْلُهُ لِعَدَمِ مَا تَتَعَلَّقُ إلَخْ أَيْ الْوَصِيَّةُ قَوْلُهُ مَا مَرَّ أَيْ قُبَيْلَ قَوْلِ الْمَتْنِ لَغَتْ وَلَوْ اقْتَصَرَ عَلَى أَوْصَيْت لَهُ بِشَاةٍ أَوْ أَعْطُوهُ شَاةً وَلَا غَنَمَ لَهُ عِنْدَ الْمَوْتِ هَلْ تَبْطُلُ الْوَصِيَّةُ أَوْ يُشْتَرَى لَهُ شَاةٌ وَيُؤْخَذُ مِنْ قَوْلِهِ الْآتِي كَمَا لَوْ لَمْ يَقُلْ مِنْ مَالِي وَلَا مِنْ غَنَمِي أَنَّهَا لَا تَبْطُلُ \n",
      "----------------------------\n",
      "234\n",
      " وَعِبَارَةُ الْكَنْزِ وَلَوْ لَمْ يَقُلْ مِنْ مَالِي وَلَا مِنْ غَنَمِي لَمْ يَتَعَيَّنْ غَنَمُهُ إنْ كَانَتْ انْتَهَتْ ا ه سم قَوْلُهُ فَيُعْطَى وَاحِدَةً مِنْهَا إلَخْ كَمَا لَوْ كَانَتْ مَوْجُودَةً عِنْدَ الْوَصِيَّةِ وَالْمَوْتِ \n",
      "----------------------------\n",
      "96\n",
      " وَلَا يَجُوزُ أَنْ يُعْطَى وَاحِدَةً مِنْ غَيْرِ غَنَمِهِ فِي الصُّورَتَيْنِ وَإِنْ تَرَاضَيَا \n",
      "----------------------------\n",
      "106\n",
      " لِأَنَّهُ صُلْحٌ عَلَى مَجْهُولٍ مُغْنِي وَنِهَايَةٌ قَالَ ع ش قَوْلُهُ وَاحِدَةً مِنْهَا أَيْ كَامِلَةً \n",
      "----------------------------\n",
      "54\n",
      " وَلَا يَجُوزُ أَنْ يُعْطَى نِصْفَيْنِ مِنْ شَاتَيْنِ \n",
      "----------------------------\n",
      "160\n",
      " لِأَنَّهُ لَا يُسَمَّى شَاةً وَقَوْلُهُ وَلَا يَجُوزُ أَنْ يُعْطَى وَاحِدَةً مِنْ غَيْرِ غَنَمِهِ وَيَنْبَغِي أَنْ يُقَالَ مِثْلُ ذَلِكَ فِي الْأَرِقَّاءِ ا ه \n",
      "----------------------------\n",
      "0\n",
      "\n",
      "----------------------------\n"
     ]
    }
   ],
   "source": [
    "import torch\n",
    "from torch.utils.data import DataLoader, TensorDataset\n",
    "import torch.nn.functional as F\n",
    "from tqdm import tqdm\n",
    "import torch.nn as nn\n",
    "from torch.nn.utils.rnn import pad_sequence\n",
    "from TorchCRF import CRF\n",
    "from sklearn.model_selection import train_test_split\n",
    "\n",
    "%run updatePreprocessing.ipynb"
   ]
  },
  {
   "cell_type": "markdown",
   "metadata": {},
   "source": [
    "### Constants"
   ]
  },
  {
   "cell_type": "code",
   "execution_count": 92,
   "metadata": {},
   "outputs": [],
   "source": [
    "EMBEDDING_DIM = 200\n",
    "HIDDEN_SIZE = 512\n",
    "NUM_LAYERS = 1\n",
    "NUM_EPOCHS = 10\n",
    "LEARNING_RATE = 0.001\n",
    "BATCH_SIZE = 256\n",
    "VOCAB_SIZE = len(basic_arabic_letters) + 1\n",
    "LABELS_SIZE = len(DIACRITICS)\n",
    "\n",
    "TRAIN_PATH = \"../dataset/train.txt\"\n",
    "VAL_PATH = \"../dataset/val.txt\"\n",
    "LSTM_PATH=\"./models/lstm.pth\"\n",
    "RNN_PATH=\"./models/rnn.pth\"\n",
    "CNN_PATH = \"./models/cnn.pth\"\n",
    "CRF_Val_PATH=\"./models/crf_val.pth\"\n",
    "CRF_PATH=\"./models/crf.pth\"\n",
    "CNN_val_PATH=\"./models/cnn_val.pth\""
   ]
  },
  {
   "cell_type": "markdown",
   "metadata": {},
   "source": [
    "### Model building"
   ]
  },
  {
   "cell_type": "markdown",
   "metadata": {},
   "source": [
    "### RNN"
   ]
  },
  {
   "cell_type": "code",
   "execution_count": 93,
   "metadata": {},
   "outputs": [],
   "source": [
    "class RNN(nn.Module):\n",
    "    def __init__(self, vocab_size, n_classes, embedding_dim=EMBEDDING_DIM, hidden_size=HIDDEN_SIZE, num_layers=NUM_LAYERS):\n",
    "        \"\"\"\n",
    "        The constructor of our RNN model\n",
    "        Inputs:\n",
    "        - vacab_size: the number of unique characters\n",
    "        - embedding_dim: the embedding dimension\n",
    "        - n_classes: the number of final classes (diacritics)\n",
    "        \"\"\"\n",
    "        super(RNN, self).__init__()\n",
    "\n",
    "        # (1) Create an embedding layer\n",
    "        self.embedding = nn.Embedding(vocab_size, embedding_dim)\n",
    "\n",
    "        # (2) Create an LSTM layer with hidden size = hidden_size and batch_first = True\n",
    "        self.lstm = nn.LSTM(embedding_dim, hidden_size, num_layers=num_layers, batch_first=True, bidirectional=True)\n",
    "        \n",
    "        # (3) Create a linear layer with number of neorons = n_classes\n",
    "        self.linear = nn.Linear(hidden_size * 2, n_classes)\n",
    "\n",
    "    def forward(self, sentences):\n",
    "        \"\"\"\n",
    "        This function does the forward pass of our model\n",
    "        Inputs:\n",
    "        - sentences: tensor of shape (batch_size, max_length)\n",
    "\n",
    "        Returns:\n",
    "        - final_output: tensor of shape (batch_size, max_length, n_classes)\n",
    "        \"\"\"\n",
    "\n",
    "        final_output = None\n",
    "        \n",
    "        embeddings = self.embedding(sentences)\n",
    "        lstm_out, _ = self.lstm(embeddings)\n",
    "        output = self.linear(lstm_out)\n",
    "        # final_output = F.softmax(output, dim=1)\n",
    "        return output"
   ]
  },
  {
   "cell_type": "markdown",
   "metadata": {},
   "source": [
    "### CNN"
   ]
  },
  {
   "cell_type": "code",
   "execution_count": 94,
   "metadata": {},
   "outputs": [],
   "source": [
    "class CNN(nn.Module):\n",
    "    def __init__(self, vocab_size, n_classes, embedding_dim=EMBEDDING_DIM):\n",
    "        super(CNN, self).__init__()\n",
    "\n",
    "        # Embedding layer\n",
    "        self.embedding = nn.Embedding(vocab_size, embedding_dim)\n",
    "\n",
    "        # Convolutional layers\n",
    "        self.conv1 = nn.Conv1d(embedding_dim, 256, kernel_size=3, stride=1, padding=1)\n",
    "        self.conv2 = nn.Conv1d(256, 256, kernel_size=3, stride=1, padding=1)\n",
    "        self.conv3 = nn.Conv1d(256, 256, kernel_size=3, stride=1, padding=1)\n",
    "\n",
    "        # Max pooling layers\n",
    "        # self.pool = nn.MaxPool1d(kernel_size=2, stride=2, padding=0)\n",
    "\n",
    "        # Fully connected layers\n",
    "        self.fc1 = nn.Linear(128, 256)\n",
    "        self.fc2 = nn.Linear(256, n_classes)\n",
    "\n",
    "    def forward(self, x):\n",
    "        print(\"1\", x.shape)\n",
    "        x = self.embedding(x)\n",
    "        x = x.permute(0, 2, 1)\n",
    "        print(\"2\", x.shape)\n",
    "        # Convolutional layers with ReLU activation and max pooling\n",
    "        x = F.relu(self.conv1(x))\n",
    "        # x = self.pool(x)\n",
    "        print(\"3\", x.shape)\n",
    "        x = F.relu(self.conv2(x))\n",
    "        # x = self.pool(x)\n",
    "        print(\"4\", x.shape)\n",
    "        x = F.relu(self.conv3(x))\n",
    "        # x = self.pool(x)\n",
    "        print(\"5\", x.shape)\n",
    "\n",
    "        # Fully connected layers with ReLU activation\n",
    "        x = x.view(-1, 128)\n",
    "        x = F.relu(self.fc1(x))\n",
    "        print(\"6\", x.shape)\n",
    "        x = self.fc2(x)\n",
    "        print(\"7\", x.shape)\n",
    "\n",
    "        return x"
   ]
  },
  {
   "cell_type": "code",
   "execution_count": 95,
   "metadata": {},
   "outputs": [],
   "source": [
    "class RNN_CNN(nn.Module):\n",
    "    def __init__(self, vocab_size, n_classes, embedding_dim=EMBEDDING_DIM, hidden_size=HIDDEN_SIZE, num_layers=NUM_LAYERS):\n",
    "        super(RNN_CNN, self).__init__()\n",
    "\n",
    "        # Embedding layer\n",
    "        self.embedding = nn.Embedding(vocab_size, embedding_dim)\n",
    "\n",
    "        # CNN layer\n",
    "        self.conv1d = nn.Conv1d(in_channels=embedding_dim, out_channels=64, kernel_size=3, padding=1)  # Adjust parameters as needed\n",
    "\n",
    "        # LSTM layer\n",
    "        self.lstm = nn.LSTM(64, hidden_size, num_layers=num_layers, batch_first=True, bidirectional=True)\n",
    "\n",
    "        # Linear layer\n",
    "        self.linear = nn.Linear(hidden_size * 2, n_classes)\n",
    "\n",
    "    def forward(self, sentences):\n",
    "        embeddings = self.embedding(sentences)\n",
    "\n",
    "        # Pass embeddings through CNN layer\n",
    "        conv_out = self.conv1d(embeddings.permute(0, 2, 1))  # Reshape for CNN\n",
    "        conv_out = torch.relu(conv_out)\n",
    "        conv_out = conv_out.permute(0, 2, 1)  # Reshape back for LSTM\n",
    "\n",
    "        # Pass CNN output through LSTM layer\n",
    "        lstm_out, _ = self.lstm(conv_out)\n",
    "\n",
    "        # Final output layer\n",
    "        output = self.linear(lstm_out)\n",
    "        return output\n"
   ]
  },
  {
   "cell_type": "markdown",
   "metadata": {},
   "source": [
    "### CRF"
   ]
  },
  {
   "cell_type": "code",
   "execution_count": 96,
   "metadata": {},
   "outputs": [],
   "source": [
    "class LSTM_CRF(nn.Module):\n",
    "    def __init__(self, vocab_size, n_classes, embedding_dim=EMBEDDING_DIM, hidden_size=HIDDEN_SIZE, num_layers=NUM_LAYERS):\n",
    "        super(LSTM_CRF, self).__init__()\n",
    "        # Embedding layer\n",
    "        self.embedding = nn.Embedding(vocab_size, embedding_dim)\n",
    "\n",
    "        # BiLSTM layer\n",
    "        self.bilstm = nn.LSTM(embedding_dim, hidden_size, num_layers=num_layers, batch_first=True, bidirectional=True)\n",
    "\n",
    "        # CRF layer\n",
    "        self.crf = CRF(n_classes)\n",
    "\n",
    "        # Linear layer\n",
    "        self.linear = nn.Linear(hidden_size * 2, n_classes)\n",
    "        # Create a CRF layer\n",
    "        self.crf = CRF(n_classes, batch_first=True)\n",
    "\n",
    "    def forward(self, sentences):\n",
    "        # Input x is a sequence of indices\n",
    "        embedded = self.embedding(sentences)\n",
    "\n",
    "        # BiLSTM layer\n",
    "        lstm_out, _ = self.bilstm(embedded)\n",
    "\n",
    "        # Linear layer for classification\n",
    "        linear_out = self.linear(lstm_out)\n",
    "        if labels is not None:\n",
    "            # Calculate the negative log-likelihood loss using the CRF layer\n",
    "            loss = self.crf(output, labels)\n",
    "            return -loss  # Return negative log-likelihood as we usually minimize it during training\n",
    "        else:\n",
    "            # If labels are not provided, return the raw output\n",
    "            return output\n"
   ]
  },
  {
   "cell_type": "code",
   "execution_count": 97,
   "metadata": {},
   "outputs": [],
   "source": [
    "class RNN_CRF(nn.Module):\n",
    "    def __init__(self, vocab_size, n_classes, embedding_dim=EMBEDDING_DIM, hidden_size=HIDDEN_SIZE, num_layers=NUM_LAYERS, dropout=0.5):\n",
    "        super(RNN_CRF, self).__init__()\n",
    "\n",
    "        # Embedding layer\n",
    "        self.embedding = nn.Embedding(vocab_size, embedding_dim)\n",
    "\n",
    "        # LSTM layer\n",
    "        self.lstm = nn.LSTM(embedding_dim, hidden_size, num_layers=num_layers, batch_first=True, bidirectional=True)\n",
    "\n",
    "        # Linear layer\n",
    "        self.linear = nn.Linear(hidden_size * 2, n_classes)\n",
    "        self.dropout = nn.Dropout(dropout)  # Apply dropout before the linear layer\n",
    "\n",
    "        # CRF layer\n",
    "        self.crf = CRF(n_classes)  # Place the CRF layer after the linear layer\n",
    "\n",
    "    def forward(self, sentences):\n",
    "        embeddings = self.embedding(sentences)\n",
    "        lstm_out, _ = self.lstm(embeddings)\n",
    "        dropout_out = self.dropout(lstm_out)  # Apply dropout\n",
    "        output = self.linear(dropout_out)\n",
    "        return output  # Return raw output for CRF loss calculation\n",
    "\n",
    "    def predict(self, sentences):\n",
    "        output = self.forward(sentences)\n",
    "        predictions = self.crf.decode(output)\n",
    "        return predictions\n"
   ]
  },
  {
   "cell_type": "code",
   "execution_count": null,
   "metadata": {},
   "outputs": [],
   "source": [
    "class RNN_CRF_MultiLayer(nn.Module):\n",
    "    def __init__(self, vocab_size, word_vocab_size, n_classes, embedding_dim=EMBEDDING_DIM, hidden_size=HIDDEN_SIZE, num_layers=NUM_LAYERS, dropout=0.5):\n",
    "        super(RNN_CRF_MultiLayer, self).__init__()\n",
    "\n",
    "        # Word embedding layer\n",
    "        self.word_embedding = nn.Embedding(word_vocab_size, embedding_dim)\n",
    "\n",
    "        # Word LSTM layer\n",
    "        self.word_lstm = nn.LSTM(embedding_dim, hidden_size, num_layers=num_layers, batch_first=True, bidirectional=True)\n",
    "\n",
    "        # Character embedding layer (already exists)\n",
    "        self.embedding = nn.Embedding(vocab_size, embedding_dim)\n",
    "\n",
    "        # Character LSTM layer (already exists)\n",
    "        self.lstm = nn.LSTM(embedding_dim, hidden_size, num_layers=num_layers, batch_first=True, bidirectional=True)\n",
    "\n",
    "        # Linear layer after concatenation\n",
    "        self.linear = nn.Linear(hidden_size * 4, n_classes)  # Combined output from both LSTMs\n",
    "        self.dropout = nn.Dropout(dropout)\n",
    "\n",
    "        # CRF layer\n",
    "        self.crf = CRF(n_classes)\n",
    "\n",
    "    def forward(self, sentences, words):\n",
    "        # Word layer processing\n",
    "        word_embeddings = self.word_embedding(words)\n",
    "        word_lstm_out, _ = self.word_lstm(word_embeddings)\n",
    "\n",
    "        # Character layer processing\n",
    "        embeddings = self.embedding(sentences)\n",
    "        lstm_out, _ = self.lstm(embeddings)\n",
    "\n",
    "        # Concatenate outputs\n",
    "        combined_output = torch.cat([lstm_out, word_lstm_out], dim=2)\n",
    "\n",
    "        # Linear transformation and CRF\n",
    "        dropout_out = self.dropout(combined_output)\n",
    "        output = self.linear(dropout_out)\n",
    "        return output\n"
   ]
  },
  {
   "cell_type": "markdown",
   "metadata": {},
   "source": [
    "### Train"
   ]
  },
  {
   "cell_type": "code",
   "execution_count": 98,
   "metadata": {},
   "outputs": [],
   "source": [
    "\n",
    "def train(model, path,val_path, train_dataset, train_labels, val_dataset,val_labels,batch_size=BATCH_SIZE, epochs=NUM_EPOCHS, learning_rate=LEARNING_RATE):\n",
    "    \"\"\"\n",
    "    This function implements the training logic\n",
    "    Inputs:\n",
    "    - model: the model to be trained\n",
    "    - train_dataset: the training set\n",
    "    - batch_size: integer represents the number of examples per step\n",
    "    - epochs: integer represents the total number of epochs (full training pass)\n",
    "    - learning_rate: the learning rate to be used by the optimizer\n",
    "    \"\"\"\n",
    "\n",
    "    # (1) create the dataloader of the training set (make the shuffle=True)\n",
    "    tensor_train_dataset = TensorDataset(train_dataset, train_labels)\n",
    "    train_dataloader = DataLoader(tensor_train_dataset, batch_size=batch_size, shuffle=True)\n",
    "    tensor_val_dataset = TensorDataset(val_dataset, val_labels)\n",
    "    val_dataloader = DataLoader(tensor_val_dataset, batch_size=batch_size, shuffle=False)\n",
    "\n",
    "    # (2) make the criterion cross entropy loss\n",
    "    criterion = torch.nn.CrossEntropyLoss()\n",
    "\n",
    "    # (3) create the optimizer (Adam)\n",
    "    optimizer = torch.optim.Adam(model.parameters(), lr=learning_rate)\n",
    "    # (4) create a learning rate scheduler (optional but recommended)\n",
    "    scheduler = StepLR(optimizer, step_size=5, gamma=0.1)  # Adjust parameters as needed\n",
    "\n",
    "    # GPU configuration\n",
    "    use_cuda = torch.cuda.is_available()\n",
    "    device = torch.device(\"cuda\" if use_cuda else \"cpu\")\n",
    "    if use_cuda:\n",
    "        model = model.cuda()\n",
    "        criterion = criterion.cuda()\n",
    "    \n",
    "    best_accuracy = 0.0\n",
    "    best_accuracy_val=0.0\n",
    "    for epoch_num in range(epochs):\n",
    "        total_acc_train = 0\n",
    "        total_loss_train = 0\n",
    "        \n",
    "        for train_input, train_label in tqdm(train_dataloader):\n",
    "            # Zero your gradients\n",
    "            optimizer.zero_grad()\n",
    "\n",
    "            # Move the train input to the device\n",
    "            train_label = train_label.to(device)\n",
    "\n",
    "            # Move the train label to the device\n",
    "            train_input = train_input.to(device)\n",
    "\n",
    "            # Do the forward pass\n",
    "            output = model(train_input).float()\n",
    "\n",
    "            # Loss calculation\n",
    "            batch_loss = criterion(output.view(-1, output.shape[-1]), train_label.view(-1))\n",
    "\n",
    "            # Append the batch loss to the total_loss_train\n",
    "            total_loss_train += batch_loss.item()\n",
    "            \n",
    "            # Calculate the batch accuracy (just add the number of correct predictions)\n",
    "            # Compare predicted diacritic with true diacritic and count correct predictions\n",
    "            correct_predictions = (output.argmax(dim=2) == train_label)\n",
    "\n",
    "            # Calculate accuracy for the current batch\n",
    "            acc = correct_predictions.sum().item()\n",
    "            total_acc_train += acc\n",
    "\n",
    "            # Do the backward pass\n",
    "            batch_loss.backward()\n",
    "\n",
    "            # Update the weights with your optimizer\n",
    "            optimizer.step()     \n",
    "        # Step the learning rate scheduler\n",
    "        scheduler.step()\n",
    "        # Calculate the epoch loss\n",
    "        epoch_loss = total_loss_train / len(train_dataset)\n",
    "\n",
    "        # Calculate the accuracy\n",
    "        epoch_acc = total_acc_train / (len(train_dataset) * len(train_dataset[0]))\n",
    "\n",
    "        print(f'Epochs: {epoch_num + 1} | Train Loss: {epoch_loss} \\\n",
    "            | Train Accuracy: {epoch_acc}\\n')\n",
    "        \n",
    "        if epoch_acc > best_accuracy:\n",
    "            best_accuracy = epoch_acc\n",
    "            torch.save(model.state_dict(), path)\n",
    "            print(f'Saved the best model with accuracy: {best_accuracy} to {path}\\n')\n",
    "         # Validation\n",
    "        model.eval()  # Set the model to evaluation mode\n",
    "        total_acc_val = 0\n",
    "        total_loss_val = 0\n",
    "\n",
    "        with torch.no_grad():\n",
    "            for val_input, val_label in tqdm(val_dataloader):\n",
    "                val_label = val_label.to(device)\n",
    "                val_input = val_input.to(device)\n",
    "\n",
    "                output = model(val_input)\n",
    "                batch_loss = criterion(output.view(-1, output.shape[-1]), val_label.view(-1))\n",
    "                total_loss_val += batch_loss.item()\n",
    "\n",
    "                correct_predictions = (output.argmax(dim=2) == val_label)\n",
    "                acc = correct_predictions.sum().item()\n",
    "                total_acc_val += acc\n",
    "\n",
    "        epoch_loss_val = total_loss_val / len(val_dataloader)\n",
    "        epoch_acc_val = total_acc_val / (len(val_dataset) * len(val_dataset[0]))\n",
    "\n",
    "        print(f'Epochs: {epoch_num + 1} | Validation Loss: {epoch_loss_val} | Validation Accuracy: {epoch_acc_val}')\n",
    "\n",
    "        if epoch_acc_val > best_accuracy_val:\n",
    "            best_accuracy_val = epoch_acc_val\n",
    "            torch.save(model.state_dict(), val_path)\n",
    "            print(f'Saved the best model with validation accuracy: {best_accuracy_val} to {val_path}')\n",
    "        model.train()\n"
   ]
  },
  {
   "cell_type": "code",
   "execution_count": 99,
   "metadata": {},
   "outputs": [],
   "source": [
    "corpus=  readFile(TRAIN_PATH)\n",
    "\n",
    "x_train = []\n",
    "y_train = []\n",
    "\n",
    "for sentence in corpus[:1000]:\n",
    "\t# Clean each sentence in the corpus\n",
    "\t# Get the char list for each word in the sentence and its corresponding diacritics\n",
    "\tchar_list, diacritics_list = separate_words_and_diacritics(sentence.strip())\n",
    "\n",
    "\tx_train.append(char_list)\n",
    "\ty_train.append(diacritics_list)\n",
    "\n",
    "X_train_padded = [torch.tensor([char_to_index[char] for char in word]) for sentence in x_train for word in sentence]\n",
    "X_train_padded = pad_sequence(X_train_padded, batch_first=True)\n",
    "\n",
    "y_train_padded = [torch.tensor([diacritic_to_index[char] for char in word]) for sentence in y_train for word in sentence]\n",
    "y_train_padded = pad_sequence(y_train_padded, batch_first=True)"
   ]
  },
  {
   "cell_type": "code",
   "execution_count": 100,
   "metadata": {},
   "outputs": [],
   "source": [
    "valid_corpus = readFile(VAL_PATH)\n",
    "\n",
    "X_val = []\n",
    "y_val = []\n",
    "\n",
    "for sentence in valid_corpus[:50]:\n",
    "\t# Clean each sentence in the corpus\n",
    "\t# Get the char list for each word in the sentence and its corresponding diacritics\n",
    "\tchar_list, diacritics_list = separate_words_and_diacritics(sentence.strip())\n",
    "\n",
    "\tX_val.append(char_list)\n",
    "\ty_val.append(diacritics_list)\n",
    "\n",
    "X_val_padded = [torch.tensor([char_to_index[char] for char in word]) for sentence in X_val for word in sentence ]\n",
    "X_val_padded = pad_sequence(X_val_padded, batch_first=True)\n",
    "\n",
    "y_val_padded = [torch.tensor([diacritic_to_index[char] for char in word]) for sentence in y_val for word in sentence ]\n",
    "# print(y_val_padded)\n",
    "y_val_padded = pad_sequence(y_val_padded, batch_first=True)\n",
    "# print(y_val_padded)"
   ]
  },
  {
   "cell_type": "code",
   "execution_count": 101,
   "metadata": {},
   "outputs": [],
   "source": [
    "# Create an index array\n",
    "indices = list(range(len(X_val_padded)))\n",
    "\n",
    "# Split the indices into validation and test sets\n",
    "indices_val, indices_test = train_test_split(indices, test_size=0.5, random_state=42)\n",
    "\n",
    "# Use the indices to get the corresponding data for validation and test sets\n",
    "x_val = X_val_padded[indices_val]\n",
    "y_val = y_val_padded[indices_val]\n",
    "\n",
    "x_test = X_val_padded[indices_test]\n",
    "y_test = y_val_padded[indices_test]"
   ]
  },
  {
   "cell_type": "code",
   "execution_count": 102,
   "metadata": {},
   "outputs": [],
   "source": [
    "def run_RNN():\n",
    "    model=RNN(VOCAB_SIZE, LABELS_SIZE)\n",
    "    print(model)\n",
    "    train(model, LSTM_PATH, X_train_padded, y_train_padded)\n",
    "    \n",
    "def run_CNN():\n",
    "    model=CNN(VOCAB_SIZE, LABELS_SIZE)\n",
    "    print(model)\n",
    "    train(model, CNN_PATH, X_train_padded, y_train_padded)\n",
    "    \n",
    "def run_CNN_eslam():\n",
    "    model=RNN_CNN(VOCAB_SIZE, LABELS_SIZE)\n",
    "    print(model)\n",
    "    train(model,CNN_PATH,CNN_val_PATH, X_train_padded, y_train_padded,X_val,y_val)\n",
    "    \n",
    "def run_CRF():\n",
    "    model=LSTM_CRF(VOCAB_SIZE, LABELS_SIZE)\n",
    "    print(model)\n",
    "    train(model, CNN_PATH, X_train_padded, y_train_padded)\n",
    "def run_CRF_eslam():\n",
    "    model=RNN_CRF(VOCAB_SIZE, LABELS_SIZE)\n",
    "    print(model)\n",
    "    train(model,CRF_PATH,CRF_Val_PATH, X_train_padded, y_train_padded,x_val,y_val)"
   ]
  },
  {
   "cell_type": "code",
   "execution_count": 104,
   "metadata": {},
   "outputs": [
    {
     "name": "stdout",
     "output_type": "stream",
     "text": [
      "RNN_CRF(\n",
      "  (embedding): Embedding(37, 200)\n",
      "  (lstm): LSTM(200, 512, batch_first=True, bidirectional=True)\n",
      "  (linear): Linear(in_features=1024, out_features=15, bias=True)\n",
      "  (dropout): Dropout(p=0.5, inplace=False)\n",
      "  (crf): CRF()\n",
      ")\n"
     ]
    },
    {
     "name": "stderr",
     "output_type": "stream",
     "text": [
      "  0%|          | 0/179 [00:00<?, ?it/s]"
     ]
    },
    {
     "name": "stderr",
     "output_type": "stream",
     "text": [
      "100%|██████████| 179/179 [01:03<00:00,  2.83it/s]\n"
     ]
    },
    {
     "name": "stdout",
     "output_type": "stream",
     "text": [
      "Epochs: 1 | Train Loss: 0.001466312140909259             | Train Accuracy: 0.8741685022575276\n",
      "\n",
      "Saved the best model with accuracy: 0.8741685022575276 to ./models/crf.pth\n",
      "\n"
     ]
    },
    {
     "name": "stderr",
     "output_type": "stream",
     "text": [
      "100%|██████████| 5/5 [00:00<00:00,  7.54it/s]\n"
     ]
    },
    {
     "name": "stdout",
     "output_type": "stream",
     "text": [
      "Epochs: 1 | Validation Loss: 0.23451324701309204 | Validation Accuracy: 0.9177075098814229\n",
      "Saved the best model with validation accuracy: 0.9177075098814229 to ./models/crf_val.pth\n"
     ]
    },
    {
     "name": "stderr",
     "output_type": "stream",
     "text": [
      "100%|██████████| 179/179 [01:12<00:00,  2.48it/s]\n"
     ]
    },
    {
     "name": "stdout",
     "output_type": "stream",
     "text": [
      "Epochs: 2 | Train Loss: 0.0007669565973934302             | Train Accuracy: 0.9321884562099451\n",
      "\n",
      "Saved the best model with accuracy: 0.9321884562099451 to ./models/crf.pth\n",
      "\n"
     ]
    },
    {
     "name": "stderr",
     "output_type": "stream",
     "text": [
      "100%|██████████| 5/5 [00:00<00:00,  6.60it/s]\n"
     ]
    },
    {
     "name": "stdout",
     "output_type": "stream",
     "text": [
      "Epochs: 2 | Validation Loss: 0.18367249071598052 | Validation Accuracy: 0.9339920948616601\n",
      "Saved the best model with validation accuracy: 0.9339920948616601 to ./models/crf_val.pth\n"
     ]
    },
    {
     "name": "stderr",
     "output_type": "stream",
     "text": [
      "100%|██████████| 179/179 [01:12<00:00,  2.48it/s]\n"
     ]
    },
    {
     "name": "stdout",
     "output_type": "stream",
     "text": [
      "Epochs: 3 | Train Loss: 0.000641517197369562             | Train Accuracy: 0.9425262381517178\n",
      "\n",
      "Saved the best model with accuracy: 0.9425262381517178 to ./models/crf.pth\n",
      "\n"
     ]
    },
    {
     "name": "stderr",
     "output_type": "stream",
     "text": [
      "100%|██████████| 5/5 [00:00<00:00,  7.48it/s]\n"
     ]
    },
    {
     "name": "stdout",
     "output_type": "stream",
     "text": [
      "Epochs: 3 | Validation Loss: 0.1627883493900299 | Validation Accuracy: 0.9410276679841897\n",
      "Saved the best model with validation accuracy: 0.9410276679841897 to ./models/crf_val.pth\n"
     ]
    },
    {
     "name": "stderr",
     "output_type": "stream",
     "text": [
      "100%|██████████| 179/179 [01:10<00:00,  2.55it/s]\n"
     ]
    },
    {
     "name": "stdout",
     "output_type": "stream",
     "text": [
      "Epochs: 4 | Train Loss: 0.000573394979259291             | Train Accuracy: 0.9488473153860721\n",
      "\n",
      "Saved the best model with accuracy: 0.9488473153860721 to ./models/crf.pth\n",
      "\n"
     ]
    },
    {
     "name": "stderr",
     "output_type": "stream",
     "text": [
      "100%|██████████| 5/5 [00:00<00:00,  7.29it/s]\n"
     ]
    },
    {
     "name": "stdout",
     "output_type": "stream",
     "text": [
      "Epochs: 4 | Validation Loss: 0.1523817628622055 | Validation Accuracy: 0.9454545454545454\n",
      "Saved the best model with validation accuracy: 0.9454545454545454 to ./models/crf_val.pth\n"
     ]
    },
    {
     "name": "stderr",
     "output_type": "stream",
     "text": [
      "100%|██████████| 179/179 [01:11<00:00,  2.52it/s]\n"
     ]
    },
    {
     "name": "stdout",
     "output_type": "stream",
     "text": [
      "Epochs: 5 | Train Loss: 0.0005251803545559228             | Train Accuracy: 0.9528719937008502\n",
      "\n",
      "Saved the best model with accuracy: 0.9528719937008502 to ./models/crf.pth\n",
      "\n"
     ]
    },
    {
     "name": "stderr",
     "output_type": "stream",
     "text": [
      "100%|██████████| 5/5 [00:00<00:00,  7.39it/s]\n"
     ]
    },
    {
     "name": "stdout",
     "output_type": "stream",
     "text": [
      "Epochs: 5 | Validation Loss: 0.14708330631256103 | Validation Accuracy: 0.945296442687747\n"
     ]
    },
    {
     "name": "stderr",
     "output_type": "stream",
     "text": [
      "100%|██████████| 179/179 [01:13<00:00,  2.44it/s]\n"
     ]
    },
    {
     "name": "stdout",
     "output_type": "stream",
     "text": [
      "Epochs: 6 | Train Loss: 0.0004683776966195765             | Train Accuracy: 0.958008990242298\n",
      "\n",
      "Saved the best model with accuracy: 0.958008990242298 to ./models/crf.pth\n",
      "\n"
     ]
    },
    {
     "name": "stderr",
     "output_type": "stream",
     "text": [
      "100%|██████████| 5/5 [00:00<00:00,  6.84it/s]\n"
     ]
    },
    {
     "name": "stdout",
     "output_type": "stream",
     "text": [
      "Epochs: 6 | Validation Loss: 0.14153141975402833 | Validation Accuracy: 0.9480632411067194\n",
      "Saved the best model with validation accuracy: 0.9480632411067194 to ./models/crf_val.pth\n"
     ]
    },
    {
     "name": "stderr",
     "output_type": "stream",
     "text": [
      "100%|██████████| 179/179 [01:16<00:00,  2.35it/s]\n"
     ]
    },
    {
     "name": "stdout",
     "output_type": "stream",
     "text": [
      "Epochs: 7 | Train Loss: 0.0004543478700848293             | Train Accuracy: 0.9593445694750377\n",
      "\n",
      "Saved the best model with accuracy: 0.9593445694750377 to ./models/crf.pth\n",
      "\n"
     ]
    },
    {
     "name": "stderr",
     "output_type": "stream",
     "text": [
      "100%|██████████| 5/5 [00:00<00:00,  6.88it/s]\n"
     ]
    },
    {
     "name": "stdout",
     "output_type": "stream",
     "text": [
      "Epochs: 7 | Validation Loss: 0.14015962779521943 | Validation Accuracy: 0.9490909090909091\n",
      "Saved the best model with validation accuracy: 0.9490909090909091 to ./models/crf_val.pth\n"
     ]
    },
    {
     "name": "stderr",
     "output_type": "stream",
     "text": [
      "100%|██████████| 179/179 [01:16<00:00,  2.34it/s]\n"
     ]
    },
    {
     "name": "stdout",
     "output_type": "stream",
     "text": [
      "Epochs: 8 | Train Loss: 0.00044747963866282025             | Train Accuracy: 0.959779131076138\n",
      "\n",
      "Saved the best model with accuracy: 0.959779131076138 to ./models/crf.pth\n",
      "\n"
     ]
    },
    {
     "name": "stderr",
     "output_type": "stream",
     "text": [
      "100%|██████████| 5/5 [00:00<00:00,  6.09it/s]\n"
     ]
    },
    {
     "name": "stdout",
     "output_type": "stream",
     "text": [
      "Epochs: 8 | Validation Loss: 0.13921998739242553 | Validation Accuracy: 0.9490909090909091\n"
     ]
    },
    {
     "name": "stderr",
     "output_type": "stream",
     "text": [
      "100%|██████████| 179/179 [01:13<00:00,  2.43it/s]\n"
     ]
    },
    {
     "name": "stdout",
     "output_type": "stream",
     "text": [
      "Epochs: 9 | Train Loss: 0.0004381850323431613             | Train Accuracy: 0.9608376274531302\n",
      "\n",
      "Saved the best model with accuracy: 0.9608376274531302 to ./models/crf.pth\n",
      "\n"
     ]
    },
    {
     "name": "stderr",
     "output_type": "stream",
     "text": [
      "100%|██████████| 5/5 [00:00<00:00,  7.27it/s]\n"
     ]
    },
    {
     "name": "stdout",
     "output_type": "stream",
     "text": [
      "Epochs: 9 | Validation Loss: 0.13860681354999543 | Validation Accuracy: 0.9490118577075098\n"
     ]
    },
    {
     "name": "stderr",
     "output_type": "stream",
     "text": [
      "100%|██████████| 179/179 [01:11<00:00,  2.51it/s]\n"
     ]
    },
    {
     "name": "stdout",
     "output_type": "stream",
     "text": [
      "Epochs: 10 | Train Loss: 0.0004343780059652911             | Train Accuracy: 0.9609791589837637\n",
      "\n",
      "Saved the best model with accuracy: 0.9609791589837637 to ./models/crf.pth\n",
      "\n"
     ]
    },
    {
     "name": "stderr",
     "output_type": "stream",
     "text": [
      "100%|██████████| 5/5 [00:00<00:00,  7.55it/s]"
     ]
    },
    {
     "name": "stdout",
     "output_type": "stream",
     "text": [
      "Epochs: 10 | Validation Loss: 0.13853615820407866 | Validation Accuracy: 0.9496442687747035\n",
      "Saved the best model with validation accuracy: 0.9496442687747035 to ./models/crf_val.pth\n"
     ]
    },
    {
     "name": "stderr",
     "output_type": "stream",
     "text": [
      "\n"
     ]
    }
   ],
   "source": [
    "# run_RNN()\n",
    "# run_CNN()\n",
    "# run_CRF()\n",
    "run_CRF_eslam()\n",
    "# run_CNN_eslam()"
   ]
  },
  {
   "cell_type": "code",
   "execution_count": 105,
   "metadata": {},
   "outputs": [
    {
     "name": "stderr",
     "output_type": "stream",
     "text": [
      "'wget' is not recognized as an internal or external command,\n",
      "operable program or batch file.\n",
      "'unzip' is not recognized as an internal or external command,\n",
      "operable program or batch file.\n"
     ]
    }
   ],
   "source": [
    "# Download via terminal commands\n",
    "!wget \"https://bakrianoo.sfo2.digitaloceanspaces.com/aravec/full_grams_cbow_100_twitter.zip\"\n",
    "!unzip \"full_grams_cbow_100_twitter.zip\""
   ]
  },
  {
   "cell_type": "code",
   "execution_count": null,
   "metadata": {},
   "outputs": [],
   "source": []
  }
 ],
 "metadata": {
  "kernelspec": {
   "display_name": "Python 3",
   "language": "python",
   "name": "python3"
  },
  "language_info": {
   "codemirror_mode": {
    "name": "ipython",
    "version": 3
   },
   "file_extension": ".py",
   "mimetype": "text/x-python",
   "name": "python",
   "nbconvert_exporter": "python",
   "pygments_lexer": "ipython3",
   "version": "3.9.2"
  }
 },
 "nbformat": 4,
 "nbformat_minor": 2
}

{
 "cells": [
  {
   "cell_type": "code",
   "execution_count": 34,
   "metadata": {},
   "outputs": [],
   "source": [
    "import re\n"
   ]
  },
  {
   "cell_type": "code",
   "execution_count": 35,
   "metadata": {},
   "outputs": [],
   "source": [
    "\n",
    "\n",
    "MAIN_DIACRITICS = [\"ْ\", \"ّ\", \"ٌ\", \"ٍ\", \"ِ\", \"ً\", \"َ\", \"ُ\"]\n",
    "PUNCTUATIONS = [\".\", \"،\", \":\", \"؛\", \"-\", \"؟\"]\n",
    "\n",
    "ALL_DIACRITICS = {\n",
    "    \"\": \"No Diacritic       \",\n",
    "    \"َ\": \"Fatha              \",\n",
    "    \"ً\": \"Fathatah           \",\n",
    "    \"ُ\": \"Damma              \",\n",
    "    \"ٌ\": \"Dammatan           \",\n",
    "    \"ِ\": \"Kasra              \",\n",
    "    \"ٍ\": \"Kasratan           \",\n",
    "    \"ْ\": \"Sukun              \",\n",
    "    \"ّ\": \"Shaddah            \",\n",
    "    \"َّ\": \"Shaddah + Fatha    \",\n",
    "    \"ًّ\": \"Shaddah + Fathatah \",\n",
    "    \"ُّ\": \"Shaddah + Damma    \",\n",
    "    \"ٌّ\": \"Shaddah + Dammatan \",\n",
    "    \"ِّ\": \"Shaddah + Kasra    \",\n",
    "    \"ٍّ\": \"Shaddah + Kasratan \",\n",
    "}"
   ]
  },
  {
   "cell_type": "code",
   "execution_count": 36,
   "metadata": {},
   "outputs": [
    {
     "name": "stdout",
     "output_type": "stream",
     "text": [
      "['ء', 'آ', 'أ', 'ؤ', 'إ', 'ئ', 'ا', 'ب', 'ة', 'ت', 'ث', 'ج', 'ح', 'خ', 'د', 'ذ', 'ر', 'ز', 'س', 'ش', 'ص', 'ض', 'ط', 'ظ', 'ع', 'غ', 'ف', 'ق', 'ك', 'ل', 'م', 'ن', 'ه', 'و', 'ى', 'ي']\n",
      "36\n"
     ]
    }
   ],
   "source": [
    "'''\n",
    "Getting Basic Arabic Letters based on their unicodes\n",
    "'''\n",
    "basic_arabic_start1 = 0x0621\n",
    "basic_arabic_end1 = 0x063A\n",
    "basic_arabic_start2 = 0x0641\n",
    "basic_arabic_end2 = 0x064A\n",
    "\n",
    "basic_arabic_letters = [chr(code) for code in range(basic_arabic_start1, basic_arabic_end1 + 1)] + \\\n",
    "                       [chr(code) for code in range(basic_arabic_start2, basic_arabic_end2 + 1)]\n",
    "\n",
    "print((basic_arabic_letters))\n",
    "print(len(basic_arabic_letters))"
   ]
  },
  {
   "cell_type": "code",
   "execution_count": 37,
   "metadata": {},
   "outputs": [],
   "source": [
    "VALID_ARABIC_CHARS = basic_arabic_letters + MAIN_DIACRITICS +[' ']"
   ]
  },
  {
   "cell_type": "code",
   "execution_count": 38,
   "metadata": {},
   "outputs": [
    {
     "name": "stdout",
     "output_type": "stream",
     "text": [
      "testamkfad kamdkasmfak m afdmkfmdadkfm kadm mafkdfmakdmfkad mfkadfmdak m\n"
     ]
    }
   ],
   "source": [
    "WHITESPACES_PATTERN = re.compile(\"\\s+\")\n",
    "def combine_whitespaces(text):\n",
    "    return re.sub(WHITESPACES_PATTERN, \" \",text).strip()\n",
    "\n",
    "\n",
    "print(combine_whitespaces(\"testamkfad      kamdkasmfak m  afdmkfmdadkfm kadm             mafkdfmakdmfkad              mfkadfmdak m\").strip())\n"
   ]
  },
  {
   "cell_type": "code",
   "execution_count": 39,
   "metadata": {},
   "outputs": [
    {
     "name": "stdout",
     "output_type": "stream",
     "text": [
      "['احمد', 'محمد', 'محمود']\n"
     ]
    }
   ],
   "source": [
    "def get_valid_arabic_text(text):\n",
    "    text = list(filter(lambda char: char in VALID_ARABIC_CHARS,text))\n",
    "    return combine_whitespaces(''.join(text))\n",
    "\n",
    "print(get_valid_arabic_text(\"احمد محمد محمود\").split())"
   ]
  },
  {
   "cell_type": "code",
   "execution_count": null,
   "metadata": {},
   "outputs": [],
   "source": []
  },
  {
   "cell_type": "code",
   "execution_count": null,
   "metadata": {},
   "outputs": [],
   "source": []
  }
 ],
 "metadata": {
  "kernelspec": {
   "display_name": "Python 3",
   "language": "python",
   "name": "python3"
  },
  "language_info": {
   "codemirror_mode": {
    "name": "ipython",
    "version": 3
   },
   "file_extension": ".py",
   "mimetype": "text/x-python",
   "name": "python",
   "nbconvert_exporter": "python",
   "pygments_lexer": "ipython3",
   "version": "3.10.4"
  }
 },
 "nbformat": 4,
 "nbformat_minor": 2
}

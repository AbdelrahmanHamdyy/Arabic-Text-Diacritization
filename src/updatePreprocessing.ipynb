{
 "cells": [
  {
   "cell_type": "code",
   "execution_count": 2,
   "metadata": {},
   "outputs": [],
   "source": [
    "import re"
   ]
  },
  {
   "cell_type": "code",
   "execution_count": 3,
   "metadata": {},
   "outputs": [],
   "source": [
    "OTHER = ' '\n",
    "DIACRITICS = [OTHER, \"َ\", \"ً\", \"ُ\", \"ٌ\", \"ِ\", \"ٍ\", \"ْ\", \"ّ\", \"َّ\", \"ًّ\", \"ُّ\", \"ٌّ\", \"ِّ\", \"ٍّ\"]\n",
    "VOWEL_REGEX = re.compile('|'.join(DIACRITICS))\n",
    "SENTENCE_WINDOW = 1100\n",
    "\n",
    "MAIN_DIACRITICS = [\"ْ\", \"ّ\", \"ٌ\", \"ٍ\", \"ِ\", \"ً\", \"َ\", \"ُ\"]\n",
    "PUNCTUATIONS = [\".\", \"،\", \":\", \"؛\", \"؟\"]\n",
    "SPLITTING_PATTERN = re.compile(r\"[\\.،:؛!؟]\")"
   ]
  },
  {
   "cell_type": "code",
   "execution_count": 4,
   "metadata": {},
   "outputs": [],
   "source": [
    "def readFile(path):\n",
    "\tsentences = []\n",
    "\twith open(path, 'r', encoding='utf-8') as file:\n",
    "\t\tfor line in file:\n",
    "\t\t\tsentences.append(line.strip())\n",
    "\n",
    "\treturn sentences"
   ]
  },
  {
   "cell_type": "code",
   "execution_count": 5,
   "metadata": {},
   "outputs": [],
   "source": [
    "'''\n",
    "Getting Basic Arabic Letters based on their unicodes\n",
    "'''\n",
    "basic_arabic_start1 = 0x0621\n",
    "basic_arabic_end1 = 0x063A\n",
    "basic_arabic_start2 = 0x0641\n",
    "basic_arabic_end2 = 0x064A\n",
    "\n",
    "basic_arabic_letters = [chr(code) for code in range(basic_arabic_start1, basic_arabic_end1 + 1)] + \\\n",
    "                       [chr(code) for code in range(basic_arabic_start2, basic_arabic_end2 + 1)]\n",
    "\n",
    "VALID_ARABIC_CHARS = basic_arabic_letters + MAIN_DIACRITICS + [' '] + PUNCTUATIONS\n",
    "VALID_ARABIC_CHARS_WITHOUT_PUNCTUATION = basic_arabic_letters + MAIN_DIACRITICS + [' ']"
   ]
  },
  {
   "cell_type": "code",
   "execution_count": 6,
   "metadata": {},
   "outputs": [],
   "source": [
    "char_to_index = {char: i + 1 for i, char in enumerate(basic_arabic_letters)}\n",
    "diacritic_to_index = {diacritic: i for i, diacritic in enumerate(DIACRITICS)}"
   ]
  },
  {
   "cell_type": "code",
   "execution_count": 7,
   "metadata": {},
   "outputs": [],
   "source": [
    "WHITESPACES_PATTERN = re.compile(\"\\s+\")\n",
    "def combine_whitespaces(text):\n",
    "    return re.sub(WHITESPACES_PATTERN, \" \",text).strip()"
   ]
  },
  {
   "cell_type": "code",
   "execution_count": 8,
   "metadata": {},
   "outputs": [],
   "source": [
    "def get_valid_arabic_text(text):\n",
    "    text = list(filter(lambda char: char in VALID_ARABIC_CHARS,text))\n",
    "    return combine_whitespaces(''.join(text))"
   ]
  },
  {
   "cell_type": "code",
   "execution_count": 9,
   "metadata": {},
   "outputs": [],
   "source": [
    "def get_valid_arabic_text_without_punctuation(text):\n",
    "    text = list(filter(lambda char: char in VALID_ARABIC_CHARS_WITHOUT_PUNCTUATION,text))\n",
    "    return combine_whitespaces(''.join(text))"
   ]
  },
  {
   "cell_type": "code",
   "execution_count": 10,
   "metadata": {},
   "outputs": [],
   "source": [
    "def get_sentences_window(sentence):\n",
    "    #Fel bdaya ehna 3ayzeen n2smha 600 char 600 char\n",
    "    startIdx = 0\n",
    "    sentences = []\n",
    "    sentence = get_valid_arabic_text_without_punctuation(sentence)\n",
    "    while(startIdx < len(sentence)):\n",
    "        finalIdx = startIdx + SENTENCE_WINDOW if startIdx + SENTENCE_WINDOW < len(sentence) else -1\n",
    "        pre_modified_sentence = sentence[startIdx:finalIdx]\n",
    "        startIdx+=SENTENCE_WINDOW\n",
    "\n",
    "        while(len(pre_modified_sentence) > 0 and pre_modified_sentence[-1]!=' '):\n",
    "            pre_modified_sentence = pre_modified_sentence[0:-2]\n",
    "            startIdx-=1\n",
    "        sentences.append(pre_modified_sentence)\n",
    "    return sentences\n"
   ]
  },
  {
   "cell_type": "code",
   "execution_count": 11,
   "metadata": {},
   "outputs": [],
   "source": [
    "def get_splitted_sentences(sentence):\n",
    "    sentence = get_valid_arabic_text(sentence)\n",
    "    #return [item.strip() for item in re.split(SPLITTING_PATTERN, sentence)]\n",
    "    return get_sentences_window(sentence)"
   ]
  },
  {
   "cell_type": "code",
   "execution_count": 12,
   "metadata": {},
   "outputs": [],
   "source": [
    "def separate_words_and_diacritics(sentence):\n",
    "    sentences = get_splitted_sentences(sentence)\n",
    "    \n",
    "    final_chars = []\n",
    "    final_diacritics = []\n",
    "\n",
    "    for sentence in sentences:\n",
    "        output_chars = []\n",
    "        output_diacritics = []\n",
    "        for word in sentence.split():\n",
    "            letters = []\n",
    "            diacritics = []\n",
    "            prev_char = word[0]\n",
    "            for idx, char in enumerate(word[1:]):\n",
    "                try:\n",
    "                    next_char = word[idx + 1 + 1]\n",
    "                except IndexError:\n",
    "                    next_char = ''\n",
    "                if char in DIACRITICS:\n",
    "                    if prev_char not in DIACRITICS:\n",
    "                        letters.append(prev_char)\n",
    "                        if next_char == '' or next_char not in DIACRITICS:\n",
    "                            diacritics.append(char)\n",
    "                        elif next_char in DIACRITICS:\n",
    "                            diacritics.append(char + next_char)\n",
    "                else:\n",
    "                    if prev_char not in DIACRITICS:\n",
    "                        letters.append(prev_char)\n",
    "                        diacritics.append(OTHER)\n",
    "                    if next_char == '':\n",
    "                        letters.append(char)\n",
    "                        diacritics.append(OTHER)\n",
    "                prev_char = char\n",
    "\n",
    "            if len(letters):\n",
    "                output_chars.append(letters)\n",
    "                output_diacritics.append(diacritics)\n",
    "\n",
    "        final_chars.append([char for word in output_chars for char in word])\n",
    "        final_diacritics.append([diacritic for word in output_diacritics for diacritic in word])\n",
    "\n",
    "    final_chars = [item for item in final_chars if len(item)]\n",
    "    final_diacritics = [item for item in final_diacritics if len(item)]\n",
    "    return final_chars, final_diacritics"
   ]
  },
  {
   "cell_type": "code",
   "execution_count": 15,
   "metadata": {},
   "outputs": [
    {
     "name": "stdout",
     "output_type": "stream",
     "text": [
      "253\n",
      "['ا', 'ب', 'ن', 'ع', 'ر', 'ف', 'ة', 'ق', 'و', 'ل', 'ه', 'ب', 'ل', 'ف', 'ظ', 'ي', 'ق', 'ت', 'ض', 'ي', 'ه', 'ك', 'إ', 'ن', 'ك', 'ا', 'ر', 'غ', 'ي', 'ر', 'ح', 'د', 'ي', 'ث', 'ب', 'ا', 'ل', 'إ', 'س', 'ل', 'ا', 'م', 'و', 'ج', 'و', 'ب', 'م', 'ا', 'ع', 'ل', 'م', 'و', 'ج', 'و', 'ب', 'ه', 'م', 'ن', 'ا', 'ل', 'د', 'ي', 'ن', 'ض', 'ر', 'و', 'ر', 'ة', 'ك', 'إ', 'ل', 'ق', 'ا', 'ء', 'م', 'ص', 'ح', 'ف', 'ب', 'ق', 'ذ', 'ر', 'و', 'ش', 'د', 'ز', 'ن', 'ا', 'ر', 'ا', 'ب', 'ن', 'ع', 'ر', 'ف', 'ة', 'ق', 'و', 'ل', 'ا', 'ب', 'ن', 'ش', 'ا', 'س', 'أ', 'و', 'ب', 'ف', 'ع', 'ل', 'ي', 'ت', 'ض', 'م', 'ن', 'ه', 'ه', 'و', 'ك', 'ل', 'ب', 'س', 'ا', 'ل', 'ز', 'ن', 'ا', 'ر', 'و', 'إ', 'ل', 'ق', 'ا', 'ء', 'ا', 'ل', 'م', 'ص', 'ح', 'ف', 'ف', 'ي', 'ص', 'ر', 'ي', 'ح', 'ا', 'ل', 'ن', 'ج', 'ا', 'س', 'ة', 'و', 'ا', 'ل', 'س', 'ج', 'و', 'د', 'ل', 'ل', 'ص', 'ن', 'م', 'و', 'ن', 'ح', 'و', 'ذ', 'ل', 'ك', 'و', 'س', 'ح', 'ر', 'م', 'ح', 'م', 'د', 'ق', 'و', 'ل', 'م', 'ا', 'ل', 'ك', 'و', 'أ', 'ص', 'ح', 'ا', 'ب', 'ه', 'أ', 'ن', 'ا', 'ل', 'س', 'ا', 'ح', 'ر', 'ك', 'ا', 'ف', 'ر', 'ب', 'ا', 'ل', 'ل', 'ه', 'ت', 'ع', 'ا', 'ل', 'ى', 'ق', 'ا', 'ل', 'م', 'ا', 'ل', 'ك', 'ه', 'و', 'ك', 'ا', 'ل', 'ز', 'ن', 'د', 'ي', 'ق', 'إ', 'ذ', 'ا', 'ع', 'م', 'ل', 'ا', 'ل', 'س', 'ح', 'ر', 'ب', 'ن', 'ف', 'س', 'ه', 'ق', 'ت', 'ل']\n",
      "----------\n"
     ]
    }
   ],
   "source": [
    "# sentence = (\"( قَوْلُهُ لِعَدَمِ مَا تَتَعَلَّقُ إلَخْ ) أَيْ الْوَصِيَّةُ ( قَوْلُهُ مَا مَرَّ ) أَيْ قُبَيْلَ قَوْلِ الْمَتْنِ لَغَتْ وَلَوْ اقْتَصَرَ عَلَى أَوْصَيْت لَهُ بِشَاةٍ أَوْ أَعْطُوهُ شَاةً وَلَا غَنَمَ لَهُ عِنْدَ الْمَوْتِ هَلْ تَبْطُلُ الْوَصِيَّةُ أَوْ يُشْتَرَى لَهُ شَاةٌ وَيُؤْخَذُ مِنْ قَوْلِهِ الْآتِي كَمَا لَوْ لَمْ يَقُلْ مِنْ مَالِي وَلَا مِنْ غَنَمِي أَنَّهَا لَا تَبْطُلُ ، وَعِبَارَةُ الْكَنْزِ وَلَوْ لَمْ يَقُلْ مِنْ مَالِي وَلَا مِنْ غَنَمِي لَمْ يَتَعَيَّنْ غَنَمُهُ إنْ كَانَتْ انْتَهَتْ ا ه سم ( قَوْلُهُ فَيُعْطَى وَاحِدَةً مِنْهَا إلَخْ ) كَمَا لَوْ كَانَتْ مَوْجُودَةً عِنْدَ الْوَصِيَّةِ وَالْمَوْتِ ، وَلَا يَجُوزُ أَنْ يُعْطَى وَاحِدَةً مِنْ غَيْرِ غَنَمِهِ فِي الصُّورَتَيْنِ وَإِنْ تَرَاضَيَا ؛ لِأَنَّهُ صُلْحٌ عَلَى مَجْهُولٍ مُغْنِي وَنِهَايَةٌ قَالَ ع ش قَوْلُهُ وَاحِدَةً مِنْهَا أَيْ كَامِلَةً ، وَلَا يَجُوزُ أَنْ يُعْطَى نِصْفَيْنِ مِنْ شَاتَيْنِ ؛ لِأَنَّهُ لَا يُسَمَّى شَاةً وَقَوْلُهُ وَلَا يَجُوزُ أَنْ يُعْطَى وَاحِدَةً مِنْ غَيْرِ غَنَمِهِ وَيَنْبَغِي أَنْ يُقَالَ مِثْلُ ذَلِكَ فِي الْأَرِقَّاءِ ا ه .\")\n",
    "# sentence = \"قَوْلُهُ : ( أَوْ قَطَعَ الْأَوَّلُ يَدَهُ إلَخْ ) قَالَ الزَّرْكَشِيُّ( 14 / 123 )\"\n",
    "sentence = \"ابْنُ عَرَفَةَ : قَوْلُهُ : بِلَفْظٍ يَقْتَضِيه كَإِنْكَارِ غَيْرِ حَدِيثٍ بِالْإِسْلَامِ وُجُوبَ مَا عُلِمَ وُجُوبُهُ مِنْ الدِّينِ ضَرُورَةً ( كَإِلْقَاءِ مُصْحَفٍ بِقَذَرٍ وَشَدِّ زُنَّارٍ ) ابْنُ عَرَفَةَ : قَوْلُ ابْنِ شَاسٍ : أَوْ بِفِعْلٍ يَتَضَمَّنُهُ هُوَ كَلُبْسِ الزُّنَّارِ وَإِلْقَاءِ الْمُصْحَفِ فِي صَرِيحِ النَّجَاسَةِ وَالسُّجُودِ لِلصَّنَمِ وَنَحْوِ ذَلِكَ ( وَسِحْرٍ ) مُحَمَّدٌ : قَوْلُ مَالِكٍ وَأَصْحَابِهِ أَنَّ السَّاحِرَ كَافِرٌ بِاَللَّهِ تَعَالَى قَالَ مَالِكٌ : هُوَ كَالزِّنْدِيقِ إذَا عَمِلَ السِّحْرَ بِنَفْسِهِ قُتِلَ وَلَمْ يُسْتَتَبْ .\"\n",
    "char, dia = separate_words_and_diacritics(sentence)\n",
    "# sentences = get_splitted_sentences(sentence)\n",
    "\n",
    "# for splitted_sentence in sentences:\n",
    "#     print(splitted_sentence)\n",
    "#     print(len(splitted_sentence))\n",
    "#     print(\"************\")\n",
    "for i in range(len(char)):\n",
    "\tprint(len(char[i]))\n",
    "\tprint(char[i])\n",
    "\tprint(\"-\"*10)"
   ]
  },
  {
   "cell_type": "code",
   "execution_count": null,
   "metadata": {},
   "outputs": [],
   "source": []
  }
 ],
 "metadata": {
  "kernelspec": {
   "display_name": "Python 3",
   "language": "python",
   "name": "python3"
  },
  "language_info": {
   "codemirror_mode": {
    "name": "ipython",
    "version": 3
   },
   "file_extension": ".py",
   "mimetype": "text/x-python",
   "name": "python",
   "nbconvert_exporter": "python",
   "pygments_lexer": "ipython3",
   "version": "3.11.5"
  }
 },
 "nbformat": 4,
 "nbformat_minor": 2
}

{
 "cells": [
  {
   "cell_type": "code",
   "execution_count": 1,
   "metadata": {},
   "outputs": [
    {
     "name": "stderr",
     "output_type": "stream",
     "text": [
      "c:\\Python39\\lib\\site-packages\\tqdm\\auto.py:21: TqdmWarning: IProgress not found. Please update jupyter and ipywidgets. See https://ipywidgets.readthedocs.io/en/stable/user_install.html\n",
      "  from .autonotebook import tqdm as notebook_tqdm\n"
     ]
    },
    {
     "name": "stdout",
     "output_type": "stream",
     "text": [
      "[['ق', 'و', 'ل', 'ه'], ['ل', 'ع', 'د', 'م'], ['م', 'ا'], ['ت', 'ت', 'ع', 'ل', 'ق'], ['إ', 'ل', 'خ'], ['أ', 'ي'], ['ا', 'ل', 'و', 'ص', 'ي', 'ة'], ['ق', 'و', 'ل', 'ه'], ['م', 'ا'], ['م', 'ر'], ['أ', 'ي'], ['ق', 'ب', 'ي', 'ل'], ['ق', 'و', 'ل'], ['ا', 'ل', 'م', 'ت', 'ن'], ['ل', 'غ', 'ت'], ['و', 'ل', 'و'], ['ا', 'ق', 'ت', 'ص', 'ر'], ['ع', 'ل', 'ى'], ['أ', 'و', 'ص', 'ي', 'ت'], ['ل', 'ه'], ['ب', 'ش', 'ا', 'ة'], ['أ', 'و'], ['أ', 'ع', 'ط', 'و', 'ه'], ['ش', 'ا', 'ة'], ['و', 'ل', 'ا'], ['غ', 'ن', 'م'], ['ل', 'ه'], ['ع', 'ن', 'د'], ['ا', 'ل', 'م', 'و', 'ت'], ['ه', 'ل'], ['ت', 'ب', 'ط', 'ل'], ['ا', 'ل', 'و', 'ص', 'ي', 'ة'], ['أ', 'و'], ['ي', 'ش', 'ت', 'ر', 'ى'], ['ل', 'ه'], ['ش', 'ا', 'ة'], ['و', 'ي', 'ؤ', 'خ', 'ذ'], ['م', 'ن'], ['ق', 'و', 'ل', 'ه'], ['ا', 'ل', 'آ', 'ت', 'ي'], ['ك', 'م', 'ا'], ['ل', 'و'], ['ل', 'م'], ['ي', 'ق', 'ل'], ['م', 'ن'], ['م', 'ا', 'ل', 'ي'], ['و', 'ل', 'ا'], ['م', 'ن'], ['غ', 'ن', 'م', 'ي'], ['أ', 'ن', 'ه', 'ا'], ['ل', 'ا'], ['ت', 'ب', 'ط', 'ل'], ['و', 'ع', 'ب', 'ا', 'ر', 'ة'], ['ا', 'ل', 'ك', 'ن', 'ز'], ['و', 'ل', 'و'], ['ل', 'م'], ['ي', 'ق', 'ل'], ['م', 'ن'], ['م', 'ا', 'ل', 'ي'], ['و', 'ل', 'ا'], ['م', 'ن'], ['غ', 'ن', 'م', 'ي'], ['ل', 'م'], ['ي', 'ت', 'ع', 'ي', 'ن'], ['غ', 'ن', 'م', 'ه'], ['إ', 'ن'], ['ك', 'ا', 'ن', 'ت'], ['ا', 'ن', 'ت', 'ه', 'ت'], [], [], ['س', 'م'], ['ق', 'و', 'ل', 'ه'], ['ف', 'ي', 'ع', 'ط', 'ى'], ['و', 'ا', 'ح', 'د', 'ة'], ['م', 'ن', 'ه', 'ا'], ['إ', 'ل', 'خ'], ['ك', 'م', 'ا'], ['ل', 'و'], ['ك', 'ا', 'ن', 'ت'], ['م', 'و', 'ج', 'و', 'د', 'ة'], ['ع', 'ن', 'د'], ['ا', 'ل', 'و', 'ص', 'ي', 'ة'], ['و', 'ا', 'ل', 'م', 'و', 'ت'], ['و', 'ل', 'ا'], ['ي', 'ج', 'و', 'ز'], ['أ', 'ن'], ['ي', 'ع', 'ط', 'ى'], ['و', 'ا', 'ح', 'د', 'ة'], ['م', 'ن'], ['غ', 'ي', 'ر'], ['غ', 'ن', 'م', 'ه'], ['ف', 'ي'], ['ا', 'ل', 'ص', 'و', 'ر', 'ت', 'ي', 'ن'], ['و', 'إ', 'ن'], ['ت', 'ر', 'ا', 'ض', 'ي', 'ا'], ['ل', 'أ', 'ن', 'ه'], ['ص', 'ل', 'ح'], ['ع', 'ل', 'ى'], ['م', 'ج', 'ه', 'و', 'ل'], ['م', 'غ', 'ن', 'ي'], ['و', 'ن', 'ه', 'ا', 'ي', 'ة'], ['ق', 'ا', 'ل'], [], [], ['ق', 'و', 'ل', 'ه'], ['و', 'ا', 'ح', 'د', 'ة'], ['م', 'ن', 'ه', 'ا'], ['أ', 'ي'], ['ك', 'ا', 'م', 'ل', 'ة'], ['و', 'ل', 'ا'], ['ي', 'ج', 'و', 'ز'], ['أ', 'ن'], ['ي', 'ع', 'ط', 'ى'], ['ن', 'ص', 'ف', 'ي', 'ن'], ['م', 'ن'], ['ش', 'ا', 'ت', 'ي', 'ن'], ['ل', 'أ', 'ن', 'ه'], ['ل', 'ا'], ['ي', 'س', 'م', 'ى'], ['ش', 'ا', 'ة'], ['و', 'ق', 'و', 'ل', 'ه'], ['و', 'ل', 'ا'], ['ي', 'ج', 'و', 'ز'], ['أ', 'ن'], ['ي', 'ع', 'ط', 'ى'], ['و', 'ا', 'ح', 'د', 'ة'], ['م', 'ن'], ['غ', 'ي', 'ر'], ['غ', 'ن', 'م', 'ه'], ['و', 'ي', 'ن', 'ب', 'غ', 'ي'], ['أ', 'ن'], ['ي', 'ق', 'ا', 'ل'], ['م', 'ث', 'ل'], ['ذ', 'ل', 'ك'], ['ف', 'ي'], ['ا', 'ل', 'أ', 'ر', 'ق', 'ا', 'ء'], [], []]\n",
      "[['َ', 'ْ', 'ُ', 'ُ'], ['ِ', 'َ', 'َ', 'ِ'], ['َ', ' '], ['َ', 'َ', 'َ', 'َّ', 'ُ'], [' ', 'َ', 'ْ'], ['َ', 'ْ'], [' ', 'ْ', 'َ', 'ِ', 'َّ', 'ُ'], ['َ', 'ْ', 'ُ', 'ُ'], ['َ', ' '], ['َ', 'َّ'], ['َ', 'ْ'], ['ُ', 'َ', 'ْ', 'َ'], ['َ', 'ْ', 'ِ'], [' ', 'ْ', 'َ', 'ْ', 'ِ'], ['َ', 'َ', 'ْ'], ['َ', 'َ', 'ْ'], [' ', 'ْ', 'َ', 'َ', 'َ'], ['َ', 'َ', ' '], ['َ', 'ْ', 'َ', 'ْ', ' '], ['َ', 'ُ'], ['ِ', 'َ', ' ', 'ٍ'], ['َ', 'ْ'], ['َ', 'ْ', 'ُ', ' ', 'ُ'], ['َ', ' ', 'ً'], ['َ', 'َ', ' '], ['َ', 'َ', 'َ'], ['َ', 'ُ'], ['ِ', 'ْ', 'َ'], [' ', 'ْ', 'َ', 'ْ', 'ِ'], ['َ', 'ْ'], ['َ', 'ْ', 'ُ', 'ُ'], [' ', 'ْ', 'َ', 'ِ', 'َّ', 'ُ'], ['َ', 'ْ'], ['ُ', 'ْ', 'َ', 'َ', ' '], ['َ', 'ُ'], ['َ', ' ', 'ٌ'], ['َ', 'ُ', 'ْ', 'َ', 'ُ'], ['ِ', 'ْ'], ['َ', 'ْ', 'ِ', 'ِ'], [' ', 'ْ', ' ', 'ِ', ' '], ['َ', 'َ', ' '], ['َ', 'ْ'], ['َ', 'ْ'], ['َ', 'ُ', 'ْ'], ['ِ', 'ْ'], ['َ', ' ', 'ِ', ' '], ['َ', 'َ', ' '], ['ِ', 'ْ'], ['َ', 'َ', 'ِ', ' '], ['َ', 'َّ', 'َ', ' '], ['َ', ' '], ['َ', 'ْ', 'ُ', 'ُ'], ['َ', 'ِ', 'َ', ' ', 'َ', 'ُ'], [' ', 'ْ', 'َ', 'ْ', 'ِ'], ['َ', 'َ', 'ْ'], ['َ', 'ْ'], ['َ', 'ُ', 'ْ'], ['ِ', 'ْ'], ['َ', ' ', 'ِ', ' '], ['َ', 'َ', ' '], ['ِ', 'ْ'], ['َ', 'َ', 'ِ', ' '], ['َ', 'ْ'], ['َ', 'َ', 'َ', 'َّ', 'ْ'], ['َ', 'َ', 'ُ', 'ُ'], [' ', 'ْ'], ['َ', ' ', 'َ', 'ْ'], [' ', 'ْ', 'َ', 'َ', 'ْ'], [], [], [' ', ' '], ['َ', 'ْ', 'ُ', 'ُ'], ['َ', 'ُ', 'ْ', 'َ', ' '], ['َ', ' ', 'ِ', 'َ', 'ً'], ['ِ', 'ْ', 'َ', ' '], [' ', 'َ', 'ْ'], ['َ', 'َ', ' '], ['َ', 'ْ'], ['َ', ' ', 'َ', 'ْ'], ['َ', 'ْ', 'ُ', ' ', 'َ', 'ً'], ['ِ', 'ْ', 'َ'], [' ', 'ْ', 'َ', 'ِ', 'َّ', 'ِ'], ['َ', ' ', 'ْ', 'َ', 'ْ', 'ِ'], ['َ', 'َ', ' '], ['َ', 'ُ', ' ', 'ُ'], ['َ', 'ْ'], ['ُ', 'ْ', 'َ', ' '], ['َ', ' ', 'ِ', 'َ', 'ً'], ['ِ', 'ْ'], ['َ', 'ْ', 'ِ'], ['َ', 'َ', 'ِ', 'ِ'], ['ِ', ' '], [' ', ' ', 'ُّ', ' ', 'َ', 'َ', 'ْ', 'ِ'], ['َ', 'ِ', 'ْ'], ['َ', 'َ', ' ', 'َ', 'َ', ' '], ['ِ', 'َ', 'َّ', 'ُ'], ['ُ', 'ْ', 'ٌ'], ['َ', 'َ', ' '], ['َ', 'ْ', 'ُ', ' ', 'ٍ'], ['ُ', 'ْ', 'ِ', ' '], ['َ', 'ِ', 'َ', ' ', 'َ', 'ٌ'], ['َ', ' ', 'َ'], [], [], ['َ', 'ْ', 'ُ', 'ُ'], ['َ', ' ', 'ِ', 'َ', 'ً'], ['ِ', 'ْ', 'َ', ' '], ['َ', 'ْ'], ['َ', ' ', 'ِ', 'َ', 'ً'], ['َ', 'َ', ' '], ['َ', 'ُ', ' ', 'ُ'], ['َ', 'ْ'], ['ُ', 'ْ', 'َ', ' '], ['ِ', 'ْ', 'َ', 'ْ', 'ِ'], ['ِ', 'ْ'], ['َ', ' ', 'َ', 'ْ', 'ِ'], ['ِ', 'َ', 'َّ', 'ُ'], ['َ', ' '], ['ُ', 'َ', 'َّ', ' '], ['َ', ' ', 'ً'], ['َ', 'َ', 'ْ', 'ُ', 'ُ'], ['َ', 'َ', ' '], ['َ', 'ُ', ' ', 'ُ'], ['َ', 'ْ'], ['ُ', 'ْ', 'َ', ' '], ['َ', ' ', 'ِ', 'َ', 'ً'], ['ِ', 'ْ'], ['َ', 'ْ', 'ِ'], ['َ', 'َ', 'ِ', 'ِ'], ['َ', 'َ', 'ْ', 'َ', 'ِ', ' '], ['َ', 'ْ'], ['ُ', 'َ', ' ', 'َ'], ['ِ', 'ْ', 'ُ'], ['َ', 'ِ', 'َ'], ['ِ', ' '], [' ', 'ْ', 'َ', 'ِ', 'َّ', ' ', 'ِ'], [], []]\n"
     ]
    }
   ],
   "source": [
    "import torch\n",
    "from torch.utils.data import DataLoader, TensorDataset, RandomSampler, SequentialSampler\n",
    "import torch.nn.functional as F\n",
    "from tqdm import tqdm\n",
    "import torch.nn as nn\n",
    "from torch.nn.utils.rnn import pad_sequence\n",
    "from TorchCRF import CRF\n",
    "from torch.optim.lr_scheduler import StepLR\n",
    "from sklearn.model_selection import train_test_split\n",
    "import gensim\n",
    "import numpy as np\n",
    "from utilities import *\n",
    "import time\n",
    "\n",
    "# %run train.ipynb\n",
    "%run updatePreprocessing.ipynb"
   ]
  },
  {
   "cell_type": "code",
   "execution_count": 2,
   "metadata": {},
   "outputs": [],
   "source": [
    "EMBEDDING_DIM = 300\n",
    "HIDDEN_SIZE = 512\n",
    "NUM_LAYERS = 2\n",
    "NUM_EPOCHS = 10\n",
    "LEARNING_RATE = 0.001\n",
    "BATCH_SIZE = 100\n",
    "VOCAB_SIZE = len(basic_arabic_letters) + 1\n",
    "LABELS_SIZE = len(DIACRITICS)\n",
    "PAD = 15\n",
    "WINDOW_SIZE_BEFORE = 10\n",
    "WINDOW_SIZE_AFTER = 3\n",
    "CONTEXTUAL_EMBEDDING_DIM=100\n",
    "\n",
    "TRAIN_PATH = \"./dataset/train.txt\"\n",
    "VAL_PATH = \"./dataset/val.txt\"\n",
    "TEST_PATH = \"./dataset/test.txt\"\n",
    "LSTM_PATH=\"./models/lstm.pth\"\n",
    "RNN_PATH=\"./models/rnn.pth\"\n",
    "CNN_PATH = \"./models/cnn.pth\"\n",
    "CRF_PATH = \"./models/crf.pth\""
   ]
  },
  {
   "cell_type": "code",
   "execution_count": 3,
   "metadata": {},
   "outputs": [],
   "source": [
    "class CNN(nn.Module):\n",
    "    def __init__(self, vocab_size=VOCAB_SIZE, num_classes=LABELS_SIZE, embedding_dim=EMBEDDING_DIM, hidden_size=HIDDEN_SIZE, num_layers=NUM_LAYERS\n",
    "                , pretrained_embedding=None, freeze_embedding=False,contextual_embedding_dim=CONTEXTUAL_EMBEDDING_DIM):\n",
    "        super(CNN, self).__init__()\n",
    "        \n",
    "        # Embedding layer\n",
    "        if pretrained_embedding is not None:\n",
    "            self.embedding  = nn.Embedding.from_pretrained(pretrained_embedding, freeze=freeze_embedding)\n",
    "        else:\n",
    "            self.embedding =nn.Embedding(vocab_size, embedding_dim)\n",
    "        \n",
    "        # Convolutional Layer\n",
    "        self.conv1d = nn.Conv1d(contextual_embedding_dim, 256, kernel_size=3, padding=1).double()\n",
    "        \n",
    "        # LSTM Layer\n",
    "        self.lstm = nn.LSTM(256, hidden_size, num_layers=num_layers, batch_first=True, bidirectional=True).double()\n",
    "        \n",
    "        # Linear Layer\n",
    "        self.linear = nn.Linear(2 * hidden_size, num_classes).float()\n",
    "\n",
    "    def forward(self, sentences):\n",
    "        embeddings = self.embedding(sentences)\n",
    "        # if self.contextual_embedding is not None:\n",
    "        #     embeddings = torch.cat([embeddings, self.contextual_embedding(sentences)], dim=2)  # Concatenate embeddings\n",
    "        # Convolutional Layer\n",
    "        conv_out = self.conv1d(embeddings.permute(0, 2, 1))\n",
    "        conv_out = F.relu(conv_out)\n",
    "        \n",
    "        # LSTM Layer\n",
    "        lstm_out, _ = self.lstm(conv_out.permute(0, 2, 1))\n",
    "        \n",
    "        # Linear Layer\n",
    "        output = self.linear(lstm_out.float())\n",
    "\n",
    "        return output"
   ]
  },
  {
   "cell_type": "code",
   "execution_count": 4,
   "metadata": {},
   "outputs": [],
   "source": [
    "t_model = gensim.models.Word2Vec.load('models/full_grams_cbow_100_twitter.mdl')\n",
    "embedding_dim = t_model.vector_size\n"
   ]
  },
  {
   "cell_type": "code",
   "execution_count": 5,
   "metadata": {},
   "outputs": [],
   "source": [
    "def validate(model, val_dataset, val_labels, batch_size=BATCH_SIZE):\n",
    "    \"\"\"\n",
    "    This function implements the validation logic\n",
    "    Inputs:\n",
    "    - model: the trained model\n",
    "    - val_dataset: the validation set\n",
    "    - batch_size: integer representing the number of examples per step\n",
    "    \"\"\"\n",
    "\n",
    "    # (1) create the dataloader for the validation set (make shuffle=False)\n",
    "    tensor_val_dataset = TensorDataset(val_dataset, val_labels)\n",
    "    val_dataloader = DataLoader(tensor_val_dataset, batch_size=batch_size, shuffle=False)\n",
    "\n",
    "    # GPU configuration\n",
    "    use_cuda = torch.cuda.is_available()\n",
    "    device = torch.device(\"cuda\" if use_cuda else \"cpu\")\n",
    "    if use_cuda:\n",
    "        model = model.cuda()\n",
    "\n",
    "    total_acc_val = 0\n",
    "\n",
    "    with torch.no_grad():\n",
    "        for val_input, val_label in tqdm(val_dataloader):\n",
    "\n",
    "            # Move the validation input to the device\n",
    "            val_label = val_label.to(device)\n",
    "\n",
    "            # Move the validation label to the device\n",
    "            val_input = val_input.to(device)\n",
    "\n",
    "            # Do the forward pass\n",
    "            output = model(val_input).float()\n",
    "\n",
    "            # Calculate the batch accuracy\n",
    "            correct_predictions = (output.argmax(dim=2) == val_label)\n",
    "            acc = correct_predictions.sum().item()\n",
    "            total_acc_val += acc\n",
    "\n",
    "    # Calculate metrics for the entire validation set\n",
    "    val_accuracy = total_acc_val / (len(val_dataset) * len(val_dataset[0]))\n",
    "\n",
    "    print(f'Validation Accuracy: {val_accuracy} | DER: {1 - val_accuracy}\\n')"
   ]
  },
  {
   "cell_type": "code",
   "execution_count": 6,
   "metadata": {},
   "outputs": [],
   "source": [
    "aravec_embeddings_val_test = []\n",
    "\n",
    "valid_corpus = readFile(VAL_PATH)\n",
    "\n",
    "X_val = []\n",
    "y_val = []\n",
    "\n",
    "for sentence in valid_corpus:\n",
    "\t# Clean each sentence in the corpus\n",
    "\t# Get the char list for each word in the sentence and its corresponding diacritics\n",
    "  char_list, diacritics_list = separate_words_and_diacritics(sentence.strip())\n",
    "  words = [''.join(sublist) for sublist in char_list]\n",
    "  windows=get_all_windows(' '.join(words), WINDOW_SIZE_BEFORE, WINDOW_SIZE_AFTER)\n",
    "  for window in windows:\n",
    "    embeddings = [t_model.wv[clean_str(word)] if clean_str(word) in t_model.wv else np.zeros(embedding_dim) for word in window]\n",
    "    aravec_embeddings_val_test.append(np.mean(embeddings, axis=0))\n",
    "  X_val.append(char_list)\n",
    "  y_val.append(diacritics_list)\n",
    "\n",
    "X_val_padded = [torch.tensor([char_to_index[char] for char in word]) for sentence in X_val for word in sentence ]\n",
    "X_val_padded = pad_sequence(X_val_padded, batch_first=True)\n",
    "\n",
    "y_val_padded = [torch.tensor([diacritic_to_index[char] for char in word]) for sentence in y_val for word in sentence ]\n",
    "y_val_padded = pad_sequence(y_val_padded, batch_first=True, padding_value=PAD)\n"
   ]
  },
  {
   "cell_type": "code",
   "execution_count": 7,
   "metadata": {},
   "outputs": [],
   "source": [
    "aravec_embeddings_train = []\n",
    "corpus=  readFile(TRAIN_PATH)\n",
    "\n",
    "x_train = []\n",
    "y_train = []\n",
    "\n",
    "for sentence in corpus:\n",
    "\t# Clean each sentence in the corpus\n",
    "\t# Get the char list for each word in the sentence and its corresponding diacritics\n",
    "\tchar_list, diacritics_list = separate_words_and_diacritics(sentence.strip())\n",
    "\twords = [''.join(sublist) for sublist in char_list]\n",
    "\twindows=get_all_windows(' '.join(words), WINDOW_SIZE_BEFORE, WINDOW_SIZE_AFTER)\n",
    "\tfor window in windows:\n",
    "\t\tembeddings = [t_model.wv[clean_str(word)] if clean_str(word) in t_model.wv else np.zeros(embedding_dim) for word in window]\n",
    "\t\taravec_embeddings_train.append(np.mean(embeddings, axis=0))\n",
    "\tx_train.append(char_list)\n",
    "\ty_train.append(diacritics_list)\n",
    "\n",
    "X_train_padded = [torch.tensor([char_to_index[char] for char in word]) for sentence in x_train for word in sentence]\n",
    "X_train_padded = pad_sequence(X_train_padded, batch_first=True)\n",
    "\n",
    "y_train_padded = [torch.tensor([diacritic_to_index[char] for char in word]) for sentence in y_train for word in sentence]\n",
    "y_train_padded = pad_sequence(y_train_padded, batch_first=True, padding_value=PAD)"
   ]
  },
  {
   "cell_type": "code",
   "execution_count": null,
   "metadata": {},
   "outputs": [],
   "source": []
  },
  {
   "cell_type": "code",
   "execution_count": 8,
   "metadata": {},
   "outputs": [
    {
     "name": "stderr",
     "output_type": "stream",
     "text": [
      "C:\\Users\\Eslam Ashraf\\AppData\\Local\\Temp\\ipykernel_18568\\2146167760.py:2: UserWarning: Creating a tensor from a list of numpy.ndarrays is extremely slow. Please consider converting the list to a single numpy.ndarray with numpy.array() before converting to a tensor. (Triggered internally at C:\\actions-runner\\_work\\pytorch\\pytorch\\builder\\windows\\pytorch\\torch\\csrc\\utils\\tensor_new.cpp:233.)\n",
      "  loaded_CNN_model = CNN(pretrained_embedding=torch.tensor(aravec_embeddings_val_test+aravec_embeddings_train), freeze_embedding=True)\n",
      "100%|██████████| 1061/1061 [04:40<00:00,  3.78it/s]"
     ]
    },
    {
     "name": "stdout",
     "output_type": "stream",
     "text": [
      "Validation Accuracy: 0.32879897895596705 | DER: 0.6712010210440329\n",
      "\n"
     ]
    },
    {
     "name": "stderr",
     "output_type": "stream",
     "text": [
      "\n"
     ]
    }
   ],
   "source": [
    "# Load the saved RNN model for inference\n",
    "loaded_CNN_model = CNN(pretrained_embedding=torch.tensor(aravec_embeddings_val_test+aravec_embeddings_train), freeze_embedding=True)\n",
    "loaded_CNN_model.load_state_dict(torch.load(\"./models/cnn.pth\", map_location=torch.device('cpu')))\n",
    "loaded_CNN_model.eval()\n",
    "validate(loaded_CNN_model, X_val_padded, y_val_padded)"
   ]
  },
  {
   "cell_type": "code",
   "execution_count": null,
   "metadata": {},
   "outputs": [],
   "source": []
  }
 ],
 "metadata": {
  "kernelspec": {
   "display_name": "Python 3",
   "language": "python",
   "name": "python3"
  },
  "language_info": {
   "codemirror_mode": {
    "name": "ipython",
    "version": 3
   },
   "file_extension": ".py",
   "mimetype": "text/x-python",
   "name": "python",
   "nbconvert_exporter": "python",
   "pygments_lexer": "ipython3",
   "version": "3.9.2"
  }
 },
 "nbformat": 4,
 "nbformat_minor": 2
}

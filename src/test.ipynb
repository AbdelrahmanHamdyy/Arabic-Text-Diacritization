{
 "cells": [
  {
   "cell_type": "code",
   "execution_count": 1,
   "metadata": {},
   "outputs": [],
   "source": [
    "import gensim\n",
    "import re\n",
    "import numpy as np\n",
    "from nltk import ngrams\n",
    "\n",
    "\n",
    "# ============================   \n",
    "# ====== N-Grams Models ======\n",
    "\n",
    "t_model = gensim.models.Word2Vec.load('models/full_grams_cbow_100_twitter.mdl')\n",
    "\n"
   ]
  },
  {
   "cell_type": "code",
   "execution_count": 7,
   "metadata": {},
   "outputs": [
    {
     "name": "stdout",
     "output_type": "stream",
     "text": [
      "البيهقي\n",
      "[-1.1634117   1.160353    0.4061369  -3.269606    1.460811    1.8815645\n",
      "  2.8538506   1.7529737  -1.321426   -1.4061999  -1.7384857   1.5024142\n",
      "  0.71046865  0.5181973   0.5878248  -1.7590011  -3.64354    -1.5815685\n",
      "  3.081292    0.9887257  -4.9275303  -1.6537403  -6.5238605   0.29179323\n",
      " -2.3209283  -1.9751159  -0.97235984 -4.11868    -0.3930991   0.34796947\n",
      "  1.140952   -1.2196693  -0.2924556  -1.2440867  -2.1776283   1.5662091\n",
      "  1.3526007   3.125421   -0.14441442  1.3420074   3.598887    6.4802933\n",
      " -2.2447867   2.617891    0.63059837  2.9243498   0.38621104 -1.3425126\n",
      "  0.13997188  2.8740122   0.04902675  2.033317   -4.9795227   2.5685737\n",
      "  5.6967406   0.62051094 -2.8796628   2.0783572   2.7874334  -4.7982635\n",
      "  4.141387   -0.96995956  4.693122    1.3831154   0.6296256  -0.93066704\n",
      "  3.6338553   3.4480472  -1.4382231   0.87414235  2.2134905   0.9727681\n",
      "  3.4366841  -4.188884   -2.0766194   3.0003197  -0.6546305  -0.9980285\n",
      "  1.7330719  -1.7825545  -5.444619    0.12338634  1.569286   -0.1042597\n",
      " -1.2454969   0.06532835  3.6281214  -2.2420614   3.7911437   1.8167274\n",
      "  1.6294475  -4.8168883  -1.5813563   0.7904338  -2.4719286  -8.046327\n",
      " -1.3263285   1.2535394  -1.0206937   0.1699675 ]\n",
      "اما 0.8380793333053589\n",
      "ولا 0.8271117210388184\n",
      "اي 0.8157258033752441\n",
      "لان 0.8131948709487915\n",
      "يمكن 0.8014755845069885\n",
      "لكن 0.783333420753479\n",
      "حتي 0.7726843953132629\n",
      "لانه 0.7678697109222412\n",
      "! 0.7653216123580933\n",
      "يعني 0.7612597942352295\n"
     ]
    }
   ],
   "source": [
    "from utilities import * # import utilities.py module\n",
    "# الْبَيْهَقِيُّ\n",
    "# python 3.X\n",
    "print(clean_str(u'الْبَيْهَقِيُّ'))\n",
    "token = clean_str(' أو')\n",
    "# python 2.7\n",
    "# token = clean_str(u'ابو تريكه'.decode('utf8', errors='ignore')).replace(\" \", \"_\")\n",
    "\n",
    "if token in t_model.wv:\n",
    "    print(t_model.wv[token])\n",
    "    most_similar = t_model.wv.most_similar( token, topn=10 )\n",
    "    for term, score in most_similar:\n",
    "        term = clean_str(term)\n",
    "        if term != token:\n",
    "            print(term, score)"
   ]
  },
  {
   "cell_type": "code",
   "execution_count": 15,
   "metadata": {},
   "outputs": [],
   "source": [
    "import gensim\n",
    "import re\n",
    "import numpy as np\n",
    "from nltk import ngrams\n",
    "\n",
    "\n",
    "# ============================   \n",
    "# ====== N-Grams Models ======\n",
    "\n",
    "t_model = gensim.models.Word2Vec.load('models/full_grams_cbow_300_twitter.mdl')\n",
    "\n"
   ]
  },
  {
   "cell_type": "code",
   "execution_count": 17,
   "metadata": {},
   "outputs": [
    {
     "name": "stdout",
     "output_type": "stream",
     "text": [
      "البيهقي\n",
      "والبيهقي 0.7042703032493591\n",
      "ابن ماجه 0.6519650816917419\n",
      "الطبراني 0.6427355408668518\n",
      "المنذري 0.6396810412406921\n",
      "الدارقطني 0.6269375085830688\n",
      "ابن ابي شيبه 0.6223583221435547\n",
      "والطبراني 0.6082514524459839\n",
      "اللالكائي 0.5984945893287659\n",
      "ابي داود 0.5972075462341309\n",
      "الادب المفرد 0.5928271412849426\n"
     ]
    }
   ],
   "source": [
    "from utilities import * # import utilities.py module\n",
    "# الْبَيْهَقِيُّ\n",
    "# python 3.X\n",
    "print(clean_str(u'الْبَيْهَقِيُّ'))\n",
    "token = clean_str(u'الْبَيْهَقِيُّ').replace(\" \", \"_\")\n",
    "# python 2.7\n",
    "# token = clean_str(u'ابو تريكه'.decode('utf8', errors='ignore')).replace(\" \", \"_\")\n",
    "\n",
    "if token in t_model.wv:\n",
    "    # print(t_model.wv[token])\n",
    "    most_similar = t_model.wv.most_similar( token, topn=10 )\n",
    "    for term, score in most_similar:\n",
    "        term = clean_str(term)\n",
    "        if term != token:\n",
    "            print(term, score)"
   ]
  },
  {
   "cell_type": "code",
   "execution_count": null,
   "metadata": {},
   "outputs": [],
   "source": []
  }
 ],
 "metadata": {
  "kernelspec": {
   "display_name": "Python 3",
   "language": "python",
   "name": "python3"
  },
  "language_info": {
   "codemirror_mode": {
    "name": "ipython",
    "version": 3
   },
   "file_extension": ".py",
   "mimetype": "text/x-python",
   "name": "python",
   "nbconvert_exporter": "python",
   "pygments_lexer": "ipython3",
   "version": "3.9.2"
  }
 },
 "nbformat": 4,
 "nbformat_minor": 2
}

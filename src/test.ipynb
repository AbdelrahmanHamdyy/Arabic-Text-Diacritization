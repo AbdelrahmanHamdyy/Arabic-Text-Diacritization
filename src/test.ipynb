{
 "cells": [
  {
   "cell_type": "code",
   "execution_count": 1,
   "metadata": {},
   "outputs": [
    {
     "name": "stderr",
     "output_type": "stream",
     "text": [
      "c:\\Python39\\lib\\site-packages\\tqdm\\auto.py:21: TqdmWarning: IProgress not found. Please update jupyter and ipywidgets. See https://ipywidgets.readthedocs.io/en/stable/user_install.html\n",
      "  from .autonotebook import tqdm as notebook_tqdm\n",
      "Downloading config.json: 100%|██████████| 508/508 [00:00<00:00, 170kB/s]\n",
      "Downloading (…)tencepiece.bpe.model: 100%|██████████| 811k/811k [00:00<00:00, 1.22MB/s]\n",
      "Downloading tokenizer.json: 100%|██████████| 1.40M/1.40M [00:00<00:00, 1.42MB/s]\n",
      "Downloading model.safetensors: 100%|██████████| 445M/445M [05:04<00:00, 1.46MB/s] \n"
     ]
    }
   ],
   "source": [
    "from transformers import AutoModel, AutoTokenizer\n",
    "import torch\n",
    "\n",
    "# Choose a pre-trained model (e.g., 'camembert-base')\n",
    "model_name = 'camembert-base'\n",
    "tokenizer = AutoTokenizer.from_pretrained(model_name)\n",
    "model = AutoModel.from_pretrained(model_name)\n"
   ]
  },
  {
   "cell_type": "code",
   "execution_count": 4,
   "metadata": {},
   "outputs": [
    {
     "name": "stdout",
     "output_type": "stream",
     "text": [
      "Transformed Embedding:\n",
      "torch.Size([1, 300])\n"
     ]
    }
   ],
   "source": [
    "# Example Arabic sentence\n",
    "sentence = \"التضمين السياق يهؤتهي  يلتقط غنى اللغة.\"\n",
    "\n",
    "# Tokenize and obtain contextual embeddings\n",
    "tokens = tokenizer(sentence, return_tensors='pt')\n",
    "outputs = model(**tokens)\n",
    "\n",
    "# The last layer hidden states often contain contextual embeddings\n",
    "contextual_embeddings = outputs.last_hidden_state\n",
    "\n",
    "# Apply global average pooling (GAP) along the sequence dimension\n",
    "global_avg_pooled_embedding = torch.mean(contextual_embeddings, dim=1)\n",
    "\n",
    "# If necessary, apply linear transformation to get embeddings of size 100\n",
    "desired_embedding_size = 300\n",
    "linear_layer = torch.nn.Linear(global_avg_pooled_embedding.size(-1), desired_embedding_size)\n",
    "transformed_embedding = linear_layer(global_avg_pooled_embedding)\n",
    "\n",
    "# Apply activation function (e.g., ReLU)\n",
    "transformed_embedding = torch.relu(transformed_embedding)\n",
    "\n",
    "# For demonstration, let's print the transformed embedding\n",
    "print(\"Transformed Embedding:\")\n",
    "print(transformed_embedding.shape)"
   ]
  },
  {
   "cell_type": "code",
   "execution_count": null,
   "metadata": {},
   "outputs": [],
   "source": []
  }
 ],
 "metadata": {
  "kernelspec": {
   "display_name": "Python 3",
   "language": "python",
   "name": "python3"
  },
  "language_info": {
   "codemirror_mode": {
    "name": "ipython",
    "version": 3
   },
   "file_extension": ".py",
   "mimetype": "text/x-python",
   "name": "python",
   "nbconvert_exporter": "python",
   "pygments_lexer": "ipython3",
   "version": "3.9.2"
  }
 },
 "nbformat": 4,
 "nbformat_minor": 2
}

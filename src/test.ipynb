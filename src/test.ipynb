{
 "cells": [
  {
   "cell_type": "code",
   "execution_count": 1,
   "metadata": {},
   "outputs": [
    {
     "name": "stderr",
     "output_type": "stream",
     "text": [
      "c:\\Python39\\lib\\site-packages\\tqdm\\auto.py:21: TqdmWarning: IProgress not found. Please update jupyter and ipywidgets. See https://ipywidgets.readthedocs.io/en/stable/user_install.html\n",
      "  from .autonotebook import tqdm as notebook_tqdm\n"
     ]
    }
   ],
   "source": [
    "from transformers import AutoModel, AutoTokenizer\n",
    "import torch"
   ]
  },
  {
   "cell_type": "code",
   "execution_count": 2,
   "metadata": {},
   "outputs": [
    {
     "name": "stderr",
     "output_type": "stream",
     "text": [
      "Downloading tokenizer_config.json: 100%|██████████| 637/637 [00:00<00:00, 160kB/s]\n",
      "Downloading config.json: 100%|██████████| 578/578 [00:00<00:00, 196kB/s]\n",
      "Downloading vocab.txt: 100%|██████████| 717k/717k [00:00<00:00, 1.30MB/s]\n",
      "Downloading tokenizer.json: 100%|██████████| 2.26M/2.26M [00:01<00:00, 1.48MB/s]\n",
      "Downloading (…)cial_tokens_map.json: 100%|██████████| 112/112 [00:00<00:00, 56.0kB/s]\n",
      "Downloading model.safetensors: 100%|██████████| 543M/543M [05:37<00:00, 1.61MB/s] \n"
     ]
    },
    {
     "name": "stdout",
     "output_type": "stream",
     "text": [
      "Transformed Embedding:\n",
      "tensor([[0.2089, 0.1642, 0.4452, 0.1068, 0.0000, 0.0000, 0.0000, 0.0000, 0.0000,\n",
      "         0.0000, 0.3230, 0.0000, 0.1015, 0.0000, 0.0115, 0.0068, 0.2136, 0.3448,\n",
      "         0.0000, 0.0049, 0.0000, 0.0000, 0.0000, 0.4373, 0.0000, 0.0000, 0.0000,\n",
      "         0.2356, 0.0718, 0.2735, 0.1882, 0.3006, 0.2955, 0.0000, 0.2480, 0.1132,\n",
      "         0.0000, 0.0000, 0.0000, 0.0000, 0.0000, 0.3874, 0.4874, 0.1143, 0.1500,\n",
      "         0.0000, 0.0000, 0.0000, 0.4013, 0.0000, 0.0000, 0.0224, 0.0555, 0.0000,\n",
      "         0.1533, 0.2097, 0.0000, 0.0379, 0.0000, 0.0000, 0.1200, 0.1110, 0.4712,\n",
      "         0.0000, 0.0000, 0.0000, 0.3777, 0.3037, 0.0000, 0.2800, 0.0000, 0.0000,\n",
      "         0.2735, 0.1855, 0.0000, 0.0000, 0.0000, 0.0000, 0.0000, 0.0000, 0.0000,\n",
      "         0.0000, 0.0000, 0.3157, 0.0019, 0.2251, 0.1862, 0.0000, 0.0000, 0.1194,\n",
      "         0.0000, 0.0257, 0.2784, 0.0272, 0.0483, 0.2141, 0.0000, 0.0000, 0.0000,\n",
      "         0.0000]], grad_fn=<ReluBackward0>)\n"
     ]
    }
   ],
   "source": [
    "# Choose a pre-trained model (e.g., 'aubmindlab/bert-base-arabert')\n",
    "model_name = 'aubmindlab/bert-base-arabert'\n",
    "tokenizer = AutoTokenizer.from_pretrained(model_name)\n",
    "model = AutoModel.from_pretrained(model_name)\n",
    "\n",
    "# Example Arabic sentence\n",
    "sentence = \"التضمين السياقي يلتقط غنى اللغة.\"\n",
    "\n",
    "# Tokenize and obtain contextual embeddings\n",
    "tokens = tokenizer(sentence, return_tensors='pt')\n",
    "outputs = model(**tokens)\n",
    "\n",
    "# The last layer hidden states often contain contextual embeddings\n",
    "contextual_embeddings = outputs.last_hidden_state\n",
    "\n",
    "# Apply global average pooling (GAP) along the sequence dimension\n",
    "global_avg_pooled_embedding = torch.mean(contextual_embeddings, dim=1)\n",
    "\n",
    "# If necessary, apply linear transformation to get embeddings of size 100\n",
    "desired_embedding_size = 100\n",
    "linear_layer = torch.nn.Linear(global_avg_pooled_embedding.size(-1), desired_embedding_size)\n",
    "transformed_embedding = linear_layer(global_avg_pooled_embedding)\n",
    "\n",
    "# Apply activation function (e.g., ReLU)\n",
    "transformed_embedding = torch.relu(transformed_embedding)\n",
    "\n",
    "# For demonstration, let's print the transformed embedding\n",
    "print(\"Transformed Embedding:\")\n",
    "print(transformed_embedding)"
   ]
  },
  {
   "cell_type": "code",
   "execution_count": 6,
   "metadata": {},
   "outputs": [
    {
     "name": "stdout",
     "output_type": "stream",
     "text": [
      "Transformed Embedding:\n",
      "torch.Size([1, 100])\n"
     ]
    }
   ],
   "source": [
    "# Example Arabic sentence\n",
    "sentence = \"التضمينالسياقييلتقطغنىاللغة.\"\n",
    "\n",
    "# Tokenize and obtain contextual embeddings\n",
    "tokens = tokenizer(sentence, return_tensors='pt')\n",
    "outputs = model(**tokens)\n",
    "\n",
    "# The last layer hidden states often contain contextual embeddings\n",
    "contextual_embeddings = outputs.last_hidden_state\n",
    "\n",
    "# Apply global average pooling (GAP) along the sequence dimension\n",
    "global_avg_pooled_embedding = torch.mean(contextual_embeddings, dim=1)\n",
    "\n",
    "# If necessary, apply linear transformation to get embeddings of size 100\n",
    "desired_embedding_size = 100\n",
    "linear_layer = torch.nn.Linear(global_avg_pooled_embedding.size(-1), desired_embedding_size)\n",
    "transformed_embedding = linear_layer(global_avg_pooled_embedding)\n",
    "\n",
    "# Apply activation function (e.g., ReLU)\n",
    "transformed_embedding = torch.relu(transformed_embedding)\n",
    "\n",
    "# For demonstration, let's print the transformed embedding\n",
    "print(\"Transformed Embedding:\")\n",
    "print(transformed_embedding.shape)"
   ]
  },
  {
   "cell_type": "code",
   "execution_count": null,
   "metadata": {},
   "outputs": [],
   "source": []
  }
 ],
 "metadata": {
  "kernelspec": {
   "display_name": "Python 3",
   "language": "python",
   "name": "python3"
  },
  "language_info": {
   "codemirror_mode": {
    "name": "ipython",
    "version": 3
   },
   "file_extension": ".py",
   "mimetype": "text/x-python",
   "name": "python",
   "nbconvert_exporter": "python",
   "pygments_lexer": "ipython3",
   "version": "3.9.2"
  }
 },
 "nbformat": 4,
 "nbformat_minor": 2
}

{
 "cells": [
  {
   "cell_type": "code",
   "execution_count": 117,
   "metadata": {},
   "outputs": [],
   "source": [
    "import re"
   ]
  },
  {
   "cell_type": "code",
   "execution_count": 118,
   "metadata": {},
   "outputs": [],
   "source": [
    "OTHER = ' '\n",
    "DIACRITICS = [OTHER, \"َ\", \"ً\", \"ُ\", \"ٌ\", \"ِ\", \"ٍ\", \"ْ\", \"ّ\", \"َّ\", \"ًّ\", \"ُّ\", \"ٌّ\", \"ِّ\", \"ٍّ\"]\n",
    "VOWEL_REGEX = re.compile('|'.join(DIACRITICS))\n",
    "SENTENCE_WINDOW = 800\n",
    "WINDOW_SIZE_BEFORE = 2\n",
    "WINDOW_SIZE_AFTER = 3\n",
    "\n",
    "MAIN_DIACRITICS = [\"ْ\", \"ّ\", \"ٌ\", \"ٍ\", \"ِ\", \"ً\", \"َ\", \"ُ\"]\n",
    "PUNCTUATIONS = [\".\", \"،\", \":\", \"؛\", \"؟\"]\n",
    "SPLITTING_PATTERN = re.compile(r\"[\\.،:؛!؟]\")"
   ]
  },
  {
   "cell_type": "code",
   "execution_count": 119,
   "metadata": {},
   "outputs": [],
   "source": [
    "def readFile(path):\n",
    "\tsentences = []\n",
    "\twith open(path, 'r', encoding='utf-8') as file:\n",
    "\t\tfor line in file:\n",
    "\t\t\tsentences.append(line.strip())\n",
    "\n",
    "\treturn sentences"
   ]
  },
  {
   "cell_type": "code",
   "execution_count": 120,
   "metadata": {},
   "outputs": [],
   "source": [
    "'''\n",
    "Getting Basic Arabic Letters based on their unicodes\n",
    "'''\n",
    "basic_arabic_start1 = 0x0621\n",
    "basic_arabic_end1 = 0x063A\n",
    "basic_arabic_start2 = 0x0641\n",
    "basic_arabic_end2 = 0x064A\n",
    "\n",
    "basic_arabic_letters = [chr(code) for code in range(basic_arabic_start1, basic_arabic_end1 + 1)] + \\\n",
    "                       [chr(code) for code in range(basic_arabic_start2, basic_arabic_end2 + 1)]\n",
    "\n",
    "VALID_ARABIC_CHARS = basic_arabic_letters + MAIN_DIACRITICS + [' '] + PUNCTUATIONS\n",
    "VALID_ARABIC_CHARS_WITHOUT_PUNCTUATION = basic_arabic_letters + MAIN_DIACRITICS + [' ']"
   ]
  },
  {
   "cell_type": "code",
   "execution_count": 121,
   "metadata": {},
   "outputs": [],
   "source": [
    "char_to_index = {char: i + 1 for i, char in enumerate(basic_arabic_letters)}\n",
    "diacritic_to_index = {diacritic: i for i, diacritic in enumerate(DIACRITICS)}\n",
    "index_to_diacritic = {index: diacritic for diacritic, index in diacritic_to_index.items()}"
   ]
  },
  {
   "cell_type": "code",
   "execution_count": 122,
   "metadata": {},
   "outputs": [],
   "source": [
    "WHITESPACES_PATTERN = re.compile(\"\\s+\")\n",
    "def combine_whitespaces(text):\n",
    "    return re.sub(WHITESPACES_PATTERN, \" \",text).strip()"
   ]
  },
  {
   "cell_type": "code",
   "execution_count": 123,
   "metadata": {},
   "outputs": [],
   "source": [
    "def get_valid_arabic_text(text):\n",
    "    text = list(filter(lambda char: char in VALID_ARABIC_CHARS,text))\n",
    "    return combine_whitespaces(''.join(text))"
   ]
  },
  {
   "cell_type": "code",
   "execution_count": 124,
   "metadata": {},
   "outputs": [],
   "source": [
    "def each_word_get_valid_arabic_text(text):\n",
    "    text = list(filter(lambda char: char in VALID_ARABIC_CHARS,text))\n",
    "    return combine_whitespaces(''.join(text)).split()"
   ]
  },
  {
   "cell_type": "code",
   "execution_count": 125,
   "metadata": {},
   "outputs": [],
   "source": [
    "def get_valid_arabic_text_without_punctuation(text):\n",
    "    text = list(filter(lambda char: char in VALID_ARABIC_CHARS_WITHOUT_PUNCTUATION,text))\n",
    "    return combine_whitespaces(''.join(text))"
   ]
  },
  {
   "cell_type": "code",
   "execution_count": 126,
   "metadata": {},
   "outputs": [],
   "source": [
    "def get_sentences_window(sentence):\n",
    "    #Fel bdaya ehna 3ayzeen n2smha 600 char 600 char\n",
    "    startIdx = 0\n",
    "    sentences = []\n",
    "    sentence = get_valid_arabic_text_without_punctuation(sentence)\n",
    "    while(startIdx < len(sentence)):\n",
    "        finalIdx = startIdx + SENTENCE_WINDOW if startIdx + SENTENCE_WINDOW < len(sentence) else -1\n",
    "        pre_modified_sentence = sentence[startIdx:finalIdx]\n",
    "        startIdx+=SENTENCE_WINDOW\n",
    "        while(len(pre_modified_sentence) > 0 and pre_modified_sentence[-1]!=' '):\n",
    "            pre_modified_sentence = pre_modified_sentence[0:-2]\n",
    "            startIdx-=1\n",
    "        sentences.append(pre_modified_sentence)\n",
    "    return sentences"
   ]
  },
  {
   "cell_type": "code",
   "execution_count": 127,
   "metadata": {},
   "outputs": [],
   "source": [
    "def get_splitted_sentences(sentence):\n",
    "    sentence = get_valid_arabic_text(sentence)\n",
    "    #return [item.strip() for item in re.split(SPLITTING_PATTERN, sentence)]\n",
    "    return get_sentences_window(sentence)"
   ]
  },
  {
   "cell_type": "code",
   "execution_count": 128,
   "metadata": {},
   "outputs": [],
   "source": [
    "def get_all_windows(sentence,before,after):\n",
    "    windows =[]\n",
    "    sentence = get_valid_arabic_text_without_punctuation(sentence)\n",
    "    sentence = sentence.split()\n",
    "    for i in range(len(sentence)):\n",
    "        start_idx = max(0,i-before)\n",
    "        last_index = min(len(sentence),i+after+1)\n",
    "        windows.append(sentence[start_idx:last_index])\n",
    "    return windows"
   ]
  },
  {
   "cell_type": "code",
   "execution_count": 129,
   "metadata": {},
   "outputs": [],
   "source": [
    "def separate_words_and_diacritics(sentence):\n",
    "    sentences = get_splitted_sentences(sentence)\n",
    "    \n",
    "    final_chars = []\n",
    "    final_diacritics = []\n",
    "\n",
    "    for sentence in sentences:\n",
    "        output_chars = []\n",
    "        output_diacritics = []\n",
    "        for word in sentence.split():\n",
    "            letters = []\n",
    "            diacritics = []\n",
    "            prev_char = word[0]\n",
    "            for idx, char in enumerate(word[1:]):\n",
    "                try:\n",
    "                    next_char = word[idx + 1 + 1]\n",
    "                except IndexError:\n",
    "                    next_char = ''\n",
    "                if char in DIACRITICS:\n",
    "                    if prev_char not in DIACRITICS:\n",
    "                        letters.append(prev_char)\n",
    "                        if next_char == '' or next_char not in DIACRITICS:\n",
    "                            diacritics.append(char)\n",
    "                        elif next_char in DIACRITICS:\n",
    "                            diacritics.append(char + next_char)\n",
    "                else:\n",
    "                    if prev_char not in DIACRITICS:\n",
    "                        letters.append(prev_char)\n",
    "                        diacritics.append(OTHER)\n",
    "                    if next_char == '':\n",
    "                        letters.append(char)\n",
    "                        diacritics.append(OTHER)\n",
    "                prev_char = char\n",
    "\n",
    "            if len(letters):\n",
    "                output_chars.append(letters)\n",
    "                output_diacritics.append(diacritics)\n",
    "\n",
    "        final_chars.append([char for word in output_chars for char in word])\n",
    "        final_diacritics.append([diacritic for word in output_diacritics for diacritic in word])\n",
    "\n",
    "    final_chars = [item for item in final_chars if len(item)]\n",
    "    final_diacritics = [item for item in final_diacritics if len(item)]\n",
    "    return final_chars, final_diacritics"
   ]
  },
  {
   "cell_type": "code",
   "execution_count": 134,
   "metadata": {},
   "outputs": [],
   "source": [
    "def each_word_separate_words_and_diacritics(sentence):\n",
    "    sentence = each_word_get_valid_arabic_text(sentence)\n",
    "    output_chars = []\n",
    "    output_diacritics = []\n",
    "\n",
    "    for word in sentence:\n",
    "        letters = []\n",
    "        diacritics = []\n",
    "        prev_char = word[0]\n",
    "        for idx, char in enumerate(word[1:]):\n",
    "            try:\n",
    "                next_char = word[idx + 1 + 1]\n",
    "            except IndexError:\n",
    "                next_char = ''\n",
    "            if char in DIACRITICS:\n",
    "                if prev_char not in DIACRITICS:\n",
    "                    letters.append(prev_char)\n",
    "                    if next_char == '' or next_char not in DIACRITICS:\n",
    "                        diacritics.append(char)\n",
    "                    elif next_char in DIACRITICS:\n",
    "                        diacritics.append(char + next_char)\n",
    "            else:\n",
    "                if prev_char not in DIACRITICS:\n",
    "                    letters.append(prev_char)\n",
    "                    diacritics.append(OTHER)\n",
    "                if next_char == '':\n",
    "                    letters.append(char)\n",
    "                    diacritics.append(OTHER)\n",
    "            prev_char = char\n",
    "    \n",
    "        output_chars.append(letters)\n",
    "        output_diacritics.append(diacritics)\n",
    "\n",
    "    return output_chars, output_diacritics"
   ]
  },
  {
   "cell_type": "code",
   "execution_count": 131,
   "metadata": {},
   "outputs": [],
   "source": [
    "def separate_words_to_char(sentence):\n",
    "    sentence = get_valid_arabic_text_without_punctuation(sentence)\n",
    "\n",
    "    letters = []\n",
    "    for word in sentence.split():\n",
    "        for char in word:\n",
    "            letters.append(char)\n",
    "\n",
    "    return letters"
   ]
  },
  {
   "cell_type": "code",
   "execution_count": 132,
   "metadata": {},
   "outputs": [],
   "source": [
    "def preprocess():\n",
    "    sentence = (\"( قَوْلُهُ لِعَدَمِ مَا تَتَعَلَّقُ إلَخْ ) أَيْ الْوَصِيَّةُ ( قَوْلُهُ مَا مَرَّ ) أَيْ قُبَيْلَ قَوْلِ الْمَتْنِ لَغَتْ وَلَوْ اقْتَصَرَ عَلَى أَوْصَيْت لَهُ بِشَاةٍ أَوْ أَعْطُوهُ شَاةً وَلَا غَنَمَ لَهُ عِنْدَ الْمَوْتِ هَلْ تَبْطُلُ الْوَصِيَّةُ أَوْ يُشْتَرَى لَهُ شَاةٌ وَيُؤْخَذُ مِنْ قَوْلِهِ الْآتِي كَمَا لَوْ لَمْ يَقُلْ مِنْ مَالِي وَلَا مِنْ غَنَمِي أَنَّهَا لَا تَبْطُلُ ، وَعِبَارَةُ الْكَنْزِ وَلَوْ لَمْ يَقُلْ مِنْ مَالِي وَلَا مِنْ غَنَمِي لَمْ يَتَعَيَّنْ غَنَمُهُ إنْ كَانَتْ انْتَهَتْ ا ه سم ( قَوْلُهُ فَيُعْطَى وَاحِدَةً مِنْهَا إلَخْ ) كَمَا لَوْ كَانَتْ مَوْجُودَةً عِنْدَ الْوَصِيَّةِ وَالْمَوْتِ ، وَلَا يَجُوزُ أَنْ يُعْطَى وَاحِدَةً مِنْ غَيْرِ غَنَمِهِ فِي الصُّورَتَيْنِ وَإِنْ تَرَاضَيَا ؛ لِأَنَّهُ صُلْحٌ عَلَى مَجْهُولٍ مُغْنِي وَنِهَايَةٌ قَالَ ع ش قَوْلُهُ وَاحِدَةً مِنْهَا أَيْ كَامِلَةً ، وَلَا يَجُوزُ أَنْ يُعْطَى نِصْفَيْنِ مِنْ شَاتَيْنِ ؛ لِأَنَّهُ لَا يُسَمَّى شَاةً وَقَوْلُهُ وَلَا يَجُوزُ أَنْ يُعْطَى وَاحِدَةً مِنْ غَيْرِ غَنَمِهِ وَيَنْبَغِي أَنْ يُقَالَ مِثْلُ ذَلِكَ فِي الْأَرِقَّاءِ ا ه .\")\n",
    "    char, dia = each_word_separate_words_and_diacritics(sentence)\n",
    "    print(char)\n",
    "\n",
    "    char, dia = separate_words_and_diacritics(sentence)\n",
    "    # sentences = get_splitted_sentences(sentence)\n",
    "    # windows = get_all_windows(sentence)\n",
    "    \n",
    "    # for window in windows:\n",
    "    #     print(window)\n",
    "    #     print(\"_________________\")\n",
    "        \n",
    "    # for splitted_sentence in sentences:\n",
    "    #     print(splitted_sentence)\n",
    "    #     print(len(splitted_sentence))\n",
    "    #     print(\"*****************\")\n",
    "    print(char)\n",
    "\n",
    "    # for i in range(len(char)):\n",
    "    #     print(len(char[i]))\n",
    "    #     print(char[i])\n",
    "        # print(\"-----------------\")"
   ]
  },
  {
   "cell_type": "code",
   "execution_count": 133,
   "metadata": {},
   "outputs": [],
   "source": [
    "# preprocess()"
   ]
  },
  {
   "cell_type": "code",
   "execution_count": null,
   "metadata": {},
   "outputs": [],
   "source": []
  }
 ],
 "metadata": {
  "kernelspec": {
   "display_name": "Python 3",
   "language": "python",
   "name": "python3"
  },
  "language_info": {
   "codemirror_mode": {
    "name": "ipython",
    "version": 3
   },
   "file_extension": ".py",
   "mimetype": "text/x-python",
   "name": "python",
   "nbconvert_exporter": "python",
   "pygments_lexer": "ipython3",
   "version": "3.9.2"
  }
 },
 "nbformat": 4,
 "nbformat_minor": 2
}

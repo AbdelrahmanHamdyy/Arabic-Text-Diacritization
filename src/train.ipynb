{
 "cells": [
  {
   "cell_type": "markdown",
   "metadata": {},
   "source": [
    "### Imports"
   ]
  },
  {
   "cell_type": "code",
   "execution_count": 10,
   "metadata": {},
   "outputs": [],
   "source": [
    "import time\n",
    "import torch\n",
    "import numpy as np\n",
    "from typing import List\n",
    "from torch.utils.data import DataLoader, TensorDataset, RandomSampler, SequentialSampler\n",
    "from sklearn.model_selection import train_test_split\n",
    "import torch.nn.functional as F\n",
    "import torch.nn as nn\n",
    "from torch.nn.utils.rnn import pad_sequence\n",
    "import gensim\n",
    "from utilities import *\n",
    "\n",
    "%run preprocessing.ipynb"
   ]
  },
  {
   "cell_type": "markdown",
   "metadata": {},
   "source": [
    "### Constants"
   ]
  },
  {
   "cell_type": "code",
   "execution_count": 16,
   "metadata": {},
   "outputs": [],
   "source": [
    "EMBEDDING_DIM = 300\n",
    "HIDDEN_SIZE = 512\n",
    "NUM_LAYERS = 2\n",
    "NUM_EPOCHS = 10\n",
    "LEARNING_RATE = 0.001\n",
    "BATCH_SIZE = 200\n",
    "VOCAB_SIZE = len(basic_arabic_letters) + 1\n",
    "LABELS_SIZE = len(DIACRITICS)\n",
    "PAD = 15\n",
    "CONTEXTUAL_EMBEDDING_DIM=100\n",
    "\n",
    "TRAIN_PATH = \"./dataset/train.txt\"\n",
    "VAL_PATH = \"./dataset/val.txt\"\n",
    "TEST_PATH = \"./dataset/test.txt\"\n",
    "LSTM_PATH=\"./models/lstm.pth\"\n",
    "RNN_PATH=\"./models/rnn.pth\"\n",
    "CNN_PATH = \"./models/cnn.pth\"\n",
    "CRF_PATH = \"./models/crf.pth\""
   ]
  },
  {
   "cell_type": "markdown",
   "metadata": {},
   "source": [
    "### GPU"
   ]
  },
  {
   "cell_type": "code",
   "execution_count": 3,
   "metadata": {},
   "outputs": [
    {
     "name": "stdout",
     "output_type": "stream",
     "text": [
      "No GPU available, using the CPU instead.\n"
     ]
    }
   ],
   "source": [
    "device = None\n",
    "if torch.cuda.is_available():\n",
    "    device = torch.device(\"cuda\")\n",
    "    print(f\"There are {torch.cuda.device_count()} GPU(s) available.\")\n",
    "    print(\"Device name:\", torch.cuda.get_device_name(0))\n",
    "\n",
    "else:\n",
    "    print(\"No GPU available, using the CPU instead.\")\n",
    "    device = torch.device(\"cpu\")"
   ]
  },
  {
   "cell_type": "markdown",
   "metadata": {},
   "source": [
    "### Model"
   ]
  },
  {
   "cell_type": "code",
   "execution_count": 17,
   "metadata": {},
   "outputs": [],
   "source": [
    "class CNN(nn.Module):\n",
    "    def __init__(self, vocab_size=VOCAB_SIZE, num_classes=LABELS_SIZE, embedding_dim=EMBEDDING_DIM, hidden_size=HIDDEN_SIZE, num_layers=NUM_LAYERS\n",
    "                , pretrained_embedding=None, freeze_embedding=False,contextual_embedding_dim=CONTEXTUAL_EMBEDDING_DIM):\n",
    "        super(CNN, self).__init__()\n",
    "        \n",
    "        # Embedding layer\n",
    "        if pretrained_embedding is not None:\n",
    "            self.embedding  = nn.Embedding.from_pretrained(pretrained_embedding, freeze=freeze_embedding)\n",
    "        else:\n",
    "            self.embedding =nn.Embedding(vocab_size, embedding_dim)\n",
    "        \n",
    "        # Convolutional Layer\n",
    "        self.conv1d = nn.Conv1d(contextual_embedding_dim, 256, kernel_size=3, padding=1).double()\n",
    "        \n",
    "        # LSTM Layer\n",
    "        self.lstm = nn.LSTM(256, hidden_size, num_layers=num_layers, batch_first=True, bidirectional=True).double()\n",
    "        \n",
    "        # Linear Layer\n",
    "        self.linear = nn.Linear(2 * hidden_size, num_classes).float()\n",
    "\n",
    "    def forward(self, sentences):\n",
    "        embeddings = self.embedding(sentences)\n",
    "        # if self.contextual_embedding is not None:\n",
    "        #     embeddings = torch.cat([embeddings, self.contextual_embedding(sentences)], dim=2)  # Concatenate embeddings\n",
    "        # Convolutional Layer\n",
    "        conv_out = self.conv1d(embeddings.permute(0, 2, 1))\n",
    "        conv_out = F.relu(conv_out)\n",
    "        \n",
    "        # LSTM Layer\n",
    "        lstm_out, _ = self.lstm(conv_out.permute(0, 2, 1))\n",
    "        \n",
    "        # Linear Layer\n",
    "        output = self.linear(lstm_out.float())\n",
    "\n",
    "        return output"
   ]
  },
  {
   "cell_type": "markdown",
   "metadata": {},
   "source": [
    "### Train"
   ]
  },
  {
   "cell_type": "code",
   "execution_count": 5,
   "metadata": {},
   "outputs": [],
   "source": [
    "def data_loader(\n",
    "    train_inputs, val_inputs, train_labels, val_labels, batch_size=BATCH_SIZE\n",
    "):\n",
    "    # Create DataLoader for training data\n",
    "    train_data = TensorDataset(train_inputs, train_labels)\n",
    "    train_sampler = RandomSampler(train_data)\n",
    "    train_dataloader = DataLoader(\n",
    "        train_data, sampler=train_sampler, batch_size=batch_size\n",
    "    )\n",
    "\n",
    "    # Create DataLoader for validation data\n",
    "    val_data = TensorDataset(val_inputs, val_labels)\n",
    "    val_sampler = SequentialSampler(val_data)\n",
    "    val_dataloader = DataLoader(val_data, sampler=val_sampler, batch_size=batch_size)\n",
    "\n",
    "    return train_dataloader, val_dataloader\n",
    "\n",
    "\n",
    "# Specify loss function\n",
    "loss_fn = nn.CrossEntropyLoss(ignore_index=PAD)\n",
    "\n",
    "\n",
    "def train(\n",
    "    path, model, optimizer, train_dataloader, val_dataloader=None, epochs=NUM_EPOCHS\n",
    "):\n",
    "    \"\"\"Train the model\"\"\"\n",
    "\n",
    "    # Tracking best validation accuracy\n",
    "    best_accuracy = 0\n",
    "\n",
    "    # Start training loop\n",
    "    print(\"Start training...\\n\")\n",
    "    print(\n",
    "        f\"{'Epoch':^7} | {'Train Loss':^12} | {'Val Loss':^10} | {'Val Acc':^9} | {'Elapsed':^9}\"\n",
    "    )\n",
    "    print(\"-\" * 60)\n",
    "\n",
    "    for epoch_i in range(epochs):\n",
    "        # =======================================\n",
    "        #               Training\n",
    "        # =======================================\n",
    "\n",
    "        # Tracking time and loss\n",
    "        t0_epoch = time.time()\n",
    "        total_loss = 0\n",
    "\n",
    "        # Put the model into the training mode\n",
    "        model.train()\n",
    "\n",
    "        for step, batch in enumerate(train_dataloader):\n",
    "            # Load batch to GPU\n",
    "            b_input_ids, b_labels = tuple(t.to(device) for t in batch)\n",
    "\n",
    "            # Zero out any previously calculated gradients\n",
    "            model.zero_grad()\n",
    "\n",
    "            # Perform a forward pass\n",
    "            output = model(b_input_ids)\n",
    "\n",
    "            # Compute loss and accumulate the loss values\n",
    "            loss = loss_fn(output.view(-1, output.shape[-1]), b_labels.view(-1))\n",
    "            total_loss += loss.item()\n",
    "\n",
    "            # Perform a backward pass to calculate gradients\n",
    "            loss.backward()\n",
    "\n",
    "            # Update parameters\n",
    "            optimizer.step()\n",
    "\n",
    "        # Calculate the average loss over the entire training data\n",
    "        avg_train_loss = total_loss / len(train_dataloader)\n",
    "\n",
    "        # =======================================\n",
    "        #               Evaluation\n",
    "        # =======================================\n",
    "        if val_dataloader is not None:\n",
    "            # After the completion of each training epoch, measure the model's\n",
    "            # performance on our validation set.\n",
    "            val_loss, val_accuracy = evaluate(model, val_dataloader)\n",
    "\n",
    "            # Track the best accuracy\n",
    "            if val_accuracy > best_accuracy:\n",
    "                best_accuracy = val_accuracy\n",
    "                torch.save(model.state_dict(), path)\n",
    "\n",
    "            # Print performance over the entire training data\n",
    "            time_elapsed = time.time() - t0_epoch\n",
    "            print(\n",
    "                f\"{epoch_i + 1:^7} | {avg_train_loss:^12.6f} | {val_loss:^10.6f} | {val_accuracy:^9.2f} | {time_elapsed:^9.2f}\"\n",
    "            )\n",
    "\n",
    "    print(\"\\n\")\n",
    "    print(f\"Training complete! Best accuracy: {best_accuracy:.2f}%.\")\n",
    "\n",
    "\n",
    "def evaluate(model, val_dataloader):\n",
    "    \"\"\"\n",
    "    After the completion of each training epoch, measure the model's\n",
    "    performance on our validation set.\n",
    "    \"\"\"\n",
    "    # Put the model into the evaluation mode.\n",
    "    model.eval()\n",
    "\n",
    "    # Tracking variables\n",
    "    val_loss = []\n",
    "    val_accuracy = []\n",
    "\n",
    "    # For each batch in our validation set...\n",
    "    for batch in val_dataloader:\n",
    "        # Load batch to GPU\n",
    "        b_input_ids, b_labels = tuple(t.to(device) for t in batch)\n",
    "\n",
    "        # Filter out the padding value\n",
    "        labels_without_pad = (b_labels != PAD)\n",
    "\n",
    "        # Get the output\n",
    "        with torch.no_grad():\n",
    "            output = model(b_input_ids)\n",
    "\n",
    "        # Compute loss\n",
    "        loss = loss_fn(output.view(-1, output.shape[-1]), b_labels.view(-1))\n",
    "        val_loss.append(loss.item())\n",
    "\n",
    "        # Get the predictions\n",
    "        preds = output.argmax(dim=2)\n",
    "\n",
    "        # Calculate the accuracy\n",
    "        correct_predictions = ((preds == b_labels) & labels_without_pad).sum().item()\n",
    "        actual_predictions = labels_without_pad.sum().item()\n",
    "        accuracy = (correct_predictions / actual_predictions) * 100\n",
    "\n",
    "        val_accuracy.append(accuracy)\n",
    "\n",
    "    # Compute the average accuracy and loss over the validation set.\n",
    "    val_loss = np.mean(val_loss)\n",
    "    val_accuracy = np.mean(val_accuracy)\n",
    "\n",
    "    return val_loss, val_accuracy\n",
    "\n"
   ]
  },
  {
   "cell_type": "code",
   "execution_count": 6,
   "metadata": {},
   "outputs": [],
   "source": [
    "t_model = gensim.models.Word2Vec.load('models/full_grams_cbow_100_twitter.mdl')\n",
    "embedding_dim = t_model.vector_size\n"
   ]
  },
  {
   "cell_type": "markdown",
   "metadata": {},
   "source": [
    "### Prepare Data"
   ]
  },
  {
   "cell_type": "code",
   "execution_count": 11,
   "metadata": {},
   "outputs": [],
   "source": [
    "aravec_embeddings_train = []\n",
    "corpus=  readFile(TRAIN_PATH)\n",
    "\n",
    "x_train = []\n",
    "y_train = []\n",
    "\n",
    "for sentence in corpus[:10]:\n",
    "\t# Clean each sentence in the corpus\n",
    "\tchar_list, diacritics_list = each_word_separate_words_and_diacritics(sentence.strip())\n",
    "\twords = [''.join(sublist) for sublist in char_list]\n",
    "\twindows=get_all_windows(' '.join(words), WINDOW_SIZE_BEFORE, WINDOW_SIZE_AFTER)\n",
    "\tfor window in windows:\n",
    "\t\tembeddings = [t_model.wv[clean_str(word)] if clean_str(word) in t_model.wv else np.zeros(embedding_dim) for word in window]\n",
    "\t\taravec_embeddings_train.append(np.mean(embeddings, axis=0))\n",
    "\tx_train.append(char_list)\n",
    "\ty_train.append(diacritics_list)\n",
    "\n",
    "X_train_padded = [torch.tensor([char_to_index[char] for char in word]) for sentence in x_train for word in sentence]\n",
    "X_train_padded = pad_sequence(X_train_padded, batch_first=True)\n",
    "\n",
    "y_train_padded = [torch.tensor([diacritic_to_index[char] for char in word]) for sentence in y_train for word in sentence]\n",
    "y_train_padded = pad_sequence(y_train_padded, batch_first=True, padding_value=PAD)"
   ]
  },
  {
   "cell_type": "code",
   "execution_count": 13,
   "metadata": {},
   "outputs": [],
   "source": [
    "aravec_embeddings_val_test = []\n",
    "\n",
    "valid_corpus = readFile(VAL_PATH)\n",
    "\n",
    "X_val = []\n",
    "y_val = []\n",
    "\n",
    "for sentence in valid_corpus[:5]:\n",
    "\t# Clean each sentence in the corpus\n",
    "\t# Get the char list for each word in the sentence and its corresponding diacritics\n",
    "  char_list, diacritics_list = each_word_separate_words_and_diacritics(sentence.strip())\n",
    "  words = [''.join(sublist) for sublist in char_list]\n",
    "  windows=get_all_windows(' '.join(words), WINDOW_SIZE_BEFORE, WINDOW_SIZE_AFTER)\n",
    "  for window in windows:\n",
    "    embeddings = [t_model.wv[clean_str(word)] if clean_str(word) in t_model.wv else np.zeros(embedding_dim) for word in window]\n",
    "    aravec_embeddings_val_test.append(np.mean(embeddings, axis=0))\n",
    "  X_val.append(char_list)\n",
    "  y_val.append(diacritics_list)\n",
    "\n",
    "X_val_padded = [torch.tensor([char_to_index[char] for char in word]) for sentence in X_val for word in sentence ]\n",
    "X_val_padded = pad_sequence(X_val_padded, batch_first=True)\n",
    "\n",
    "y_val_padded = [torch.tensor([diacritic_to_index[char] for char in word]) for sentence in y_val for word in sentence ]\n",
    "y_val_padded = pad_sequence(y_val_padded, batch_first=True, padding_value=PAD)\n"
   ]
  },
  {
   "cell_type": "markdown",
   "metadata": {},
   "source": [
    "### Initialize Model"
   ]
  },
  {
   "cell_type": "code",
   "execution_count": 14,
   "metadata": {},
   "outputs": [],
   "source": [
    "def init_model(learning_rate=LEARNING_RATE):\n",
    "    model = CNN(pretrained_embedding=torch.tensor(aravec_embeddings_train+aravec_embeddings_val_test), freeze_embedding=True)\n",
    "    path = CNN_PATH\n",
    "\n",
    "    # Send model to `device` (GPU/CPU)\n",
    "    model.to(device)\n",
    "\n",
    "    # Instantiate the optimizer\n",
    "    optimizer = torch.optim.Adam(model.parameters(), lr=learning_rate)\n",
    "\n",
    "    return path, model, optimizer"
   ]
  },
  {
   "cell_type": "markdown",
   "metadata": {},
   "source": [
    "### Execute"
   ]
  },
  {
   "cell_type": "code",
   "execution_count": 18,
   "metadata": {},
   "outputs": [
    {
     "name": "stdout",
     "output_type": "stream",
     "text": [
      "Start training...\n",
      "\n",
      " Epoch  |  Train Loss  |  Val Loss  |  Val Acc  |  Elapsed \n",
      "------------------------------------------------------------\n",
      "   1    |   2.392407   |  1.789307  |   36.75   |   4.00   \n",
      "   2    |   1.820434   |  1.718486  |   39.54   |   3.54   \n",
      "   3    |   1.774410   |  1.743381  |   40.88   |   3.69   \n",
      "   4    |   1.790493   |  1.677949  |   39.67   |   3.52   \n",
      "   5    |   1.685419   |  1.665183  |   39.99   |   3.47   \n",
      "   6    |   1.669291   |  1.558019  |   54.49   |   3.53   \n",
      "   7    |   1.582140   |  1.498251  |   48.14   |   3.45   \n",
      "   8    |   1.505941   |  1.342557  |   59.31   |   3.53   \n",
      "   9    |   1.351715   |  1.272343  |   60.73   |   3.52   \n",
      "  10    |   1.252966   |  1.217787  |   52.68   |   3.48   \n",
      "\n",
      "\n",
      "Training complete! Best accuracy: 60.73%.\n"
     ]
    }
   ],
   "source": [
    "path, model, optimizer = init_model()\n",
    "train_dataloader, val_dataloader = data_loader(X_train_padded, X_val_padded, y_train_padded, y_val_padded)\n",
    "train(path, model, optimizer, train_dataloader, val_dataloader)"
   ]
  }
 ],
 "metadata": {
  "kernelspec": {
   "display_name": "Python 3",
   "language": "python",
   "name": "python3"
  },
  "language_info": {
   "codemirror_mode": {
    "name": "ipython",
    "version": 3
   },
   "file_extension": ".py",
   "mimetype": "text/x-python",
   "name": "python",
   "nbconvert_exporter": "python",
   "pygments_lexer": "ipython3",
   "version": "3.9.2"
  }
 },
 "nbformat": 4,
 "nbformat_minor": 2
}

{
 "cells": [
  {
   "cell_type": "markdown",
   "metadata": {},
   "source": [
    "### Imports"
   ]
  },
  {
   "cell_type": "code",
   "execution_count": 1,
   "metadata": {},
   "outputs": [
    {
     "name": "stdout",
     "output_type": "stream",
     "text": [
      "15\n",
      "Char [['m', 's', '>', 'l', 'p'], ['w', 'm', 'n'], ['H', 'n', 'v'], ['w', 'h', 'w'], ['q', 'A', 'd', 'r'], ['E', 'l', 'Y'], ['A', 'l', '<', 'T', 'E', 'A', 'm'], ['>', 'w'], ['A', 'l', 'k', 's', 'w', 'p'], ['>', 'w'], ['A', 'l', 'E', 't', 'q'], ['v', 'm'], ['A', 'f', 't', 'q', 'r'], ['f', 'E', 'j', 'z'], ['E', 'n'], ['k', 'l'], ['*', 'l', 'k'], ['l', 'm'], ['y', 'j', 'z', 'h'], ['A', 'l', 'S', 'w', 'm'], ['>', 'S', 'l', 'A']]\n",
      "Diac [['a', 'o', 'a', 'a', 'N'], ['a', 'a', 'o'], ['a', 'i', 'a'], ['a', 'u', 'a'], ['a', ' ', 'i', 'N'], ['a', 'a', ' '], [' ', ' ', 'i', 'o', 'a', ' ', 'i'], ['a', 'o'], [' ', 'o', 'i', 'o', 'a', 'i'], ['a', 'o'], [' ', 'o', 'i', 'o', 'i'], ['u', '~a'], [' ', 'o', 'a', 'a', 'a'], ['a', 'a', 'a', 'a'], ['a', 'o'], ['u', '~i'], ['a', 'i', 'a'], ['a', 'o'], ['u', 'o', 'i', 'i'], [' ', ' ', '~a', 'o', 'u'], ['a', 'o', 'F', ' ']]\n",
      "38\n",
      "15\n"
     ]
    }
   ],
   "source": [
    "import torch\n",
    "from torch.utils.data import DataLoader, TensorDataset\n",
    "import torch.nn.functional as F\n",
    "from tqdm import tqdm\n",
    "import torch.nn as nn\n",
    "from torch.nn.utils.rnn import pad_sequence\n",
    "import pickle\n",
    "\n",
    "%run utils.ipynb"
   ]
  },
  {
   "cell_type": "markdown",
   "metadata": {},
   "source": [
    "### Model building"
   ]
  },
  {
   "cell_type": "code",
   "execution_count": 2,
   "metadata": {},
   "outputs": [],
   "source": [
    "class RNN(nn.Module):\n",
    "    def __init__(self, vocab_size, n_classes, embedding_dim = 200, hidden_size = 256, num_layers=3):\n",
    "        \"\"\"\n",
    "        The constructor of our RNN model\n",
    "        Inputs:\n",
    "        - vacab_size: the number of unique characters\n",
    "        - embedding_dim: the embedding dimension\n",
    "        - n_classes: the number of final classes (diacritics)\n",
    "        \"\"\"\n",
    "        super(RNN, self).__init__()\n",
    "\n",
    "        # (1) Create an embedding layer\n",
    "        self.embedding = nn.Embedding(vocab_size, embedding_dim)\n",
    "\n",
    "        # (2) Create an LSTM layer with hidden size = hidden_size and batch_first = True\n",
    "        self.lstm = nn.LSTM(embedding_dim, hidden_size, num_layers=num_layers, batch_first=True, bidirectional=True)\n",
    "\n",
    "        # (3) Create a linear layer with number of neorons = n_classes\n",
    "        self.linear = nn.Linear(hidden_size*2, n_classes)\n",
    "\n",
    "    def forward(self, sentences):\n",
    "        \"\"\"\n",
    "        This function does the forward pass of our model\n",
    "        Inputs:\n",
    "        - sentences: tensor of shape (batch_size, max_length)\n",
    "\n",
    "        Returns:\n",
    "        - final_output: tensor of shape (batch_size, max_length, n_classes)\n",
    "        \"\"\"\n",
    "\n",
    "        final_output = None\n",
    "        \n",
    "        embeddings = self.embedding(sentences)\n",
    "        lstm_out, _ = self.lstm(embeddings)\n",
    "        output = self.linear(lstm_out)\n",
    "        final_output = F.softmax(output, dim=1)\n",
    "        return final_output\n",
    "    \n",
    "\n",
    "class RNN_FastText(nn.Module):\n",
    "    def __init__(self, vocab_size, n_classes, embedding_dim = 200, hidden_size = 256, num_layers=3):\n",
    "        \"\"\"\n",
    "        The constructor of our RNN model\n",
    "        Inputs:\n",
    "        - vacab_size: the number of unique characters\n",
    "        - embedding_dim: the embedding dimension\n",
    "        - n_classes: the number of final classes (diacritics)\n",
    "        \"\"\"\n",
    "        super(RNN, self).__init__()\n",
    "\n",
    "        # Load FastText model\n",
    "        from gensim.models import FastText\n",
    "        fasttext_model = FastText.load(\"./models/ft_model\")\n",
    "\n",
    "        # Extract word embeddings from FastText model\n",
    "        words = fasttext_model.wv.index_to_key\n",
    "        weights = [fasttext_model.wv.get_vector(word) for word in words]\n",
    "        pre_trained_embeddings = torch.tensor(weights)\n",
    "\n",
    "        # (1) Create the embedding layer and load pre-trained word embeddings\n",
    "        self.embedding = nn.Embedding.from_pretrained(pre_trained_embeddings, freeze=True)\n",
    "\n",
    "        # (2) Create an LSTM layer with hidden size = hidden_size and batch_first = True\n",
    "        self.lstm = nn.LSTM(embedding_dim, hidden_size, num_layers=num_layers, batch_first=True, bidirectional=True)\n",
    "\n",
    "        # (3) Create a linear layer with number of neorons = n_classes\n",
    "        self.linear = nn.Linear(hidden_size*2, n_classes)\n",
    "\n",
    "    def forward(self, sentences):\n",
    "        \"\"\"\n",
    "        This function does the forward pass of our model\n",
    "        Inputs:\n",
    "        - sentences: tensor of shape (batch_size, max_length)\n",
    "\n",
    "        Returns:\n",
    "        - final_output: tensor of shape (batch_size, max_length, n_classes)\n",
    "        \"\"\"\n",
    "\n",
    "        final_output = None\n",
    "        \n",
    "        embeddings = self.embedding(sentences)\n",
    "        lstm_out, _ = self.lstm(embeddings)\n",
    "        output = self.linear(lstm_out)\n",
    "        final_output = F.softmax(output, dim=1)\n",
    "        return final_output"
   ]
  },
  {
   "cell_type": "code",
   "execution_count": 3,
   "metadata": {},
   "outputs": [],
   "source": [
    "save_path=\"./models/lstm.pth\""
   ]
  },
  {
   "cell_type": "markdown",
   "metadata": {},
   "source": [
    "### Train"
   ]
  },
  {
   "cell_type": "code",
   "execution_count": 4,
   "metadata": {},
   "outputs": [],
   "source": [
    "def train(model, train_dataset, train_labels, batch_size=512, epochs=20, learning_rate=0.001):\n",
    "    \"\"\"\n",
    "    This function implements the training logic\n",
    "    Inputs:\n",
    "    - model: the model to be trained\n",
    "    - train_dataset: the training set\n",
    "    - batch_size: integer represents the number of examples per step\n",
    "    - epochs: integer represents the total number of epochs (full training pass)\n",
    "    - learning_rate: the learning rate to be used by the optimizer\n",
    "    \"\"\"\n",
    "\n",
    "    # (1) create the dataloader of the training set (make the shuffle=True)\n",
    "    tensor_train_dataset = TensorDataset(train_dataset, train_labels)\n",
    "    train_dataloader = DataLoader(tensor_train_dataset, batch_size=batch_size, shuffle=True)\n",
    "\n",
    "    # (2) make the criterion cross entropy loss\n",
    "    criterion = torch.nn.CrossEntropyLoss()\n",
    "\n",
    "    # (3) create the optimizer (Adam)\n",
    "    optimizer = torch.optim.Adam(model.parameters(), lr=learning_rate)\n",
    "\n",
    "    # GPU configuration\n",
    "    use_cuda = torch.cuda.is_available()\n",
    "    device = torch.device(\"cuda\" if use_cuda else \"cpu\")\n",
    "    if use_cuda:\n",
    "        model = model.cuda()\n",
    "        criterion = criterion.cuda()\n",
    "    \n",
    "    best_accuracy = 0.0\n",
    "    for epoch_num in range(epochs):\n",
    "        total_acc_train = 0\n",
    "        total_loss_train = 0\n",
    "        \n",
    "        for train_input, train_label in tqdm(train_dataloader):\n",
    "\n",
    "            # (4) move the train input to the device\n",
    "            train_label = train_label.to(device)\n",
    "\n",
    "            # (5) move the train label to the device\n",
    "            train_input = train_input.to(device)\n",
    "\n",
    "            # (6) do the forward pass\n",
    "            output = model(train_input).float()\n",
    "\n",
    "            # (7) loss calculation (you need to think in this part how to calculate the loss correctly)\n",
    "            one_hot_train_label = F.one_hot(train_label, num_classes=15).float()\n",
    "            batch_loss = criterion(output, one_hot_train_label)\n",
    "\n",
    "            # (8) append the batch loss to the total_loss_train\n",
    "            total_loss_train += batch_loss\n",
    "            \n",
    "            # (9) calculate the batch accuracy (just add the number of correct predictions)\n",
    "            # Compare predicted diacritic with true diacritic and count correct predictions\n",
    "            correct_predictions = (output.argmax(dim=2) == train_label)\n",
    "\n",
    "            # Calculate accuracy for the current batch\n",
    "            acc = correct_predictions.sum().item()\n",
    "\n",
    "            total_acc_train += acc\n",
    "\n",
    "            # (10) zero your gradients\n",
    "            optimizer.zero_grad()\n",
    "\n",
    "            # (11) do the backward pass\n",
    "            batch_loss.backward()\n",
    "\n",
    "            # (12) update the weights with your optimizer\n",
    "            optimizer.step()     \n",
    "        \n",
    "        # epoch loss\n",
    "        epoch_loss = total_loss_train / len(train_dataset)\n",
    "\n",
    "        # (13) calculate the accuracy\n",
    "        epoch_acc = total_acc_train / (len(train_dataset) * len(train_dataset[0]))\n",
    "        print(\n",
    "            f'Epochs: {epoch_num + 1} | Train Loss: {epoch_loss} \\\n",
    "            | Train Accuracy: {epoch_acc}\\n')\n",
    "        if epoch_acc > best_accuracy:\n",
    "            best_accuracy = epoch_acc\n",
    "            torch.save(model.state_dict(), save_path)\n",
    "            print(f'Saved the best model with accuracy: {best_accuracy} to {save_path}')\n"
   ]
  },
  {
   "cell_type": "code",
   "execution_count": 5,
   "metadata": {},
   "outputs": [
    {
     "name": "stdout",
     "output_type": "stream",
     "text": [
      "[tensor([2, 1, 5, 5]), tensor([2, 1]), tensor([2, 2, 2]), tensor([0, 1, 2, 9, 5]), tensor([2, 2, 5]), tensor([0, 2, 1]), tensor([2, 0, 2]), tensor([ 0,  0,  9,  1,  2,  3, 11]), tensor([0, 1, 5]), tensor([2, 2, 2, 2]), tensor([2, 1, 5, 5]), tensor([3, 2, 1, 8]), tensor([2, 1, 2, 3, 0, 0]), tensor([2, 3, 1, 2, 0, 3]), tensor([2, 1, 3]), tensor([2, 3, 0, 8]), tensor([3, 0, 1, 3, 1, 2, 0, 3]), tensor([5, 5, 0, 2]), tensor([2, 0]), tensor([5, 3, 2]), tensor([5, 5, 0, 5, 5]), tensor([3, 1]), tensor([ 0,  0, 10,  0,  3]), tensor([2, 5, 0, 2, 7]), tensor([2, 3, 1, 2, 0, 3]), tensor([5, 1, 2, 8]), tensor([3, 2, 2, 8]), tensor([ 2,  2, 10]), tensor([5, 9, 0, 8]), tensor([0, 1, 5]), tensor([2, 2, 2, 2]), tensor([2, 1, 5]), tensor([0, 1, 3]), tensor([2, 0, 8]), tensor([2, 1]), tensor([3, 3, 1, 8]), tensor([2, 2, 2, 9, 5, 5]), tensor([5, 2]), tensor([2, 5, 1, 3]), tensor([ 0,  0, 11,  9,  0,  3]), tensor([2, 3, 1, 2, 0, 3]), tensor([0, 1, 5, 1, 2, 3]), tensor([3, 0]), tensor([2, 3, 0, 3]), tensor([0, 0, 9, 2, 0, 2, 3]), tensor([ 2,  0,  0, 11,  5,  0,  3]), tensor([3, 0, 9, 2, 3]), tensor([2, 2, 1, 3]), tensor([2, 3, 2]), tensor([2, 3, 1, 8]), tensor([5, 2, 9, 6]), tensor([2, 1, 5]), tensor([2, 0, 3, 8]), tensor([2, 2, 1, 2, 0, 3, 3]), tensor([2, 9]), tensor([0, 0, 9, 0, 3, 2]), tensor([2, 0, 3, 6]), tensor([3, 2, 0, 9, 3]), tensor([2, 2, 0, 2, 0]), tensor([2, 0, 2]), tensor([2, 0, 3, 6]), tensor([5, 2]), tensor([ 2,  0,  0, 10,  1,  3,  0,  3]), tensor([0, 2, 0]), tensor([2, 3, 2]), tensor([ 0,  0, 10,  1,  2]), tensor([3, 2, 1, 3, 3]), tensor([5, 3, 2]), tensor([2, 2, 1]), tensor([5, 1, 2, 2, 1]), tensor([2, 1, 5, 5]), tensor([3, 2, 2, 3]), tensor([2, 0]), tensor([2, 2, 2, 9, 5]), tensor([0, 2, 1]), tensor([2, 1]), tensor([0, 1, 2, 3, 9, 5]), tensor([2, 1, 5, 5]), tensor([2, 0]), tensor([2, 9]), tensor([2, 1]), tensor([5, 2, 1, 2]), tensor([2, 1, 3]), tensor([0, 1, 2, 1, 3]), tensor([2, 2, 1]), tensor([2, 2, 1]), tensor([0, 1, 2, 2, 2]), tensor([2, 2, 0]), tensor([2, 1, 2, 1, 0]), tensor([2, 5]), tensor([3, 2, 0, 8]), tensor([2, 1]), tensor([2, 1, 5, 0, 5]), tensor([2, 0, 7]), tensor([2, 2, 0]), tensor([2, 2, 2]), tensor([2, 5]), tensor([3, 1, 2]), tensor([0, 1, 2, 1, 3]), tensor([2, 1]), tensor([2, 1, 5, 5]), tensor([0, 1, 2, 3, 9, 5]), tensor([2, 1]), tensor([5, 1, 2, 2, 0]), tensor([2, 5]), tensor([2, 0, 6]), tensor([2, 5, 1, 2, 5]), tensor([3, 1]), tensor([2, 1, 3, 3]), tensor([0, 1, 0, 3, 0]), tensor([2, 2, 0]), tensor([2, 1]), tensor([2, 1]), tensor([2, 5, 1]), tensor([3, 1]), tensor([2, 0, 3, 0]), tensor([2, 2, 0]), tensor([3, 1]), tensor([2, 2, 3, 0]), tensor([2, 9, 2, 0]), tensor([2, 0]), tensor([2, 1, 5, 5]), tensor([2, 3, 2, 0, 2, 5]), tensor([0, 1, 2, 1, 3]), tensor([2, 2, 1]), tensor([2, 1]), tensor([2, 5, 1]), tensor([3, 1]), tensor([2, 0, 3, 0]), tensor([2, 2, 0]), tensor([3, 1]), tensor([2, 2, 3, 0]), tensor([2, 1]), tensor([2, 2, 2, 9, 1]), tensor([2, 2, 5, 5]), tensor([0, 1]), tensor([2, 0, 2, 1]), tensor([0, 1, 2, 2, 1]), tensor([0]), tensor([0]), tensor([0, 0]), tensor([2, 1, 5, 5]), tensor([2, 5, 1, 2, 0]), tensor([2, 0, 3, 2, 7]), tensor([3, 1, 2, 0]), tensor([0, 2, 1]), tensor([2, 2, 0]), tensor([2, 1]), tensor([2, 0, 2, 1]), tensor([2, 1, 5, 0, 2, 7]), tensor([3, 1, 2]), tensor([0, 1, 2, 3, 9, 3]), tensor([2, 0, 1, 2, 1, 3]), tensor([2, 2, 0]), tensor([2, 5, 0, 5]), tensor([2, 1]), tensor([5, 1, 2, 0]), tensor([2, 0, 3, 2, 7]), tensor([3, 1]), tensor([2, 1, 3]), tensor([2, 2, 3, 3]), tensor([3, 0]), tensor([ 0,  0, 11,  0,  2,  2,  1,  3]), tensor([2, 3, 1]), tensor([2, 2, 0, 2, 2, 0]), tensor([3, 2, 9, 5]), tensor([5, 1, 6]), tensor([2, 2, 0]), tensor([2, 1, 5, 0, 8]), tensor([5, 1, 3, 0]), tensor([2, 3, 2, 0, 2, 6]), tensor([2, 0, 2]), tensor([0]), tensor([0]), tensor([2, 1, 5, 5]), tensor([2, 0, 3, 2, 7]), tensor([3, 1, 2, 0]), tensor([2, 1]), tensor([2, 0, 3, 2, 7]), tensor([2, 2, 0]), tensor([2, 5, 0, 5]), tensor([2, 1]), tensor([5, 1, 2, 0]), tensor([3, 1, 2, 1, 3]), tensor([3, 1]), tensor([2, 0, 2, 1, 3]), tensor([3, 2, 9, 5]), tensor([2, 0]), tensor([5, 2, 9, 0]), tensor([2, 0, 7]), tensor([2, 2, 1, 5, 5]), tensor([2, 2, 0]), tensor([2, 5, 0, 5]), tensor([2, 1]), tensor([5, 1, 2, 0]), tensor([2, 0, 3, 2, 7]), tensor([3, 1]), tensor([2, 1, 3]), tensor([2, 2, 3, 3]), tensor([2, 2, 1, 2, 3, 0]), tensor([2, 1]), tensor([5, 2, 0, 2]), tensor([3, 1, 5]), tensor([2, 3, 2]), tensor([3, 0]), tensor([0, 1, 2, 3, 9, 0, 3]), tensor([0]), tensor([0]), tensor([2, 2, 2, 2, 0, 6]), tensor([2, 1, 5]), tensor([2, 1, 5, 0, 8]), tensor([2, 0, 3, 2, 6]), tensor([2, 0, 2]), tensor([2, 1, 5, 5, 1]), tensor([5, 1, 2, 5]), tensor([3, 1]), tensor([2, 1, 3]), tensor([2, 2, 0, 3]), tensor([0, 1, 3, 1, 3]), tensor([2, 2, 5]), tensor([2, 2, 0, 3]), tensor([ 5,  3, 10]), tensor([0, 1, 2, 1, 2, 3]), tensor([2, 0, 1, 2, 2, 0, 3, 3]), tensor([3, 1]), tensor([2, 2, 0, 3, 0, 2]), tensor([2, 2, 2, 0, 3, 2]), tensor([2, 2, 2, 0, 3, 3]), tensor([2, 1, 2, 0, 8]), tensor([2, 2, 1, 5, 5]), tensor([2, 3, 2, 1, 5]), tensor([3, 2, 0]), tensor([5, 1, 2, 0]), tensor([5, 3, 0, 5]), tensor([2, 1, 2, 5]), tensor([3, 2, 9]), tensor([0, 1, 2, 1, 2]), tensor([2, 1, 2, 5, 2, 0]), tensor([2, 1, 5, 0, 6]), tensor([3, 0]), tensor([ 2, 10]), tensor([ 0,  1,  0,  2,  0,  3, 10]), tensor([2, 1, 5, 5]), tensor([2, 2, 1]), tensor([0, 1]), tensor([2, 9, 2, 2, 0]), tensor([2, 1, 2]), tensor([2, 1, 3, 3]), tensor([2, 3, 1, 5, 5]), tensor([2, 2]), tensor([0, 1, 2, 1, 3]), tensor([2, 3, 1]), tensor([2, 0, 2]), tensor([ 0,  1,  2,  0,  2,  1,  3, 11]), tensor([ 2,  0,  0, 11,  0,  2,  0,  3, 11]), tensor([2, 1, 3, 0, 7, 0]), tensor([2, 2, 0]), tensor([2, 3, 2]), tensor([ 5,  2, 10,  5,  5]), tensor([0, 1, 2, 1, 2, 2]), tensor([3, 1]), tensor([3, 2, 0, 2, 3]), tensor([0, 1, 2, 2, 3]), tensor([2, 2, 0]), tensor([2, 1]), tensor([2, 1, 2, 2, 2, 0]), tensor([2, 2, 0, 3, 2]), tensor([2, 3, 9, 5]), tensor([2, 2, 2, 9, 5]), tensor([2, 0, 3, 5]), tensor([2, 2, 0, 3, 3]), tensor([0, 1, 2, 2, 3]), tensor([2, 1]), tensor([2, 3, 1]), tensor([2, 1]), tensor([2, 2, 0]), tensor([2, 5, 0, 5]), tensor([2, 1]), tensor([2, 5, 0, 2]), tensor([2, 1]), tensor([2, 1, 3]), tensor([0, 1, 2, 2, 0, 3]), tensor([2, 5, 1, 3, 2]), tensor([2, 1]), tensor([2, 1, 8]), tensor([2, 9]), tensor([2, 2, 1, 3]), tensor([3, 2, 9, 2, 0]), tensor([2, 9, 0, 2, 6]), tensor([2, 0, 3, 2, 6]), tensor([2, 2, 1]), tensor([2, 5, 1]), tensor([3, 0, 2, 0]), tensor([2, 2, 0, 3, 3]), tensor([0, 1, 2, 9, 0, 2, 0, 3]), tensor([2, 1]), tensor([2, 2, 2]), tensor([2, 2, 0, 2, 6]), tensor([2, 1, 7, 0]), tensor([ 3,  0,  0, 10,  1,  3]), tensor([3, 2, 1, 2, 5, 0, 2, 0]), tensor([3, 0, 0, 9, 3, 2, 3]), tensor([2, 2, 0, 2]), tensor([2, 2, 5, 5, 1]), tensor([2, 2, 2, 2]), tensor([0, 1, 2, 0, 3]), tensor([2, 1, 2]), tensor([0, 1, 2, 1, 3]), tensor([ 5, 13,  0]), tensor([2, 2, 2, 2]), tensor([0, 0, 9, 0, 3, 5]), tensor([2, 2, 2, 2]), tensor([2, 1, 2]), tensor([0, 1, 2, 1, 3]), tensor([2, 3, 0, 7, 0]), tensor([2, 2, 1]), tensor([2, 0, 2]), tensor([2, 3, 2]), tensor([3, 3, 1, 3]), tensor([ 5, 10]), tensor([2, 0, 3, 8]), tensor([3, 1, 5, 1]), tensor([ 2,  0,  1,  5, 11]), tensor([2, 1, 2, 5, 1]), tensor([2, 2, 1, 3, 5]), tensor([ 2, 11]), tensor([ 0,  1,  5, 10]), tensor([3, 5, 5, 3]), tensor([ 0,  1,  5, 10]), tensor([2, 2, 0]), tensor([0, 0, 9, 0, 3, 3]), tensor([2, 0, 0, 9, 3, 0, 5]), tensor([2, 1, 2, 5, 1]), tensor([2, 1, 7, 0]), tensor([2, 1]), tensor([2, 1, 3, 5]), tensor([5, 2]), tensor([2, 1, 7, 0]), tensor([2, 2, 1, 3, 2, 0]), tensor([3, 5, 5, 2, 1]), tensor([0, 0, 9, 3, 0, 3]), tensor([0, 9, 3, 0]), tensor([2, 2, 2]), tensor([2, 1, 2]), tensor([2, 1, 3]), tensor([2, 3, 0, 3]), tensor([ 2, 10]), tensor([0, 1, 2, 1, 3]), tensor([2, 2, 1]), tensor([2, 2, 5, 0, 0]), tensor([3, 2, 0]), tensor([0, 1, 8]), tensor([ 2,  0,  1,  5, 11]), tensor([5, 5, 5, 5]), tensor([ 3,  2, 10]), tensor([0, 1, 2, 1, 3]), tensor([2, 5, 5, 2, 0, 5]), tensor([2, 5, 2, 0]), tensor([2, 2, 1, 2, 2, 0, 3]), tensor([5, 1, 2, 0, 2]), tensor([5, 5, 3]), tensor([0, 1, 2, 1, 3]), tensor([2, 2, 9, 0]), tensor([ 2, 11]), tensor([0, 0, 9, 3, 0, 3]), tensor([2, 2, 1, 2, 5]), tensor([2, 1, 2, 0, 3, 3]), tensor([2, 5]), tensor([ 2,  3,  2, 10]), tensor([0, 1, 2, 1, 3]), tensor([5, 5, 5, 5]), tensor([3, 2, 9]), tensor([5, 5, 2, 1]), tensor([0, 0, 9, 3, 0, 3]), tensor([5, 3, 2]), tensor([2, 1, 7, 0]), tensor([2, 5, 2]), tensor([2, 5]), tensor([2, 5, 5, 5, 5]), tensor([5, 3, 2]), tensor([ 3,  2, 14]), tensor([2, 2, 2, 1, 3]), tensor([5, 1, 2, 0, 5]), tensor([0, 1, 2, 1, 3]), tensor([3, 0]), tensor([2, 1, 3]), tensor([5, 5, 2, 1]), tensor([2, 3, 2]), tensor([2, 2, 0]), tensor([3, 0]), tensor([0, 1, 5, 5, 0, 2, 1, 3]), tensor([3, 1]), tensor([2, 1, 2, 0, 3]), tensor([0, 1, 5, 2, 0, 2, 2, 3]), tensor([ 2,  5,  2, 11]), tensor([2, 1]), tensor([5, 2, 0, 2]), tensor([2, 1]), tensor([2, 0, 3, 2, 8]), tensor([2, 3, 0, 2, 8]), tensor([3, 1]), tensor([2, 2, 8]), tensor([2, 5, 0, 8]), tensor([2, 5, 9, 0, 8]), tensor([ 2,  5, 10,  2]), tensor([2, 1, 5]), tensor([2, 2, 0, 2, 1]), tensor([3, 9, 2, 0]), tensor([2, 2, 1, 5]), tensor([0, 0]), tensor([2, 1, 2, 3, 2, 2]), tensor([2, 2, 2, 0]), tensor([5, 1, 3, 2, 6]), tensor([3, 9, 3]), tensor([2, 1, 7, 0]), tensor([0, 0]), tensor([0]), tensor([2, 2, 0, 2]), tensor([2, 1, 5]), tensor([0, 1, 3, 1, 2, 0, 3]), tensor([2, 1, 7, 0]), tensor([2, 2, 1]), tensor([5, 3, 1, 0]), tensor([2, 1]), tensor([2, 2, 3]), tensor([2, 3, 3]), tensor([0, 1, 2, 1, 2, 2, 3]), tensor([2, 5, 2]), tensor([2, 5, 6]), tensor([2, 2, 9, 2]), tensor([3, 0, 1, 2, 2, 3]), tensor([2, 1, 3, 3]), tensor([2, 2, 2, 0]), tensor([3, 2, 0]), tensor([5, 9]), tensor([2, 0, 2]), tensor([3, 1]), tensor([2, 3, 2]), tensor([2, 2, 2, 2, 5]), tensor([2, 1, 5, 2, 0]), tensor([2, 1]), tensor([2, 3, 2]), tensor([2, 2, 1, 2, 2]), tensor([2, 2, 2, 2]), tensor([0, 1, 3, 1, 2, 0, 2, 5]), tensor([2, 3, 1]), tensor([2, 2, 2]), tensor([2, 2, 0]), tensor([2, 1, 3]), tensor([2, 1, 5, 5]), tensor([3, 2, 0]), tensor([3, 0, 3]), tensor([3, 1]), tensor([2, 1, 3]), tensor([0, 0, 9, 1, 3]), tensor([3, 0]), tensor([0, 0, 9, 1, 3]), tensor([2, 1]), tensor([3, 2, 9]), tensor([ 0,  0, 10,  9,  2]), tensor([2, 3, 1]), tensor([2, 1]), tensor([2, 1, 2, 1]), tensor([0, 1, 5, 2, 9, 2]), tensor([2, 3, 9, 2, 0]), tensor([2, 1, 2, 5]), tensor([2, 2, 0, 3, 2, 5]), tensor([2, 2, 1, 5]), tensor([0, 1, 2, 2, 0, 3, 3]), tensor([2, 1, 2]), tensor([2, 1, 7, 0]), tensor([3, 1, 2, 2, 0, 3, 3]), tensor([2, 2, 0]), tensor([5, 2]), tensor([2, 1, 5]), tensor([0, 1, 3]), tensor([0, 1, 2, 0, 3, 3]), tensor([2, 0, 5, 0, 0]), tensor([3, 2, 9, 5]), tensor([2, 1]), tensor([2, 2, 2]), tensor([2, 2, 1, 3, 1]), tensor([2, 1, 5, 2, 0]), tensor([2, 2, 2, 2, 1]), tensor([0, 0, 9, 2, 0, 5]), tensor([3, 2, 1, 3, 2, 0]), tensor([2, 3, 0]), tensor([0, 1, 5, 3, 0, 3]), tensor([0, 1, 2, 1, 2, 2]), tensor([2, 0, 7]), tensor([3, 5, 1, 3, 2]), tensor([2, 1, 7, 0]), tensor([2, 1]), tensor([ 2,  3, 13,  0]), tensor([2, 0]), tensor([2, 5, 0, 5]), tensor([3, 2, 9]), tensor([3, 2, 2, 3]), tensor([0, 1, 2, 2, 0, 3, 3]), tensor([3, 0, 2, 7]), tensor([2, 2, 2, 2, 1]), tensor([0, 1, 3, 2, 0, 2, 5]), tensor([2, 2, 1, 3]), tensor([2, 5, 2]), tensor([2, 1, 5, 0, 6]), tensor([2, 2, 0]), tensor([2, 5, 0, 5]), tensor([2, 2, 1, 2]), tensor([3, 2, 2, 3]), tensor([0, 1, 2, 1, 2, 3]), tensor([3, 0, 2, 6]), tensor([2, 2, 0]), tensor([2, 2, 5]), tensor([0, 1, 3, 2, 0, 2, 5]), tensor([2, 2, 1, 3]), tensor([2, 3, 9, 2, 0]), tensor([2, 2, 5]), tensor([2, 2, 0]), tensor([3, 1, 3]), tensor([0, 1, 3, 1, 2, 0, 3]), tensor([2, 0, 0, 9, 1, 3, 2, 3]), tensor([2, 0, 1, 2, 2, 0, 2, 3]), tensor([ 2,  1,  2,  3, 12]), tensor([2, 2, 1, 2]), tensor([2, 5]), tensor([2, 1, 5]), tensor([2, 2, 2, 8]), tensor([2, 2, 0]), tensor([2, 0, 3, 3]), tensor([2, 0, 3, 3]), tensor([2, 1]), tensor([0, 1, 2, 0, 3, 3]), tensor([0, 1, 5, 1, 2, 2, 3]), tensor([3, 2, 0]), tensor([0, 1, 3, 3]), tensor([0, 9, 0]), tensor([3, 1, 2]), tensor([0, 0, 9, 5, 0, 2, 3]), tensor([3, 2, 1]), tensor([2, 0]), tensor([5, 1, 3, 2, 5]), tensor([0, 0, 9, 1, 3, 0, 5]), tensor([0, 9, 0]), tensor([3, 3]), tensor([2, 1]), tensor([3, 2, 1, 3]), tensor([0, 1, 2, 2, 3]), tensor([2, 2, 0]), tensor([2, 0, 3, 3]), tensor([0, 1, 2, 0, 3]), tensor([2, 1]), tensor([0, 1, 5, 1, 2, 2, 3]), tensor([2, 2, 5, 0, 5]), tensor([2, 1, 5, 5]), tensor([2, 2, 0, 6]), tensor([2, 0, 2]), tensor([2, 5]), tensor([2, 0, 3, 6]), tensor([2, 0, 3, 6]), tensor([2, 1]), tensor([2, 0, 3, 2, 0, 3]), tensor([3, 2, 3, 0, 3]), tensor([2, 5, 0]), tensor([5, 2, 1, 2, 2]), tensor([2, 1, 5, 0, 7, 0]), tensor([2, 0]), tensor([2, 1, 2, 2, 9]), tensor([2, 0, 6]), tensor([2, 0, 2, 5]), tensor([2, 1]), tensor([2, 2, 2]), tensor([2, 2, 2, 7]), tensor([2, 2, 0]), tensor([3, 2, 0, 3, 3]), tensor([5, 9]), tensor([2, 5, 0, 5]), tensor([2, 5, 0]), tensor([5, 2, 1, 2, 2]), tensor([2, 0]), tensor([3, 0]), tensor([2, 2, 0, 5, 1]), tensor([2, 1, 2, 0]), tensor([5, 1, 3, 3, 0, 2]), tensor([2, 2, 0, 9, 3]), tensor([2, 2, 1, 3, 2, 9]), tensor([3, 2, 0]), tensor([2, 1, 2]), tensor([2, 1, 2, 0, 3, 5, 1]), tensor([5, 9, 2, 6]), tensor([2, 2, 1, 3]), tensor([2, 2, 1, 2, 0, 5]), tensor([2, 2, 2, 2, 9]), tensor([2, 3, 3]), tensor([ 0,  0, 11,  9,  2]), tensor([2, 1, 2]), tensor([2, 1, 2, 0, 3, 5, 1]), tensor([2, 3, 2, 1, 3, 2, 0, 5, 1]), tensor([2, 2, 0]), tensor([0, 1, 2, 2, 3]), tensor([3, 2, 0]), tensor([2, 3, 0, 2]), tensor([2, 1, 2, 0, 5]), tensor([2, 2, 2, 2, 9]), tensor([5, 5, 0, 2]), tensor([0, 1, 3, 0, 2, 0, 3]), tensor([2, 2, 0]), tensor([2, 1, 2, 0, 3, 5, 1]), tensor([5, 2, 0, 2, 2, 7]), tensor([2, 3, 2, 9, 5]), tensor([0, 1, 3, 2, 0, 6]), tensor([3, 2, 0, 3, 3]), tensor([2, 0, 3, 3]), tensor([2, 2, 0]), tensor([2, 1, 8]), tensor([2, 0]), tensor([ 2,  5, 11]), tensor([3, 3]), tensor([2, 1, 2, 2]), tensor([0, 3, 0, 1, 3, 2, 0, 2]), tensor([0, 2, 1, 3]), tensor([2, 3, 1]), tensor([2, 1, 2, 2]), tensor([2, 1, 5, 5]), tensor([2, 2, 0]), tensor([2, 1, 3, 3]), tensor([2, 1]), tensor([2, 5, 1]), tensor([2, 1, 5, 5]), tensor([2, 2, 1, 3]), tensor([0, 9, 0]), tensor([3, 3, 1, 3]), tensor([ 2, 10,  3]), tensor([2, 3, 1]), tensor([2, 1]), tensor([5, 1, 3, 1]), tensor([0, 9, 0]), tensor([3, 3]), tensor([2, 0, 2]), tensor([2, 2, 1]), tensor([2, 0, 2]), tensor([0, 1, 2, 0, 3, 5]), tensor([3, 2, 3, 0, 8]), tensor([2, 2, 1, 5, 0, 8]), tensor([2, 1]), tensor([5, 2, 0, 2, 8]), tensor([2, 1]), tensor([2, 1, 8]), tensor([2, 2, 1, 3, 3]), tensor([3, 5, 5, 0, 3]), tensor([2, 0]), tensor([2, 2, 2]), tensor([2, 0]), tensor([2, 1]), tensor([2, 2, 2, 9, 1]), tensor([0, 1, 2, 0, 3, 5]), tensor([3, 2, 1, 3]), tensor([0, 1, 2, 2, 3]), tensor([2, 2, 1, 3]), tensor([2, 5, 9, 1]), tensor([0, 1, 3, 1, 2, 5]), tensor([3, 2, 0, 3, 8]), tensor([2, 2, 0]), tensor([0, 1, 2, 0, 3, 3]), tensor([2, 1]), tensor([3, 0, 3, 3]), tensor([3, 2, 2, 2, 9, 2]), tensor([3, 1]), tensor([2, 1, 3, 0, 3]), tensor([0, 1, 5, 9, 0, 3]), tensor([2, 5, 2, 0, 2, 2, 3, 3, 1]), tensor([2, 5, 1, 2, 3]), tensor([0, 1, 5, 1, 2, 3]), tensor([2, 1, 2, 5, 1]), tensor([2, 2, 2, 2, 9, 2]), tensor([3, 1]), tensor([3, 2, 0, 3, 3, 1]), tensor([2, 3, 2, 0, 2, 3]), tensor([0, 1, 5, 1, 3, 3, 0, 2]), tensor([2, 5, 1, 3, 2, 5, 1]), tensor([2, 2, 9]), tensor([2, 2, 1, 3]), tensor([5, 5, 0, 5]), tensor([0, 1, 3, 2, 0, 3]), tensor([2, 1, 2, 2]), tensor([5, 1, 2, 5, 0, 0]), tensor([3, 2, 1, 8]), tensor([2, 1]), tensor([3, 2, 9, 5, 1]), tensor([5, 5, 0, 0]), tensor([0, 2, 0]), tensor([0, 0, 9, 2, 0, 2, 3]), tensor([2, 2, 1, 3]), tensor([3, 1, 5]), tensor([2, 1]), tensor([2, 5, 0, 2]), tensor([ 3,  2, 14]), tensor([2, 2, 0]), tensor([2, 1]), tensor([2, 2, 2, 5]), tensor([ 3,  0,  0, 10,  2,  0]), tensor([2, 2, 2, 2]), tensor([0, 1, 2, 0, 3, 5]), tensor([2, 3, 0, 3]), tensor([2, 1]), tensor([2, 1, 2, 5, 0, 0]), tensor([2, 5]), tensor([3, 3, 2, 0, 5]), tensor([3, 2, 1, 5, 2]), tensor([2, 1, 5]), tensor([ 2, 11]), tensor([2, 1, 3, 3]), tensor([2, 2, 2, 1, 3]), tensor([2, 1, 2, 3, 0]), tensor([2, 1, 5]), tensor([2, 1, 3]), tensor([2, 1, 2, 2]), tensor([2, 0, 1, 2, 0, 3, 5]), tensor([2, 0, 1, 2, 0, 2, 5]), tensor([0, 1, 2, 0, 3, 0]), tensor([3, 2, 0, 6]), tensor([2, 9, 5]), tensor([2, 2, 0]), tensor([2, 1, 2, 5]), tensor([2, 3, 2]), tensor([3, 0, 0, 9, 1, 3, 0, 3]), tensor([2, 0, 3, 7, 0]), tensor([2, 2, 1]), tensor([2, 1, 3]), tensor([2, 1, 2, 5]), tensor([ 5, 10,  2]), tensor([3, 0, 0, 9, 1, 3, 0, 3]), tensor([ 2,  1,  3, 12]), tensor([3, 1, 2, 1, 5, 0, 3]), tensor([2, 2, 0]), tensor([2, 0, 2]), tensor([3, 1, 2, 2, 0]), tensor([3, 2, 2, 3, 5, 1]), tensor([2, 1]), tensor([2, 5, 0, 2]), tensor([2, 3, 0, 0]), tensor([2, 9, 5]), tensor([2, 2, 0]), tensor([2, 1]), tensor([5, 2]), tensor([ 5, 10,  2]), tensor([2, 2, 2, 9, 5]), tensor([2, 0, 2]), tensor([2, 1]), tensor([2, 1, 2]), tensor([3, 1]), tensor([3, 2, 3]), tensor([2, 1, 3, 0]), tensor([2, 1, 2, 7]), tensor([2, 1]), tensor([0, 0, 9, 2, 0, 3]), tensor([2, 2, 3, 9]), tensor([0, 0, 9, 2]), tensor([2, 9, 0, 3, 0]), tensor([3, 2, 1, 2, 0]), tensor([ 2,  2,  5, 11,  5]), tensor([2, 1, 7, 0]), tensor([2, 3, 0, 5]), tensor([0, 1, 3]), tensor([2, 1, 5, 0, 8]), tensor([ 0,  1,  5,  2,  2, 10,  5]), tensor([2, 1, 5, 5]), tensor([2, 3, 9, 0]), tensor([2, 1]), tensor([2, 3, 1]), tensor([0, 1, 2, 2, 2, 1]), tensor([2, 0, 2, 5, 2, 0]), tensor([3, 2, 0, 2, 6]), tensor([2, 5, 1, 3, 0]), tensor([2, 9, 0]), tensor([2, 1, 5, 5]), tensor([2, 0, 1, 2, 1, 5, 0, 5]), tensor([2, 0]), tensor([5, 1, 2, 2, 0, 5]), tensor([0, 9, 0]), tensor([3, 2, 5, 0, 2, 8]), tensor([5, 0, 3, 5]), tensor([2, 9]), tensor([2, 0]), tensor([5, 1, 2, 5, 5]), tensor([2, 3, 0, 6]), tensor([2, 2, 9, 0, 5]), tensor([2, 1, 5]), tensor([5, 2, 0, 8]), tensor([3, 0]), tensor([2, 1, 3]), tensor([0, 1, 2, 1, 3]), tensor([2, 1, 7, 0]), tensor([2, 3, 2, 9]), tensor([2, 3, 2]), tensor([0, 1, 3, 0, 2, 0, 2]), tensor([0, 9, 2, 0]), tensor([5, 2, 2, 9, 5]), tensor([2, 1]), tensor([2, 1]), tensor([2, 2, 9, 2, 1]), tensor([0, 0, 9, 5, 0, 2, 5]), tensor([3, 0]), tensor([2, 1, 3]), tensor([0, 1, 2, 1, 3]), tensor([2, 1, 7, 0]), tensor([2, 2, 1, 2]), tensor([2, 2, 1, 2]), tensor([2, 2, 1]), tensor([0, 1, 2, 0, 3, 0]), tensor([5, 2, 1, 8]), tensor([5, 1, 2, 2, 5]), tensor([2, 1]), tensor([2, 2, 2, 9, 2]), tensor([5, 1, 2, 7]), tensor([2, 2, 0]), tensor([2, 1]), tensor([2, 1, 2, 2]), tensor([2, 1, 2]), tensor([2, 1, 5, 3]), tensor([ 0,  1,  2, 10]), tensor([2, 5, 1, 2, 2, 5]), tensor([2, 9, 5]), tensor([2, 1, 2, 0]), tensor([2, 2, 0]), tensor([2, 0]), tensor([2, 0, 2]), tensor([2, 2, 2, 1, 3]), tensor([ 0,  0,  9,  2, 11,  5]), tensor([2, 3, 1]), tensor([2, 9, 2]), tensor([5, 1, 2, 7]), tensor([2, 2, 0]), tensor([2, 1]), tensor([ 2, 13,  0]), tensor([2, 0, 2]), tensor([2, 2, 1]), tensor([2, 0, 2, 5]), tensor([ 0,  1,  2, 11]), tensor([2, 0, 1, 2, 9, 5]), tensor([2, 1, 2, 5]), tensor([2, 2, 1]), tensor([2, 0, 2]), tensor([0, 1, 2, 1, 5]), tensor([2, 0, 1, 5, 9, 2, 5]), tensor([2, 2, 0]), tensor([2, 0, 2]), tensor([ 0,  1,  3,  1,  2,  3, 11]), tensor([2, 5, 2]), tensor([5, 1, 2, 2, 0]), tensor([2, 2, 0, 3]), tensor([0, 1, 2, 1, 2, 0, 3]), tensor([2, 9]), tensor([2, 5]), tensor([2, 1, 2, 5]), tensor([0, 2, 0]), tensor([2, 0]), tensor([2, 0, 2]), tensor([2, 2, 5, 0, 5]), tensor([3, 1, 2]), tensor([2, 1, 3, 3]), tensor([0, 2, 0]), tensor([ 0,  1,  2, 10]), tensor([2, 2, 1]), tensor([2, 1, 2, 2]), tensor([ 3,  0,  1,  2, 10]), tensor([3, 0]), tensor([3, 1, 2]), tensor([0, 1, 2, 0, 2, 3]), tensor([2, 2, 9, 0]), tensor([0, 2, 0]), tensor([2, 0, 2, 1]), tensor([0, 1, 2, 2, 0, 2, 0]), tensor([ 5, 11,  2,  0]), tensor([3, 1, 3, 2, 0, 3]), tensor([2, 3, 9, 5]), tensor([5, 2, 9, 5]), tensor([0, 1, 2, 1, 2, 0]), tensor([2, 0, 1, 2, 1, 2, 0]), tensor([2, 2, 0]), tensor([5, 1, 2, 5]), tensor([3, 2, 0]), tensor([2, 2, 2]), tensor([3, 3]), tensor([ 0,  1,  2, 10,  5]), tensor([2, 9, 0]), tensor([3, 0, 2]), tensor([2, 1]), tensor([2, 0, 2]), tensor([3, 1]), tensor([0, 1, 2, 2, 0, 2, 0]), tensor([3, 1, 6]), tensor([5, 1, 2, 6]), tensor([2, 0, 2]), tensor([5, 2, 9, 7, 0]), tensor([2, 2, 0]), tensor([2, 1, 3, 3]), tensor([3, 1]), tensor([0, 1, 2, 2, 0, 2, 0]), tensor([2, 2, 9, 0]), tensor([0, 2, 0]), tensor([0, 1, 2, 2, 1]), tensor([3, 0]), tensor([0, 1, 5, 9, 3]), tensor([2, 3, 9, 5, 1]), tensor([ 2,  2,  2,  0, 11,  0,  2]), tensor([2, 2, 1, 2, 0, 5]), tensor([2, 1]), tensor([2, 1, 3, 2]), tensor([ 5, 11]), tensor([2, 0, 3, 8]), tensor([ 3,  2, 10,  3]), tensor([3, 0]), tensor([ 0,  0, 11,  5,  3]), tensor([2, 2, 0]), tensor([2, 1, 2, 5]), tensor([3, 2, 0]), tensor([2, 2, 2]), tensor([ 0,  1,  2, 10,  5]), tensor([2, 3, 1]), tensor([2, 0, 2, 1]), tensor([ 5, 11,  2,  0]), tensor([2, 2, 0, 3, 2]), tensor([2, 2, 1, 2]), tensor([2, 1, 6]), tensor([3, 1, 2, 0]), tensor([2, 1, 7, 0]), tensor([3, 2, 1]), tensor([2, 1, 2, 0]), tensor([2, 1]), tensor([5, 2, 9]), tensor([2, 1, 5]), tensor([ 2,  2, 11,  7,  0]), tensor([2, 1]), tensor([2, 1, 2, 0]), tensor([3, 2, 1]), tensor([5, 1, 2, 2]), tensor([2, 1, 5]), tensor([2, 2, 2, 7]), tensor([2, 2, 1]), tensor([ 5,  2, 10,  1,  2,  0]), tensor([ 2,  2, 11,  7,  0]), tensor([2, 1]), tensor([2, 1, 2, 0]), tensor([3, 2, 1]), tensor([5, 2, 2, 9, 2]), tensor([2, 1, 5]), tensor([2, 2, 0]), tensor([0, 1, 5, 2, 2, 0, 3]), tensor([2, 0]), tensor([3, 2, 1, 2, 0, 3, 3, 1]), tensor([2, 3, 9, 5]), tensor([5, 1, 2, 5]), tensor([3, 2, 0]), tensor([2, 2, 2]), tensor([3, 3]), tensor([ 0,  1,  2, 10,  5]), tensor([2, 9]), tensor([5, 2, 9, 6]), tensor([2, 3, 2, 5]), tensor([0, 0, 9, 5]), tensor([2, 2, 0, 2, 0]), tensor([2, 2, 0]), tensor([2, 2, 0]), tensor([3, 0]), tensor([2, 0, 3, 3]), tensor([ 0,  0, 10,  2,  0,  2,  3]), tensor([2, 2, 2, 3, 2]), tensor([0, 1, 2, 3, 9, 5]), tensor([3, 3, 1, 3]), tensor([0, 0, 9, 2, 2, 3]), tensor([2, 0]), tensor([3, 2, 1, 3, 2, 0]), tensor([2, 9, 1]), tensor([3, 9, 3]), tensor([2, 2, 0, 2, 0]), tensor([2, 0]), tensor([3, 1, 2, 1, 3]), tensor([2, 2, 0]), tensor([3, 0]), tensor([0, 1, 5, 3, 0, 3]), tensor([2, 3, 2, 0]), tensor([2, 2, 2]), tensor([2, 1]), tensor([2, 2, 0, 2]), tensor([0, 1, 5, 5, 0, 2]), tensor([3, 1]), tensor([2, 9, 2]), tensor([0, 1, 5, 2, 9, 2, 2]), tensor([2, 0, 2]), tensor([3, 1, 2, 2, 0, 3]), tensor([3, 2, 1, 3]), tensor([0, 1, 2, 0, 3]), tensor([2, 2, 1, 3, 2, 0]), tensor([2, 2, 2, 0]), tensor([0, 0, 9, 2, 0, 5]), tensor([ 5,  1,  2,  2, 12]), tensor([2, 0]), tensor([2, 2]), tensor([3, 0]), tensor([2, 1, 3, 3]), tensor([2, 1, 5, 5]), tensor([2, 2, 2, 0]), tensor([5, 1, 2, 5]), tensor([2, 1, 3, 0, 5, 2, 0]), tensor([2, 0]), tensor([2, 1]), tensor([5, 1, 2, 1]), tensor([3, 3]), tensor([0, 0, 9, 1, 3, 0, 5]), tensor([2, 3, 9, 0]), tensor([2, 0, 2]), tensor([2, 2, 0]), tensor([2, 5, 0, 5]), tensor([2, 1, 5]), tensor([2, 2, 8]), tensor([2, 1]), tensor([2, 2, 2, 8]), tensor([2, 1]), tensor([5, 0, 8]), tensor([2, 2, 0]), tensor([0, 1, 2, 1, 3]), tensor([3, 5, 1, 2, 2]), tensor([3, 3]), tensor([0, 2, 0]), tensor([2, 1]), tensor([5, 1, 2, 1]), tensor([3, 0]), tensor([2, 3, 2]), tensor([0, 1, 6]), tensor([2, 1]), tensor([2, 0, 3, 0, 5]), tensor([2, 1, 8]), tensor([2, 3, 9, 0]), tensor([5, 3, 2]), tensor([2, 3, 1]), tensor([5, 0, 3, 2]), tensor([3, 3]), tensor([2, 5, 2]), tensor([2, 2, 0]), tensor([2, 0]), tensor([2, 1]), tensor([2, 5, 1]), tensor([5, 1, 0, 7, 0]), tensor([2, 3, 9, 0]), tensor([2, 0, 1, 5, 1, 2, 5]), tensor([2, 2, 0]), tensor([2, 1, 2, 3, 0]), tensor([2, 9, 2]), tensor([0, 1, 3, 1, 2]), tensor([2, 1]), tensor([2, 1, 3, 3]), tensor([3, 2, 2, 0, 8]), tensor([ 5,  1,  2, 14]), tensor([3, 2, 1, 8]), tensor([2, 1]), tensor([2, 1, 8]), tensor([2, 2, 2, 9, 2]), tensor([3, 1, 5]), tensor([0, 1, 2, 0, 3, 3]), tensor([3, 0]), tensor([2, 3, 2]), tensor([0, 0, 9, 2, 0, 3]), tensor([2, 2, 1, 2, 0]), tensor([2, 9]), tensor([5, 2, 0, 2, 5]), tensor([0, 1, 2, 1, 5]), tensor([3, 3, 1, 2, 0, 3, 3]), tensor([2, 2, 0]), tensor([2, 1, 3, 5]), tensor([2, 0]), tensor([2, 1]), tensor([5, 1, 3, 5, 0, 5]), tensor([2, 2, 9, 0]), tensor([3, 0]), tensor([2, 1, 2, 2, 3]), tensor([0, 1, 2, 3, 0, 2, 3]), tensor([2, 3, 9, 2, 0]), tensor([2, 9, 3, 5]), tensor([3, 2, 3, 0, 2, 3]), tensor([0, 1, 2, 1, 3]), tensor([3, 2, 1, 3]), tensor([0, 1, 2, 1, 2, 0]), tensor([2, 1, 2]), tensor([ 2,  2, 11,  3]), tensor([0, 1, 3, 1, 3]), tensor([3, 1, 2, 0, 3, 3]), tensor([2, 2, 1, 3, 5]), tensor([3, 3, 1, 2, 0, 3]), tensor([0, 1, 2, 1, 2, 0]), tensor([2, 2, 0]), tensor([2, 1, 5, 0]), tensor([0, 2, 0]), tensor([0, 1, 2, 0, 3]), tensor([0, 1, 2, 0, 3, 3]), tensor([2, 2, 2, 0]), tensor([0, 1]), tensor([2, 9]), tensor([2, 1, 2, 2]), tensor([2, 2, 0]), tensor([2, 0]), tensor([2, 2, 9, 2]), tensor([3, 0]), tensor([2, 1, 2, 2, 3]), tensor([2, 1, 2]), tensor([ 5, 12]), tensor([2, 1, 2]), tensor([2, 1, 3, 0]), tensor([3, 2, 1, 8]), tensor([2, 3, 9]), tensor([2, 2, 2]), tensor([0, 1, 2, 5, 0, 3]), tensor([2, 2, 2, 3]), tensor([0, 1, 2, 3, 0, 2, 3]), tensor([2, 3, 9, 5]), tensor([2, 3, 5]), tensor([2, 1]), tensor([5, 2, 9, 2]), tensor([3, 2, 1, 3]), tensor([0, 1, 2, 1, 2, 0]), tensor([2, 1]), tensor([3, 3, 1, 3, 3]), tensor([3, 2, 1, 3, 3]), tensor([2, 3, 0, 2]), tensor([0, 1, 3, 1, 2, 0, 5]), tensor([3, 2, 0]), tensor([0, 1, 2, 0, 8]), tensor([2, 0]), tensor([2, 5, 0, 5]), tensor([5, 9, 7]), tensor([2, 0, 1, 2, 9, 5]), tensor([2, 1, 2, 5]), tensor([2, 2, 1, 5]), tensor([5, 1, 2, 3, 0, 8]), tensor([2, 0, 1, 3, 2, 0, 2, 3]), tensor([2, 2, 0]), tensor([0, 1, 2, 2, 0, 3]), tensor([2, 1]), tensor([0, 1, 2, 0, 3]), tensor([2, 5, 2]), tensor([3, 2, 1, 3, 2, 3]), tensor([2, 2, 0, 8]), tensor([2, 1, 3]), tensor([2, 1, 5, 0, 8]), tensor([2, 2, 0]), tensor([2, 1, 5, 5]), tensor([3, 3]), tensor([2, 1, 6]), tensor([3, 1]), tensor([0, 1, 2, 1, 2, 0, 3]), tensor([2, 3, 1]), tensor([2, 2, 0]), tensor([0]), tensor([0]), tensor([2, 3, 1, 5, 5]), tensor([3, 0]), tensor([0, 1, 3, 2, 0, 2, 3]), tensor([2, 2, 2, 0, 2, 0]), tensor([2, 0, 3, 0]), tensor([2, 0, 1]), tensor([2, 2, 0, 3, 5, 5]), tensor([2, 9]), tensor([0, 1, 2, 9, 2]), tensor([2, 3, 0, 6]), tensor([2, 0, 0, 9, 0, 3, 2]), tensor([3, 2, 0, 2, 6]), tensor([2, 0, 0, 9, 0, 3, 2]), tensor([2, 1, 6]), tensor([2, 5, 3, 2]), tensor([2, 0, 3, 5]), tensor([0, 1, 3, 2, 0, 2, 3]), tensor([2, 1]), tensor([2, 1, 8]), tensor([0, 9, 2, 0]), tensor([2, 2, 0]), tensor([2, 1, 8]), tensor([ 3,  2, 14]), tensor([2, 2, 1, 2, 2]), tensor([2, 9]), tensor([2, 3, 3]), tensor([3, 2, 3, 2]), tensor([2, 2, 1, 2, 2]), tensor([0, 1, 5, 9, 2, 0]), tensor([2, 2, 1, 3]), tensor([2, 1]), tensor([ 5,  2, 10,  5,  5]), tensor([0, 1, 2, 0, 3, 0]), tensor([2, 9, 2, 0]), tensor([2, 1, 2, 1]), tensor([2, 9, 5]), tensor([2, 1]), tensor([2, 2, 0]), tensor([2, 2, 3]), tensor([0, 3, 0, 1, 3, 1, 2, 0, 3]), tensor([2, 1]), tensor([2, 1, 2, 1, 3, 5, 5]), tensor([2, 2, 2, 0, 2]), tensor([0, 2, 0]), tensor([2, 2, 2]), tensor([2, 2, 0]), tensor([2, 1, 3]), tensor([ 0,  0, 11,  5,  0,  3]), tensor([2, 2, 2, 2]), tensor([2, 9, 5]), tensor([ 2, 11,  5]), tensor([2, 1, 3, 5]), tensor([2, 2, 0]), tensor([2, 9, 5]), tensor([2, 1, 2]), tensor([ 3,  2, 10,  3]), tensor([3, 2, 9, 5]), tensor([2, 1, 2, 2]), tensor([0, 1, 3, 2, 0, 2, 2]), tensor([2, 1]), tensor([2, 1, 2, 1, 3, 5, 5]), tensor([0, 1, 2, 0, 3, 0]), tensor([2, 3, 2, 0]), tensor([2, 2, 2]), tensor([2, 2, 0, 2]), tensor([2, 1, 5]), tensor([0, 1, 3, 1, 2, 3]), tensor([5, 2, 0]), tensor([2, 0, 3, 6]), tensor([2, 1, 2, 2, 5]), tensor([0, 1, 2, 9]), tensor([2, 3, 1]), tensor([0, 1, 2, 2, 2]), tensor([2, 9, 5]), tensor([ 2, 11,  5]), tensor([2, 2, 1, 2, 2]), tensor([2, 0]), tensor([2, 2, 2]), tensor([3, 0, 3]), tensor([2, 2, 2]), tensor([ 0,  1,  5,  2, 11]), tensor([2, 5]), tensor([2, 9]), tensor([0, 1, 5, 2, 9]), tensor([3, 3]), tensor([2, 2, 2, 5]), tensor([2, 2, 2, 0]), tensor([2, 5]), tensor([2, 3, 1]), tensor([2, 1]), tensor([2, 1, 3, 1]), tensor([2, 0]), tensor([2, 1, 3, 0]), tensor([2, 5]), tensor([2, 2, 2, 0, 2]), tensor([2, 1]), tensor([5, 2, 0, 8]), tensor([0, 2, 2]), tensor([0, 2, 0]), tensor([2, 2, 2]), tensor([2, 2, 0]), tensor([2, 1, 3]), tensor([ 0,  0, 11,  5,  0,  3]), tensor([2, 1, 2, 5, 5]), tensor([0, 1, 2, 0, 5]), tensor([2, 5, 2]), tensor([2, 1]), tensor([2, 1, 5, 2]), tensor([2, 5, 0, 5]), tensor([5, 2, 0, 5]), tensor([1, 5]), tensor([5, 2, 0, 8]), tensor([ 0,  1,  5,  2,  0,  3, 11]), tensor([0, 9]), tensor([3, 0]), tensor([3, 9, 3, 3]), tensor([3, 5, 2, 0, 3]), tensor([1, 3]), tensor([5, 2, 0, 8]), tensor([ 0,  1,  5,  2,  0,  3, 10]), tensor([2, 2, 0]), tensor([2, 2, 0]), tensor([2, 5, 2]), tensor([0, 1, 2, 0, 6]), tensor([2, 2, 3, 2]), tensor([2, 0]), tensor([2, 1, 5, 5]), tensor([0, 9, 0]), tensor([3, 0, 0, 9, 2, 0, 3]), tensor([3, 3, 2, 0, 3]), tensor([ 0,  0, 10,  2,  0]), tensor([2, 3, 9, 5]), tensor([3, 0, 1, 2, 1, 3]), tensor([2, 5, 0, 5]), tensor([2, 1, 3, 0, 5, 5]), tensor([2, 9]), tensor([2, 1, 5, 0, 2, 5]), tensor([3, 1]), tensor([2, 2, 0]), tensor([2, 1]), tensor([2, 0]), tensor([2, 2, 2, 0, 2, 2]), tensor([3, 0, 1, 5, 5, 0, 3]), tensor([2, 1, 2]), tensor([2, 1]), tensor([2, 1, 2, 1, 3, 2, 5]), tensor([2, 2, 2, 0]), tensor([0, 1, 2, 1, 5, 0, 5]), tensor([2, 0]), tensor([2, 1, 5, 5]), tensor([0, 2, 0]), tensor([2, 1]), tensor([2, 1, 2, 1]), tensor([3, 3, 1, 3, 3]), tensor([2, 2, 0, 2]), tensor([5, 5, 0, 5, 5]), tensor([2, 2, 2, 3, 3]), tensor([2, 9, 2, 2, 0]), tensor([2, 2, 6]), tensor([2, 9, 2, 2, 0]), tensor([0, 1, 5]), tensor([2, 3, 0, 2, 2]), tensor([2, 0, 2]), tensor([2, 9, 2, 2, 0]), tensor([2, 1, 5]), tensor([0, 0, 9, 3]), tensor([1, 5]), tensor([5, 2, 1, 2, 2]), tensor([2, 1]), tensor([2, 3, 0]), tensor([2, 0, 3, 8]), tensor([ 0,  1,  2,  1,  2,  0,  3, 10]), tensor([2, 1]), tensor([2, 1, 3]), tensor([0, 0, 9, 3]), tensor([1, 3]), tensor([2, 1, 8, 0]), tensor([2, 9]), tensor([2, 5, 0, 2]), tensor([0, 0, 9, 3]), tensor([2, 9, 0]), tensor([0, 0, 9, 5]), tensor([2, 2, 1, 3]), tensor([2, 2, 9, 2]), tensor([2, 0, 2]), tensor([2, 0]), tensor([ 2,  3, 11]), tensor([2, 1]), tensor([2, 1, 3, 2]), tensor([0, 1, 2, 1, 2, 2]), tensor([3, 2, 2, 0, 3]), tensor([5, 1, 2, 0]), tensor([2, 2, 0]), tensor([ 2,  3, 11]), tensor([3, 2, 5, 8]), tensor([2, 1]), tensor([2, 3, 0, 2]), tensor([2, 2, 0]), tensor([2, 1, 3]), tensor([2, 0, 3, 3, 3]), tensor([2, 9, 0]), tensor([2, 2, 2, 5]), tensor([2, 2, 0]), tensor([ 2,  3, 11]), tensor([3, 2, 2, 0, 2, 3]), tensor([2, 2, 8]), tensor([2, 5, 0, 5, 0, 2]), tensor([3, 2, 1, 3]), tensor([2, 2, 0, 8]), tensor([3, 9, 0]), tensor([2, 9, 5, 0, 0]), tensor([2, 2, 1, 3, 1]), tensor([2, 2, 2, 5, 1]), tensor([2, 2, 0]), tensor([ 2,  3, 11]), tensor([3, 2, 2, 0, 2, 3]), tensor([2, 2, 8]), tensor([2, 5, 0, 5, 0, 2]), tensor([3, 2, 1, 3]), tensor([2, 2, 0, 8]), tensor([2, 2, 2, 0, 2, 0]), tensor([0, 1, 2, 0, 3]), tensor([5, 0, 2]), tensor([2, 0, 3, 3, 3, 2, 0]), tensor([2, 2, 2, 3, 2]), tensor([0, 1, 2, 1, 5]), tensor([2, 0, 1, 2, 0, 3, 9, 5]), tensor([2, 0]), tensor([5, 9]), tensor([3, 1]), tensor([ 2,  2, 11,  3]), tensor([2, 3, 2]), tensor([3, 0, 2, 0]), tensor([0, 1]), tensor([2, 0, 2]), tensor([3, 1, 2, 1, 3]), tensor([3, 0, 2, 0, 3]), tensor([ 2,  3,  0,  3, 12]), tensor([ 2,  2,  3,  0,  3, 12]), tensor([2, 2, 9, 2]), tensor([2, 2, 2, 5, 2, 0]), tensor([3, 1, 2, 0, 3, 3]), tensor([2, 0, 1, 0, 2, 2]), tensor([3, 1, 5, 1, 2, 3, 0]), tensor([2, 1]), tensor([2, 2, 2, 9, 5]), tensor([ 5, 11]), tensor([2, 0, 3, 8]), tensor([3, 1, 5, 2, 0]), tensor([3, 1]), tensor([2, 1, 3, 0, 3]), tensor([2, 2, 3]), tensor([3, 0, 2, 1, 3]), tensor([3, 2, 1, 3, 3]), tensor([2, 0, 1, 2, 2, 0, 5]), tensor([2, 2, 1, 3, 2, 0]), tensor([2, 2, 2, 0]), tensor([2, 2, 2]), tensor([2, 1, 5]), tensor([0, 1, 3, 1, 2, 0, 3]), tensor([3, 0]), tensor([2, 1, 3]), tensor([3, 2, 0, 3]), tensor([0, 1, 5, 1, 3]), tensor([2, 0, 1, 2, 2, 0, 3]), tensor([2, 2, 0]), tensor([3, 0]), tensor([0, 1, 5, 3, 0, 3]), tensor([2, 2, 9, 2]), tensor([0, 1, 2, 0, 3, 0]), tensor([2, 1, 2]), tensor([ 0,  1,  2,  3, 10]), tensor([2, 0, 1, 2, 3, 0, 3]), tensor([3, 2, 9, 5]), tensor([2, 0]), tensor([5, 1, 3, 5, 5]), tensor([5, 2, 0, 2, 2, 5, 5]), tensor([2, 2, 0]), tensor([0, 1, 5, 1, 2, 3]), tensor([2, 1, 5, 5]), tensor([2, 2, 0]), tensor([2, 2, 9, 2]), tensor([2, 1]), tensor([3, 0]), tensor([2, 1, 3]), tensor([2, 3, 3]), tensor([0, 0, 9, 2, 0, 2, 3]), tensor([2, 0, 2]), tensor([2, 0, 2]), tensor([2, 0, 3, 6]), tensor([2, 0]), tensor([2, 1, 5, 5]), tensor([2, 3, 9, 2, 0]), tensor([2, 9, 2]), tensor([2, 0, 3, 6]), tensor([3, 0]), tensor([2, 2, 0]), tensor([2, 1]), tensor([5, 1, 3, 2]), tensor([3, 0, 3]), tensor([0, 2, 0]), tensor([2, 1, 2, 0]), tensor([2, 2, 1, 2, 3, 5]), tensor([2, 1]), tensor([2, 1, 5, 2]), tensor([3, 1]), tensor([2, 3, 2]), tensor([5, 1, 7, 0]), tensor([2, 1]), tensor([5, 2, 7, 0]), tensor([2, 3, 1]), tensor([0, 1, 2, 2, 2]), tensor([2, 1]), tensor([2, 1, 5, 2]), tensor([3, 1]), tensor([2, 3, 2]), tensor([2, 1, 7, 0]), tensor([2, 2, 0]), tensor([2, 5, 0, 5]), tensor([2, 1]), tensor([2, 2, 2, 9, 2]), tensor([2, 9, 5]), tensor([2, 0]), tensor([5, 1, 2, 5]), tensor([0, 1, 2, 0, 5, 5]), tensor([ 3,  0,  0, 10, 10]), tensor([3, 0]), tensor([ 2,  2, 11,  8]), tensor([2, 0, 8]), tensor([ 2,  5, 11]), tensor([3, 2, 1, 3, 3]), tensor([2, 1]), tensor([2, 3, 1]), tensor([2, 0, 2]), tensor([2, 1, 5, 5]), tensor([ 5,  3, 13,  0]), tensor([3, 2, 0]), tensor([2, 1, 7, 0]), tensor([2, 2, 0, 2]), tensor([2, 2, 6]), tensor([2, 3, 2]), tensor([0, 0, 9, 5]), tensor([2, 1, 5]), tensor([2, 2, 0, 2, 0]), tensor([ 0,  0,  9,  3, 11]), tensor([2, 9, 0]), tensor([0, 0, 9, 5]), tensor([2, 2, 1, 3]), tensor([2, 2, 9, 2]), tensor([2, 2, 1, 5]), tensor([3, 1, 2, 0, 6]), tensor([2, 2, 9, 2]), tensor([2, 2, 1, 2, 0]), tensor([2, 2, 2, 3, 2]), tensor([3, 1]), tensor([2, 0, 8]), tensor([5, 0, 2, 5]), tensor([3, 1, 2, 2, 3]), tensor([2, 1]), tensor([5, 2, 2, 9, 5]), tensor([3, 3]), tensor([2, 2, 1, 3]), tensor([2, 0, 1, 2, 0, 5, 0, 5]), tensor([2, 1, 2, 0, 3]), tensor([5, 1, 6]), tensor([2, 2, 1, 5, 5]), tensor([2, 2, 1, 2, 2, 2, 0]), tensor([0, 1, 5]), tensor([3, 1, 2, 0, 2]), tensor([2, 1, 2, 2, 2, 0]), tensor([2, 5, 0]), tensor([2, 1, 3, 0]), tensor([1, 5]), tensor([0, 0, 9, 9, 0, 3]), tensor([2, 9, 2, 2, 0]), tensor([2, 1, 2, 5]), tensor([1, 5]), tensor([3, 1, 2, 0, 2]), tensor([2, 9, 2, 2, 0]), tensor([5, 2, 1, 5]), tensor([1, 5]), tensor([ 0,  0, 11,  1,  2,  0,  3]), tensor([2, 9, 2, 2, 0]), tensor([2, 9, 0, 6]), tensor([2, 1]), tensor([5, 2, 1, 8]), tensor([2, 9]), tensor([2, 1, 2]), tensor([1, 2]), tensor([2, 1, 3]), tensor([0, 0, 9, 3]), tensor([2, 2, 2]), tensor([3, 2, 0]), tensor([2, 0, 3, 8]), tensor([3, 0]), tensor([2, 5, 8]), tensor([2, 1, 2, 5]), tensor([2, 5]), tensor([3, 1, 3]), tensor([0, 0, 9, 3]), tensor([0, 0, 9, 1, 2, 3]), tensor([0, 0, 9, 3, 0, 3]), tensor([3, 2, 0]), tensor([5, 0, 2, 3]), tensor([1, 3]), tensor([5, 0, 2, 8]), tensor([3, 1]), tensor([1, 2, 3]), tensor([1, 3]), tensor([2, 1, 3]), tensor([0, 0, 9, 3]), tensor([2, 5, 1, 5]), tensor([2, 5]), tensor([2, 2, 1, 2, 5]), tensor([3, 0, 1, 3, 3]), tensor([2, 0, 2]), tensor([2, 2, 0]), tensor([2, 2, 9]), tensor([2, 1]), tensor([2, 1, 3, 2]), tensor([0, 0, 9, 5]), tensor([2, 0, 2, 2]), tensor([2, 3, 0]), tensor([0, 1, 5, 1, 3, 3]), tensor([2, 2, 1, 2, 5]), tensor([3, 0, 1, 3, 3]), tensor([ 5,  5, 10,  2]), tensor([3, 0]), tensor([3, 2, 0, 2, 3]), tensor([5, 2, 0, 3, 2, 2]), tensor([2, 2, 5, 2, 0, 5]), tensor([2, 1, 2, 2, 6]), tensor([2, 0, 2]), tensor([0, 1, 5]), tensor([ 0,  1,  3,  1,  3, 10]), tensor([2, 3, 1]), tensor([2, 0, 2]), tensor([2, 5, 6]), tensor([2, 2, 0]), tensor([2, 0, 3, 3]), tensor([3, 0]), tensor([2, 1, 8]), tensor([5, 3, 0, 5]), tensor([0, 1, 2, 0, 2, 5]), tensor([2, 0, 9, 2, 0]), tensor([2, 9, 5]), tensor([2, 2, 6]), tensor([2, 2, 2, 0, 2]), tensor([ 2, 10,  2,  7]), tensor([3, 2, 9]), tensor([0, 9, 3, 0]), tensor([2, 1, 2, 5]), tensor([0, 2, 0]), tensor([0, 1, 2, 0, 3, 3]), tensor([2, 5, 0, 5]), tensor([3, 0, 3]), tensor([2, 2, 6]), tensor([2, 2, 0]), tensor([2, 0, 3, 3]), tensor([3, 1]), tensor([ 0,  3,  0, 10,  2,  0,  3]), tensor([2, 2, 1, 2]), tensor([2, 1, 2, 5]), tensor([2, 0, 2, 5]), tensor([3, 1]), tensor([2, 2, 3]), tensor([2, 0]), tensor([5, 3, 0, 5]), tensor([2, 3, 2, 0]), tensor([2, 9]), tensor([2, 2, 2, 5]), tensor([2, 2, 2, 2]), tensor([0, 0, 9, 2, 5]), tensor([5, 3, 2]), tensor([2, 2, 1, 3]), tensor([2, 1]), tensor([5, 3, 2]), tensor([2, 3, 2]), tensor([2, 2, 1]), tensor([2, 5, 1]), tensor([3, 1, 2, 5]), tensor([3, 0, 3]), tensor([2, 1, 2, 6]), tensor([5, 3, 2]), tensor([3, 0]), tensor([2, 2, 0, 3]), tensor([2, 1, 8]), tensor([2, 2, 2, 5]), tensor([2, 0, 3, 5]), tensor([0, 1, 2, 1, 3]), tensor([3, 1]), tensor([2, 1, 8]), tensor([5, 9, 7]), tensor([2, 1, 5, 0, 2, 7]), tensor([3, 5, 1, 2, 8]), tensor([2, 1, 5, 0, 2, 8]), tensor([2, 2, 2, 9, 2, 5]), tensor([0, 1, 5, 1, 2, 1, 3, 5]), tensor([5, 9]), tensor([2, 2, 2, 5]), tensor([3, 9, 0]), tensor([3, 0]), tensor([2, 0, 5, 3, 3]), tensor([3, 1]), tensor([2, 1, 8, 0]), tensor([2, 2, 2, 9, 2, 5]), tensor([5, 9]), tensor([2, 2, 0, 2, 2]), tensor([2, 1, 6]), tensor([2, 2]), tensor([2, 0, 3, 3]), tensor([0, 1, 2, 1, 3]), tensor([2, 1, 7, 0]), tensor([3, 2, 0, 5, 3]), tensor([5, 2, 0, 2, 2, 8]), tensor([2, 3, 0, 2, 8]), tensor([2, 1, 3, 9, 8]), tensor([2, 2, 1]), tensor([0, 0, 9, 2, 0, 5, 5]), tensor([0, 1, 2, 1, 5, 0, 5]), tensor([2, 3, 0, 6]), tensor([2, 2, 1, 2, 3, 5]), tensor([0, 1, 5, 0, 2, 0]), tensor([2, 0, 0, 9, 0, 3, 2, 5]), tensor([0, 1, 2, 2, 0, 5]), tensor([2, 2, 1]), tensor([2, 1, 2, 3, 5]), tensor([0, 1, 5, 0, 2, 0]), tensor([2, 0, 0, 9, 0, 3, 2, 5]), tensor([2, 2, 0]), tensor([2, 1, 2, 0]), tensor([3, 2, 3, 2]), tensor([0, 1, 2, 9, 0, 2, 5]), tensor([0, 1, 5]), tensor([5, 2, 1, 8]), tensor([2, 2, 0, 2]), tensor([0, 1, 2, 9, 0, 2, 5]), tensor([5, 2, 9, 5]), tensor([1, 5]), tensor([2, 1, 3]), tensor([0, 0, 9, 3]), tensor([ 0,  1,  2, 10, 11]), tensor([2, 3, 0]), tensor([0, 1, 5, 1, 2, 2, 0, 3]), tensor([0, 1, 5, 1, 2, 1, 3, 5]), tensor([0, 2, 0]), tensor([2, 2, 2, 5]), tensor([3, 1]), tensor([2, 1, 3, 3]), tensor([2, 1]), tensor([2, 2, 2]), tensor([0, 2, 0]), tensor([2, 1, 3, 3]), tensor([5, 2, 0, 2, 2, 7]), tensor([5, 9]), tensor([0, 9]), tensor([0, 1, 5, 1, 2, 1, 3, 2]), tensor([0, 1, 2, 9, 2]), tensor([2, 2, 2]), tensor([0, 1, 2, 1, 2]), tensor([2, 1]), tensor([2, 1, 2, 3, 5]), tensor([0, 1, 2, 1, 5]), tensor([0, 0, 9, 0, 3, 0]), tensor([0, 1, 2, 2, 2]), tensor([0, 1, 2, 2, 0, 3, 5]), tensor([3, 0, 3]), tensor([2, 0, 0, 9, 3, 0, 5]), tensor([2, 9, 5]), tensor([2, 1, 2, 3, 5]), tensor([2, 3, 0]), tensor([3, 2, 0, 3]), tensor([0, 1, 2, 1, 5, 0, 3]), tensor([2, 5]), tensor([3, 0]), tensor([ 0,  0, 10,  2,  0,  2,  3]), tensor([3, 1]), tensor([ 0,  1,  5,  2, 10,  2,  0,  3]), tensor([2, 2, 0]), tensor([2, 5, 0, 5]), tensor([2, 5]), tensor([2, 1, 5, 0, 6]), tensor([0, 9, 0]), tensor([2, 0]), tensor([5, 9]), tensor([0, 2, 0]), tensor([ 0,  0, 10,  2,  0,  2,  3]), tensor([2, 2, 9, 0]), tensor([3, 2, 5, 5]), tensor([2, 1]), tensor([2, 2, 2, 5, 5]), tensor([2, 1]), tensor([3, 1, 5, 5]), tensor([2, 2, 1, 5, 0, 6]), tensor([2, 2, 0]), tensor([0, 2, 0, 2, 3]), tensor([ 0,  0,  9, 10,  3]), tensor([2, 1]), tensor([ 2, 10,  3]), tensor([2, 3, 1]), tensor([2, 1]), tensor([2, 1, 2, 1]), tensor([3, 2, 3, 2]), tensor([2, 9, 0]), tensor([2, 1, 3, 2]), tensor([2, 2, 0]), tensor([2, 2, 3, 2]), tensor([2, 3, 2]), tensor([0, 1, 2, 1, 2]), tensor([2, 2, 1]), tensor([2, 5, 1]), tensor([ 3,  2, 10,  3,  3]), tensor([2, 1]), tensor([2, 5, 9, 5]), tensor([3, 2, 1, 3, 3]), tensor([2, 1, 2]), tensor([2, 1, 8]), tensor([2, 2, 9, 0]), tensor([2, 1]), tensor([2, 1]), tensor([2, 1, 5, 1]), tensor([5, 1, 5, 5]), tensor([2, 5, 2]), tensor([ 5,  3, 12]), tensor([3, 0, 1, 2, 2, 0, 3]), tensor([2, 0, 1, 2, 2, 2]), tensor([3, 1]), tensor([0, 1, 3, 1, 2, 0, 3]), tensor([2, 0, 0, 9, 2, 0, 3]), tensor([2, 3, 9, 5]), tensor([ 5,  2, 10,  5]), tensor([2, 2, 1, 3]), tensor([0, 0, 9, 2, 0, 2]), tensor([2, 2, 0]), tensor([2, 1, 8]), tensor([2, 5, 1, 2, 5]), tensor([2, 9, 0]), tensor([5, 1, 3, 2]), tensor([2, 2, 1, 2, 0]), tensor([2, 2, 0]), tensor([0, 2, 2]), tensor([2, 3, 1]), tensor([5, 3, 2]), tensor([2, 2, 1]), tensor([2, 1, 2, 1]), tensor([2, 3, 9, 5]), tensor([ 5,  2, 10,  5]), tensor([2, 2, 1, 3]), tensor([0, 0, 9, 2, 0, 2]), tensor([2, 2, 0]), tensor([2, 9, 5]), tensor([ 5,  2, 10,  5]), tensor([2, 2, 1, 3]), tensor([3, 2, 0]), tensor([ 2,  2, 11,  8]), tensor([0, 1]), tensor([2, 1]), tensor([2, 3, 1]), tensor([0, 1, 2, 0, 3, 5]), tensor([3, 2, 1, 8]), tensor([3, 0, 2]), tensor([2, 2, 2, 1, 5]), tensor([2, 1, 5, 5]), tensor([2, 2, 1, 3, 3]), tensor([2, 1, 5]), tensor([2, 0, 3, 8]), tensor([2, 2, 0]), tensor([2, 1, 5, 0, 8]), tensor([2, 1]), tensor([2, 2, 0]), tensor([2, 1, 5, 5]), tensor([2, 2, 1, 3]), tensor([2, 2, 3, 2, 2, 0]), tensor([0, 1, 2, 2, 0, 5]), tensor([2, 2, 5]), tensor([3, 2, 0]), tensor([2, 2, 2, 8]), tensor([2, 3, 2]), tensor([2, 1, 5, 0, 2, 6]), tensor([2, 2, 0]), tensor([0, 1, 3, 1, 3]), tensor([0, 1]), tensor([2, 0, 2]), tensor([3, 1]), tensor([ 0,  0, 11,  2,  0,  3]), tensor([3, 5, 1, 2, 3]), tensor([2, 0, 3, 3]), tensor([2, 2, 2, 0]), tensor([2, 2, 3, 3]), tensor([0, 1]), tensor([2, 0, 2]), tensor([2, 3, 0, 7, 0]), tensor([2, 0]), tensor([2, 1, 2, 5]), tensor([2, 2, 1]), tensor([0, 2, 0]), tensor([2, 3, 2, 1]), tensor([2, 9, 5]), tensor([3, 1]), tensor([ 0,  0, 11,  2,  0,  3]), tensor([2, 1]), tensor([0, 1, 2, 2, 2]), tensor([3, 0, 1, 2, 2, 0, 3]), tensor([5, 9]), tensor([2, 2, 2]), tensor([ 0,  0, 11,  2,  0,  2]), tensor([2, 1]), tensor([0, 1, 2, 2, 2]), tensor([0, 1, 2, 2, 0, 5]), tensor([2, 3, 9, 2, 0]), tensor([2, 1, 5, 5]), tensor([2, 2, 1, 3]), tensor([2, 0, 1, 2, 1]), tensor([2, 9, 5]), tensor([0, 2, 0]), tensor([2, 1]), tensor([2, 3, 1]), tensor([0, 9, 0]), tensor([2, 0]), tensor([5, 1, 3, 5]), tensor([0, 1, 2, 2, 0, 2]), tensor([2, 2, 1]), tensor([2, 5, 2]), tensor([2, 0, 1, 2, 0, 3, 3]), tensor([2, 0]), tensor([0, 1]), tensor([2, 2, 2]), tensor([2, 2, 0]), tensor([5, 0, 3]), tensor([2, 1, 2, 3, 3]), tensor([0, 1, 2, 0, 3, 3]), tensor([3, 1]), tensor([0, 1, 5, 1, 3]), tensor([2, 1, 5, 0, 7, 0]), tensor([2, 1]), tensor([2, 1, 2]), tensor([2, 1, 5, 0, 8]), tensor([3, 1]), tensor([2, 1, 8]), tensor([2, 1]), tensor([2, 1, 3, 3]), tensor([2, 2, 0]), tensor([3, 2, 0, 2]), tensor([2, 2, 0]), tensor([2, 2, 1]), tensor([5, 0, 2]), tensor([2, 0]), tensor([2, 1, 2, 3, 5, 5]), tensor([5, 2, 2, 0, 5]), tensor([2, 3, 2]), tensor([0, 1, 2, 1, 3, 3]), tensor([2, 2, 1]), tensor([2, 0, 2, 1]), tensor([2, 0, 2]), tensor([2, 1, 8]), tensor([2, 3, 7, 0]), tensor([2, 1]), tensor([2, 2, 2]), tensor([2, 2, 0]), tensor([2, 1, 3]), tensor([2, 3, 0, 3]), tensor([2, 2, 3, 2, 0]), tensor([2, 2, 1]), tensor([2, 2, 0]), tensor([2, 3, 0, 3]), tensor([0, 1, 2, 9, 0, 3]), tensor([2, 1]), tensor([0, 1, 3, 1, 3]), tensor([2, 2, 1]), tensor([2, 3, 9, 7]), tensor([2, 2, 0]), tensor([3, 2, 0, 2]), tensor([2, 2, 0]), tensor([2, 0, 1, 2, 0, 3, 5]), tensor([ 3,  0,  0,  9,  2, 11,  3]), tensor([2, 0, 1, 2, 0, 3, 3]), tensor([3, 0, 1, 2, 0, 3]), tensor([0, 1]), tensor([2, 2, 9, 2]), tensor([2, 2, 0]), tensor([5, 1, 2, 5]), tensor([2, 2, 0]), tensor([ 0,  0,  9,  2, 11,  3]), tensor([5, 1, 0]), tensor([2, 2, 1]), tensor([2, 2, 0]), tensor([2, 0, 2]), tensor([0, 0, 9, 0, 3, 5]), tensor([2, 1]), tensor([2, 9, 2, 2, 0]), tensor([5, 2, 0, 7, 0]), tensor([0, 2, 0]), tensor([2, 3, 0, 3]), tensor([0, 1, 5, 2, 9, 2, 3]), tensor([2, 2]), tensor([2, 1, 3, 0, 3, 3]), tensor([3, 0]), tensor([0, 1, 2, 1, 3]), tensor([0, 1, 2, 0, 3, 3]), tensor([3, 2, 1, 3, 3]), tensor([3, 2, 1, 3]), tensor([2, 1, 3, 2, 0]), tensor([2, 3, 2, 0, 2, 3]), tensor([2, 1, 3, 3]), tensor([2, 3, 9, 3]), tensor([ 2, 11,  5]), tensor([2, 0]), tensor([2, 1, 2, 2, 5]), tensor([2, 0, 1, 2, 1]), tensor([2, 3, 1]), tensor([2, 2, 0]), tensor([2, 2, 0, 6]), tensor([2, 1, 5, 5, 5]), tensor([2, 3, 0, 7, 0]), tensor([2, 1, 5, 5]), tensor([ 0,  1,  5,  2, 10,  5]), tensor([3, 2, 1, 3, 3]), tensor([5, 1, 5, 3, 2]), tensor([3, 3]), tensor([2, 9, 0]), tensor([0, 2, 0]), tensor([2, 9, 2]), tensor([2, 3, 0, 7, 0]), tensor([3, 2, 1, 3, 0, 3, 2, 0]), tensor([2, 2, 2, 1, 3, 0]), tensor([2, 2, 0, 5, 5]), tensor([2, 3, 0, 7, 0]), tensor([0]), tensor([2, 1, 5, 5]), tensor([3, 2, 1, 8]), tensor([2, 0, 2]), tensor([2, 2, 1, 3]), tensor([2, 1]), tensor([2, 5, 0, 2]), tensor([2, 1]), tensor([3, 2, 1, 3]), tensor([5, 1, 8]), tensor([2, 2, 1]), tensor([2, 0, 2]), tensor([ 0,  1,  5,  2, 10,  5]), tensor([3, 2, 1, 3, 3]), tensor([2, 2, 0]), tensor([0, 1, 2, 1, 3]), tensor([0, 1, 2, 1, 5, 0, 3]), tensor([2, 2, 0]), tensor([2, 0, 2]), tensor([3, 0]), tensor([0, 1, 3, 2, 3]), tensor([2, 2, 3, 2]), tensor([3, 1]), tensor([2, 2, 0]), tensor([0]), tensor([2, 1, 5, 5]), tensor([2, 2, 2, 0]), tensor([0, 1, 2, 1, 2, 0]), tensor([2, 1]), tensor([0, 2, 0]), tensor([2, 9, 2]), tensor([0, 0, 9, 3, 0, 2]), tensor([2, 1]), tensor([0, 0, 9, 3, 0, 2, 2]), tensor([0, 1, 2, 1, 5, 0, 2, 1, 3]), tensor([5, 9]), tensor([2, 1, 2, 2, 5, 2, 0]), tensor([5, 9]), tensor([2, 2, 2, 0]), tensor([2, 3, 9]), tensor([3, 2, 0, 2, 5, 2, 0]), tensor([2, 0, 3, 6]), tensor([2, 2, 1]), tensor([3, 1]), tensor([2, 1, 3]), tensor([5, 1, 8]), tensor([2, 1]), tensor([3, 2, 1, 3]), tensor([2, 1, 3]), tensor([0, 1, 3, 1, 3]), tensor([2, 2, 0]), tensor([2, 1, 5, 5]), tensor([2, 5, 2, 0]), tensor([3, 2, 0, 5]), tensor([3, 2, 0, 5, 5]), tensor([5, 1, 2, 2, 2, 6]), tensor([2, 2, 1]), tensor([2, 1, 7, 0]), tensor([2, 7, 0]), tensor([2, 2, 1, 2, 1, 3]), tensor([2, 2, 5, 1]), tensor([2, 2, 1]), tensor([2, 1, 2, 5, 5]), tensor([0, 2, 0, 2, 5]), tensor([2, 2, 0, 3]), tensor([0, 1, 3, 1, 3]), tensor([3, 0, 3]), tensor([2, 2, 6]), tensor([2, 2, 1, 2, 5]), tensor([2, 2, 2, 5]), tensor([0, 1, 3, 2, 0, 3]), tensor([3, 0, 2, 0]), tensor([2, 9, 2, 5]), tensor([3, 2, 1, 3, 3]), tensor([2, 2, 1]), tensor([2, 5, 2, 1]), tensor([5, 0, 2, 2, 0]), tensor([2, 1]), tensor([5, 0, 2]), tensor([2, 1]), tensor([0, 1]), tensor([5, 1, 5, 1]), tensor([2, 1, 2, 1, 5, 1]), tensor([2, 2, 7, 0]), tensor([3, 2, 1, 3]), tensor([2, 8]), tensor([2, 5, 5, 0, 0]), tensor([2, 2, 7, 0]), tensor([5, 0, 2]), tensor([2, 8]), tensor([2, 2, 0]), tensor([ 5, 14]), tensor([2, 1, 5, 5]), tensor([2, 2, 0, 2, 0]), tensor([2, 1]), tensor([2, 1, 5, 5]), tensor([2, 9, 5]), tensor([2, 2, 2]), tensor([2, 9, 5]), tensor([2, 0]), tensor([2, 1, 3, 5]), tensor([0, 2, 1]), tensor([2, 2, 0, 2]), tensor([2, 1, 5, 5, 1]), tensor([2, 2, 0]), tensor([0, 9, 3, 0]), tensor([2, 0, 2, 5]), tensor([2, 0, 3, 5]), tensor([0, 1, 2, 2, 0, 3, 3]), tensor([2, 0]), tensor([2, 2, 2, 9, 5]), tensor([3, 2, 1, 8]), tensor([3, 9, 0]), tensor([2, 0, 2, 5]), tensor([0, 1, 2, 2, 3, 9, 5]), tensor([2, 1]), tensor([5, 2]), tensor([5, 2, 0, 3, 6]), tensor([2, 5, 1]), tensor([2, 0, 3, 8]), tensor([3, 2, 1, 8]), tensor([2, 3, 1]), tensor([2, 0, 2, 1]), tensor([ 2, 10,  2,  6]), tensor([3, 2, 1, 3, 3]), tensor([2, 2, 9, 2]), tensor([ 2, 11]), tensor([0, 1, 5, 2, 9, 2, 3]), tensor([3, 2, 9, 5]), tensor([2, 2, 2, 2, 0]), tensor([3, 2, 1, 8]), tensor([2, 5, 0, 5]), tensor([2, 5]), tensor([2, 1]), tensor([2, 1, 2, 2]), tensor([2, 2, 1, 2]), tensor([2, 2, 5]), tensor([2, 2, 6]), tensor([2, 2, 1]), tensor([2, 1, 5, 1]), tensor([2, 9, 0]), tensor([2, 0, 2]), tensor([2, 1]), tensor([2, 2, 9]), tensor([3, 3]), tensor([5, 9]), tensor([2, 2, 2]), tensor([2, 0, 2]), tensor([0, 0, 9, 0, 3, 0]), tensor([2, 3, 0, 2, 2]), tensor([0, 1, 2, 9, 3]), tensor([3, 1, 2]), tensor([2, 1, 2, 0, 3, 2, 0]), tensor([2, 3, 2, 5, 1]), tensor([0, 0, 9, 5]), tensor([2, 2, 0, 2, 0]), tensor([2, 1, 5]), tensor([0, 1, 2, 1, 3]), tensor([2, 2, 0]), tensor([2, 0]), tensor([2, 9, 2, 5]), tensor([2, 1]), tensor([2, 9, 2, 5]), tensor([2, 2, 0, 2]), tensor([ 0,  1,  2,  1,  2,  0,  3, 11]), tensor([3, 0]), tensor([2, 0, 2, 3]), tensor([0, 1, 2, 2, 0, 3]), tensor([2, 1, 5]), tensor([2, 2, 2, 0, 8]), tensor([2, 2]), tensor([0, 1, 3, 2, 0, 3]), tensor([0, 1, 3, 1, 2, 0, 3]), tensor([3, 0]), tensor([ 5, 10]), tensor([2, 9, 8]), tensor([0]), tensor([0]), tensor([2, 3, 0, 3]), tensor([3, 2, 0, 6]), tensor([2, 2, 9, 2]), tensor([3, 0]), tensor([0, 0, 9, 2, 0, 2, 3]), tensor([2, 1, 5, 5]), tensor([2, 2, 2, 2]), tensor([3, 1, 5]), tensor([2, 1, 2, 7]), tensor([2, 3, 2, 0]), tensor([ 5, 10,  2]), tensor([5, 2, 9, 2, 7]), tensor([2, 1, 5, 5]), tensor([2, 3, 1, 2, 9, 3]), tensor([2, 1, 5, 5]), tensor([2, 1]), tensor([3, 2, 0]), tensor([2, 1, 3, 0, 8]), tensor([2, 1]), tensor([2, 1, 3, 0, 3, 3]), tensor([ 0,  0, 11,  1,  2,  0,  2]), tensor([5, 9]), tensor([ 2,  5, 11]), tensor([3, 2, 1, 3, 3]), tensor([2, 5, 2, 9, 5]), tensor([0, 1, 2, 1, 5]), tensor([3, 2, 0]), tensor([2, 1, 8]), tensor([2, 2, 2]), tensor([0, 1, 2, 1, 3]), tensor([ 2,  5,  2, 10,  5,  5]), tensor([5, 1, 2, 0, 2]), tensor([2, 0]), tensor([2, 1, 2, 5, 2, 0]), tensor([ 2,  1,  2,  0,  3, 12]), tensor([2, 2, 1]), tensor([5, 3, 2]), tensor([2, 9]), tensor([0, 0, 9, 3, 9]), tensor([2, 9, 0]), tensor([0, 0, 9, 5]), tensor([2, 2, 1, 3]), tensor([2, 2, 9, 2]), tensor([2, 0, 2]), tensor([ 0,  0, 11,  1,  5]), tensor([2, 1]), tensor([0, 0, 9, 1, 2, 0]), tensor([2, 2, 0]), tensor([0, 0, 9, 3, 0, 3]), tensor([2, 3, 1, 5, 9, 3, 0]), tensor([ 2, 10,  2,  6]), tensor([2, 2, 9]), tensor([5, 2, 0, 5]), tensor([1, 5]), tensor([5, 2, 0, 8]), tensor([2, 9, 5]), tensor([2, 0, 2]), tensor([2, 9, 3, 0]), tensor([2, 2, 0]), tensor([0, 0, 9, 3, 0, 3]), tensor([0, 1, 5, 2, 9, 0]), tensor([5, 2, 0, 2]), tensor([1, 2]), tensor([5, 2, 0, 8]), tensor([3, 2, 1, 2, 3]), tensor([2, 0, 3, 3, 3]), tensor([2, 1]), tensor([2, 5, 0, 5]), tensor([3, 2, 1, 2, 3]), tensor([ 2,  3, 10,  3]), tensor([3, 0]), tensor([2, 1, 3, 3]), tensor([2, 9]), tensor([2, 3, 0, 2]), tensor([2, 2, 0]), tensor([3, 1, 5, 5]), tensor([ 2,  2, 11,  5]), tensor([3, 2, 2, 8]), tensor([2, 3, 0, 8]), tensor([2, 3, 0]), tensor([2, 3]), tensor([2, 2, 0]), tensor([0, 1, 2, 3]), tensor([2, 1]), tensor([2, 2, 0]), tensor([ 0,  1,  2,  3, 10]), tensor([3, 2, 1, 3]), tensor([ 2, 14]), tensor([5, 1, 2, 3, 7, 0]), tensor([3, 0, 1, 3, 2, 0, 2, 3]), tensor([3, 1, 2, 2, 3]), tensor([0, 1, 5, 9, 2, 3]), tensor([2, 2, 1, 3]), tensor([2, 0]), tensor([2, 1, 2, 2]), tensor([0, 0, 9, 2, 0, 3]), tensor([2, 1]), tensor([0, 1, 2, 2, 0, 2]), tensor([3, 1, 5, 1]), tensor([0, 1, 2, 0, 2, 2]), tensor([2, 1, 2, 2, 2, 9, 1]), tensor([2, 3, 9, 5]), tensor([ 2,  2, 11]), tensor([3, 1, 2, 2, 3]), tensor([2, 2, 1, 2, 5]), tensor([3, 1, 2, 1, 3]), tensor([2, 0, 1, 2, 0, 2, 5]), tensor([ 3,  0,  1,  2, 10]), tensor([5, 2, 7]), tensor([0, 1, 3, 2, 0, 5]), tensor([2, 0, 1, 5, 2, 0, 5]), tensor([5, 2]), tensor([2, 2]), tensor([0, 1, 5, 1, 2, 3]), tensor([3, 3, 2, 0, 2, 3]), tensor([3, 1]), tensor([2, 0, 2]), tensor([3, 1, 5, 1]), tensor([2, 0]), tensor([2, 1, 8]), tensor([2, 1, 2, 2, 2, 9, 1]), tensor([2, 0, 1, 2, 1, 5]), tensor([3, 2, 9]), tensor([0, 1, 5, 2, 0, 2]), tensor([0, 1, 3, 2, 0, 5]), tensor([5, 2, 0, 3, 0, 3]), tensor([2, 2, 1]), tensor([2, 1]), tensor([2, 1, 2, 3, 1]), tensor([2, 2, 2, 1, 3]), tensor([3, 0, 0, 9, 1, 3]), tensor([3, 2, 9]), tensor([2, 1]), tensor([2, 0]), tensor([2, 1, 2, 2]), tensor([2, 5]), tensor([2, 0]), tensor([2, 1, 2, 0, 5]), tensor([3, 0, 9, 1, 3]), tensor([2, 2, 1, 3, 0, 5, 5]), tensor([3, 2, 9]), tensor([0, 1, 2, 1, 2, 0]), tensor([2, 1]), tensor([0, 1, 2, 2, 0, 2]), tensor([3, 1, 5, 1]), tensor([0, 1, 2, 0, 2]), tensor([3, 5, 1, 2, 3, 3]), tensor([2, 2, 0]), tensor([0, 1, 5, 2, 3]), tensor([0, 2, 1]), tensor([2, 3, 0, 6]), tensor([2, 0]), tensor([2, 5, 0, 2, 2]), tensor([2, 1]), tensor([2, 0]), tensor([2, 0, 2, 2]), tensor([0, 2, 1, 3]), tensor([2, 2, 0]), tensor([2, 0]), tensor([2, 1, 2, 0]), tensor([2, 2, 1]), tensor([2, 3, 1]), tensor([2, 2]), tensor([2, 2, 0]), tensor([0, 1, 2, 1, 3]), tensor([3, 0, 2, 3]), tensor([2, 0]), tensor([2, 0, 2]), tensor([2, 5, 1]), tensor([2, 5, 9]), tensor([3, 2, 9]), tensor([0, 1, 5, 2, 0, 2]), tensor([3, 3]), tensor([0, 1, 2, 2, 0, 5]), tensor([3, 1]), tensor([ 0,  0, 10,  2,  0,  3]), tensor([2, 2, 1, 7, 0]), tensor([2, 2, 1]), tensor([2, 1, 5, 1]), tensor([3, 2, 0, 3, 3, 3]), tensor([2, 2, 6]), tensor([2, 3, 9]), tensor([0, 9, 3, 0]), tensor([2, 2, 1, 5]), tensor([2, 1, 7, 0]), tensor([0, 9, 5]), tensor([2, 1, 5]), tensor([3, 2, 0, 2, 8]), tensor([3, 2, 2, 0, 3]), tensor([0, 0, 9, 1, 3]), tensor([0]), tensor([0]), tensor([0]), tensor([2, 6]), tensor([2, 1, 3, 5]), tensor([3, 2, 0]), tensor([2, 1]), tensor([2, 1, 5, 5]), tensor([3, 1]), tensor([ 2, 10]), tensor([2, 2, 2]), tensor([2, 2, 2, 2]), tensor([2, 3, 0, 7, 0]), tensor([2, 0, 2]), tensor([ 0,  0,  9,  2,  3, 11]), tensor([3, 0]), tensor([2, 1, 3]), tensor([5, 1, 3, 8]), tensor([2, 5, 3, 2]), tensor([2, 1]), tensor([0, 1, 2, 2, 3]), tensor([1, 3]), tensor([2, 0, 3, 3]), tensor([1, 3]), tensor([ 2, 14]), tensor([2, 3, 0, 3]), tensor([2, 1, 6]), tensor([2, 0, 8]), tensor([2, 9, 5]), tensor([0, 1]), tensor([2, 3, 2]), tensor([3, 2, 2, 0, 2, 3, 3]), tensor([5, 9]), tensor([2, 0, 2]), tensor([2, 9, 0]), tensor([2, 1, 2, 2]), tensor([3, 1]), tensor([2, 1, 3]), tensor([0, 1, 3, 2, 0, 8]), tensor([2, 5, 2]), tensor([5, 1, 3, 6]), tensor([2, 3, 1]), tensor([2, 1]), tensor([2, 1, 2, 1]), tensor([2, 9, 0]), tensor([2, 1, 2, 2]), tensor([2, 5, 2]), tensor([2, 0, 3, 6]), tensor([2, 0, 2]), tensor([0, 1, 5]), tensor([0, 1, 5, 1, 3, 3]), tensor([5, 3, 2]), tensor([2, 3, 2]), tensor([2, 1]), tensor([2, 3, 0]), tensor([5, 2, 1, 2, 2]), tensor([2, 1, 7, 0]), tensor([2, 2, 0, 5, 8]), tensor([2, 5, 1, 2, 2]), tensor([1, 3]), tensor([ 0,  0, 11,  2,  1,  3]), tensor([2, 1, 5, 5]), tensor([2, 1, 2, 5]), tensor([0, 1, 2, 1, 3]), tensor([2, 1]), tensor([0, 1, 2, 1, 5, 0, 3]), tensor([3, 1]), tensor([2, 1, 3]), tensor([2, 2, 8]), tensor([ 3,  5, 10]), tensor([2, 1, 8]), tensor([3, 2, 1, 3, 3]), tensor([2, 2, 3, 2]), tensor([2, 0]), tensor([5, 1, 2, 5]), tensor([0, 9, 0]), tensor([ 3,  5,  3, 10]), tensor([0, 1, 5, 9, 3]), tensor([3, 2, 2, 0, 3, 2, 0]), tensor([2, 2, 0]), tensor([2, 0, 2, 5]), tensor([0]), tensor([0]), tensor([0, 0]), tensor([0]), tensor([2, 3, 2, 0]), tensor([2, 0, 2, 1]), tensor([0, 1, 5, 9, 5]), tensor([0, 1, 2, 1, 5, 0, 2, 5]), tensor([2, 1, 7, 0]), tensor([2, 2, 0, 2]), tensor([2, 1, 5, 5]), tensor([5, 9]), tensor([2, 1, 8]), tensor([ 3,  0,  9,  2, 11,  3]), tensor([3, 2, 0, 3, 3]), tensor([2, 2, 9, 0]), tensor([2, 2, 1]), tensor([0, 1, 5, 9, 5]), tensor([2, 5, 3, 2, 1]), tensor([0, 1, 2, 1, 3, 2, 5]), tensor([0, 9, 3, 0]), tensor([2, 0, 2]), tensor([2, 1, 5, 5]), tensor([3, 0, 2, 0]), tensor([5, 9]), tensor([2, 1, 8]), tensor([ 3,  0,  9,  2, 11,  3]), tensor([2, 5, 3, 2, 1]), tensor([3, 9, 2]), tensor([2, 2, 2]), tensor([2, 1, 7, 0]), tensor([2, 2, 1, 2, 2]), tensor([2, 0, 2]), tensor([2, 2, 0]), tensor([5, 1, 7, 0]), tensor([2, 3, 1]), tensor([2, 0, 2, 1]), tensor([2, 1, 2, 2]), tensor([2, 2, 2]), tensor([2, 2, 2, 9]), tensor([2, 0, 2]), tensor([2, 2, 0]), tensor([2, 1, 5]), tensor([5, 1, 8]), tensor([2, 2, 0]), tensor([ 2,  5, 11]), tensor([2, 9, 2, 5]), tensor([2, 1, 5, 2, 0]), tensor([0]), tensor([0]), tensor([2, 1, 5, 5]), tensor([2, 1]), tensor([2, 1, 5, 5, 5]), tensor([0, 1]), tensor([2, 5, 2]), tensor([0, 1, 2, 1, 3, 5]), tensor([2, 1]), tensor([2, 2, 3, 0, 8]), tensor([2, 2, 1, 3, 3]), tensor([2, 2, 0]), tensor([2, 2, 0, 2, 5]), tensor([ 5,  2, 10,  0]), tensor([0, 0]), tensor([2, 0, 1, 2, 0, 3, 5]), tensor([2, 9, 5]), tensor([0, 1]), tensor([2, 5, 2]), tensor([0, 1, 2, 1, 3, 5]), tensor([2, 0, 1, 2, 3, 0, 3]), tensor([2, 2, 1, 3, 3]), tensor([2, 1, 5, 5, 5]), tensor([2, 0]), tensor([0, 1]), tensor([2, 5, 2]), tensor([2, 2, 0]), tensor([2, 1, 5, 5, 5]), tensor([2, 3, 1]), tensor([2, 0, 2]), tensor([0, 1, 2, 1, 5]), tensor([2, 0]), tensor([5, 1, 3, 5]), tensor([0, 1, 2, 2, 0, 2, 2]), tensor([2, 3, 2, 0]), tensor([2, 0, 2]), tensor([0, 0]), tensor([2, 2, 0, 2, 5]), tensor([3, 2, 1, 3, 3]), tensor([2, 0]), tensor([3, 2, 0, 2, 2]), tensor([2, 9]), tensor([0, 1, 2, 2, 0, 2, 2]), tensor([2, 0]), tensor([2, 1, 5, 5]), tensor([3, 2, 3, 2]), tensor([2, 2, 1]), tensor([2, 1, 2]), tensor([0, 0, 9, 2, 3]), tensor([2, 2, 9, 0]), tensor([5, 1, 5]), tensor([0, 0, 9, 2, 3]), tensor([0, 1, 3, 2, 0, 7]), tensor([2, 2, 5, 0, 5]), tensor([ 3,  1,  2,  3, 10]), tensor([2, 2, 0]), tensor([2, 5, 0, 5]), tensor([2, 2, 0]), tensor([2, 1, 5]), tensor([2, 0, 2]), tensor([2, 3, 0, 7, 0]), tensor([2, 2, 2, 0]), tensor([2, 2, 0]), tensor([2, 2, 1, 2]), tensor([3, 1, 2, 0, 3, 3]), tensor([2, 1]), tensor([5, 2, 0, 3, 2]), tensor([3, 0, 1, 2, 1, 5, 0, 3]), tensor([0, 0, 9, 2, 2]), tensor([0, 1, 2, 3, 0, 2]), tensor([2, 2, 0, 6]), tensor([2, 0, 2]), tensor([3, 5, 1, 2, 8]), tensor([2, 1]), tensor([2, 0]), tensor([ 2,  2, 11]), tensor([0, 1, 5, 2, 9, 2, 3]), tensor([2, 2, 1, 2]), tensor([ 3,  1,  5, 10]), tensor([2, 1]), tensor([2, 1, 2, 3, 2]), tensor([3, 0, 1, 2, 2, 3]), tensor([3, 1]), tensor([0, 1, 2, 1, 3, 3]), tensor([0, 9, 3, 0]), tensor([3, 0, 3]), tensor([2, 0, 3, 5, 5, 1]), tensor([2, 2, 1, 3, 2, 0, 5, 5, 1]), tensor([0, 9, 0]), tensor([2, 0]), tensor([2, 5, 2]), tensor([2, 0, 1, 2, 3, 0, 3]), tensor([2, 2, 1, 3, 3]), tensor([3, 9, 0]), tensor([2, 1, 5, 5]), tensor([0, 1, 2, 2]), tensor([2, 0, 1, 2, 1, 3, 2, 0, 2]), tensor([2, 2, 5, 5, 1]), tensor([5, 9]), tensor([0, 9]), tensor([2, 2, 0]), tensor([2, 1]), tensor([5, 3, 0, 2]), tensor([5, 2, 0, 2]), tensor([2, 3, 9, 5]), tensor([0, 1, 3, 1, 2, 0, 3]), tensor([5, 1, 5]), tensor([2, 0]), tensor([2, 5, 0, 5]), tensor([2, 0, 3, 6]), tensor([3, 0]), tensor([2, 5, 8]), tensor([2, 5]), tensor([2, 2, 0]), tensor([2, 5, 8]), tensor([2, 1, 6]), tensor([2, 2, 1, 5, 5]), tensor([2, 5]), tensor([2, 1]), tensor([2, 1, 2, 2]), tensor([3, 1, 5]), tensor([2, 3, 9, 2, 5]), tensor([2, 0, 2]), tensor([2, 0, 2]), tensor([2, 0, 3, 6]), tensor([2, 0]), tensor([2, 1, 5, 5]), tensor([2, 1]), tensor([2, 1, 2, 2]), tensor([3, 1, 5]), tensor([2, 3, 9, 2, 5]), tensor([0, 9, 0]), tensor([2, 1]), tensor([2, 5, 0, 2]), tensor([2, 5, 7, 0]), tensor([2, 0, 2]), tensor([2, 3, 2]), tensor([2, 1, 2, 5, 2, 0]), tensor([2, 1, 5, 0, 7, 0]), tensor([2, 5, 2]), tensor([2, 1, 2, 5]), tensor([2, 9]), tensor([2, 3, 9, 2, 5]), tensor([2, 1, 2]), tensor([3, 2, 2, 0, 3]), tensor([2, 1, 3, 3]), tensor([2, 2, 0]), tensor([2, 1, 2]), tensor([3, 2, 3, 2]), tensor([2, 2, 2, 0]), tensor([5, 1, 3, 6]), tensor([2, 1]), tensor([2, 2, 9, 2]), tensor([2, 2, 1, 2, 2]), tensor([0, 1, 5, 5, 0, 2]), tensor([2, 2, 2, 1]), tensor([2, 2, 0, 2, 0, 5]), tensor([3, 1]), tensor([2, 2, 3, 3]), tensor([2, 9, 0]), tensor([2, 1, 5, 2]), tensor([3, 1]), tensor([2, 1, 3]), tensor([2, 2, 0, 3, 3, 3]), tensor([2, 2, 9, 0]), tensor([0, 0, 9, 0, 3, 0]), tensor([2, 3, 2, 9]), tensor([0, 1, 2, 1, 2]), tensor([3, 3, 2, 3]), tensor([ 0,  0, 10, 10]), tensor([ 2,  2, 12]), tensor([3, 1, 3, 1, 3]), tensor([2, 3, 0, 1, 2, 1, 3]), tensor([2, 1]), tensor([2, 5, 1]), tensor([3, 1, 2]), tensor([ 0,  0, 10,  2,  5]), tensor([2, 9, 0]), tensor([2, 1]), tensor([2, 0, 2, 1]), tensor([3, 0, 1, 3, 1, 3]), tensor([2, 1]), tensor([2, 1, 2]), tensor([0, 1, 2, 3, 0, 5]), tensor([2, 1, 5, 5]), tensor([3, 5, 5, 0, 3, 3]), tensor([2, 1]), tensor([5, 5, 0, 3, 3]), tensor([0, 2, 0]), tensor([ 0,  0, 11,  0,  3]), tensor([2, 1]), tensor([0, 1, 5, 1, 2, 0, 3]), tensor([2, 1]), tensor([2, 2, 0, 3, 3]), tensor([0, 1, 3, 9, 3]), tensor([2, 2, 1]), tensor([2, 2, 0]), tensor([5, 5, 0, 7, 0]), tensor([0, 2, 0]), tensor([2, 2, 3, 3]), tensor([2, 3, 1]), tensor([2, 1]), tensor([2, 5, 9]), tensor([0, 1, 3, 2, 0, 2, 2]), tensor([3, 3]), tensor([2, 1]), tensor([2, 1]), tensor([2, 5, 1]), tensor([2, 0, 2, 2]), tensor([3, 1, 5]), tensor([2, 1]), tensor([3, 2, 0, 2, 8]), tensor([2, 1]), tensor([3, 2, 1, 3]), tensor([2, 2, 3, 3]), tensor([2, 0]), tensor([3, 2, 0, 2, 8]), tensor([0, 1, 2, 2, 2]), tensor([2, 2, 5, 5]), tensor([3, 5, 2, 9, 3]), tensor([3, 9, 3, 3]), tensor([2, 2, 1, 2]), tensor([2, 5]), tensor([ 0,  0,  9,  2, 11,  5]), tensor([3, 0]), tensor([2, 1, 3, 3, 3]), tensor([2, 3, 1]), tensor([2, 1]), tensor([2, 1, 5, 1]), tensor([3, 1, 3, 2, 0, 2, 3]), tensor([2, 2, 0]), tensor([3, 0]), tensor([5, 5, 0, 3, 3]), tensor([0, 1]), tensor([2, 1]), tensor([2, 1, 5, 1]), tensor([2, 2, 2]), tensor([2, 1, 8]), tensor([2, 3, 1]), tensor([2, 1, 2, 2]), tensor([0, 1, 3, 1, 2]), tensor([3, 0]), tensor([0, 1, 2, 1, 3]), tensor([2, 2, 0, 2]), tensor([2, 2, 5, 5, 2, 0]), tensor([2, 2, 5]), tensor([2, 1, 3, 0, 5]), tensor([ 0,  1,  2, 10,  3]), tensor([3, 1, 3, 1, 3]), tensor([3, 2, 0, 7]), tensor([2, 2, 0]), tensor([2, 9]), tensor([0, 1, 3, 1, 2]), tensor([2, 1, 5, 5]), tensor([2, 0, 2]), tensor([0, 0, 9, 1, 3]), tensor([2, 2, 1, 5]), tensor([0, 1, 2, 0, 5, 2, 0]), tensor([2, 1]), tensor([0, 1, 2, 2, 2, 1, 3]), tensor([ 5,  2, 10,  5]), tensor([0, 1, 5, 1, 2, 0]), tensor([2, 1]), tensor([3, 3, 1, 3, 2, 0]), tensor([3, 3, 2, 0, 3, 3]), tensor([3, 0]), tensor([0, 0, 9, 1, 3, 0, 3]), tensor([2, 2, 0]), tensor([2, 9]), tensor([2, 5, 2, 0, 3, 5]), tensor([2, 3, 0, 2, 5]), tensor([3, 0]), tensor([0, 0, 9, 2, 0, 3]), tensor([3, 2, 0]), tensor([2, 9]), tensor([3, 0, 3]), tensor([3, 1]), tensor([2, 9]), tensor([ 0,  0, 10,  2,  0,  2]), tensor([2, 0]), tensor([2, 1, 5, 5]), tensor([3, 0, 1, 3, 1, 3]), tensor([0, 1, 3, 2, 0, 7]), tensor([2, 2, 0]), tensor([2, 2, 2, 0, 2, 5]), tensor([3, 3]), tensor([3, 3, 2, 0, 3]), tensor([0, 1, 3, 1, 3]), tensor([2, 2, 0]), tensor([2, 9]), tensor([3, 3]), tensor([2, 2, 0]), tensor([2, 1, 2]), tensor([3, 2, 9, 5]), tensor([0, 9, 2, 0]), tensor([2, 3, 2]), tensor([2, 2, 2, 5]), tensor([2, 0, 1, 2, 1, 5]), tensor([2, 0, 1, 3, 2, 5]), tensor([2, 2]), tensor([0, 1, 3, 1, 2, 0, 3]), tensor([3, 0, 2, 0]), tensor([2, 0, 1, 3, 2, 0, 2, 5]), tensor([3, 2, 1, 3, 3, 1]), tensor([2, 0, 1, 2, 1, 3]), tensor([3, 0]), tensor([0, 0, 9, 1, 3, 0, 3]), tensor([3, 2, 0, 3, 3]), tensor([2, 9]), tensor([ 5, 13,  0]), tensor([3, 1, 2, 0]), tensor([3, 1]), tensor([ 2,  2, 11,  3]), tensor([0, 1, 5, 9, 0, 3]), tensor([2, 3, 0]), tensor([0, 1, 5, 2, 0, 2, 2, 3]), tensor([3, 0, 2, 0]), tensor([5, 0, 2]), tensor([0, 1, 2, 1, 3]), tensor([3, 2, 1, 8]), tensor([2, 1]), tensor([3, 2, 1, 3, 3]), tensor([2, 1, 2, 0, 3]), tensor([2, 2, 5, 5, 2, 0]), tensor([2, 9, 2, 0]), tensor([2, 1, 3, 0, 6]), tensor([2, 0, 1, 2, 1, 3]), tensor([3, 0]), tensor([0, 1, 2, 1, 3]), tensor([2, 2, 0, 3, 0, 3, 2, 0]), tensor([2, 0]), tensor([3, 2, 9, 2, 0]), tensor([ 2,  2, 11]), tensor([3, 1, 5]), tensor([2, 5, 2]), tensor([0, 1, 2, 1, 2, 5]), tensor([2, 0]), tensor([3, 0, 3, 0, 1, 3, 1, 2, 0, 3]), tensor([2, 1]), tensor([2, 0]), tensor([2, 1, 5, 5]), tensor([0, 0, 9, 1, 3, 0, 5]), tensor([3, 3]), tensor([2]), tensor([2, 0]), tensor([0, 1, 3, 1, 5]), tensor([3, 2, 1, 2, 0]), tensor([0, 1, 3, 1, 2, 0, 3]), tensor([2, 2, 0]), tensor([0, 1, 2, 1, 5]), tensor([2, 2, 0]), tensor([0, 1, 2, 1, 3]), tensor([2, 3, 1]), tensor([0, 1, 5, 0, 2, 0]), tensor([2, 3, 1]), tensor([2, 9, 2]), tensor([2, 1]), tensor([2, 1, 2, 2]), tensor([5, 3, 2]), tensor([3, 1, 5]), tensor([2, 3, 1]), tensor([2, 9, 2]), tensor([2, 1, 2, 5]), tensor([2, 2, 2, 0]), tensor([2]), tensor([2, 1, 2, 5, 5]), tensor([3, 0]), tensor([2, 1, 5, 0, 3, 3]), tensor([3, 2, 6]), tensor([3, 2, 2, 2, 3, 3]), tensor([0, 1]), tensor([2, 9, 2, 5]), tensor([3, 1, 3, 1, 3]), tensor([2, 2, 2, 0]), tensor([0, 1, 2, 9, 0, 2, 5]), tensor([5, 0, 2]), tensor([0, 1, 3, 2, 0, 3]), tensor([ 3,  0, 11,  1,  2,  3]), tensor([2, 3, 1]), tensor([2, 9, 2]), tensor([2, 1, 2, 5]), tensor([2, 1]), tensor([2, 1, 2, 1, 5]), tensor([0, 9, 0]), tensor([0, 1, 2, 9, 0, 2, 5]), tensor([2, 5, 3, 2]), tensor([3, 1]), tensor([2, 2, 0, 3, 3]), tensor([2, 9]), tensor([2, 1, 2, 5]), tensor([2, 1, 2]), tensor([2, 1, 3, 0, 7, 0]), tensor([2, 3, 3]), tensor([2, 9, 2]), tensor([0, 1, 2, 1, 5]), tensor([2, 2, 1, 5]), tensor([ 0,  1,  5, 10]), tensor([ 0,  1,  2,  1,  2,  3, 10]), tensor([2, 2, 2, 5, 1]), tensor([3, 0]), tensor([0, 0, 9, 2, 0, 3]), tensor([2, 2, 1, 3, 3]), tensor([2, 1]), tensor([0, 1, 5, 1, 2, 3]), tensor([2, 2, 3, 5]), tensor([ 0,  0, 10,  2,  5]), tensor([2, 0, 1, 2, 9, 0, 2, 5]), tensor([0, 1]), tensor([2, 9, 2, 5]), tensor([0, 1, 5, 1, 3, 5]), tensor([5, 0, 2]), tensor([0, 1, 3, 2, 0, 3]), tensor([2, 3, 1]), tensor([2, 9, 2]), tensor([2, 1, 2, 5]), tensor([2, 3, 2, 1, 5]), tensor([0, 1, 2, 9, 0, 2, 5]), tensor([2, 2, 2, 0]), tensor([0, 1, 3, 0, 2, 5]), tensor([2, 3, 1]), tensor([2, 0, 2]), tensor([2, 1, 2]), tensor([0, 0, 9, 1, 3, 0, 3]), tensor([2, 9, 2]), tensor([0, 1, 2, 0, 3, 5]), tensor([3, 2, 9, 5]), tensor([3, 2, 0, 6]), tensor([2, 2, 2, 9, 5]), tensor([3, 0, 1, 2, 0, 3]), tensor([ 2,  5,  2, 10,  5]), tensor([0, 1, 2, 0, 3, 5]), tensor([0, 1, 5, 2, 9, 2]), tensor([3, 0, 3]), tensor([2, 2, 0]), tensor([3, 0]), tensor([3, 2, 0, 3]), tensor([0, 1, 2, 1, 3]), tensor([ 2,  0,  0, 11,  1,  2,  3]), tensor([2, 3, 1]), tensor([2, 0, 2]), tensor([0, 1, 2, 1, 5]), tensor([3, 1]), tensor([0, 1, 2, 0, 3, 3]), tensor([2, 1]), tensor([2, 5, 1]), tensor([3, 2, 0, 3, 3]), tensor([0, 1, 2, 1, 3]), tensor([2, 1]), tensor([0, 0, 9, 1, 2, 1, 3]), tensor([2, 3, 0, 7, 0]), tensor([3, 2, 9]), tensor([3, 1, 2, 5]), tensor([2, 0, 3, 6]), tensor([0, 9, 0]), tensor([2, 9]), tensor([3, 0, 2, 0]), tensor([2, 0]), tensor([2, 5, 0, 5]), tensor([2, 5]), tensor([2, 1, 5, 5]), tensor([2, 2, 3, 5]), tensor([2, 2, 1, 3]), tensor([ 0,  0,  9,  2, 11,  5]), tensor([3, 3]), tensor([2, 2, 2, 9, 5]), tensor([3, 2, 2, 3, 3]), tensor([3, 2, 9]), tensor([2, 2, 2, 5]), tensor([2, 3, 0, 6]), tensor([2, 0, 3, 6]), tensor([ 0,  0,  9,  2, 11,  5]), tensor([3, 3]), tensor([ 3,  2,  2, 11,  3]), tensor([ 2, 10]), tensor([0, 1, 5, 2, 2, 0, 3]), tensor([3, 3]), tensor([2, 2, 2, 2, 9, 5]), tensor([3, 0]), tensor([2, 2, 3, 3]), tensor([2, 3, 2]), tensor([2, 2, 0, 2]), tensor([2, 3, 0, 5, 5]), tensor([ 0,  0,  9,  2, 11,  2]), tensor([3, 3]), tensor([2, 2, 0, 9, 5]), tensor([2, 2, 0, 2, 0]), tensor([2, 1, 2, 5]), tensor([2, 1, 5, 5]), tensor([2, 2, 2, 0]), tensor([2, 1, 5]), tensor([ 0,  0, 10,  9,  3]), tensor([2, 1]), tensor([2, 2, 0, 7, 0]), tensor([2, 3, 9, 0]), tensor([2, 2, 1, 5, 2, 0]), tensor([2, 1, 7, 0]), tensor([ 5,  2, 10,  5]), tensor([2, 2, 1, 5]), tensor([0, 1, 2, 3, 9, 3]), tensor([ 0,  0,  9,  2,  1,  3, 11]), tensor([0, 9, 2, 0]), tensor([2, 9]), tensor([2, 1, 2, 5, 2, 0]), tensor([ 3,  0,  0, 10,  1,  3]), tensor([3, 2, 9, 5]), tensor([2, 1]), tensor([2, 1, 2, 1, 5]), tensor([2, 1]), tensor([2, 3, 0]), tensor([2, 3, 0, 2, 2]), tensor([ 2, 13,  0]), tensor([2, 3, 9, 2, 0]), tensor([5, 3, 2, 1]), tensor([ 0,  1,  2, 10,  2,  5]), tensor([5, 2, 0]), tensor([2, 2, 1]), tensor([5, 1, 2, 1]), tensor([3, 0]), tensor([0, 1, 2, 1, 2, 2, 3]), tensor([ 0,  1,  5,  2,  2, 10,  2,  3]), tensor([3, 2, 9]), tensor([2, 9, 2]), tensor([0, 1, 2, 1, 5, 0, 5]), tensor([3, 3]), tensor([2, 0, 6]), tensor([5, 2, 9, 6]), tensor([2, 5, 2]), tensor([2, 0]), tensor([2, 2, 0]), tensor([0, 1, 2, 3, 0, 3]), tensor([2, 1, 2]), tensor([2, 1, 3]), tensor([0, 1, 2, 2, 0, 2, 3]), tensor([2, 2, 1, 2, 0]), tensor([0, 1, 5, 9, 3, 0]), tensor([2, 2, 2, 1]), tensor([5, 1, 2, 2, 7]), tensor([2, 1]), tensor([2, 2, 2, 9, 1]), tensor([3, 2, 3, 2]), tensor([2, 2, 2, 2, 1]), tensor([0, 0, 9, 1, 2, 0]), tensor([2, 2, 1]), tensor([5, 1, 2, 1]), tensor([2, 2, 5, 2, 0]), tensor([0, 1, 2, 1, 5, 0, 5]), tensor([3, 3]), tensor([2, 0, 6]), tensor([5, 1, 2, 6]), tensor([3, 2, 9, 5]), tensor([2, 0, 2]), tensor([2, 3, 9]), tensor([2, 2, 0]), tensor([2, 3, 0, 6]), tensor([2, 1, 5]), tensor([3, 2, 1, 3, 3]), tensor([2, 2, 1, 2, 0]), tensor([0, 1, 2, 0, 3]), tensor([5, 1, 2, 2, 6]), tensor([2, 1, 7, 0]), tensor([2, 2, 9, 1]), tensor([0, 0, 9, 1, 2, 0]), tensor([2, 5, 3, 2, 1]), tensor([ 0,  1,  2, 10,  2,  5]), tensor([3, 2, 9, 2, 0]), tensor([3, 2, 0, 6]), tensor([2, 2, 0]), tensor([3, 9, 3]), tensor([0, 0, 9, 1, 2, 0]), tensor([0]), tensor([0]), tensor([2, 0, 2]), tensor([2, 3, 0, 5]), tensor([0, 1, 5, 1, 3, 3, 0, 2]), tensor([ 2,  3, 11]), tensor([1, 5]), tensor([2, 3, 0]), tensor([2, 0, 3, 8]), tensor([2, 3, 2]), tensor([0, 0, 9, 5]), tensor([2, 1, 5]), tensor([ 2,  2, 11]), tensor([2, 0]), tensor([2, 2, 0]), tensor([0, 1, 3, 1, 2, 0, 3]), tensor([2, 1, 5]), tensor([2, 3, 3, 3]), tensor([2, 1]), tensor([2, 2, 0]), tensor([2, 0, 2]), tensor([2, 2, 1, 5]), tensor([0, 1, 2, 3, 3]), tensor([5, 2]), tensor([0, 1, 2, 1, 5]), tensor([2, 1, 2, 5]), tensor([2, 0, 2]), tensor([5, 2, 2, 0, 5, 2, 0]), tensor([0, 9, 2, 0]), tensor([2, 2, 2]), tensor([5, 0, 6]), tensor([2, 9, 5]), tensor([3, 2, 1, 3]), tensor([2, 1, 3]), tensor([0, 0, 9, 3]), tensor([0, 1, 3, 1]), tensor([3, 0, 2, 0]), tensor([3, 1]), tensor([ 5, 14]), tensor([2, 1, 2, 1, 3]), tensor([0, 2, 0]), tensor([2, 2, 1, 2, 2]), tensor([2, 2, 2, 2]), tensor([5, 0, 6]), tensor([2, 1, 2, 5]), tensor([0, 9, 0]), tensor([2, 1]), tensor([2, 2, 2]), tensor([2, 2, 1, 3]), tensor([0, 1, 2, 1, 5]), tensor([3, 1, 5, 1]), tensor([3, 2, 9, 5]), tensor([2, 0, 5]), tensor([0, 1, 3, 1, 2, 0, 7]), tensor([2, 0, 3, 7, 0]), tensor([0, 2, 0]), tensor([2, 1, 3, 3]), tensor([3, 1]), tensor([ 5, 14]), tensor([2, 1, 2, 1, 3]), tensor([0, 1, 2, 1, 3]), tensor([2, 2, 2, 2, 5]), tensor([0, 0, 9, 2, 0, 5]), tensor([2, 2, 0]), tensor([2, 3, 2]), tensor([2, 2, 1, 2, 2, 5]), tensor([0, 0, 9, 5]), tensor([2, 9]), tensor([0, 3, 0, 1, 3, 1, 2, 0, 2]), tensor([2, 0, 3, 6]), tensor([0, 2, 0]), tensor([ 0,  1,  5, 10]), tensor([2, 2, 9, 5]), tensor([2, 1]), tensor([2, 2, 2]), tensor([0, 1, 2, 1, 5]), tensor([2, 2, 0]), tensor([2, 1, 3]), tensor([2, 1, 3, 3]), tensor([2, 2, 0]), tensor([2, 2, 2]), tensor([2, 2, 0]), tensor([2, 1, 8]), tensor([3, 1]), tensor([0, 0, 9, 1, 2, 1, 3]), tensor([2, 2, 9]), tensor([0, 9, 3, 0]), tensor([2, 2, 2]), tensor([2, 2, 1, 3]), tensor([0, 1, 2, 1, 5]), tensor([3, 1]), tensor([2, 1, 3, 3]), tensor([5, 2]), tensor([0, 1, 5, 5]), tensor([2, 1, 3, 2, 7]), tensor([3, 1, 2, 1, 3]), tensor([3, 0]), tensor([2, 2, 0, 3]), tensor([2, 1, 2, 0, 3, 3, 1]), tensor([2, 3, 1]), tensor([2, 0, 5, 0, 0]), tensor([2, 0, 3, 3, 0, 2]), tensor([2, 2, 2, 2, 1]), tensor([2, 2, 1, 3]), tensor([2, 1, 2, 2, 6]), tensor([2, 3, 2]), tensor([2, 9]), tensor([0, 3, 0, 1, 2]), tensor([3, 1]), tensor([0, 1, 2, 1, 3]), tensor([0, 1, 7, 0]), tensor([2, 5, 2, 7]), tensor([2, 3, 1]), tensor([2, 1, 3]), tensor([0, 1, 2, 1, 3]), tensor([2, 2, 0]), tensor([2, 0]), tensor([2, 1, 3, 0]), tensor([2, 2, 0, 5, 5]), tensor([3, 0]), tensor([0, 1, 0, 2, 3]), tensor([0, 0, 9, 0, 3, 2, 3]), tensor([2, 1, 2]), tensor([2, 2, 0]), tensor([0, 1]), tensor([2, 0, 2]), tensor([0, 0, 9, 5]), tensor([ 2,  2,  1,  2,  0,  3, 12]), tensor([3, 2, 1, 3, 3]), tensor([2, 3, 1]), tensor([2, 1, 2, 2]), tensor([3, 1]), tensor([0, 1, 5, 2, 9, 2, 3]), tensor([2, 0, 2]), tensor([2, 0, 3, 6]), tensor([2, 0]), tensor([ 2,  5, 11]), tensor([ 0,  1,  2,  1,  2,  0,  3, 11]), tensor([3, 0]), tensor([2, 2, 8]), tensor([2, 2, 0]), tensor([2, 2, 8]), tensor([2, 3, 1]), tensor([2, 0, 2]), tensor([2, 1, 2, 2, 5, 1]), tensor([2, 1, 2, 2, 6]), tensor([2, 3, 2, 5]), tensor([0, 0, 9, 1, 3]), tensor([2, 0]), tensor([2, 2, 9, 2]), tensor([3, 1, 5, 5]), tensor([2, 0, 2]), tensor([5, 2, 9, 5]), tensor([1, 5]), tensor([3, 0, 2, 0]), tensor([0, 1, 2, 1, 2, 0]), tensor([2, 1, 2, 2, 3, 0]), tensor([2, 1, 5]), tensor([2, 1, 2, 0, 3]), tensor([2, 0, 3, 8]), tensor([2, 1]), tensor([2, 0, 3, 8]), tensor([2, 3, 2, 5]), tensor([0, 0, 9, 5]), tensor([2, 9, 5]), tensor([2, 0, 5]), tensor([2, 1, 5, 5]), tensor([ 0,  0, 11,  1,  2,  2]), tensor([2, 2, 0]), tensor([2, 1, 3]), tensor([2, 2, 1, 3]), tensor([2, 1]), tensor([2, 2, 0, 3, 3, 3]), tensor([2, 2, 0, 2]), tensor([2, 1, 2, 6]), tensor([2, 2, 1, 0]), tensor([ 0,  0, 11,  1,  3,  9]), tensor([2, 1, 2]), tensor([2, 1, 5, 5]), tensor([2, 2, 0, 2]), tensor([2, 0, 2]), tensor([ 0,  0,  9,  3, 11]), tensor([2, 9, 0]), tensor([0, 0, 9, 5]), tensor([2, 2, 1, 3]), tensor([2, 2, 9, 0]), tensor([2, 1, 5, 5]), tensor([2, 2, 0]), tensor([2, 2, 1, 3]), tensor([5, 9]), tensor([2, 1, 2, 5]), tensor([3, 3, 2, 0]), tensor([2, 1, 2, 5]), tensor([2, 2, 1]), tensor([2, 2, 0, 5]), tensor([5, 0, 5, 5]), tensor([5, 1, 2, 7, 0]), tensor([2, 0, 2]), tensor([ 0,  0,  9,  3, 11]), tensor([2, 9, 0]), tensor([0, 0, 9, 5]), tensor([2, 2, 1, 3]), tensor([2, 2, 9, 0]), tensor([3, 2, 0]), tensor([2, 2, 0]), tensor([3, 2, 0]), tensor([3, 2, 0, 3, 3]), tensor([2, 2, 2]), tensor([3, 0]), tensor([2, 9, 1, 3]), tensor([3, 5, 1]), tensor([5, 2]), tensor([0, 0, 9, 5]), tensor([2, 2, 6]), tensor([ 0,  0,  0,  0,  5,  2, 10,  2,  2,  1,  3]), tensor([2, 3, 0, 7, 0]), tensor([5, 9]), tensor([2, 2, 2]), tensor([3, 3, 2, 0]), tensor([2, 1, 2, 5]), tensor([2, 2, 0]), tensor([2, 2, 2, 1]), tensor([2, 2, 0, 5]), tensor([3, 1]), tensor([2, 2, 3, 3]), tensor([0, 0, 9, 5, 0, 2, 3]), tensor([2, 5, 2, 9, 5]), tensor([3, 2, 1, 3]), tensor([0, 0, 9, 5, 0, 2, 3]), tensor([2, 2, 0]), tensor([2, 5, 0, 2, 2]), tensor([3, 0]), tensor([3, 1, 3]), tensor([0, 1, 2, 2, 3]), tensor([3, 2, 1, 3]), tensor([0, 1, 2, 1, 3]), tensor([3, 2, 9]), tensor([0, 1, 3, 1, 2]), tensor([5, 1, 5]), tensor([0, 0, 9, 2, 3]), tensor([2, 0, 1, 5, 1, 5]), tensor([2, 1]), tensor([2, 2, 2, 9, 5]), tensor([2, 1]), tensor([0, 0, 9, 2, 3]), tensor([2, 3, 9, 2, 0]), tensor([0, 0, 9, 1, 5]), tensor([2, 1]), tensor([2, 0]), tensor([2, 1, 5, 2]), tensor([0, 0, 9, 2, 5]), tensor([2, 1]), tensor([0, 1, 5, 1, 3]), tensor([2, 2, 9, 0]), tensor([2, 1]), tensor([2, 1, 2, 3, 2]), tensor([2, 3, 1]), tensor([2, 2, 2]), tensor([ 0,  0, 10,  2,  0,  5]), tensor([3, 5, 9, 3]), tensor([ 2, 14]), tensor([5, 2, 9, 2, 8]), tensor([2, 0, 3, 2, 8]), tensor([2, 3, 2, 0]), tensor([3, 2]), tensor([2, 1, 6]), tensor([2, 3, 1, 5, 5]), tensor([2, 1]), tensor([2, 3, 0, 9, 1, 2, 3]), tensor([3, 1, 5]), tensor([ 0,  1,  2, 10]), tensor([ 2,  0,  0, 10,  2,  0,  5]), tensor([2, 0, 3, 6]), tensor([3, 3, 2, 0, 3]), tensor([0, 1, 2, 1, 3]), tensor([2, 5, 1, 2, 5]), tensor([5, 9]), tensor([2, 2, 2]), tensor([2, 1, 2, 2]), tensor([2, 2, 0, 3, 2]), tensor([2, 0, 1, 5, 1, 2, 1, 2, 0, 3]), tensor([3, 1]), tensor([2, 1, 3, 3]), tensor([2, 0, 0, 9, 2, 3]), tensor([3, 2, 2, 3]), tensor([3, 9, 3]), tensor([2, 1, 3]), tensor([2, 1, 8]), tensor([3, 1, 2, 0]), tensor([2, 2, 7, 0]), tensor([2, 2, 0, 2]), tensor([2, 2, 0, 2]), tensor([ 0,  0, 10,  2,  0,  5]), tensor([3, 2, 1, 2, 8]), tensor([2, 1, 5, 0, 2, 8]), tensor([3, 1, 2, 5, 1]), tensor([2, 3, 2]), tensor([3, 0, 1, 2, 1, 3]), tensor([2, 2, 0, 5]), tensor([0, 1, 2, 1, 3]), tensor([ 2,  3,  0,  0,  9, 10]), tensor([0, 1, 2, 2, 0, 5]), tensor([2, 1]), tensor([2, 2, 0]), tensor([2, 2, 8]), tensor([2, 1, 5, 0, 8]), tensor([2, 2, 2, 2, 8]), tensor([3, 1]), tensor([2, 3, 3, 8]), tensor([2, 1]), tensor([2, 3, 0, 8]), tensor([2, 2, 1]), tensor([3, 0]), tensor([ 0,  0, 10,  9,  3]), tensor([2, 1, 2]), tensor([2, 1, 5, 0, 8]), tensor([2, 0]), tensor([2, 2, 8]), tensor([3, 1]), tensor([2, 2, 8]), tensor([0, 9, 0]), tensor([0, 1]), tensor([2, 9, 2]), tensor([2, 1]), tensor([2, 2, 0]), tensor([2, 2, 0, 3]), tensor([3, 1, 8]), tensor([2, 1]), tensor([3, 1, 3, 2, 0]), tensor([2, 2, 2, 0]), tensor([3, 0]), tensor([0, 1, 2, 2, 0, 3, 3]), tensor([0, 1, 2, 1, 2, 3]), tensor([0, 1, 2, 2, 5]), tensor([3, 1]), tensor([2, 1, 2, 3]), tensor([3, 1, 3, 2, 0]), tensor([3, 0]), tensor([2, 2, 8]), tensor([3, 2, 2, 3, 9, 8]), tensor([2, 2, 1, 8]), tensor([3, 2, 1, 3, 9, 8]), tensor([2, 0, 1, 2, 2, 5]), tensor([3, 1]), tensor([2, 3, 3, 8]), tensor([2, 2, 3, 0, 8]), tensor([3, 1]), tensor([ 0,  0, 10, 10]), tensor([0, 9, 3, 0]), tensor([2, 2, 2, 0, 2, 5]), tensor([3, 3]), tensor([0, 0, 9, 0, 5]), tensor([2, 0, 1, 2, 2, 5]), tensor([3, 1]), tensor([2, 2, 0, 3]), tensor([3, 1, 8]), tensor([5, 1, 2, 5]), tensor([3, 3]), tensor([3, 0]), tensor([3, 1, 3, 2, 0]), tensor([3, 0, 1, 3, 2, 0, 3]), tensor([0, 1, 2, 1, 2, 0, 3]), tensor([0, 9, 3, 0]), tensor([5, 1, 2, 2, 5]), tensor([3, 0]), tensor([2, 2, 0, 3]), tensor([0, 1, 3, 1, 3]), tensor([3, 1]), tensor([2, 2, 0, 8]), tensor([2, 2, 2, 8]), tensor([2, 2, 2, 8]), tensor([2, 5, 1, 2, 2, 5]), tensor([0, 1, 2, 2, 5]), tensor([3, 1]), tensor([2, 3, 2]), tensor([ 2,  0, 13,  0]), tensor([2, 0]), tensor([5, 2, 9, 7, 0]), tensor([2, 3, 0]), tensor([2, 1, 3]), tensor([3, 1, 3]), tensor([3, 1, 8]), tensor([2, 1]), tensor([3, 1, 3]), tensor([0, 0, 9, 3, 0, 3]), tensor([0, 2, 0]), tensor([2, 2, 9, 2, 2, 0]), tensor([2, 2, 0]), tensor([2, 2, 8]), tensor([2, 1, 5, 0, 8]), tensor([3, 1, 5]), tensor([2, 1, 3, 0, 7, 0]), tensor([3, 1, 2, 2, 3]), tensor([ 2,  2,  1,  2,  3, 14]), tensor([2, 1]), tensor([ 2,  2,  3, 14]), tensor([2, 1]), tensor([ 3,  1,  3, 14]), tensor([2, 1]), tensor([ 5,  0,  3, 14]), tensor([2, 2, 2, 5]), tensor([0, 1, 3, 2, 0, 3, 3]), tensor([2, 2, 0]), tensor([2, 1, 2, 2]), tensor([ 0,  0, 10,  1,  2,  1,  3]), tensor([3, 0, 1, 2, 2, 3]), tensor([3, 1]), tensor([ 0,  0, 11,  0,  3]), tensor([2, 0, 1, 5, 1, 3]), tensor([2, 3, 1]), tensor([0, 1, 2, 2, 2, 0]), tensor([5, 1, 3, 0, 0]), tensor([ 0,  0, 10,  1,  2]), tensor([0, 1, 2, 2, 2]), tensor([3, 1]), tensor([ 5, 14]), tensor([2, 3, 1]), tensor([2, 0, 2, 1]), tensor([0, 1, 2, 1, 2, 0, 5]), tensor([2, 2, 0, 2, 7]), tensor([5, 1, 3, 0, 0]), tensor([3, 1]), tensor([2, 2, 3]), tensor([ 5, 10]), tensor([3, 1, 8]), tensor([5, 5, 2, 5]), tensor([2, 2, 2, 2, 0]), tensor([2, 5, 2]), tensor([0, 9, 3, 0]), tensor([5, 1, 2, 5]), tensor([3, 2, 3, 0, 3]), tensor([0, 1, 3, 2, 0, 3]), tensor([3, 1, 2]), tensor([2, 1, 3, 3]), tensor([2, 2, 1, 3]), tensor([0, 0, 9, 2, 0, 5]), tensor([2, 0, 0, 9, 2, 0, 5]), tensor([3, 0]), tensor([2, 0, 3, 2, 3]), tensor([0, 1, 2, 2, 3]), tensor([0, 0, 9, 2, 0, 5]), tensor([2, 3, 9]), tensor([2, 1, 7, 0]), tensor([2, 3, 5, 0, 0]), tensor([3, 1, 5]), tensor([2, 1]), tensor([2, 0]), tensor([2, 2, 0, 2]), tensor([3, 0]), tensor([2, 1, 3]), tensor([0, 0, 9, 0, 3, 2, 3]), tensor([2, 1]), tensor([2, 2, 2, 1]), tensor([3, 9, 0]), tensor([2, 1, 3, 5]), tensor([3, 3, 1, 2]), tensor([0, 1, 2, 1, 2, 0, 3]), tensor([3, 1]), tensor([0, 0, 9, 1, 3]), tensor([2, 1]), tensor([2, 2, 0, 3, 3]), tensor([2, 2, 1, 3, 3]), tensor([2, 1, 2, 3, 5]), tensor([0, 2, 0]), tensor([2, 1, 2, 0, 8]), tensor([2, 2, 5, 2, 0]), tensor([2, 1, 5]), tensor([0, 1, 3, 2, 0, 3]), tensor([3, 0, 1, 3, 2, 0, 3]), tensor([2, 5, 1, 3]), tensor([2, 2, 9, 3, 0, 2]), tensor([5, 2, 2, 9, 1, 2]), tensor([3, 1, 5, 1]), tensor([2, 2, 2, 5, 0, 2]), tensor([2, 1, 2, 0, 7, 0]), tensor([2, 3, 9, 7]), tensor([3, 2, 1, 2, 0, 3, 3, 1]), tensor([2, 2, 0, 7, 0]), tensor([0, 2, 0]), tensor([0, 1, 2, 1, 3]), tensor([2, 1, 2]), tensor([0, 1, 2, 0, 8]), tensor([3, 5, 1, 3]), tensor([2, 2, 9, 3, 0, 2]), tensor([5, 2, 2, 9, 1, 2]), tensor([3, 1, 5, 1]), tensor([2, 2, 2, 5, 0, 2]), tensor([2, 1, 2, 0, 7, 0]), tensor([2, 2, 2, 9, 1, 2]), tensor([3, 2, 1, 5, 3, 3, 9]), tensor([2, 1, 2, 2, 2]), tensor([2, 1, 5, 8]), tensor([2, 2, 1, 7, 0]), tensor([ 3,  2,  2, 11,  3,  2,  0]), tensor([5, 5, 0, 7, 0]), tensor([2, 3, 1]), tensor([2, 2, 9, 2, 1]), tensor([3, 2, 0, 2, 7]), tensor([2, 2, 0, 3, 0, 2, 0]), tensor([2, 1, 5]), tensor([ 0,  0, 11,  9,  3]), tensor([ 3,  0,  0, 11,  9,  3]), tensor([2, 2, 3, 0, 3]), tensor([5, 1, 5]), tensor([2, 2, 1, 5, 5, 1]), tensor([2, 1]), tensor([3, 2, 0, 2, 3]), tensor([0, 1, 5, 5, 0, 3]), tensor([2, 5, 0, 5, 0, 2, 0]), tensor([3, 1, 5]), tensor([2, 9, 5]), tensor([2, 1]), tensor([2, 2, 2]), tensor([2, 1]), tensor([2, 1, 5, 5]), tensor([3, 5, 1, 2, 3]), tensor([0, 1, 3, 1, 3]), tensor([2, 2, 1, 2, 1, 3, 5]), tensor([2, 2, 0]), tensor([2, 0]), tensor([5, 2, 0, 3, 5]), tensor([2, 1, 2]), tensor([0, 1, 2, 0, 3, 3]), tensor([2, 2, 1]), tensor([2, 1, 5, 5, 5]), tensor([3, 3, 2, 0, 2, 8]), tensor([2, 2, 0]), tensor([5, 1, 2, 3]), tensor([0, 1, 3, 1, 3]), tensor([2, 3, 2, 0, 2, 8]), tensor([5, 2, 0, 3, 5]), tensor([2, 1, 2]), tensor([0, 1, 2, 0, 3, 3]), tensor([2, 2, 5]), tensor([0, 1, 2, 2, 0, 3]), tensor([2, 1, 5, 2, 2, 9, 1]), tensor([2, 5]), tensor([2, 2, 9, 5]), tensor([2, 1]), tensor([2, 2, 2]), tensor([2, 1]), tensor([2, 1, 5, 5]), tensor([3, 5, 0, 3]), tensor([5, 1, 2, 3]), tensor([0, 1, 3, 1, 3]), tensor([2, 5, 2, 0, 3, 5]), tensor([2, 1, 2]), tensor([0, 1, 2, 0, 3, 3]), tensor([3, 0]), tensor([0, 1, 5, 9, 3]), tensor([2, 2, 1]), tensor([2, 1, 5, 5]), tensor([3, 5, 1, 2, 3]), tensor([0, 1, 3, 1, 3]), tensor([2, 5, 2, 0, 3, 5]), tensor([2, 1, 2]), tensor([0, 1, 2, 0, 3, 3]), tensor([2, 2, 5]), tensor([0, 1, 2, 2, 0, 3]), tensor([2, 1, 7, 0]), tensor([3, 2, 0, 2, 7]), tensor([3, 2, 1, 3]), tensor([0, 1, 2, 0, 3, 3]), tensor([3, 0, 3, 2, 0]), tensor([0, 0, 9, 2, 0, 3]), tensor([2, 3, 0, 2, 0, 5, 5]), tensor([2, 2, 1, 3]), tensor([2, 1, 2]), tensor([0, 0, 2, 0, 2]), tensor([2, 1, 3, 0, 8]), tensor([2, 1]), tensor([2, 1, 2, 0, 5]), tensor([ 2,  2, 11,  5,  5]), tensor([3, 0]), tensor([3, 9, 3, 3]), tensor([2, 2, 2, 0, 2, 3]), tensor([2, 0]), tensor([2, 1, 2, 2, 5]), tensor([2, 2, 1]), tensor([2, 0, 2]), tensor([0, 9, 3, 0]), tensor([2, 1, 2, 2, 5]), tensor([0, 1, 3, 2, 0, 5]), tensor([2, 2, 0, 7]), tensor([2, 2, 2]), tensor([2, 2, 0, 5]), tensor([ 0,  1,  2,  1,  3, 10]), tensor([2, 0]), tensor([0, 1, 2, 2, 0, 3]), tensor([2, 2, 1]), tensor([2, 1, 2, 2]), tensor([3, 0, 1, 2, 2, 0, 3]), tensor([2, 1, 2]), tensor([2, 9, 0, 8]), tensor([2, 2, 1, 2, 2]), tensor([0, 1, 2, 3, 0, 2]), tensor([2, 3, 2, 5]), tensor([2, 2, 0, 6]), tensor([2, 0, 3, 6]), tensor([2, 1]), tensor([0, 1, 2, 9, 3]), tensor([2, 2, 9, 0, 2, 6]), tensor([ 3,  5, 14]), tensor([3, 1]), tensor([0, 1, 2, 1, 3]), tensor([2, 2, 1]), tensor([2, 0, 2]), tensor([2, 1, 6]), tensor([3, 0]), tensor([2, 3]), tensor([2, 5, 8]), tensor([2, 5]), tensor([2, 1, 6]), tensor([2, 0, 9, 2, 0]), tensor([2, 5, 6]), tensor([3, 0, 3]), tensor([2, 1, 2, 0]), tensor([2, 0, 1, 2, 2, 2, 0]), tensor([2, 2, 0]), tensor([2, 1]), tensor([2, 5, 0, 2]), tensor([0, 1, 2, 1, 5]), tensor([3, 2, 2, 3, 3, 2, 0]), tensor([2, 2, 5, 0, 5]), tensor([2, 1, 5, 5]), tensor([3, 1, 0, 2, 3]), tensor([2, 2, 2, 0]), tensor([2, 0]), tensor([2, 5, 0, 5]), tensor([0, 1]), tensor([2, 1, 5, 5]), tensor([2, 0]), tensor([3, 2, 0, 2]), tensor([2, 2, 1, 3]), tensor([2, 2, 1, 5, 5]), tensor([2, 0]), tensor([2, 5, 0, 5]), tensor([2, 3, 9, 5]), tensor([2, 1, 5]), tensor([0, 1, 2, 2, 0, 3]), tensor([2, 2, 2, 3, 2]), tensor([2, 0]), tensor([2, 5, 0, 5]), tensor([ 0,  0, 11,  1,  5]), tensor([2, 2, 1, 3]), tensor([2, 2, 1]), tensor([2, 2, 1, 2, 0]), tensor([2, 1, 2]), tensor([2, 2, 0]), tensor([2, 9, 5]), tensor([2, 1]), tensor([2, 0, 2, 2]), tensor([2, 2, 0]), tensor([2, 1]), tensor([2, 3, 0, 2]), tensor([2, 2, 0]), tensor([2, 1, 8]), tensor([2, 2, 7]), tensor([2, 5, 2]), tensor([2, 0, 3, 6]), tensor([2, 2, 1]), tensor([2, 2, 2]), tensor([2, 3, 2]), tensor([0, 1, 2, 2, 0, 2]), tensor([2, 2, 0]), tensor([2, 1, 8]), tensor([5, 1, 2, 8]), tensor([2, 5, 2]), tensor([2, 0]), tensor([2, 1, 2, 0, 5]), tensor([0, 2, 0]), tensor([0, 1, 2, 1, 3]), tensor([2, 1, 2]), tensor([0, 1, 2, 1, 2, 1, 3]), tensor([2, 0, 1, 2, 1, 5]), tensor([2, 9]), tensor([5, 2, 0, 2]), tensor([0, 1, 5, 2, 0, 2, 2]), tensor([2, 2, 1, 3]), tensor([0, 0, 9, 1, 5]), tensor([5, 0, 2]), tensor([0, 1, 2, 1, 2, 2, 3]), tensor([2, 3, 2, 0]), tensor([2, 1]), tensor([2, 5, 1]), tensor([2, 2, 1, 3]), tensor([3, 2, 0, 6]), tensor([2, 5, 2]), tensor([3, 2, 0, 2, 6]), tensor([2, 1]), tensor([0, 1, 2, 2, 0, 0]), tensor([2, 5, 2]), tensor([2, 0]), tensor([5, 1, 2, 5]), tensor([ 3,  0,  0, 11,  1,  3]), tensor([2, 2, 0]), tensor([2, 0]), tensor([5, 1, 2, 5]), tensor([3, 0, 1, 2, 1, 3]), tensor([2, 2, 1]), tensor([2, 0, 2]), tensor([2, 2, 1, 3]), tensor([3, 2, 0, 6]), tensor([2, 1]), tensor([2, 2, 2, 0]), tensor([2, 0, 1, 2, 2, 2, 0]), tensor([2, 2, 0]), tensor([2, 1]), tensor([2, 5, 0, 2]), tensor([3, 2, 2, 3, 3, 2, 0]), tensor([ 5,  5, 11,  5]), tensor([2, 3, 1, 0, 2, 3]), tensor([5, 1, 5, 5]), tensor([2, 0, 2]), tensor([3, 2, 9]), tensor([5, 9]), tensor([2, 0, 3, 8]), tensor([3, 1]), tensor([0, 1, 2, 1, 2, 1, 3]), tensor([2, 5, 0, 5]), tensor([0, 1, 3, 1, 2, 0, 5, 5]), tensor([3, 0, 1, 2, 1, 3]), tensor([2, 2, 2, 3, 2]), tensor([ 3,  0,  0, 11,  1,  3]), tensor([2, 2, 1, 3]), tensor([2, 3, 1, 2, 0]), tensor([0, 1, 2, 1, 5]), tensor([2, 2, 1]), tensor([2, 2, 0]), tensor([2, 0, 2]), tensor([3, 5, 1, 3, 8]), tensor([2, 0]), tensor([2, 1, 5, 2]), tensor([5, 1, 3, 7, 0]), tensor([3, 0, 9]), tensor([2, 2, 7, 0]), tensor([2, 2, 0]), tensor([2, 2, 2]), tensor([5, 1, 3, 7, 0]), tensor([2, 2, 7, 0]), tensor([2, 2, 1, 3, 0, 5]), tensor([2, 2, 2, 8]), tensor([11,  1,  3,  2,  8]), tensor([2, 3, 2, 6]), tensor([11,  2,  9,  2,  6]), tensor([3, 2, 0]), tensor([2, 1, 3, 3]), tensor([3, 0, 9]), tensor([2, 0]), tensor([2, 9, 9, 5, 0, 1]), tensor([2, 3, 0]), tensor([2, 0, 2]), tensor([3, 0]), tensor([2, 1, 8]), tensor([ 2,  5, 14]), tensor([9, 5, 1]), tensor([2, 5, 2]), tensor([1, 1, 3, 6]), tensor([2, 2, 1, 3, 0, 5]), tensor([2, 2, 2, 8]), tensor([11,  1,  3,  2,  8]), tensor([2, 3, 0]), tensor([2, 0, 2]), tensor([3, 0]), tensor([2, 1, 8]), tensor([2, 1, 2, 5, 1]), tensor([2, 2, 1, 2, 5, 1]), tensor([10,  0,  2,  0,  6]), tensor([2, 3, 2, 6]), tensor([11,  2,  9,  2,  6]), tensor([3, 2, 0]), tensor([2, 1, 3, 3]), tensor([2, 2, 1, 3, 0, 5]), tensor([2, 2, 2, 8]), tensor([11,  1,  3,  2,  7]), tensor([2, 2, 0]), tensor([9, 1]), tensor([2, 3, 1]), tensor([2, 3, 2, 0, 5]), tensor([2, 1, 2, 1, 3]), tensor([5, 2, 2, 0, 3, 2, 1, 3]), tensor([2, 1, 2, 7]), tensor([10,  2]), tensor([0, 0, 3]), tensor([2, 2, 0, 2]), tensor([0, 0, 5]), tensor([2, 3, 0, 7, 0]), tensor([2, 3, 0, 7, 0]), tensor([2, 2, 0]), tensor([2, 1, 5, 1]), tensor([5, 1, 3, 7, 0]), tensor([11,  2,  2, 10,  7,  0]), tensor([2, 2, 2, 0, 5, 5]), tensor([2, 2, 9, 5]), tensor([2, 0, 3, 7, 0]), tensor([3, 0, 2, 0]), tensor([2, 2, 3, 2]), tensor([0, 0, 5]), tensor([2, 2, 1, 3]), tensor([2, 2, 2, 2, 5]), tensor([2, 2, 2, 9]), tensor([2, 5]), tensor([2, 2, 0, 7, 0]), tensor([2, 3, 0, 7, 0]), tensor([2, 0, 1, 2, 1, 2, 0]), tensor([ 0,  1,  5,  1,  3,  0,  3, 11]), tensor([3, 1]), tensor([ 2,  2, 10]), tensor([0, 1, 3, 2, 0, 3]), tensor([2, 1, 2]), tensor([ 0,  0, 11, 10]), tensor([3, 0]), tensor([2, 1, 8]), tensor([ 5,  3, 14]), tensor([3, 1]), tensor([5, 5, 0, 3]), tensor([2, 0, 3, 8]), tensor([2, 1]), tensor([5, 1, 2, 0, 8]), tensor([2, 1]), tensor([2, 1, 3]), tensor([2, 3, 2]), tensor([2, 3, 1]), tensor([2, 0, 2]), tensor([3, 0, 3]), tensor([2, 1]), tensor([ 0,  0, 11, 10]), tensor([2, 2, 0, 3, 5]), tensor([3, 3, 1, 2, 0, 3]), tensor([0, 1, 2, 2, 3]), tensor([2, 2, 1]), tensor([0, 9, 2, 0]), tensor([2, 9, 2, 0]), tensor([2, 1]), tensor([2, 5, 1]), tensor([3, 2, 2, 0, 3, 2]), tensor([2, 2, 2, 1, 3]), tensor([0, 1, 3, 1, 2, 0, 5]), tensor([2, 3, 5, 5]), tensor([2, 1]), tensor([ 5, 10,  9,  5,  5]), tensor([3, 2, 9, 5]), tensor([2, 0]), tensor([2, 1, 3, 5]), tensor([2, 1, 2, 5]), tensor([2, 0, 0, 9, 1, 5]), tensor([2, 1, 2, 3, 5, 5]), tensor([0, 0, 9, 0, 3, 2, 5]), tensor([2, 1, 5, 5]), tensor([2, 0, 2, 1, 0]), tensor([2, 1]), tensor([2, 2, 1, 0]), tensor([2, 3, 0, 3]), tensor([ 2,  2, 11,  6]), tensor([2, 2, 5]), tensor([3, 2, 1, 2, 3, 3]), tensor([2, 2, 9, 5]), tensor([2, 1, 2, 0]), tensor([ 2,  2, 11,  5,  5]), tensor([3, 0]), tensor([0, 1, 2, 3, 0, 3]), tensor([2, 2, 0]), tensor([2, 2, 2]), tensor([2, 2, 1, 3]), tensor([2, 1, 5, 5]), tensor([2, 1, 2]), tensor([2, 2, 3, 3]), tensor([2, 1]), tensor([2, 2, 9, 0]), tensor([0, 1, 2, 0, 5, 5]), tensor([2, 1, 2]), tensor([0, 1, 2, 2, 3]), tensor([2, 0, 1, 5, 3, 2]), tensor([3, 0, 3]), tensor([2, 2, 0]), tensor([2, 1, 2, 2, 3]), tensor([2, 1, 2, 0, 8]), tensor([0, 1, 2, 5, 0, 3]), tensor([2, 2]), tensor([2, 3, 0, 3]), tensor([2, 0, 3, 3]), tensor([ 0,  0, 10,  1,  2,  3]), tensor([2, 3, 5, 0, 3]), tensor([2, 3, 0, 8]), tensor([2, 2, 2, 3, 3]), tensor([5, 1, 2, 7, 0]), tensor([2, 2, 1, 3, 5]), tensor([0, 1, 5, 2, 2, 0, 5]), tensor([2, 9, 5, 1]), tensor([2, 0]), tensor([2, 1, 2, 5, 0, 2]), tensor([2, 9, 2, 0]), tensor([3, 1, 2, 5, 5]), tensor([2, 0, 0, 9, 0, 3, 5]), tensor([0, 1]), tensor([2, 0, 2]), tensor([2, 2, 0]), tensor([0, 1, 2, 1, 3]), tensor([ 2, 10,  2,  6]), tensor([2, 1, 2]), tensor([2, 1, 3, 3]), tensor([3, 0]), tensor([2, 1, 3, 0, 3, 2, 0]), tensor([2, 3, 9, 0]), tensor([2, 1]), tensor([5, 1, 2, 1]), tensor([2, 3, 2]), tensor([3, 2, 0, 2, 5]), tensor([2, 3, 0]), tensor([2, 1, 8]), tensor([2, 1]), tensor([0, 1, 3]), tensor([0, 1, 2, 0, 3, 3]), tensor([2, 1, 2, 2, 6]), tensor([2, 1, 5, 5]), tensor([2, 2, 1, 5, 5]), tensor([2, 1, 5]), tensor([2, 3, 0, 8]), tensor([3, 3, 1, 3, 3]), tensor([0, 9, 0]), tensor([2, 1, 7, 0]), tensor([2, 0, 2, 2]), tensor([0, 1, 2, 1, 3]), tensor([2, 2, 1, 5, 0, 6]), tensor([3, 3, 1, 3, 3]), tensor([0, 9, 0]), tensor([2, 1, 7, 0]), tensor([2, 2, 2, 5]), tensor([0, 1, 2, 2, 0, 2, 5]), tensor([2, 2, 5, 0, 5]), tensor([3, 0]), tensor([2, 1, 8]), tensor([5, 2, 0, 7, 0]), tensor([3, 2, 1, 3]), tensor([3, 1, 3, 3]), tensor([2, 5, 2]), tensor([2, 1, 2, 5]), tensor([2, 2, 3, 0, 8]), tensor([3, 2, 1, 5, 0, 8]), tensor([5, 2, 0, 7, 0]), tensor([2, 9]), tensor([2, 2, 1, 3]), tensor([ 2,  2, 11,  5]), tensor([2, 0]), tensor([0, 1, 2, 0, 2, 5]), tensor([2, 2, 0, 2, 6]), tensor([0, 1, 2, 2, 0]), tensor([2, 2, 0, 2]), tensor([2, 1, 7, 0]), tensor([3, 0]), tensor([2, 3, 9, 3, 3]), tensor([3, 0, 1, 3, 3]), tensor([2, 0]), tensor([2, 0, 2]), tensor([2, 1, 2, 5]), tensor([3, 1]), tensor([0, 1, 2, 1, 3]), tensor([2, 2, 0]), tensor([2, 1, 2]), tensor([ 2,  2, 11]), tensor([3, 1]), tensor([0, 1, 2, 1, 3]), tensor([2, 2, 0]), tensor([2, 1, 2, 2]), tensor([2, 1, 2, 5]), tensor([3, 1]), tensor([0, 1, 5, 1, 3]), tensor([2, 2, 0]), tensor([5, 2, 0, 2, 2, 2]), tensor([2, 0, 1, 5, 2, 0, 2, 2, 3]), tensor([2, 2, 0]), tensor([2, 2, 2]), tensor([2, 5, 1, 3]), tensor([0, 1, 5, 5, 3]), tensor([2, 2, 0, 2]), tensor([5, 2, 0, 5]), tensor([0, 2, 0]), tensor([2, 0, 2]), tensor([3, 1, 5]), tensor([0, 0, 9, 5, 3]), tensor([2, 1, 2, 2]), tensor([3, 1]), tensor([2, 1, 3, 3]), tensor([2, 0, 2]), tensor([2, 3, 7, 0]), tensor([2, 1]), tensor([2, 5, 9, 5]), tensor([3, 1, 5, 5]), tensor([2, 9, 0]), tensor([ 0,  0,  9,  2, 11,  5]), tensor([2, 5, 1, 2, 5]), tensor([2, 2, 0]), tensor([0, 1, 2, 1, 3]), tensor([0, 1, 0, 3, 0]), tensor([2, 5, 2]), tensor([2, 9]), tensor([0, 1, 2, 0, 3, 2]), tensor([5, 1, 3, 5]), tensor([0, 1, 3, 2, 0, 7]), tensor([5, 1, 2, 7, 0]), tensor([3, 1, 5, 9, 2, 0]), tensor([2, 2, 1, 3]), tensor([2, 2, 1, 5, 0, 5]), tensor([3, 1, 5, 2, 0, 2, 2, 3]), tensor([2, 5, 1, 2, 5]), tensor([2, 2, 0]), tensor([0, 1, 5, 1, 2, 3]), tensor([2, 1, 2, 5]), tensor([0, 1, 5, 9, 3, 0]), tensor([2, 3, 2, 0]), tensor([2, 2, 9, 2]), tensor([0, 1, 5, 9, 2, 0]), tensor([2, 2, 1, 3]), tensor([2, 1]), tensor([0, 1, 5, 5, 0, 3]), tensor([3, 1, 2, 1, 2, 2, 3]), tensor([2, 0, 1, 2, 2, 2]), tensor([2, 1]), tensor([2, 3, 2]), tensor([2, 2, 1, 3, 0]), tensor([0, 1, 3, 1, 2, 0, 5]), tensor([2, 2, 0]), tensor([ 2,  2, 11,  3,  3]), tensor([2, 3, 2, 0]), tensor([2, 1, 2, 2]), tensor([0, 1, 2, 0, 3, 0]), tensor([2, 1, 2]), tensor([2, 3, 2]), tensor([0, 1, 5, 1, 2, 2]), tensor([2, 0, 3, 7, 0]), tensor([2, 2, 1, 2, 5]), tensor([5, 1, 2, 5]), tensor([0, 1, 5, 1, 2, 3]), tensor([3, 0]), tensor([0, 1, 2, 9, 3]), tensor([0, 0, 9, 0, 3, 2, 3]), tensor([2, 2, 0]), tensor([2, 1, 5, 5]), tensor([2, 5, 2]), tensor([0, 1, 5]), tensor([3, 1, 8]), tensor([2, 1]), tensor([ 2,  1,  3, 12]), tensor([3, 2, 3, 0, 3]), tensor([2, 1, 3, 3]), tensor([2, 0, 3, 5, 5]), tensor([0, 2, 1]), tensor([2, 2, 2, 0]), tensor([3, 2, 0, 2, 6]), tensor([5, 1, 2, 0]), tensor([2, 9, 5]), tensor([2, 1, 2, 3, 5]), tensor([0, 2, 0]), tensor([2, 1, 3]), tensor([0, 1, 2, 0, 3]), tensor([0, 1, 7, 0]), tensor([3, 2, 2, 0]), tensor([0, 1, 2, 1, 2, 0]), tensor([2, 3, 1]), tensor([5, 3, 0, 2]), tensor([2, 9]), tensor([0, 1, 3, 2, 0, 2]), tensor([0, 1, 2, 0, 3, 3]), tensor([3, 2, 1, 3, 3]), tensor([5, 0, 3, 5]), tensor([0, 1, 5, 1, 2]), tensor([3, 0, 1, 3, 1, 3]), tensor([ 3,  1,  5, 10]), tensor([2, 5, 2]), tensor([5, 2, 0, 3, 6]), tensor([3, 2, 2, 0, 3, 3]), tensor([0, 1, 2, 1, 2, 3]), tensor([2, 3, 1]), tensor([5, 3, 0, 2]), tensor([2, 9, 5]), tensor([0, 1, 6]), tensor([3, 0]), tensor([0, 1, 2, 0, 3, 3]), tensor([3, 5, 2, 9, 8]), tensor([2, 5, 1, 2, 5]), tensor([3, 0, 2, 0, 5, 5]), tensor([3, 0]), tensor([2, 1, 3]), tensor([0, 1, 2, 0, 3]), tensor([5, 9]), tensor([5, 1, 2, 5]), tensor([3, 0]), tensor([0, 1, 2, 2, 0, 3, 3]), tensor([3, 1, 2, 1, 3]), tensor([ 3,  5,  1,  2,  2, 10,  3]), tensor([2, 1, 7, 0]), tensor([2, 5, 2]), tensor([2, 0, 1, 2, 9, 5]), tensor([3, 2, 1, 7, 0]), tensor([2, 0, 3, 8]), tensor([2, 2, 1, 2, 3, 0]), tensor([2, 2, 0]), tensor([2, 3, 2]), tensor([2, 1, 2, 2, 5]), tensor([0, 1, 3, 2, 0, 3]), tensor([0, 1, 3, 2, 0, 3]), tensor([3, 9, 1]), tensor([2, 2, 2]), tensor([2, 1]), tensor([2, 0]), tensor([2, 0, 3, 2]), tensor([2, 5]), tensor([2, 3, 0]), tensor([0, 1, 2, 1, 2, 2, 3]), tensor([2, 1, 2, 0, 3]), tensor([3, 1, 5, 1]), tensor([2, 1]), tensor([2, 2, 0, 5, 2, 0]), tensor([2, 2, 0]), tensor([2, 9]), tensor([2, 1, 2]), tensor([0, 1, 2, 0, 3]), tensor([2, 1]), tensor([5, 2]), tensor([2, 0, 3, 6]), tensor([2, 1]), tensor([2, 0]), tensor([2, 3, 1, 5, 1]), tensor([2, 1]), tensor([2, 0, 2]), tensor([2, 0]), tensor([2, 1, 2, 3, 0]), tensor([2, 2, 0]), tensor([2, 3, 2]), tensor([5, 9]), tensor([2, 5, 1]), tensor([2, 3, 0, 2, 0, 3]), tensor([2, 2, 5, 5, 2, 0]), tensor([2, 9, 5]), tensor([2, 0]), tensor([ 5,  1,  2, 11]), tensor([2, 2, 1]), tensor([5, 1, 2, 0]), tensor([3, 2, 9, 5]), tensor([2, 0, 3, 6]), tensor([3, 2, 9]), tensor([3, 0]), tensor([0, 1, 5, 1, 3, 3, 0, 2]), tensor([ 0,  0,  9,  3, 11]), tensor([2, 0, 1, 2, 1, 5, 0, 5]), tensor([2, 0, 1, 2, 0, 3, 5]), tensor([2, 3, 2]), tensor([2, 3, 0, 2, 5]), tensor([2, 3, 0]), tensor([0, 1, 2, 9, 0, 3]), tensor([3, 1]), tensor([0, 0, 9, 1, 3]), tensor([2, 2, 2, 5]), tensor([5, 9, 5]), tensor([2, 2, 1, 2]), tensor([2, 3, 2]), tensor([3, 1]), tensor([0, 1, 5, 5, 0, 3]), tensor([0, 1, 5, 1, 2, 3, 2, 3]), tensor([0, 9, 3, 0]), tensor([2, 2, 9, 2]), tensor([3, 0, 2, 0]), tensor([0, 1, 2, 0, 3, 5]), tensor([2, 2, 0]), tensor([2, 1, 3, 3]), tensor([2, 9, 2, 2, 0]), tensor([5, 2, 9, 5]), tensor([1, 5]), tensor([2, 1, 2, 8]), tensor([2, 9, 2, 2, 0]), tensor([5, 1, 2, 5]), tensor([2, 1]), tensor([2, 0, 3, 3]), tensor([1, 3]), tensor([2, 9, 0, 8]), tensor([2, 0, 2]), tensor([2, 3, 1, 5]), tensor([2, 1, 2]), tensor([0, 0, 9, 1, 2, 3]), tensor([1, 2]), tensor([2, 3, 0]), tensor([2, 1, 2, 2, 2]), tensor([2, 0, 2]), tensor([2, 3, 1, 5]), tensor([2, 1, 2]), tensor([0, 0, 9, 3]), tensor([1, 2]), tensor([2, 1, 5, 0, 8]), tensor([2, 0, 2]), tensor([2, 1, 2, 1, 2, 0]), tensor([2, 2]), tensor([2, 5, 0, 3]), tensor([0, 0, 9, 3]), tensor([2, 9, 0]), tensor([0, 0, 9, 5]), tensor([2, 2, 1, 3]), tensor([2, 2, 9, 2]), tensor([3, 1]), tensor([2, 1, 2, 2, 6]), tensor([2, 2, 1, 2]), tensor([2, 2, 0]), tensor([0, 1, 3, 2, 0, 3]), tensor([2, 1]), tensor([2, 1, 5, 2]), tensor([0, 1, 5, 2, 2, 0, 3, 2]), tensor([3, 2, 2, 3]), tensor([0, 1, 2, 2, 0, 3]), tensor([3, 1]), tensor([ 0,  0, 10,  2,  0,  3]), tensor([3, 0, 0, 9, 2, 0, 3]), tensor([3, 2, 9, 5]), tensor([2, 0]), tensor([2, 1, 3, 0, 2]), tensor([3, 2, 3, 2]), tensor([2, 2, 1]), tensor([2, 3, 1]), tensor([2, 1]), tensor([ 0,  0,  9,  3, 10]), tensor([2, 9, 0]), tensor([0, 0, 9, 5]), tensor([2, 2, 1, 3]), tensor([2, 2, 9, 2]), tensor([2, 9, 5]), tensor([2, 2, 2]), tensor([3, 2, 3, 2]), tensor([2, 2, 1, 3, 0]), tensor([3, 2, 0]), tensor([2, 9]), tensor([2, 1, 5]), tensor([2, 2, 0, 5]), tensor([0, 1, 5]), tensor([5, 2, 1, 8]), tensor([2, 1]), tensor([3, 0, 2, 0]), tensor([2, 0, 2]), tensor([ 0, 10,  0]), tensor([ 2,  5,  3, 11]), tensor([3, 0, 9, 1, 3]), tensor([2, 1]), tensor([ 5,  2, 10,  2]), tensor([3, 1, 2]), tensor([2, 0]), tensor([2, 2, 2]), tensor([5, 2, 1, 3, 6]), tensor([2, 3, 1]), tensor([2, 1]), tensor([2, 1, 2, 1]), tensor([2, 2, 1, 3, 0]), tensor([3, 0]), tensor([2, 3, 2]), tensor([2, 0]), tensor([2, 2, 0]), tensor([3, 1]), tensor([5, 9, 3]), tensor([0, 1, 5, 2, 2, 0, 3, 2, 1, 3]), tensor([2, 9, 5, 2, 0]), tensor([2, 0]), tensor([2, 2, 2, 0, 2, 2, 0, 3]), tensor([2, 2, 7, 0]), tensor([2, 5, 2]), tensor([0, 9, 3, 0]), tensor([2, 0, 2, 5]), tensor([3, 0, 2, 0]), tensor([2, 0]), tensor([2, 1, 3, 0, 2]), tensor([2, 5]), tensor([2, 2, 0]), tensor([2, 2, 2, 9, 5]), tensor([2, 5]), tensor([5, 1, 6]), tensor([2, 1, 2, 5]), tensor([3, 1]), tensor([3, 2, 0, 3]), tensor([0, 0, 9, 1, 3]), tensor([2, 0]), tensor([ 2,  5, 11]), tensor([2, 2, 0]), tensor([3, 1, 3, 3]), tensor([3, 1]), tensor([0, 1, 3, 1, 2, 0, 3]), tensor([2, 2, 0]), tensor([5, 2, 0, 2, 2, 3, 2, 0]), tensor([2, 0, 1, 3, 1, 2, 0, 3]), tensor([2, 2, 0]), tensor([2, 3, 1, 2, 0, 3]), tensor([2, 1, 3, 2, 3, 3]), tensor([3, 2, 0]), tensor([2, 1, 2, 3, 0, 3]), tensor([ 0,  0, 10,  2,  0,  5]), tensor([3, 1]), tensor([0, 0, 9, 1, 3, 0, 3]), tensor([2, 2, 1, 2, 3, 0]), tensor([3, 0]), tensor([2, 3, 2]), tensor([3, 2, 0]), tensor([2, 2, 2, 5]), tensor([2, 2, 5]), tensor([0, 0, 9, 2, 0, 2, 3]), tensor([3, 2, 1, 2, 3]), tensor([ 0,  0,  9,  3, 10]), tensor([2, 9, 0]), tensor([0, 0, 9, 5]), tensor([2, 2, 1, 3]), tensor([2, 2, 9, 2]), tensor([2, 2, 2, 9, 5]), tensor([2, 2, 1, 3]), tensor([2, 5, 2]), tensor([2, 1, 2, 0]), tensor([ 0,  0, 10,  2,  0,  3]), tensor([2, 2, 0]), tensor([2, 2, 0]), tensor([2, 9]), tensor([5, 5, 0, 2, 5]), tensor([2, 1, 2, 0]), tensor([2, 1, 2]), tensor([3, 1, 3, 3]), tensor([2, 3, 0, 6]), tensor([2, 2, 0]), tensor([2, 3, 3, 3]), tensor([ 2,  5,  1,  2,  2, 11]), tensor([2, 5]), tensor([2, 1]), tensor([2, 1, 3, 2]), tensor([3, 1]), tensor([2, 3, 2]), tensor([3, 2, 0]), tensor([ 5,  2, 10,  5]), tensor([3, 1, 2, 5]), tensor([2, 0, 0, 9, 0, 5]), tensor([3, 2, 1, 2, 0]), tensor([2, 2, 0]), tensor([2, 2, 1, 5, 5]), tensor([2, 0]), tensor([2, 2, 2]), tensor([5, 1, 2, 2, 5]), tensor([2, 1, 5]), tensor([2, 3, 0, 3]), tensor([2, 2, 2]), tensor([2, 0, 3, 7, 0]), tensor([3, 1, 3, 2, 0, 3]), tensor([2, 1]), tensor([2, 2, 0]), tensor([ 0,  0, 11,  1,  3, 10]), tensor([0, 1, 2, 0, 5]), tensor([0, 9, 3, 0]), tensor([2, 2, 2, 5]), tensor([0, 1, 3, 2, 0, 5]), tensor([2, 2, 2, 0]), tensor([2, 2, 0]), tensor([2, 2, 0]), tensor([2, 1, 2, 0, 5]), tensor([3, 3, 2, 0, 2, 8]), tensor([2, 2, 3, 2]), tensor([3, 3]), tensor([0, 1, 3, 2, 0, 5]), tensor([2, 5, 1, 2, 2, 5]), tensor([5, 5, 0, 5, 5]), tensor([ 3,  0, 11,  1,  3, 10]), tensor([2, 2, 2, 1, 3]), tensor([2, 2, 0]), tensor([5, 9]), tensor([3, 1]), tensor([2, 3, 2]), tensor([0, 1, 2, 1, 3]), tensor([2, 2, 0]), tensor([2, 3, 0, 2, 2]), tensor([3, 0]), tensor([2, 2, 0, 3]), tensor([ 0,  1,  5,  2, 10,  3]), tensor([2, 2, 1, 3]), tensor([2, 0, 3, 0, 1, 3, 2, 0, 5]), tensor([0, 1, 2, 9, 5]), tensor([2, 1, 2, 0]), tensor([2, 2, 0]), tensor([2, 0, 2]), tensor([ 0,  0,  9,  2,  0,  3, 10]), tensor([2, 1, 5, 5]), tensor([2, 2, 5]), tensor([5, 2, 0, 2, 2, 5, 5]), tensor([2, 1]), tensor([2, 2, 0]), tensor([0, 1, 2, 1, 2, 3]), tensor([2, 2, 0]), tensor([2, 0, 2]), tensor([0, 1, 2, 1, 5]), tensor([2, 5, 2]), tensor([2, 1, 5]), tensor([0, 1, 3]), tensor([2, 3, 0, 8]), tensor([2, 1, 5, 5]), tensor([2, 3, 1]), tensor([2, 1, 2, 2]), tensor([3, 0]), tensor([5, 1, 3, 3]), tensor([2, 1]), tensor([2, 1]), tensor([ 5,  2, 10,  1]), tensor([2, 1, 7, 0]), tensor([2, 1, 5, 0, 7, 0]), tensor([3, 2, 1]), tensor([2, 2, 2]), tensor([ 0,  0, 11,  1,  5]), tensor([2, 2, 0]), tensor([0, 1, 3, 1, 2, 3]), tensor([5, 1, 2, 2, 7]), tensor([2, 2, 1, 5, 5]), tensor([2, 2, 2, 1, 3]), tensor([2, 1, 5]), tensor([2, 0]), tensor([2, 1, 2, 5]), tensor([0, 1, 2, 1, 3, 9]), tensor([2, 1]), tensor([2, 5, 2]), tensor([2, 1, 2, 2, 5]), tensor([2, 2, 0, 3, 0, 2]), tensor([2, 1]), tensor([2, 1, 2, 5, 0, 2]), tensor([3, 1, 2, 7, 0]), tensor([3, 0]), tensor([ 5, 10]), tensor([2, 2, 8]), tensor([2, 3, 1]), tensor([2, 0, 2]), tensor([0, 1, 2, 9, 5]), tensor([3, 0, 9, 0, 3, 0]), tensor([ 2, 10,  1,  2,  0]), tensor([2, 2, 7, 0]), tensor([2, 2, 5, 0, 5]), tensor([2, 1, 3, 2, 0]), tensor([2, 2, 2, 2]), tensor([2, 1]), tensor([2, 9, 2, 2, 0]), tensor([2, 9]), tensor([2, 1, 7, 0]), tensor([2, 2, 0, 2, 1]), tensor([2, 1, 2, 5, 2, 0]), tensor([3, 2, 9, 5]), tensor([2, 1, 2, 2]), tensor([2, 9, 5]), tensor([3, 1]), tensor([3, 1, 3, 2, 0]), tensor([2, 2, 9, 2, 5]), tensor([3, 0]), tensor([0, 1, 2, 0, 3, 0]), tensor([2, 1, 5, 5]), tensor([2, 5, 2]), tensor([2, 0, 3, 6]), tensor([2, 1]), tensor([2, 0, 3, 6]), tensor([3, 1]), tensor([2, 0, 3]), tensor([2, 3, 2])]\n",
      "tensor([[2, 1, 5,  ..., 0, 0, 0],\n",
      "        [2, 1, 0,  ..., 0, 0, 0],\n",
      "        [2, 2, 2,  ..., 0, 0, 0],\n",
      "        ...,\n",
      "        [3, 1, 0,  ..., 0, 0, 0],\n",
      "        [2, 0, 3,  ..., 0, 0, 0],\n",
      "        [2, 3, 2,  ..., 0, 0, 0]])\n"
     ]
    }
   ],
   "source": [
    "corpus=  readFile(TRAIN_PATH)\n",
    "valid_corpus = readFile(VAL_PATH)\n",
    "\n",
    "X_train = []\n",
    "y_train = []\n",
    "\n",
    "max_sequence_length = 0\n",
    "\n",
    "for sentence in corpus[:100]:\n",
    "\t# Clean each sentence in the corpus\n",
    "\tclean_sentence = run_buckwalter(sentence.strip())\n",
    "\t# Get the char list for each word in the sentence and its corresponding diacritics\n",
    "\tchar_list, diacritics_list = extract_labels(clean_sentence)\n",
    "\n",
    "\tX_train.append(char_list)\n",
    "\ty_train.append(diacritics_list)\n",
    "\n",
    "\t# Get the max sequence length and concatenate the embeddings of the words\n",
    "\tfor word in char_list:\n",
    "\t\tmax_sequence_length = max(max_sequence_length, len(word))\n",
    "\n",
    "X_train_padded = [torch.tensor([char_to_index[char] for char in word]) for sentence in X_train for word in sentence ]\n",
    "X_train_padded = pad_sequence(X_train_padded, batch_first=True)\n",
    "\n",
    "y_train_padded = [torch.tensor([diacritic_to_index[char] for char in word]) for sentence in y_train for word in sentence ]\n",
    "print(y_train_padded)\n",
    "y_train_padded = pad_sequence(y_train_padded, batch_first=True)\n",
    "print(y_train_padded)"
   ]
  },
  {
   "cell_type": "code",
   "execution_count": 6,
   "metadata": {},
   "outputs": [
    {
     "name": "stdout",
     "output_type": "stream",
     "text": [
      "RNN(\n",
      "  (embedding): Embedding(39, 200)\n",
      "  (lstm): LSTM(200, 256, num_layers=3, batch_first=True, bidirectional=True)\n",
      "  (linear): Linear(in_features=512, out_features=15, bias=True)\n",
      ")\n"
     ]
    }
   ],
   "source": [
    "\n",
    "\n",
    "model=RNN(len(unique_characters) + 1, len(unique_diacritics), embedding_dim=200, hidden_size=256, num_layers=3)\n",
    "print(model)"
   ]
  },
  {
   "cell_type": "code",
   "execution_count": 7,
   "metadata": {},
   "outputs": [
    {
     "name": "stderr",
     "output_type": "stream",
     "text": [
      "c:\\Users\\iiBesh00\\AppData\\Local\\Programs\\Python\\Python311\\Lib\\site-packages\\tqdm\\auto.py:21: TqdmWarning: IProgress not found. Please update jupyter and ipywidgets. See https://ipywidgets.readthedocs.io/en/stable/user_install.html\n",
      "  from .autonotebook import tqdm as notebook_tqdm\n",
      "100%|██████████| 9/9 [00:06<00:00,  1.50it/s]\n"
     ]
    },
    {
     "name": "stdout",
     "output_type": "stream",
     "text": [
      "Epochs: 1 | Train Loss: 0.003420752240344882             | Train Accuracy: 0.516653866364849\n",
      "\n",
      "Saved the best model with accuracy: 0.516653866364849 to ./models/lstm.pth\n"
     ]
    },
    {
     "name": "stderr",
     "output_type": "stream",
     "text": [
      "100%|██████████| 9/9 [00:06<00:00,  1.49it/s]\n"
     ]
    },
    {
     "name": "stdout",
     "output_type": "stream",
     "text": [
      "Epochs: 2 | Train Loss: 0.003307867096737027             | Train Accuracy: 0.7237560127733538\n",
      "\n",
      "Saved the best model with accuracy: 0.7237560127733538 to ./models/lstm.pth\n"
     ]
    },
    {
     "name": "stderr",
     "output_type": "stream",
     "text": [
      "100%|██████████| 9/9 [00:06<00:00,  1.39it/s]\n"
     ]
    },
    {
     "name": "stdout",
     "output_type": "stream",
     "text": [
      "Epochs: 3 | Train Loss: 0.0032837274484336376             | Train Accuracy: 0.7575892315776709\n",
      "\n",
      "Saved the best model with accuracy: 0.7575892315776709 to ./models/lstm.pth\n"
     ]
    },
    {
     "name": "stderr",
     "output_type": "stream",
     "text": [
      "100%|██████████| 9/9 [00:06<00:00,  1.30it/s]\n"
     ]
    },
    {
     "name": "stdout",
     "output_type": "stream",
     "text": [
      "Epochs: 4 | Train Loss: 0.0032768594101071358             | Train Accuracy: 0.7621973402320223\n",
      "\n",
      "Saved the best model with accuracy: 0.7621973402320223 to ./models/lstm.pth\n"
     ]
    },
    {
     "name": "stderr",
     "output_type": "stream",
     "text": [
      "100%|██████████| 9/9 [00:07<00:00,  1.23it/s]\n"
     ]
    },
    {
     "name": "stdout",
     "output_type": "stream",
     "text": [
      "Epochs: 5 | Train Loss: 0.0032701913733035326             | Train Accuracy: 0.7691499252192894\n",
      "\n",
      "Saved the best model with accuracy: 0.7691499252192894 to ./models/lstm.pth\n"
     ]
    },
    {
     "name": "stderr",
     "output_type": "stream",
     "text": [
      "100%|██████████| 9/9 [00:07<00:00,  1.17it/s]\n"
     ]
    },
    {
     "name": "stdout",
     "output_type": "stream",
     "text": [
      "Epochs: 6 | Train Loss: 0.0032661284785717726             | Train Accuracy: 0.7771332713529245\n",
      "\n",
      "Saved the best model with accuracy: 0.7771332713529245 to ./models/lstm.pth\n"
     ]
    },
    {
     "name": "stderr",
     "output_type": "stream",
     "text": [
      "100%|██████████| 9/9 [00:08<00:00,  1.10it/s]\n"
     ]
    },
    {
     "name": "stdout",
     "output_type": "stream",
     "text": [
      "Epochs: 7 | Train Loss: 0.0032622257713228464             | Train Accuracy: 0.7846113424148107\n",
      "\n",
      "Saved the best model with accuracy: 0.7846113424148107 to ./models/lstm.pth\n"
     ]
    },
    {
     "name": "stderr",
     "output_type": "stream",
     "text": [
      "100%|██████████| 9/9 [00:08<00:00,  1.10it/s]\n"
     ]
    },
    {
     "name": "stdout",
     "output_type": "stream",
     "text": [
      "Epochs: 8 | Train Loss: 0.003260076278820634             | Train Accuracy: 0.7847932414406403\n",
      "\n",
      "Saved the best model with accuracy: 0.7847932414406403 to ./models/lstm.pth\n"
     ]
    },
    {
     "name": "stderr",
     "output_type": "stream",
     "text": [
      "100%|██████████| 9/9 [00:08<00:00,  1.05it/s]\n"
     ]
    },
    {
     "name": "stdout",
     "output_type": "stream",
     "text": [
      "Epochs: 9 | Train Loss: 0.0032576341181993484             | Train Accuracy: 0.7876632038481749\n",
      "\n",
      "Saved the best model with accuracy: 0.7876632038481749 to ./models/lstm.pth\n"
     ]
    },
    {
     "name": "stderr",
     "output_type": "stream",
     "text": [
      "100%|██████████| 9/9 [00:10<00:00,  1.14s/it]\n"
     ]
    },
    {
     "name": "stdout",
     "output_type": "stream",
     "text": [
      "Epochs: 10 | Train Loss: 0.0032558543607592583             | Train Accuracy: 0.7881078459113141\n",
      "\n",
      "Saved the best model with accuracy: 0.7881078459113141 to ./models/lstm.pth\n"
     ]
    },
    {
     "name": "stderr",
     "output_type": "stream",
     "text": [
      "100%|██████████| 9/9 [00:09<00:00,  1.06s/it]\n"
     ]
    },
    {
     "name": "stdout",
     "output_type": "stream",
     "text": [
      "Epochs: 11 | Train Loss: 0.0032544054556638002             | Train Accuracy: 0.7908767533044989\n",
      "\n",
      "Saved the best model with accuracy: 0.7908767533044989 to ./models/lstm.pth\n"
     ]
    },
    {
     "name": "stderr",
     "output_type": "stream",
     "text": [
      "100%|██████████| 9/9 [00:10<00:00,  1.13s/it]\n"
     ]
    },
    {
     "name": "stdout",
     "output_type": "stream",
     "text": [
      "Epochs: 12 | Train Loss: 0.0032531784381717443             | Train Accuracy: 0.7910788633331985\n",
      "\n",
      "Saved the best model with accuracy: 0.7910788633331985 to ./models/lstm.pth\n"
     ]
    },
    {
     "name": "stderr",
     "output_type": "stream",
     "text": [
      "100%|██████████| 9/9 [00:10<00:00,  1.12s/it]\n"
     ]
    },
    {
     "name": "stdout",
     "output_type": "stream",
     "text": [
      "Epochs: 13 | Train Loss: 0.0032515886705368757             | Train Accuracy: 0.7925946885484457\n",
      "\n",
      "Saved the best model with accuracy: 0.7925946885484457 to ./models/lstm.pth\n"
     ]
    },
    {
     "name": "stderr",
     "output_type": "stream",
     "text": [
      "100%|██████████| 9/9 [00:10<00:00,  1.17s/it]\n"
     ]
    },
    {
     "name": "stdout",
     "output_type": "stream",
     "text": [
      "Epochs: 14 | Train Loss: 0.003250658279284835             | Train Accuracy: 0.7940296697522131\n",
      "\n",
      "Saved the best model with accuracy: 0.7940296697522131 to ./models/lstm.pth\n"
     ]
    },
    {
     "name": "stderr",
     "output_type": "stream",
     "text": [
      "100%|██████████| 9/9 [00:10<00:00,  1.21s/it]\n"
     ]
    },
    {
     "name": "stdout",
     "output_type": "stream",
     "text": [
      "Epochs: 15 | Train Loss: 0.003249876433983445             | Train Accuracy: 0.7941307247665629\n",
      "\n",
      "Saved the best model with accuracy: 0.7941307247665629 to ./models/lstm.pth\n"
     ]
    },
    {
     "name": "stderr",
     "output_type": "stream",
     "text": [
      "100%|██████████| 9/9 [00:10<00:00,  1.18s/it]\n"
     ]
    },
    {
     "name": "stdout",
     "output_type": "stream",
     "text": [
      "Epochs: 16 | Train Loss: 0.0032492466270923615             | Train Accuracy: 0.7930393306115849\n",
      "\n"
     ]
    },
    {
     "name": "stderr",
     "output_type": "stream",
     "text": [
      "100%|██████████| 9/9 [00:09<00:00,  1.11s/it]\n"
     ]
    },
    {
     "name": "stdout",
     "output_type": "stream",
     "text": [
      "Epochs: 17 | Train Loss: 0.0032454465981572866             | Train Accuracy: 0.7941307247665629\n",
      "\n"
     ]
    },
    {
     "name": "stderr",
     "output_type": "stream",
     "text": [
      "100%|██████████| 9/9 [00:09<00:00,  1.11s/it]\n"
     ]
    },
    {
     "name": "stdout",
     "output_type": "stream",
     "text": [
      "Epochs: 18 | Train Loss: 0.0032434891909360886             | Train Accuracy: 0.7951210639071911\n",
      "\n",
      "Saved the best model with accuracy: 0.7951210639071911 to ./models/lstm.pth\n"
     ]
    },
    {
     "name": "stderr",
     "output_type": "stream",
     "text": [
      "100%|██████████| 9/9 [00:09<00:00,  1.07s/it]\n"
     ]
    },
    {
     "name": "stdout",
     "output_type": "stream",
     "text": [
      "Epochs: 19 | Train Loss: 0.003241664730012417             | Train Accuracy: 0.798415457374995\n",
      "\n",
      "Saved the best model with accuracy: 0.798415457374995 to ./models/lstm.pth\n"
     ]
    },
    {
     "name": "stderr",
     "output_type": "stream",
     "text": [
      "100%|██████████| 9/9 [00:10<00:00,  1.16s/it]"
     ]
    },
    {
     "name": "stdout",
     "output_type": "stream",
     "text": [
      "Epochs: 20 | Train Loss: 0.003240669844672084             | Train Accuracy: 0.8019523828772384\n",
      "\n",
      "Saved the best model with accuracy: 0.8019523828772384 to ./models/lstm.pth\n"
     ]
    },
    {
     "name": "stderr",
     "output_type": "stream",
     "text": [
      "\n"
     ]
    }
   ],
   "source": [
    "train(model, X_train_padded, y_train_padded, batch_size=512, epochs=20, learning_rate=0.01)"
   ]
  }
 ],
 "metadata": {
  "kernelspec": {
   "display_name": "Python 3",
   "language": "python",
   "name": "python3"
  },
  "language_info": {
   "codemirror_mode": {
    "name": "ipython",
    "version": 3
   },
   "file_extension": ".py",
   "mimetype": "text/x-python",
   "name": "python",
   "nbconvert_exporter": "python",
   "pygments_lexer": "ipython3",
   "version": "3.11.5"
  }
 },
 "nbformat": 4,
 "nbformat_minor": 2
}
